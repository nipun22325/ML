{
 "cells": [
  {
   "cell_type": "code",
   "execution_count": 1,
   "id": "27c9b910-6fa5-4b3e-ab83-0d71b499328a",
   "metadata": {
    "id": "27c9b910-6fa5-4b3e-ab83-0d71b499328a"
   },
   "outputs": [],
   "source": [
    "import pandas as pd\n",
    "import polars as pl"
   ]
  },
  {
   "cell_type": "code",
   "execution_count": 2,
   "id": "30b98b25-1cb5-47d6-9a27-9042114b7c07",
   "metadata": {
    "id": "30b98b25-1cb5-47d6-9a27-9042114b7c07"
   },
   "outputs": [],
   "source": [
    "# chunk_size = 100000  # Number of rows per chunk\n",
    "df = pl.read_csv('Data/US_Accidents_March23.csv') #, chunksize = chunk_size)"
   ]
  },
  {
   "cell_type": "code",
   "execution_count": 3,
   "id": "6a979cf4-ae4b-42e8-81d7-9309bd07efa2",
   "metadata": {
    "colab": {
     "base_uri": "https://localhost:8080/",
     "height": 466
    },
    "id": "6a979cf4-ae4b-42e8-81d7-9309bd07efa2",
    "outputId": "972798fa-061e-4bc2-fc68-a2f78f359460"
   },
   "outputs": [
    {
     "data": {
      "text/html": [
       "<div><style>\n",
       ".dataframe > thead > tr,\n",
       ".dataframe > tbody > tr {\n",
       "  text-align: right;\n",
       "  white-space: pre-wrap;\n",
       "}\n",
       "</style>\n",
       "<small>shape: (5, 46)</small><table border=\"1\" class=\"dataframe\"><thead><tr><th>ID</th><th>Source</th><th>Severity</th><th>Start_Time</th><th>End_Time</th><th>Start_Lat</th><th>Start_Lng</th><th>End_Lat</th><th>End_Lng</th><th>Distance(mi)</th><th>Description</th><th>Street</th><th>City</th><th>County</th><th>State</th><th>Zipcode</th><th>Country</th><th>Timezone</th><th>Airport_Code</th><th>Weather_Timestamp</th><th>Temperature(F)</th><th>Wind_Chill(F)</th><th>Humidity(%)</th><th>Pressure(in)</th><th>Visibility(mi)</th><th>Wind_Direction</th><th>Wind_Speed(mph)</th><th>Precipitation(in)</th><th>Weather_Condition</th><th>Amenity</th><th>Bump</th><th>Crossing</th><th>Give_Way</th><th>Junction</th><th>No_Exit</th><th>Railway</th><th>Roundabout</th><th>Station</th><th>Stop</th><th>Traffic_Calming</th><th>Traffic_Signal</th><th>Turning_Loop</th><th>Sunrise_Sunset</th><th>Civil_Twilight</th><th>Nautical_Twilight</th><th>Astronomical_Twilight</th></tr><tr><td>str</td><td>str</td><td>i64</td><td>str</td><td>str</td><td>f64</td><td>f64</td><td>str</td><td>str</td><td>f64</td><td>str</td><td>str</td><td>str</td><td>str</td><td>str</td><td>str</td><td>str</td><td>str</td><td>str</td><td>str</td><td>f64</td><td>f64</td><td>f64</td><td>f64</td><td>f64</td><td>str</td><td>f64</td><td>f64</td><td>str</td><td>bool</td><td>bool</td><td>bool</td><td>bool</td><td>bool</td><td>bool</td><td>bool</td><td>bool</td><td>bool</td><td>bool</td><td>bool</td><td>bool</td><td>bool</td><td>str</td><td>str</td><td>str</td><td>str</td></tr></thead><tbody><tr><td>&quot;A-1&quot;</td><td>&quot;Source2&quot;</td><td>3</td><td>&quot;2016-02-08&nbsp;05:46:00&quot;</td><td>&quot;2016-02-08&nbsp;11:00:00&quot;</td><td>39.865147</td><td>-84.058723</td><td>null</td><td>null</td><td>0.01</td><td>&quot;Right&nbsp;lane&nbsp;blocked&nbsp;due&nbsp;to&nbsp;acci…</td><td>&quot;I-70&nbsp;E&quot;</td><td>&quot;Dayton&quot;</td><td>&quot;Montgomery&quot;</td><td>&quot;OH&quot;</td><td>&quot;45424&quot;</td><td>&quot;US&quot;</td><td>&quot;US/Eastern&quot;</td><td>&quot;KFFO&quot;</td><td>&quot;2016-02-08&nbsp;05:58:00&quot;</td><td>36.9</td><td>null</td><td>91.0</td><td>29.68</td><td>10.0</td><td>&quot;Calm&quot;</td><td>null</td><td>0.02</td><td>&quot;Light&nbsp;Rain&quot;</td><td>false</td><td>false</td><td>false</td><td>false</td><td>false</td><td>false</td><td>false</td><td>false</td><td>false</td><td>false</td><td>false</td><td>false</td><td>false</td><td>&quot;Night&quot;</td><td>&quot;Night&quot;</td><td>&quot;Night&quot;</td><td>&quot;Night&quot;</td></tr><tr><td>&quot;A-2&quot;</td><td>&quot;Source2&quot;</td><td>2</td><td>&quot;2016-02-08&nbsp;06:07:59&quot;</td><td>&quot;2016-02-08&nbsp;06:37:59&quot;</td><td>39.928059</td><td>-82.831184</td><td>null</td><td>null</td><td>0.01</td><td>&quot;Accident&nbsp;on&nbsp;Brice&nbsp;Rd&nbsp;at&nbsp;Tussin…</td><td>&quot;Brice&nbsp;Rd&quot;</td><td>&quot;Reynoldsburg&quot;</td><td>&quot;Franklin&quot;</td><td>&quot;OH&quot;</td><td>&quot;43068-3402&quot;</td><td>&quot;US&quot;</td><td>&quot;US/Eastern&quot;</td><td>&quot;KCMH&quot;</td><td>&quot;2016-02-08&nbsp;05:51:00&quot;</td><td>37.9</td><td>null</td><td>100.0</td><td>29.65</td><td>10.0</td><td>&quot;Calm&quot;</td><td>null</td><td>0.0</td><td>&quot;Light&nbsp;Rain&quot;</td><td>false</td><td>false</td><td>false</td><td>false</td><td>false</td><td>false</td><td>false</td><td>false</td><td>false</td><td>false</td><td>false</td><td>false</td><td>false</td><td>&quot;Night&quot;</td><td>&quot;Night&quot;</td><td>&quot;Night&quot;</td><td>&quot;Day&quot;</td></tr><tr><td>&quot;A-3&quot;</td><td>&quot;Source2&quot;</td><td>2</td><td>&quot;2016-02-08&nbsp;06:49:27&quot;</td><td>&quot;2016-02-08&nbsp;07:19:27&quot;</td><td>39.063148</td><td>-84.032608</td><td>null</td><td>null</td><td>0.01</td><td>&quot;Accident&nbsp;on&nbsp;OH-32&nbsp;State&nbsp;Route&nbsp;…</td><td>&quot;State&nbsp;Route&nbsp;32&quot;</td><td>&quot;Williamsburg&quot;</td><td>&quot;Clermont&quot;</td><td>&quot;OH&quot;</td><td>&quot;45176&quot;</td><td>&quot;US&quot;</td><td>&quot;US/Eastern&quot;</td><td>&quot;KI69&quot;</td><td>&quot;2016-02-08&nbsp;06:56:00&quot;</td><td>36.0</td><td>33.3</td><td>100.0</td><td>29.67</td><td>10.0</td><td>&quot;SW&quot;</td><td>3.5</td><td>null</td><td>&quot;Overcast&quot;</td><td>false</td><td>false</td><td>false</td><td>false</td><td>false</td><td>false</td><td>false</td><td>false</td><td>false</td><td>false</td><td>false</td><td>true</td><td>false</td><td>&quot;Night&quot;</td><td>&quot;Night&quot;</td><td>&quot;Day&quot;</td><td>&quot;Day&quot;</td></tr><tr><td>&quot;A-4&quot;</td><td>&quot;Source2&quot;</td><td>3</td><td>&quot;2016-02-08&nbsp;07:23:34&quot;</td><td>&quot;2016-02-08&nbsp;07:53:34&quot;</td><td>39.747753</td><td>-84.205582</td><td>null</td><td>null</td><td>0.01</td><td>&quot;Accident&nbsp;on&nbsp;I-75&nbsp;Southbound&nbsp;at…</td><td>&quot;I-75&nbsp;S&quot;</td><td>&quot;Dayton&quot;</td><td>&quot;Montgomery&quot;</td><td>&quot;OH&quot;</td><td>&quot;45417&quot;</td><td>&quot;US&quot;</td><td>&quot;US/Eastern&quot;</td><td>&quot;KDAY&quot;</td><td>&quot;2016-02-08&nbsp;07:38:00&quot;</td><td>35.1</td><td>31.0</td><td>96.0</td><td>29.64</td><td>9.0</td><td>&quot;SW&quot;</td><td>4.6</td><td>null</td><td>&quot;Mostly&nbsp;Cloudy&quot;</td><td>false</td><td>false</td><td>false</td><td>false</td><td>false</td><td>false</td><td>false</td><td>false</td><td>false</td><td>false</td><td>false</td><td>false</td><td>false</td><td>&quot;Night&quot;</td><td>&quot;Day&quot;</td><td>&quot;Day&quot;</td><td>&quot;Day&quot;</td></tr><tr><td>&quot;A-5&quot;</td><td>&quot;Source2&quot;</td><td>2</td><td>&quot;2016-02-08&nbsp;07:39:07&quot;</td><td>&quot;2016-02-08&nbsp;08:09:07&quot;</td><td>39.627781</td><td>-84.188354</td><td>null</td><td>null</td><td>0.01</td><td>&quot;Accident&nbsp;on&nbsp;McEwen&nbsp;Rd&nbsp;at&nbsp;OH-72…</td><td>&quot;Miamisburg&nbsp;Centerville&nbsp;Rd&quot;</td><td>&quot;Dayton&quot;</td><td>&quot;Montgomery&quot;</td><td>&quot;OH&quot;</td><td>&quot;45459&quot;</td><td>&quot;US&quot;</td><td>&quot;US/Eastern&quot;</td><td>&quot;KMGY&quot;</td><td>&quot;2016-02-08&nbsp;07:53:00&quot;</td><td>36.0</td><td>33.3</td><td>89.0</td><td>29.65</td><td>6.0</td><td>&quot;SW&quot;</td><td>3.5</td><td>null</td><td>&quot;Mostly&nbsp;Cloudy&quot;</td><td>false</td><td>false</td><td>false</td><td>false</td><td>false</td><td>false</td><td>false</td><td>false</td><td>false</td><td>false</td><td>false</td><td>true</td><td>false</td><td>&quot;Day&quot;</td><td>&quot;Day&quot;</td><td>&quot;Day&quot;</td><td>&quot;Day&quot;</td></tr></tbody></table></div>"
      ],
      "text/plain": [
       "shape: (5, 46)\n",
       "┌─────┬─────────┬──────────┬─────────────┬───┬─────────────┬─────────────┬────────────┬────────────┐\n",
       "│ ID  ┆ Source  ┆ Severity ┆ Start_Time  ┆ … ┆ Sunrise_Sun ┆ Civil_Twili ┆ Nautical_T ┆ Astronomic │\n",
       "│ --- ┆ ---     ┆ ---      ┆ ---         ┆   ┆ set         ┆ ght         ┆ wilight    ┆ al_Twiligh │\n",
       "│ str ┆ str     ┆ i64      ┆ str         ┆   ┆ ---         ┆ ---         ┆ ---        ┆ t          │\n",
       "│     ┆         ┆          ┆             ┆   ┆ str         ┆ str         ┆ str        ┆ ---        │\n",
       "│     ┆         ┆          ┆             ┆   ┆             ┆             ┆            ┆ str        │\n",
       "╞═════╪═════════╪══════════╪═════════════╪═══╪═════════════╪═════════════╪════════════╪════════════╡\n",
       "│ A-1 ┆ Source2 ┆ 3        ┆ 2016-02-08  ┆ … ┆ Night       ┆ Night       ┆ Night      ┆ Night      │\n",
       "│     ┆         ┆          ┆ 05:46:00    ┆   ┆             ┆             ┆            ┆            │\n",
       "│ A-2 ┆ Source2 ┆ 2        ┆ 2016-02-08  ┆ … ┆ Night       ┆ Night       ┆ Night      ┆ Day        │\n",
       "│     ┆         ┆          ┆ 06:07:59    ┆   ┆             ┆             ┆            ┆            │\n",
       "│ A-3 ┆ Source2 ┆ 2        ┆ 2016-02-08  ┆ … ┆ Night       ┆ Night       ┆ Day        ┆ Day        │\n",
       "│     ┆         ┆          ┆ 06:49:27    ┆   ┆             ┆             ┆            ┆            │\n",
       "│ A-4 ┆ Source2 ┆ 3        ┆ 2016-02-08  ┆ … ┆ Night       ┆ Day         ┆ Day        ┆ Day        │\n",
       "│     ┆         ┆          ┆ 07:23:34    ┆   ┆             ┆             ┆            ┆            │\n",
       "│ A-5 ┆ Source2 ┆ 2        ┆ 2016-02-08  ┆ … ┆ Day         ┆ Day         ┆ Day        ┆ Day        │\n",
       "│     ┆         ┆          ┆ 07:39:07    ┆   ┆             ┆             ┆            ┆            │\n",
       "└─────┴─────────┴──────────┴─────────────┴───┴─────────────┴─────────────┴────────────┴────────────┘"
      ]
     },
     "execution_count": 3,
     "metadata": {},
     "output_type": "execute_result"
    }
   ],
   "source": [
    "df.head(5)"
   ]
  },
  {
   "cell_type": "code",
   "execution_count": 4,
   "id": "46e7f696-a7cb-4ee2-8c3b-b9175661b90d",
   "metadata": {
    "colab": {
     "base_uri": "https://localhost:8080/"
    },
    "id": "46e7f696-a7cb-4ee2-8c3b-b9175661b90d",
    "outputId": "b518c26d-bb5b-47f0-ec8f-2af2e26e9783"
   },
   "outputs": [
    {
     "data": {
      "text/plain": [
       "7728394"
      ]
     },
     "execution_count": 4,
     "metadata": {},
     "output_type": "execute_result"
    }
   ],
   "source": [
    "df.height"
   ]
  },
  {
   "cell_type": "code",
   "execution_count": 5,
   "id": "ec76fceb-a715-484d-8f9a-dbb218d46cc9",
   "metadata": {
    "colab": {
     "base_uri": "https://localhost:8080/"
    },
    "id": "ec76fceb-a715-484d-8f9a-dbb218d46cc9",
    "outputId": "0fe22ca6-9f54-47b1-b377-3d71ebfabcb7"
   },
   "outputs": [
    {
     "data": {
      "text/plain": [
       "46"
      ]
     },
     "execution_count": 5,
     "metadata": {},
     "output_type": "execute_result"
    }
   ],
   "source": [
    "df.width"
   ]
  },
  {
   "cell_type": "code",
   "execution_count": 6,
   "id": "7cb4bbe8-9b3b-4297-b096-f1bb2d65d071",
   "metadata": {
    "colab": {
     "base_uri": "https://localhost:8080/"
    },
    "id": "7cb4bbe8-9b3b-4297-b096-f1bb2d65d071",
    "outputId": "0aea4506-d4fc-47e6-da5b-1ac51978a2e8"
   },
   "outputs": [
    {
     "data": {
      "text/plain": [
       "['ID',\n",
       " 'Source',\n",
       " 'Severity',\n",
       " 'Start_Time',\n",
       " 'End_Time',\n",
       " 'Start_Lat',\n",
       " 'Start_Lng',\n",
       " 'End_Lat',\n",
       " 'End_Lng',\n",
       " 'Distance(mi)',\n",
       " 'Description',\n",
       " 'Street',\n",
       " 'City',\n",
       " 'County',\n",
       " 'State',\n",
       " 'Zipcode',\n",
       " 'Country',\n",
       " 'Timezone',\n",
       " 'Airport_Code',\n",
       " 'Weather_Timestamp',\n",
       " 'Temperature(F)',\n",
       " 'Wind_Chill(F)',\n",
       " 'Humidity(%)',\n",
       " 'Pressure(in)',\n",
       " 'Visibility(mi)',\n",
       " 'Wind_Direction',\n",
       " 'Wind_Speed(mph)',\n",
       " 'Precipitation(in)',\n",
       " 'Weather_Condition',\n",
       " 'Amenity',\n",
       " 'Bump',\n",
       " 'Crossing',\n",
       " 'Give_Way',\n",
       " 'Junction',\n",
       " 'No_Exit',\n",
       " 'Railway',\n",
       " 'Roundabout',\n",
       " 'Station',\n",
       " 'Stop',\n",
       " 'Traffic_Calming',\n",
       " 'Traffic_Signal',\n",
       " 'Turning_Loop',\n",
       " 'Sunrise_Sunset',\n",
       " 'Civil_Twilight',\n",
       " 'Nautical_Twilight',\n",
       " 'Astronomical_Twilight']"
      ]
     },
     "execution_count": 6,
     "metadata": {},
     "output_type": "execute_result"
    }
   ],
   "source": [
    "df.columns"
   ]
  },
  {
   "cell_type": "code",
   "execution_count": 7,
   "id": "d08f251d-3f00-42be-9e69-34843685d548",
   "metadata": {
    "colab": {
     "base_uri": "https://localhost:8080/"
    },
    "id": "d08f251d-3f00-42be-9e69-34843685d548",
    "outputId": "f6902ced-f73f-49b2-ced4-0f435eaa20b3"
   },
   "outputs": [
    {
     "name": "stdout",
     "output_type": "stream",
     "text": [
      "False entries in Amenity : 7632060\n",
      "False entries in Bump : 7724880\n",
      "False entries in Crossing : 6854631\n",
      "False entries in Give_Way : 7691812\n",
      "False entries in Junction : 7157052\n",
      "False entries in No_Exit : 7708849\n",
      "False entries in Railway : 7661415\n",
      "False entries in Roundabout : 7728145\n",
      "False entries in Station : 7526493\n",
      "False entries in Stop : 7514023\n",
      "False entries in Traffic_Calming : 7720796\n",
      "False entries in Traffic_Signal : 6584622\n",
      "False entries in Turning_Loop : 7728394\n"
     ]
    }
   ],
   "source": [
    "#Checking how many values are false in the boolean columns\n",
    "cols = ['Amenity','Bump','Crossing','Give_Way','Junction','No_Exit','Railway','Roundabout','Station','Stop','Traffic_Calming','Traffic_Signal','Turning_Loop']\n",
    "false_counts = df.select([(pl.col(col) == False).sum().alias(col) for col in cols])\n",
    "for col in cols:\n",
    "    print(f\"False entries in {col} : {false_counts[0, col]}\")"
   ]
  },
  {
   "cell_type": "code",
   "execution_count": 8,
   "id": "47d4778a-3f90-48e6-826b-6ed1fc546455",
   "metadata": {
    "colab": {
     "base_uri": "https://localhost:8080/"
    },
    "id": "47d4778a-3f90-48e6-826b-6ed1fc546455",
    "outputId": "b13f525a-1dd8-4019-94c2-02c9d5f9eaf0"
   },
   "outputs": [
    {
     "data": {
      "text/plain": [
       "36"
      ]
     },
     "execution_count": 8,
     "metadata": {},
     "output_type": "execute_result"
    }
   ],
   "source": [
    "#The 10 columns that are almost entirely false and thus not useful\n",
    "df_drop = df.drop(['Amenity','Bump','Give_Way','No_Exit','Railway','Roundabout','Station','Stop','Traffic_Calming','Turning_Loop'])\n",
    "df_drop.width"
   ]
  },
  {
   "cell_type": "code",
   "execution_count": 9,
   "id": "adc57c1b-b68b-42df-9efe-3ce78c41d70f",
   "metadata": {
    "id": "adc57c1b-b68b-42df-9efe-3ce78c41d70f"
   },
   "outputs": [],
   "source": [
    "#Just a couple of extra columns that do not give us enough information on their own to warrant staying.\n",
    "#Closely associated with Sunset, so they will not add to our analysis\n",
    "df_drop = df_drop.drop(['Nautical_Twilight','Astronomical_Twilight', 'Civil_Twilight'])"
   ]
  },
  {
   "cell_type": "code",
   "execution_count": 10,
   "id": "272b3aa9-bcf8-43ad-8dc9-cc476e0f9c44",
   "metadata": {
    "colab": {
     "base_uri": "https://localhost:8080/"
    },
    "id": "272b3aa9-bcf8-43ad-8dc9-cc476e0f9c44",
    "outputId": "6a2d87d0-e450-424a-e983-9507a6b8b369"
   },
   "outputs": [
    {
     "data": {
      "text/plain": [
       "33"
      ]
     },
     "execution_count": 10,
     "metadata": {},
     "output_type": "execute_result"
    }
   ],
   "source": [
    "df_drop.width"
   ]
  },
  {
   "cell_type": "code",
   "execution_count": 11,
   "id": "5f7d60ad-3fc0-47e0-a829-e12ab91ac3f1",
   "metadata": {
    "colab": {
     "base_uri": "https://localhost:8080/"
    },
    "id": "5f7d60ad-3fc0-47e0-a829-e12ab91ac3f1",
    "outputId": "85408829-d5fa-45a1-dc16-1a933ff959da"
   },
   "outputs": [
    {
     "data": {
      "text/plain": [
       "['ID',\n",
       " 'Source',\n",
       " 'Severity',\n",
       " 'Start_Time',\n",
       " 'End_Time',\n",
       " 'Start_Lat',\n",
       " 'Start_Lng',\n",
       " 'End_Lat',\n",
       " 'End_Lng',\n",
       " 'Distance(mi)',\n",
       " 'Description',\n",
       " 'Street',\n",
       " 'City',\n",
       " 'County',\n",
       " 'State',\n",
       " 'Zipcode',\n",
       " 'Country',\n",
       " 'Timezone',\n",
       " 'Airport_Code',\n",
       " 'Weather_Timestamp',\n",
       " 'Temperature(F)',\n",
       " 'Wind_Chill(F)',\n",
       " 'Humidity(%)',\n",
       " 'Pressure(in)',\n",
       " 'Visibility(mi)',\n",
       " 'Wind_Direction',\n",
       " 'Wind_Speed(mph)',\n",
       " 'Precipitation(in)',\n",
       " 'Weather_Condition',\n",
       " 'Crossing',\n",
       " 'Junction',\n",
       " 'Traffic_Signal',\n",
       " 'Sunrise_Sunset']"
      ]
     },
     "execution_count": 11,
     "metadata": {},
     "output_type": "execute_result"
    }
   ],
   "source": [
    "df_drop.columns"
   ]
  },
  {
   "cell_type": "code",
   "execution_count": 12,
   "id": "a66f7275-503d-4280-964e-e10ecbe69434",
   "metadata": {
    "colab": {
     "base_uri": "https://localhost:8080/"
    },
    "id": "a66f7275-503d-4280-964e-e10ecbe69434",
    "outputId": "f0c91bb1-0cf1-4b9d-fd45-dfcdc075a674"
   },
   "outputs": [
    {
     "name": "stdout",
     "output_type": "stream",
     "text": [
      "Null entries in ID : 0\n",
      "Null entries in Source : 0\n",
      "Null entries in Severity : 0\n",
      "Null entries in Start_Time : 0\n",
      "Null entries in End_Time : 0\n",
      "Null entries in Start_Lat : 0\n",
      "Null entries in Start_Lng : 0\n",
      "Null entries in End_Lat : 3402762\n",
      "Null entries in End_Lng : 3402762\n",
      "Null entries in Distance(mi) : 0\n",
      "Null entries in Description : 5\n",
      "Null entries in Street : 10869\n",
      "Null entries in City : 253\n",
      "Null entries in County : 0\n",
      "Null entries in State : 0\n",
      "Null entries in Zipcode : 1915\n",
      "Null entries in Country : 0\n",
      "Null entries in Timezone : 7808\n",
      "Null entries in Airport_Code : 22635\n",
      "Null entries in Weather_Timestamp : 120228\n",
      "Null entries in Temperature(F) : 163853\n",
      "Null entries in Wind_Chill(F) : 1999019\n",
      "Null entries in Humidity(%) : 174144\n",
      "Null entries in Pressure(in) : 140679\n",
      "Null entries in Visibility(mi) : 177098\n",
      "Null entries in Wind_Direction : 175206\n",
      "Null entries in Wind_Speed(mph) : 571233\n",
      "Null entries in Precipitation(in) : 2203586\n",
      "Null entries in Weather_Condition : 173459\n",
      "Null entries in Crossing : 0\n",
      "Null entries in Junction : 0\n",
      "Null entries in Traffic_Signal : 0\n",
      "Null entries in Sunrise_Sunset : 23246\n"
     ]
    }
   ],
   "source": [
    "cols = ['ID', 'Source', 'Severity', 'Start_Time', 'End_Time', 'Start_Lat', 'Start_Lng', 'End_Lat', 'End_Lng', 'Distance(mi)', 'Description', 'Street',\n",
    "        'City', 'County', 'State', 'Zipcode', 'Country', 'Timezone', 'Airport_Code', 'Weather_Timestamp', 'Temperature(F)', 'Wind_Chill(F)','Humidity(%)'\n",
    "        , 'Pressure(in)', 'Visibility(mi)', 'Wind_Direction', 'Wind_Speed(mph)', 'Precipitation(in)', 'Weather_Condition', 'Crossing', 'Junction',\n",
    "        'Traffic_Signal', 'Sunrise_Sunset']\n",
    "\n",
    "for col in cols:\n",
    "    null_count = df_drop.select(pl.col(col).null_count())[0, 0]  # Get the count of nulls in the column\n",
    "    print(f\"Null entries in {col} : {null_count}\")"
   ]
  },
  {
   "cell_type": "code",
   "execution_count": 13,
   "id": "c7165b0a-f98f-4d3e-af74-f86500ad0e78",
   "metadata": {
    "id": "c7165b0a-f98f-4d3e-af74-f86500ad0e78"
   },
   "outputs": [],
   "source": [
    "df_drop = df_drop.drop(['End_Lat','End_Lng']) #since majority of the values are null and these columns are insignificant"
   ]
  },
  {
   "cell_type": "code",
   "execution_count": 14,
   "id": "4661aeda-57dd-4a9e-a5bf-3a36af59f07b",
   "metadata": {
    "colab": {
     "base_uri": "https://localhost:8080/"
    },
    "id": "4661aeda-57dd-4a9e-a5bf-3a36af59f07b",
    "outputId": "a77743fa-0a63-47fe-e119-17b2b1e20726"
   },
   "outputs": [
    {
     "data": {
      "text/plain": [
       "31"
      ]
     },
     "execution_count": 14,
     "metadata": {},
     "output_type": "execute_result"
    }
   ],
   "source": [
    "df_drop.width"
   ]
  },
  {
   "cell_type": "code",
   "execution_count": 15,
   "id": "46cea50b-ac7e-42a6-9bf4-5152dea451da",
   "metadata": {
    "id": "46cea50b-ac7e-42a6-9bf4-5152dea451da"
   },
   "outputs": [],
   "source": [
    "bool_cols = ['Junction', 'Crossing', 'Traffic_Signal']\n",
    "df_drop = df_drop.with_columns([pl.col(col).cast(pl.Int32).alias(col) for col in bool_cols])"
   ]
  },
  {
   "cell_type": "code",
   "execution_count": 16,
   "id": "d04d90ee-9314-4af9-8061-eae14d50eee3",
   "metadata": {
    "colab": {
     "base_uri": "https://localhost:8080/",
     "height": 316
    },
    "id": "d04d90ee-9314-4af9-8061-eae14d50eee3",
    "outputId": "c86210f0-3710-4472-d0f4-a0e160df4b30"
   },
   "outputs": [
    {
     "data": {
      "text/html": [
       "<div><style>\n",
       ".dataframe > thead > tr,\n",
       ".dataframe > tbody > tr {\n",
       "  text-align: right;\n",
       "  white-space: pre-wrap;\n",
       "}\n",
       "</style>\n",
       "<small>shape: (3, 31)</small><table border=\"1\" class=\"dataframe\"><thead><tr><th>ID</th><th>Source</th><th>Severity</th><th>Start_Time</th><th>End_Time</th><th>Start_Lat</th><th>Start_Lng</th><th>Distance(mi)</th><th>Description</th><th>Street</th><th>City</th><th>County</th><th>State</th><th>Zipcode</th><th>Country</th><th>Timezone</th><th>Airport_Code</th><th>Weather_Timestamp</th><th>Temperature(F)</th><th>Wind_Chill(F)</th><th>Humidity(%)</th><th>Pressure(in)</th><th>Visibility(mi)</th><th>Wind_Direction</th><th>Wind_Speed(mph)</th><th>Precipitation(in)</th><th>Weather_Condition</th><th>Crossing</th><th>Junction</th><th>Traffic_Signal</th><th>Sunrise_Sunset</th></tr><tr><td>str</td><td>str</td><td>i64</td><td>str</td><td>str</td><td>f64</td><td>f64</td><td>f64</td><td>str</td><td>str</td><td>str</td><td>str</td><td>str</td><td>str</td><td>str</td><td>str</td><td>str</td><td>str</td><td>f64</td><td>f64</td><td>f64</td><td>f64</td><td>f64</td><td>str</td><td>f64</td><td>f64</td><td>str</td><td>i32</td><td>i32</td><td>i32</td><td>str</td></tr></thead><tbody><tr><td>&quot;A-1&quot;</td><td>&quot;Source2&quot;</td><td>3</td><td>&quot;2016-02-08&nbsp;05:46:00&quot;</td><td>&quot;2016-02-08&nbsp;11:00:00&quot;</td><td>39.865147</td><td>-84.058723</td><td>0.01</td><td>&quot;Right&nbsp;lane&nbsp;blocked&nbsp;due&nbsp;to&nbsp;acci…</td><td>&quot;I-70&nbsp;E&quot;</td><td>&quot;Dayton&quot;</td><td>&quot;Montgomery&quot;</td><td>&quot;OH&quot;</td><td>&quot;45424&quot;</td><td>&quot;US&quot;</td><td>&quot;US/Eastern&quot;</td><td>&quot;KFFO&quot;</td><td>&quot;2016-02-08&nbsp;05:58:00&quot;</td><td>36.9</td><td>null</td><td>91.0</td><td>29.68</td><td>10.0</td><td>&quot;Calm&quot;</td><td>null</td><td>0.02</td><td>&quot;Light&nbsp;Rain&quot;</td><td>0</td><td>0</td><td>0</td><td>&quot;Night&quot;</td></tr><tr><td>&quot;A-2&quot;</td><td>&quot;Source2&quot;</td><td>2</td><td>&quot;2016-02-08&nbsp;06:07:59&quot;</td><td>&quot;2016-02-08&nbsp;06:37:59&quot;</td><td>39.928059</td><td>-82.831184</td><td>0.01</td><td>&quot;Accident&nbsp;on&nbsp;Brice&nbsp;Rd&nbsp;at&nbsp;Tussin…</td><td>&quot;Brice&nbsp;Rd&quot;</td><td>&quot;Reynoldsburg&quot;</td><td>&quot;Franklin&quot;</td><td>&quot;OH&quot;</td><td>&quot;43068-3402&quot;</td><td>&quot;US&quot;</td><td>&quot;US/Eastern&quot;</td><td>&quot;KCMH&quot;</td><td>&quot;2016-02-08&nbsp;05:51:00&quot;</td><td>37.9</td><td>null</td><td>100.0</td><td>29.65</td><td>10.0</td><td>&quot;Calm&quot;</td><td>null</td><td>0.0</td><td>&quot;Light&nbsp;Rain&quot;</td><td>0</td><td>0</td><td>0</td><td>&quot;Night&quot;</td></tr><tr><td>&quot;A-3&quot;</td><td>&quot;Source2&quot;</td><td>2</td><td>&quot;2016-02-08&nbsp;06:49:27&quot;</td><td>&quot;2016-02-08&nbsp;07:19:27&quot;</td><td>39.063148</td><td>-84.032608</td><td>0.01</td><td>&quot;Accident&nbsp;on&nbsp;OH-32&nbsp;State&nbsp;Route&nbsp;…</td><td>&quot;State&nbsp;Route&nbsp;32&quot;</td><td>&quot;Williamsburg&quot;</td><td>&quot;Clermont&quot;</td><td>&quot;OH&quot;</td><td>&quot;45176&quot;</td><td>&quot;US&quot;</td><td>&quot;US/Eastern&quot;</td><td>&quot;KI69&quot;</td><td>&quot;2016-02-08&nbsp;06:56:00&quot;</td><td>36.0</td><td>33.3</td><td>100.0</td><td>29.67</td><td>10.0</td><td>&quot;SW&quot;</td><td>3.5</td><td>null</td><td>&quot;Overcast&quot;</td><td>0</td><td>0</td><td>1</td><td>&quot;Night&quot;</td></tr></tbody></table></div>"
      ],
      "text/plain": [
       "shape: (3, 31)\n",
       "┌─────┬─────────┬──────────┬───────────────┬───┬──────────┬──────────┬──────────────┬──────────────┐\n",
       "│ ID  ┆ Source  ┆ Severity ┆ Start_Time    ┆ … ┆ Crossing ┆ Junction ┆ Traffic_Sign ┆ Sunrise_Suns │\n",
       "│ --- ┆ ---     ┆ ---      ┆ ---           ┆   ┆ ---      ┆ ---      ┆ al           ┆ et           │\n",
       "│ str ┆ str     ┆ i64      ┆ str           ┆   ┆ i32      ┆ i32      ┆ ---          ┆ ---          │\n",
       "│     ┆         ┆          ┆               ┆   ┆          ┆          ┆ i32          ┆ str          │\n",
       "╞═════╪═════════╪══════════╪═══════════════╪═══╪══════════╪══════════╪══════════════╪══════════════╡\n",
       "│ A-1 ┆ Source2 ┆ 3        ┆ 2016-02-08    ┆ … ┆ 0        ┆ 0        ┆ 0            ┆ Night        │\n",
       "│     ┆         ┆          ┆ 05:46:00      ┆   ┆          ┆          ┆              ┆              │\n",
       "│ A-2 ┆ Source2 ┆ 2        ┆ 2016-02-08    ┆ … ┆ 0        ┆ 0        ┆ 0            ┆ Night        │\n",
       "│     ┆         ┆          ┆ 06:07:59      ┆   ┆          ┆          ┆              ┆              │\n",
       "│ A-3 ┆ Source2 ┆ 2        ┆ 2016-02-08    ┆ … ┆ 0        ┆ 0        ┆ 1            ┆ Night        │\n",
       "│     ┆         ┆          ┆ 06:49:27      ┆   ┆          ┆          ┆              ┆              │\n",
       "└─────┴─────────┴──────────┴───────────────┴───┴──────────┴──────────┴──────────────┴──────────────┘"
      ]
     },
     "execution_count": 16,
     "metadata": {},
     "output_type": "execute_result"
    }
   ],
   "source": [
    "df_drop.head(3)"
   ]
  },
  {
   "cell_type": "code",
   "execution_count": 17,
   "id": "70295609-cbcc-4aa9-94d4-a40c17eb522d",
   "metadata": {
    "colab": {
     "base_uri": "https://localhost:8080/"
    },
    "id": "70295609-cbcc-4aa9-94d4-a40c17eb522d",
    "outputId": "971818b5-ddfd-45ad-9691-89e46833a206"
   },
   "outputs": [
    {
     "name": "stdout",
     "output_type": "stream",
     "text": [
      "Unique entries in ID : 7728394\n",
      "Unique entries in Source : 3\n",
      "Unique entries in Severity : 4\n",
      "Unique entries in Start_Time : 6131796\n",
      "Unique entries in End_Time : 6705355\n",
      "Unique entries in Start_Lat : 2449172\n",
      "Unique entries in Start_Lng : 2493905\n",
      "Unique entries in Distance(mi) : 22382\n",
      "Unique entries in Description : 3761579\n",
      "Unique entries in Street : 336307\n",
      "Unique entries in City : 13679\n",
      "Unique entries in County : 1871\n",
      "Unique entries in State : 49\n",
      "Unique entries in Zipcode : 825095\n",
      "Unique entries in Country : 1\n",
      "Unique entries in Timezone : 5\n",
      "Unique entries in Airport_Code : 2046\n",
      "Unique entries in Weather_Timestamp : 941332\n",
      "Unique entries in Temperature(F) : 861\n",
      "Unique entries in Wind_Chill(F) : 1002\n",
      "Unique entries in Humidity(%) : 101\n",
      "Unique entries in Pressure(in) : 1145\n",
      "Unique entries in Visibility(mi) : 93\n",
      "Unique entries in Wind_Direction : 25\n",
      "Unique entries in Wind_Speed(mph) : 185\n",
      "Unique entries in Precipitation(in) : 300\n",
      "Unique entries in Weather_Condition : 145\n",
      "Unique entries in Crossing : 2\n",
      "Unique entries in Junction : 2\n",
      "Unique entries in Traffic_Signal : 2\n",
      "Unique entries in Sunrise_Sunset : 3\n"
     ]
    }
   ],
   "source": [
    "for col in df_drop.columns:\n",
    "    unique_count = df_drop.select(pl.col(col).n_unique())[0, 0]\n",
    "    print(f\"Unique entries in {col} : {unique_count}\")"
   ]
  },
  {
   "cell_type": "code",
   "execution_count": 18,
   "id": "d6c5982b-b630-4298-b72f-a0055baee1f0",
   "metadata": {
    "id": "d6c5982b-b630-4298-b72f-a0055baee1f0"
   },
   "outputs": [],
   "source": [
    "df_drop = df_drop.drop(['Country']) #This is a uniform column displaying just the 'US'"
   ]
  },
  {
   "cell_type": "code",
   "execution_count": 19,
   "id": "4aa16435-550b-4ee3-abdf-6810cf7ec1c5",
   "metadata": {
    "colab": {
     "base_uri": "https://localhost:8080/"
    },
    "id": "4aa16435-550b-4ee3-abdf-6810cf7ec1c5",
    "outputId": "1ea0b940-d684-411a-b666-35b82bae6c50"
   },
   "outputs": [
    {
     "data": {
      "text/plain": [
       "30"
      ]
     },
     "execution_count": 19,
     "metadata": {},
     "output_type": "execute_result"
    }
   ],
   "source": [
    "df_drop.width"
   ]
  },
  {
   "cell_type": "code",
   "execution_count": 20,
   "id": "463d8bda-8c5c-4b5a-8e7c-cbadd6663053",
   "metadata": {
    "id": "463d8bda-8c5c-4b5a-8e7c-cbadd6663053"
   },
   "outputs": [],
   "source": [
    "df_drop = df_drop.drop(['Airport_Code','ID']) #not useful in our context"
   ]
  },
  {
   "cell_type": "code",
   "execution_count": 21,
   "id": "c45c18c4-13a1-4911-8b9e-10adae0f9bd9",
   "metadata": {
    "colab": {
     "base_uri": "https://localhost:8080/"
    },
    "id": "c45c18c4-13a1-4911-8b9e-10adae0f9bd9",
    "outputId": "7ceb4965-c0c7-4052-d0ad-19772a760b03"
   },
   "outputs": [
    {
     "data": {
      "text/plain": [
       "28"
      ]
     },
     "execution_count": 21,
     "metadata": {},
     "output_type": "execute_result"
    }
   ],
   "source": [
    "df_drop.width"
   ]
  },
  {
   "cell_type": "code",
   "execution_count": 22,
   "id": "6945619a-0975-47d0-b940-5c041010e2b4",
   "metadata": {
    "id": "6945619a-0975-47d0-b940-5c041010e2b4"
   },
   "outputs": [],
   "source": [
    "df_drop = df_drop.drop(['Weather_Timestamp']) #This relates to what time the weather data was recorded, so irrelevant to us"
   ]
  },
  {
   "cell_type": "code",
   "execution_count": 23,
   "id": "9916b176-f6a4-4309-8328-22a4757244de",
   "metadata": {
    "colab": {
     "base_uri": "https://localhost:8080/"
    },
    "id": "9916b176-f6a4-4309-8328-22a4757244de",
    "outputId": "ff6eee76-1cd2-4d02-a34d-7a6e9bae0d3b"
   },
   "outputs": [
    {
     "data": {
      "text/plain": [
       "['Source',\n",
       " 'Severity',\n",
       " 'Start_Time',\n",
       " 'End_Time',\n",
       " 'Start_Lat',\n",
       " 'Start_Lng',\n",
       " 'Distance(mi)',\n",
       " 'Description',\n",
       " 'Street',\n",
       " 'City',\n",
       " 'County',\n",
       " 'State',\n",
       " 'Zipcode',\n",
       " 'Timezone',\n",
       " 'Temperature(F)',\n",
       " 'Wind_Chill(F)',\n",
       " 'Humidity(%)',\n",
       " 'Pressure(in)',\n",
       " 'Visibility(mi)',\n",
       " 'Wind_Direction',\n",
       " 'Wind_Speed(mph)',\n",
       " 'Precipitation(in)',\n",
       " 'Weather_Condition',\n",
       " 'Crossing',\n",
       " 'Junction',\n",
       " 'Traffic_Signal',\n",
       " 'Sunrise_Sunset']"
      ]
     },
     "execution_count": 23,
     "metadata": {},
     "output_type": "execute_result"
    }
   ],
   "source": [
    "df_drop.columns"
   ]
  },
  {
   "cell_type": "code",
   "execution_count": 24,
   "id": "22362d5f-ad85-4ab9-8650-b348d4ea06f5",
   "metadata": {
    "colab": {
     "base_uri": "https://localhost:8080/",
     "height": 831
    },
    "id": "22362d5f-ad85-4ab9-8650-b348d4ea06f5",
    "outputId": "259a4c72-6e14-41f9-e488-186d34a99ae8"
   },
   "outputs": [
    {
     "data": {
      "text/html": [
       "<div><style>\n",
       ".dataframe > thead > tr,\n",
       ".dataframe > tbody > tr {\n",
       "  text-align: right;\n",
       "  white-space: pre-wrap;\n",
       "}\n",
       "</style>\n",
       "<small>shape: (10, 27)</small><table border=\"1\" class=\"dataframe\"><thead><tr><th>Source</th><th>Severity</th><th>Start_Time</th><th>End_Time</th><th>Start_Lat</th><th>Start_Lng</th><th>Distance(mi)</th><th>Description</th><th>Street</th><th>City</th><th>County</th><th>State</th><th>Zipcode</th><th>Timezone</th><th>Temperature(F)</th><th>Wind_Chill(F)</th><th>Humidity(%)</th><th>Pressure(in)</th><th>Visibility(mi)</th><th>Wind_Direction</th><th>Wind_Speed(mph)</th><th>Precipitation(in)</th><th>Weather_Condition</th><th>Crossing</th><th>Junction</th><th>Traffic_Signal</th><th>Sunrise_Sunset</th></tr><tr><td>str</td><td>i64</td><td>str</td><td>str</td><td>f64</td><td>f64</td><td>f64</td><td>str</td><td>str</td><td>str</td><td>str</td><td>str</td><td>str</td><td>str</td><td>f64</td><td>f64</td><td>f64</td><td>f64</td><td>f64</td><td>str</td><td>f64</td><td>f64</td><td>str</td><td>i32</td><td>i32</td><td>i32</td><td>str</td></tr></thead><tbody><tr><td>&quot;Source2&quot;</td><td>3</td><td>&quot;2016-02-08&nbsp;05:46:00&quot;</td><td>&quot;2016-02-08&nbsp;11:00:00&quot;</td><td>39.865147</td><td>-84.058723</td><td>0.01</td><td>&quot;Right&nbsp;lane&nbsp;blocked&nbsp;due&nbsp;to&nbsp;acci…</td><td>&quot;I-70&nbsp;E&quot;</td><td>&quot;Dayton&quot;</td><td>&quot;Montgomery&quot;</td><td>&quot;OH&quot;</td><td>&quot;45424&quot;</td><td>&quot;US/Eastern&quot;</td><td>36.9</td><td>58.251048</td><td>91.0</td><td>29.68</td><td>10.0</td><td>&quot;Calm&quot;</td><td>7.68549</td><td>0.02</td><td>&quot;Light&nbsp;Rain&quot;</td><td>0</td><td>0</td><td>0</td><td>&quot;Night&quot;</td></tr><tr><td>&quot;Source2&quot;</td><td>2</td><td>&quot;2016-02-08&nbsp;06:07:59&quot;</td><td>&quot;2016-02-08&nbsp;06:37:59&quot;</td><td>39.928059</td><td>-82.831184</td><td>0.01</td><td>&quot;Accident&nbsp;on&nbsp;Brice&nbsp;Rd&nbsp;at&nbsp;Tussin…</td><td>&quot;Brice&nbsp;Rd&quot;</td><td>&quot;Reynoldsburg&quot;</td><td>&quot;Franklin&quot;</td><td>&quot;OH&quot;</td><td>&quot;43068-3402&quot;</td><td>&quot;US/Eastern&quot;</td><td>37.9</td><td>58.251048</td><td>100.0</td><td>29.65</td><td>10.0</td><td>&quot;Calm&quot;</td><td>7.68549</td><td>0.0</td><td>&quot;Light&nbsp;Rain&quot;</td><td>0</td><td>0</td><td>0</td><td>&quot;Night&quot;</td></tr><tr><td>&quot;Source2&quot;</td><td>2</td><td>&quot;2016-02-08&nbsp;06:49:27&quot;</td><td>&quot;2016-02-08&nbsp;07:19:27&quot;</td><td>39.063148</td><td>-84.032608</td><td>0.01</td><td>&quot;Accident&nbsp;on&nbsp;OH-32&nbsp;State&nbsp;Route&nbsp;…</td><td>&quot;State&nbsp;Route&nbsp;32&quot;</td><td>&quot;Williamsburg&quot;</td><td>&quot;Clermont&quot;</td><td>&quot;OH&quot;</td><td>&quot;45176&quot;</td><td>&quot;US/Eastern&quot;</td><td>36.0</td><td>33.3</td><td>100.0</td><td>29.67</td><td>10.0</td><td>&quot;SW&quot;</td><td>3.5</td><td>0.008407</td><td>&quot;Overcast&quot;</td><td>0</td><td>0</td><td>1</td><td>&quot;Night&quot;</td></tr><tr><td>&quot;Source2&quot;</td><td>3</td><td>&quot;2016-02-08&nbsp;07:23:34&quot;</td><td>&quot;2016-02-08&nbsp;07:53:34&quot;</td><td>39.747753</td><td>-84.205582</td><td>0.01</td><td>&quot;Accident&nbsp;on&nbsp;I-75&nbsp;Southbound&nbsp;at…</td><td>&quot;I-75&nbsp;S&quot;</td><td>&quot;Dayton&quot;</td><td>&quot;Montgomery&quot;</td><td>&quot;OH&quot;</td><td>&quot;45417&quot;</td><td>&quot;US/Eastern&quot;</td><td>35.1</td><td>31.0</td><td>96.0</td><td>29.64</td><td>9.0</td><td>&quot;SW&quot;</td><td>4.6</td><td>0.008407</td><td>&quot;Mostly&nbsp;Cloudy&quot;</td><td>0</td><td>0</td><td>0</td><td>&quot;Night&quot;</td></tr><tr><td>&quot;Source2&quot;</td><td>2</td><td>&quot;2016-02-08&nbsp;07:39:07&quot;</td><td>&quot;2016-02-08&nbsp;08:09:07&quot;</td><td>39.627781</td><td>-84.188354</td><td>0.01</td><td>&quot;Accident&nbsp;on&nbsp;McEwen&nbsp;Rd&nbsp;at&nbsp;OH-72…</td><td>&quot;Miamisburg&nbsp;Centerville&nbsp;Rd&quot;</td><td>&quot;Dayton&quot;</td><td>&quot;Montgomery&quot;</td><td>&quot;OH&quot;</td><td>&quot;45459&quot;</td><td>&quot;US/Eastern&quot;</td><td>36.0</td><td>33.3</td><td>89.0</td><td>29.65</td><td>6.0</td><td>&quot;SW&quot;</td><td>3.5</td><td>0.008407</td><td>&quot;Mostly&nbsp;Cloudy&quot;</td><td>0</td><td>0</td><td>1</td><td>&quot;Day&quot;</td></tr><tr><td>&quot;Source2&quot;</td><td>3</td><td>&quot;2016-02-08&nbsp;07:44:26&quot;</td><td>&quot;2016-02-08&nbsp;08:14:26&quot;</td><td>40.10059</td><td>-82.925194</td><td>0.01</td><td>&quot;Accident&nbsp;on&nbsp;I-270&nbsp;Outerbelt&nbsp;No…</td><td>&quot;Westerville&nbsp;Rd&quot;</td><td>&quot;Westerville&quot;</td><td>&quot;Franklin&quot;</td><td>&quot;OH&quot;</td><td>&quot;43081&quot;</td><td>&quot;US/Eastern&quot;</td><td>37.9</td><td>35.5</td><td>97.0</td><td>29.63</td><td>7.0</td><td>&quot;SSW&quot;</td><td>3.5</td><td>0.03</td><td>&quot;Light&nbsp;Rain&quot;</td><td>0</td><td>0</td><td>0</td><td>&quot;Day&quot;</td></tr><tr><td>&quot;Source2&quot;</td><td>2</td><td>&quot;2016-02-08&nbsp;07:59:35&quot;</td><td>&quot;2016-02-08&nbsp;08:29:35&quot;</td><td>39.758274</td><td>-84.230507</td><td>0.0</td><td>&quot;Accident&nbsp;on&nbsp;Oakridge&nbsp;Dr&nbsp;at&nbsp;Woo…</td><td>&quot;N&nbsp;Woodward&nbsp;Ave&quot;</td><td>&quot;Dayton&quot;</td><td>&quot;Montgomery&quot;</td><td>&quot;OH&quot;</td><td>&quot;45417-2476&quot;</td><td>&quot;US/Eastern&quot;</td><td>34.0</td><td>31.0</td><td>100.0</td><td>29.66</td><td>7.0</td><td>&quot;WSW&quot;</td><td>3.5</td><td>0.008407</td><td>&quot;Overcast&quot;</td><td>0</td><td>0</td><td>0</td><td>&quot;Day&quot;</td></tr><tr><td>&quot;Source2&quot;</td><td>3</td><td>&quot;2016-02-08&nbsp;07:59:58&quot;</td><td>&quot;2016-02-08&nbsp;08:29:58&quot;</td><td>39.770382</td><td>-84.194901</td><td>0.01</td><td>&quot;Accident&nbsp;on&nbsp;I-75&nbsp;Southbound&nbsp;at…</td><td>&quot;N&nbsp;Main&nbsp;St&quot;</td><td>&quot;Dayton&quot;</td><td>&quot;Montgomery&quot;</td><td>&quot;OH&quot;</td><td>&quot;45405&quot;</td><td>&quot;US/Eastern&quot;</td><td>34.0</td><td>31.0</td><td>100.0</td><td>29.66</td><td>7.0</td><td>&quot;WSW&quot;</td><td>3.5</td><td>0.008407</td><td>&quot;Overcast&quot;</td><td>0</td><td>0</td><td>0</td><td>&quot;Day&quot;</td></tr><tr><td>&quot;Source2&quot;</td><td>2</td><td>&quot;2016-02-08&nbsp;08:00:40&quot;</td><td>&quot;2016-02-08&nbsp;08:30:40&quot;</td><td>39.778061</td><td>-84.172005</td><td>0.0</td><td>&quot;Accident&nbsp;on&nbsp;Notre&nbsp;Dame&nbsp;Ave&nbsp;at&nbsp;…</td><td>&quot;Notre&nbsp;Dame&nbsp;Ave&quot;</td><td>&quot;Dayton&quot;</td><td>&quot;Montgomery&quot;</td><td>&quot;OH&quot;</td><td>&quot;45404-1923&quot;</td><td>&quot;US/Eastern&quot;</td><td>33.3</td><td>58.251048</td><td>99.0</td><td>29.67</td><td>5.0</td><td>&quot;SW&quot;</td><td>1.2</td><td>0.008407</td><td>&quot;Mostly&nbsp;Cloudy&quot;</td><td>0</td><td>0</td><td>0</td><td>&quot;Day&quot;</td></tr><tr><td>&quot;Source2&quot;</td><td>3</td><td>&quot;2016-02-08&nbsp;08:10:04&quot;</td><td>&quot;2016-02-08&nbsp;08:40:04&quot;</td><td>40.10059</td><td>-82.925194</td><td>0.01</td><td>&quot;Right&nbsp;hand&nbsp;shoulder&nbsp;blocked&nbsp;du…</td><td>&quot;Westerville&nbsp;Rd&quot;</td><td>&quot;Westerville&quot;</td><td>&quot;Franklin&quot;</td><td>&quot;OH&quot;</td><td>&quot;43081&quot;</td><td>&quot;US/Eastern&quot;</td><td>37.4</td><td>33.8</td><td>100.0</td><td>29.62</td><td>3.0</td><td>&quot;SSW&quot;</td><td>4.6</td><td>0.02</td><td>&quot;Light&nbsp;Rain&quot;</td><td>0</td><td>0</td><td>0</td><td>&quot;Day&quot;</td></tr></tbody></table></div>"
      ],
      "text/plain": [
       "shape: (10, 27)\n",
       "┌─────────┬──────────┬────────────┬────────────┬───┬──────────┬──────────┬────────────┬────────────┐\n",
       "│ Source  ┆ Severity ┆ Start_Time ┆ End_Time   ┆ … ┆ Crossing ┆ Junction ┆ Traffic_Si ┆ Sunrise_Su │\n",
       "│ ---     ┆ ---      ┆ ---        ┆ ---        ┆   ┆ ---      ┆ ---      ┆ gnal       ┆ nset       │\n",
       "│ str     ┆ i64      ┆ str        ┆ str        ┆   ┆ i32      ┆ i32      ┆ ---        ┆ ---        │\n",
       "│         ┆          ┆            ┆            ┆   ┆          ┆          ┆ i32        ┆ str        │\n",
       "╞═════════╪══════════╪════════════╪════════════╪═══╪══════════╪══════════╪════════════╪════════════╡\n",
       "│ Source2 ┆ 3        ┆ 2016-02-08 ┆ 2016-02-08 ┆ … ┆ 0        ┆ 0        ┆ 0          ┆ Night      │\n",
       "│         ┆          ┆ 05:46:00   ┆ 11:00:00   ┆   ┆          ┆          ┆            ┆            │\n",
       "│ Source2 ┆ 2        ┆ 2016-02-08 ┆ 2016-02-08 ┆ … ┆ 0        ┆ 0        ┆ 0          ┆ Night      │\n",
       "│         ┆          ┆ 06:07:59   ┆ 06:37:59   ┆   ┆          ┆          ┆            ┆            │\n",
       "│ Source2 ┆ 2        ┆ 2016-02-08 ┆ 2016-02-08 ┆ … ┆ 0        ┆ 0        ┆ 1          ┆ Night      │\n",
       "│         ┆          ┆ 06:49:27   ┆ 07:19:27   ┆   ┆          ┆          ┆            ┆            │\n",
       "│ Source2 ┆ 3        ┆ 2016-02-08 ┆ 2016-02-08 ┆ … ┆ 0        ┆ 0        ┆ 0          ┆ Night      │\n",
       "│         ┆          ┆ 07:23:34   ┆ 07:53:34   ┆   ┆          ┆          ┆            ┆            │\n",
       "│ Source2 ┆ 2        ┆ 2016-02-08 ┆ 2016-02-08 ┆ … ┆ 0        ┆ 0        ┆ 1          ┆ Day        │\n",
       "│         ┆          ┆ 07:39:07   ┆ 08:09:07   ┆   ┆          ┆          ┆            ┆            │\n",
       "│ Source2 ┆ 3        ┆ 2016-02-08 ┆ 2016-02-08 ┆ … ┆ 0        ┆ 0        ┆ 0          ┆ Day        │\n",
       "│         ┆          ┆ 07:44:26   ┆ 08:14:26   ┆   ┆          ┆          ┆            ┆            │\n",
       "│ Source2 ┆ 2        ┆ 2016-02-08 ┆ 2016-02-08 ┆ … ┆ 0        ┆ 0        ┆ 0          ┆ Day        │\n",
       "│         ┆          ┆ 07:59:35   ┆ 08:29:35   ┆   ┆          ┆          ┆            ┆            │\n",
       "│ Source2 ┆ 3        ┆ 2016-02-08 ┆ 2016-02-08 ┆ … ┆ 0        ┆ 0        ┆ 0          ┆ Day        │\n",
       "│         ┆          ┆ 07:59:58   ┆ 08:29:58   ┆   ┆          ┆          ┆            ┆            │\n",
       "│ Source2 ┆ 2        ┆ 2016-02-08 ┆ 2016-02-08 ┆ … ┆ 0        ┆ 0        ┆ 0          ┆ Day        │\n",
       "│         ┆          ┆ 08:00:40   ┆ 08:30:40   ┆   ┆          ┆          ┆            ┆            │\n",
       "│ Source2 ┆ 3        ┆ 2016-02-08 ┆ 2016-02-08 ┆ … ┆ 0        ┆ 0        ┆ 0          ┆ Day        │\n",
       "│         ┆          ┆ 08:10:04   ┆ 08:40:04   ┆   ┆          ┆          ┆            ┆            │\n",
       "└─────────┴──────────┴────────────┴────────────┴───┴──────────┴──────────┴────────────┴────────────┘"
      ]
     },
     "execution_count": 24,
     "metadata": {},
     "output_type": "execute_result"
    }
   ],
   "source": [
    "# List of columns to fill null values with mean\n",
    "cols_to_fill = ['Wind_Chill(F)', 'Wind_Speed(mph)', 'Visibility(mi)', 'Precipitation(in)', 'Temperature(F)', 'Humidity(%)', 'Pressure(in)']\n",
    "\n",
    "# Fill null values with the mean of the column\n",
    "df_drop = df_drop.with_columns([pl.col(col).fill_null(pl.col(col).mean()).alias(col) for col in cols_to_fill])\n",
    "df_drop.head(10)"
   ]
  },
  {
   "cell_type": "code",
   "execution_count": 25,
   "id": "5f5b6e1a-3a21-4268-98e3-e6bb7f2a1ca0",
   "metadata": {
    "colab": {
     "base_uri": "https://localhost:8080/"
    },
    "id": "5f5b6e1a-3a21-4268-98e3-e6bb7f2a1ca0",
    "outputId": "2ba29716-0bee-426c-bce7-ac091321cc0e"
   },
   "outputs": [
    {
     "name": "stdout",
     "output_type": "stream",
     "text": [
      "Null entries in Source : 0\n",
      "Null entries in Severity : 0\n",
      "Null entries in Start_Time : 0\n",
      "Null entries in End_Time : 0\n",
      "Null entries in Start_Lat : 0\n",
      "Null entries in Start_Lng : 0\n",
      "Null entries in Distance(mi) : 0\n",
      "Null entries in Description : 5\n",
      "Null entries in Street : 10869\n",
      "Null entries in City : 253\n",
      "Null entries in County : 0\n",
      "Null entries in State : 0\n",
      "Null entries in Zipcode : 1915\n",
      "Null entries in Timezone : 7808\n",
      "Null entries in Temperature(F) : 0\n",
      "Null entries in Wind_Chill(F) : 0\n",
      "Null entries in Humidity(%) : 0\n",
      "Null entries in Pressure(in) : 0\n",
      "Null entries in Visibility(mi) : 0\n",
      "Null entries in Wind_Direction : 175206\n",
      "Null entries in Wind_Speed(mph) : 0\n",
      "Null entries in Precipitation(in) : 0\n",
      "Null entries in Weather_Condition : 173459\n",
      "Null entries in Crossing : 0\n",
      "Null entries in Junction : 0\n",
      "Null entries in Traffic_Signal : 0\n",
      "Null entries in Sunrise_Sunset : 23246\n"
     ]
    }
   ],
   "source": [
    "cols = ['Source', 'Severity', 'Start_Time', 'End_Time', 'Start_Lat', 'Start_Lng', 'Distance(mi)', 'Description', 'Street','City', 'County', 'State',\n",
    "        'Zipcode', 'Timezone', 'Temperature(F)', 'Wind_Chill(F)','Humidity(%)', 'Pressure(in)', 'Visibility(mi)','Wind_Direction', 'Wind_Speed(mph)',\n",
    "        'Precipitation(in)', 'Weather_Condition', 'Crossing', 'Junction','Traffic_Signal', 'Sunrise_Sunset']\n",
    "for col in cols:\n",
    "    null_count = df_drop.select(pl.col(col).null_count())[0, 0]  # Get the count of nulls in the column\n",
    "    print(f\"Null entries in {col} : {null_count}\")"
   ]
  },
  {
   "cell_type": "code",
   "execution_count": 26,
   "id": "415f6931-ef93-4ab6-8342-72e451d4db8d",
   "metadata": {
    "colab": {
     "base_uri": "https://localhost:8080/",
     "height": 316
    },
    "id": "415f6931-ef93-4ab6-8342-72e451d4db8d",
    "outputId": "a1100423-696a-4365-c1a6-0f880ec0032e"
   },
   "outputs": [
    {
     "data": {
      "text/html": [
       "<div><style>\n",
       ".dataframe > thead > tr,\n",
       ".dataframe > tbody > tr {\n",
       "  text-align: right;\n",
       "  white-space: pre-wrap;\n",
       "}\n",
       "</style>\n",
       "<small>shape: (3, 27)</small><table border=\"1\" class=\"dataframe\"><thead><tr><th>Source</th><th>Severity</th><th>Start_Time</th><th>End_Time</th><th>Start_Lat</th><th>Start_Lng</th><th>Distance(mi)</th><th>Description</th><th>Street</th><th>City</th><th>County</th><th>State</th><th>Zipcode</th><th>Timezone</th><th>Temperature(F)</th><th>Wind_Chill(F)</th><th>Humidity(%)</th><th>Pressure(in)</th><th>Visibility(mi)</th><th>Wind_Direction</th><th>Wind_Speed(mph)</th><th>Precipitation(in)</th><th>Weather_Condition</th><th>Crossing</th><th>Junction</th><th>Traffic_Signal</th><th>Sunrise_Sunset</th></tr><tr><td>str</td><td>i64</td><td>str</td><td>str</td><td>f64</td><td>f64</td><td>f64</td><td>str</td><td>str</td><td>str</td><td>str</td><td>str</td><td>str</td><td>str</td><td>f64</td><td>f64</td><td>f64</td><td>f64</td><td>f64</td><td>str</td><td>f64</td><td>f64</td><td>str</td><td>i32</td><td>i32</td><td>i32</td><td>str</td></tr></thead><tbody><tr><td>&quot;Source2&quot;</td><td>3</td><td>&quot;2016-02-08&nbsp;05:46:00&quot;</td><td>&quot;2016-02-08&nbsp;11:00:00&quot;</td><td>39.865147</td><td>-84.058723</td><td>0.01</td><td>&quot;Right&nbsp;lane&nbsp;blocked&nbsp;due&nbsp;to&nbsp;acci…</td><td>&quot;I-70&nbsp;E&quot;</td><td>&quot;Dayton&quot;</td><td>&quot;Montgomery&quot;</td><td>&quot;OH&quot;</td><td>&quot;45424&quot;</td><td>&quot;US/Eastern&quot;</td><td>36.9</td><td>58.251048</td><td>91.0</td><td>29.68</td><td>10.0</td><td>&quot;Calm&quot;</td><td>7.68549</td><td>0.02</td><td>&quot;Light&nbsp;Rain&quot;</td><td>0</td><td>0</td><td>0</td><td>&quot;Night&quot;</td></tr><tr><td>&quot;Source2&quot;</td><td>2</td><td>&quot;2016-02-08&nbsp;06:07:59&quot;</td><td>&quot;2016-02-08&nbsp;06:37:59&quot;</td><td>39.928059</td><td>-82.831184</td><td>0.01</td><td>&quot;Accident&nbsp;on&nbsp;Brice&nbsp;Rd&nbsp;at&nbsp;Tussin…</td><td>&quot;Brice&nbsp;Rd&quot;</td><td>&quot;Reynoldsburg&quot;</td><td>&quot;Franklin&quot;</td><td>&quot;OH&quot;</td><td>&quot;43068-3402&quot;</td><td>&quot;US/Eastern&quot;</td><td>37.9</td><td>58.251048</td><td>100.0</td><td>29.65</td><td>10.0</td><td>&quot;Calm&quot;</td><td>7.68549</td><td>0.0</td><td>&quot;Light&nbsp;Rain&quot;</td><td>0</td><td>0</td><td>0</td><td>&quot;Night&quot;</td></tr><tr><td>&quot;Source2&quot;</td><td>2</td><td>&quot;2016-02-08&nbsp;06:49:27&quot;</td><td>&quot;2016-02-08&nbsp;07:19:27&quot;</td><td>39.063148</td><td>-84.032608</td><td>0.01</td><td>&quot;Accident&nbsp;on&nbsp;OH-32&nbsp;State&nbsp;Route&nbsp;…</td><td>&quot;State&nbsp;Route&nbsp;32&quot;</td><td>&quot;Williamsburg&quot;</td><td>&quot;Clermont&quot;</td><td>&quot;OH&quot;</td><td>&quot;45176&quot;</td><td>&quot;US/Eastern&quot;</td><td>36.0</td><td>33.3</td><td>100.0</td><td>29.67</td><td>10.0</td><td>&quot;SW&quot;</td><td>3.5</td><td>0.008407</td><td>&quot;Overcast&quot;</td><td>0</td><td>0</td><td>1</td><td>&quot;Night&quot;</td></tr></tbody></table></div>"
      ],
      "text/plain": [
       "shape: (3, 27)\n",
       "┌─────────┬──────────┬────────────┬────────────┬───┬──────────┬──────────┬────────────┬────────────┐\n",
       "│ Source  ┆ Severity ┆ Start_Time ┆ End_Time   ┆ … ┆ Crossing ┆ Junction ┆ Traffic_Si ┆ Sunrise_Su │\n",
       "│ ---     ┆ ---      ┆ ---        ┆ ---        ┆   ┆ ---      ┆ ---      ┆ gnal       ┆ nset       │\n",
       "│ str     ┆ i64      ┆ str        ┆ str        ┆   ┆ i32      ┆ i32      ┆ ---        ┆ ---        │\n",
       "│         ┆          ┆            ┆            ┆   ┆          ┆          ┆ i32        ┆ str        │\n",
       "╞═════════╪══════════╪════════════╪════════════╪═══╪══════════╪══════════╪════════════╪════════════╡\n",
       "│ Source2 ┆ 3        ┆ 2016-02-08 ┆ 2016-02-08 ┆ … ┆ 0        ┆ 0        ┆ 0          ┆ Night      │\n",
       "│         ┆          ┆ 05:46:00   ┆ 11:00:00   ┆   ┆          ┆          ┆            ┆            │\n",
       "│ Source2 ┆ 2        ┆ 2016-02-08 ┆ 2016-02-08 ┆ … ┆ 0        ┆ 0        ┆ 0          ┆ Night      │\n",
       "│         ┆          ┆ 06:07:59   ┆ 06:37:59   ┆   ┆          ┆          ┆            ┆            │\n",
       "│ Source2 ┆ 2        ┆ 2016-02-08 ┆ 2016-02-08 ┆ … ┆ 0        ┆ 0        ┆ 1          ┆ Night      │\n",
       "│         ┆          ┆ 06:49:27   ┆ 07:19:27   ┆   ┆          ┆          ┆            ┆            │\n",
       "└─────────┴──────────┴────────────┴────────────┴───┴──────────┴──────────┴────────────┴────────────┘"
      ]
     },
     "execution_count": 26,
     "metadata": {},
     "output_type": "execute_result"
    }
   ],
   "source": [
    "df_drop.head(3)"
   ]
  },
  {
   "cell_type": "code",
   "execution_count": 27,
   "id": "667184d8-de5c-477b-84f8-1298dfcc3e4a",
   "metadata": {
    "colab": {
     "base_uri": "https://localhost:8080/"
    },
    "id": "667184d8-de5c-477b-84f8-1298dfcc3e4a",
    "outputId": "4472f47b-9455-48d4-830b-a6b78803c3da"
   },
   "outputs": [
    {
     "name": "stdout",
     "output_type": "stream",
     "text": [
      "Invalid Start_Time entries:\n",
      "shape: (0, 27)\n",
      "┌────────┬──────────┬────────────┬──────────┬───┬──────────┬──────────┬──────────────┬─────────────┐\n",
      "│ Source ┆ Severity ┆ Start_Time ┆ End_Time ┆ … ┆ Crossing ┆ Junction ┆ Traffic_Sign ┆ Sunrise_Sun │\n",
      "│ ---    ┆ ---      ┆ ---        ┆ ---      ┆   ┆ ---      ┆ ---      ┆ al           ┆ set         │\n",
      "│ str    ┆ i64      ┆ str        ┆ str      ┆   ┆ i32      ┆ i32      ┆ ---          ┆ ---         │\n",
      "│        ┆          ┆            ┆          ┆   ┆          ┆          ┆ i32          ┆ str         │\n",
      "╞════════╪══════════╪════════════╪══════════╪═══╪══════════╪══════════╪══════════════╪═════════════╡\n",
      "└────────┴──────────┴────────────┴──────────┴───┴──────────┴──────────┴──────────────┴─────────────┘\n",
      "Invalid End_Time entries:\n",
      "shape: (0, 27)\n",
      "┌────────┬──────────┬────────────┬──────────┬───┬──────────┬──────────┬──────────────┬─────────────┐\n",
      "│ Source ┆ Severity ┆ Start_Time ┆ End_Time ┆ … ┆ Crossing ┆ Junction ┆ Traffic_Sign ┆ Sunrise_Sun │\n",
      "│ ---    ┆ ---      ┆ ---        ┆ ---      ┆   ┆ ---      ┆ ---      ┆ al           ┆ set         │\n",
      "│ str    ┆ i64      ┆ str        ┆ str      ┆   ┆ i32      ┆ i32      ┆ ---          ┆ ---         │\n",
      "│        ┆          ┆            ┆          ┆   ┆          ┆          ┆ i32          ┆ str         │\n",
      "╞════════╪══════════╪════════════╪══════════╪═══╪══════════╪══════════╪══════════════╪═════════════╡\n",
      "└────────┴──────────┴────────────┴──────────┴───┴──────────┴──────────┴──────────────┴─────────────┘\n"
     ]
    }
   ],
   "source": [
    "# Step 1: Clean the datetime strings to remove fractional seconds\n",
    "df_drop = df_drop.with_columns([\n",
    "    pl.col('Start_Time').str.replace(r'\\.\\d+', '').alias('Start_Time'),  # Remove anything after the seconds\n",
    "    pl.col('End_Time').str.replace(r'\\.\\d+', '').alias('End_Time')      # Remove anything after the seconds\n",
    "])\n",
    "\n",
    "# Step 2: Identify invalid datetime entries (optional but useful for debugging)\n",
    "invalid_start = df_drop.filter(~pl.col('Start_Time').str.strptime(pl.Datetime, '%Y-%m-%d %H:%M:%S', strict=True).is_not_null())\n",
    "invalid_end = df_drop.filter(~pl.col('End_Time').str.strptime(pl.Datetime, '%Y-%m-%d %H:%M:%S', strict=True).is_not_null())\n",
    "\n",
    "print(\"Invalid Start_Time entries:\")\n",
    "print(invalid_start)\n",
    "\n",
    "print(\"Invalid End_Time entries:\")\n",
    "print(invalid_end)\n",
    "\n",
    "# Step 3: Convert the cleaned time data into workable DateTime objects with strict=False\n",
    "df_drop = df_drop.with_columns([\n",
    "    pl.col('Start_Time').str.strptime(pl.Datetime, '%Y-%m-%d %H:%M:%S', strict=False).alias('Start_Time'),\n",
    "    pl.col('End_Time').str.strptime(pl.Datetime, '%Y-%m-%d %H:%M:%S', strict=False).alias('End_Time')\n",
    "])\n",
    "\n",
    "# Breaking the start time into usable independent features\n",
    "df_drop = df_drop.with_columns([\n",
    "    pl.col('Start_Time').dt.year().alias('Year'),\n",
    "    pl.col('Start_Time').dt.month().alias('Month'),\n",
    "    pl.col('Start_Time').dt.day().alias('Day'),\n",
    "    pl.col('Start_Time').dt.hour().alias('Time_S'),\n",
    "    pl.col('Start_Time').dt.weekday().alias('Weekday'),\n",
    "    (pl.col('End_Time') - pl.col('Start_Time')).dt.total_seconds().alias('Duration')\n",
    "])\n",
    "\n",
    "# Drop the original Start_Time and End_Time columns\n",
    "df_drop = df_drop.drop(['Start_Time', 'End_Time'])"
   ]
  },
  {
   "cell_type": "code",
   "execution_count": 28,
   "id": "d2cbfc92-cb81-4847-b962-a8b9cc24cfd4",
   "metadata": {
    "colab": {
     "base_uri": "https://localhost:8080/",
     "height": 845
    },
    "id": "d2cbfc92-cb81-4847-b962-a8b9cc24cfd4",
    "outputId": "80ff1e85-6178-4710-dd9e-7ae124f056e1"
   },
   "outputs": [
    {
     "data": {
      "text/html": [
       "<div><style>\n",
       ".dataframe > thead > tr,\n",
       ".dataframe > tbody > tr {\n",
       "  text-align: right;\n",
       "  white-space: pre-wrap;\n",
       "}\n",
       "</style>\n",
       "<small>shape: (15, 31)</small><table border=\"1\" class=\"dataframe\"><thead><tr><th>Source</th><th>Severity</th><th>Start_Lat</th><th>Start_Lng</th><th>Distance(mi)</th><th>Description</th><th>Street</th><th>City</th><th>County</th><th>State</th><th>Zipcode</th><th>Timezone</th><th>Temperature(F)</th><th>Wind_Chill(F)</th><th>Humidity(%)</th><th>Pressure(in)</th><th>Visibility(mi)</th><th>Wind_Direction</th><th>Wind_Speed(mph)</th><th>Precipitation(in)</th><th>Weather_Condition</th><th>Crossing</th><th>Junction</th><th>Traffic_Signal</th><th>Sunrise_Sunset</th><th>Year</th><th>Month</th><th>Day</th><th>Time_S</th><th>Weekday</th><th>Duration</th></tr><tr><td>str</td><td>i64</td><td>f64</td><td>f64</td><td>f64</td><td>str</td><td>str</td><td>str</td><td>str</td><td>str</td><td>str</td><td>str</td><td>f64</td><td>f64</td><td>f64</td><td>f64</td><td>f64</td><td>str</td><td>f64</td><td>f64</td><td>str</td><td>i32</td><td>i32</td><td>i32</td><td>str</td><td>i32</td><td>i8</td><td>i8</td><td>i8</td><td>i8</td><td>i64</td></tr></thead><tbody><tr><td>&quot;Source2&quot;</td><td>3</td><td>39.865147</td><td>-84.058723</td><td>0.01</td><td>&quot;Right&nbsp;lane&nbsp;blocked&nbsp;due&nbsp;to&nbsp;acci…</td><td>&quot;I-70&nbsp;E&quot;</td><td>&quot;Dayton&quot;</td><td>&quot;Montgomery&quot;</td><td>&quot;OH&quot;</td><td>&quot;45424&quot;</td><td>&quot;US/Eastern&quot;</td><td>36.9</td><td>58.251048</td><td>91.0</td><td>29.68</td><td>10.0</td><td>&quot;Calm&quot;</td><td>7.68549</td><td>0.02</td><td>&quot;Light&nbsp;Rain&quot;</td><td>0</td><td>0</td><td>0</td><td>&quot;Night&quot;</td><td>2016</td><td>2</td><td>8</td><td>5</td><td>1</td><td>18840</td></tr><tr><td>&quot;Source2&quot;</td><td>2</td><td>39.928059</td><td>-82.831184</td><td>0.01</td><td>&quot;Accident&nbsp;on&nbsp;Brice&nbsp;Rd&nbsp;at&nbsp;Tussin…</td><td>&quot;Brice&nbsp;Rd&quot;</td><td>&quot;Reynoldsburg&quot;</td><td>&quot;Franklin&quot;</td><td>&quot;OH&quot;</td><td>&quot;43068-3402&quot;</td><td>&quot;US/Eastern&quot;</td><td>37.9</td><td>58.251048</td><td>100.0</td><td>29.65</td><td>10.0</td><td>&quot;Calm&quot;</td><td>7.68549</td><td>0.0</td><td>&quot;Light&nbsp;Rain&quot;</td><td>0</td><td>0</td><td>0</td><td>&quot;Night&quot;</td><td>2016</td><td>2</td><td>8</td><td>6</td><td>1</td><td>1800</td></tr><tr><td>&quot;Source2&quot;</td><td>2</td><td>39.063148</td><td>-84.032608</td><td>0.01</td><td>&quot;Accident&nbsp;on&nbsp;OH-32&nbsp;State&nbsp;Route&nbsp;…</td><td>&quot;State&nbsp;Route&nbsp;32&quot;</td><td>&quot;Williamsburg&quot;</td><td>&quot;Clermont&quot;</td><td>&quot;OH&quot;</td><td>&quot;45176&quot;</td><td>&quot;US/Eastern&quot;</td><td>36.0</td><td>33.3</td><td>100.0</td><td>29.67</td><td>10.0</td><td>&quot;SW&quot;</td><td>3.5</td><td>0.008407</td><td>&quot;Overcast&quot;</td><td>0</td><td>0</td><td>1</td><td>&quot;Night&quot;</td><td>2016</td><td>2</td><td>8</td><td>6</td><td>1</td><td>1800</td></tr><tr><td>&quot;Source2&quot;</td><td>3</td><td>39.747753</td><td>-84.205582</td><td>0.01</td><td>&quot;Accident&nbsp;on&nbsp;I-75&nbsp;Southbound&nbsp;at…</td><td>&quot;I-75&nbsp;S&quot;</td><td>&quot;Dayton&quot;</td><td>&quot;Montgomery&quot;</td><td>&quot;OH&quot;</td><td>&quot;45417&quot;</td><td>&quot;US/Eastern&quot;</td><td>35.1</td><td>31.0</td><td>96.0</td><td>29.64</td><td>9.0</td><td>&quot;SW&quot;</td><td>4.6</td><td>0.008407</td><td>&quot;Mostly&nbsp;Cloudy&quot;</td><td>0</td><td>0</td><td>0</td><td>&quot;Night&quot;</td><td>2016</td><td>2</td><td>8</td><td>7</td><td>1</td><td>1800</td></tr><tr><td>&quot;Source2&quot;</td><td>2</td><td>39.627781</td><td>-84.188354</td><td>0.01</td><td>&quot;Accident&nbsp;on&nbsp;McEwen&nbsp;Rd&nbsp;at&nbsp;OH-72…</td><td>&quot;Miamisburg&nbsp;Centerville&nbsp;Rd&quot;</td><td>&quot;Dayton&quot;</td><td>&quot;Montgomery&quot;</td><td>&quot;OH&quot;</td><td>&quot;45459&quot;</td><td>&quot;US/Eastern&quot;</td><td>36.0</td><td>33.3</td><td>89.0</td><td>29.65</td><td>6.0</td><td>&quot;SW&quot;</td><td>3.5</td><td>0.008407</td><td>&quot;Mostly&nbsp;Cloudy&quot;</td><td>0</td><td>0</td><td>1</td><td>&quot;Day&quot;</td><td>2016</td><td>2</td><td>8</td><td>7</td><td>1</td><td>1800</td></tr><tr><td>&hellip;</td><td>&hellip;</td><td>&hellip;</td><td>&hellip;</td><td>&hellip;</td><td>&hellip;</td><td>&hellip;</td><td>&hellip;</td><td>&hellip;</td><td>&hellip;</td><td>&hellip;</td><td>&hellip;</td><td>&hellip;</td><td>&hellip;</td><td>&hellip;</td><td>&hellip;</td><td>&hellip;</td><td>&hellip;</td><td>&hellip;</td><td>&hellip;</td><td>&hellip;</td><td>&hellip;</td><td>&hellip;</td><td>&hellip;</td><td>&hellip;</td><td>&hellip;</td><td>&hellip;</td><td>&hellip;</td><td>&hellip;</td><td>&hellip;</td><td>&hellip;</td></tr><tr><td>&quot;Source2&quot;</td><td>3</td><td>39.952812</td><td>-83.119293</td><td>0.01</td><td>&quot;Accident&nbsp;on&nbsp;I-270&nbsp;Outerbelt&nbsp;No…</td><td>&quot;Outerbelt&nbsp;S&quot;</td><td>&quot;Columbus&quot;</td><td>&quot;Franklin&quot;</td><td>&quot;OH&quot;</td><td>&quot;43228&quot;</td><td>&quot;US/Eastern&quot;</td><td>35.6</td><td>30.7</td><td>93.0</td><td>29.64</td><td>5.0</td><td>&quot;WNW&quot;</td><td>5.8</td><td>0.008407</td><td>&quot;Rain&quot;</td><td>1</td><td>1</td><td>0</td><td>&quot;Day&quot;</td><td>2016</td><td>2</td><td>8</td><td>8</td><td>1</td><td>1800</td></tr><tr><td>&quot;Source2&quot;</td><td>3</td><td>39.932709</td><td>-82.83091</td><td>0.01</td><td>&quot;One&nbsp;lane&nbsp;blocked&nbsp;due&nbsp;to&nbsp;accide…</td><td>&quot;I-70&nbsp;E&quot;</td><td>&quot;Reynoldsburg&quot;</td><td>&quot;Franklin&quot;</td><td>&quot;OH&quot;</td><td>&quot;43068&quot;</td><td>&quot;US/Eastern&quot;</td><td>37.4</td><td>33.8</td><td>100.0</td><td>29.62</td><td>3.0</td><td>&quot;SSW&quot;</td><td>4.6</td><td>0.02</td><td>&quot;Light&nbsp;Rain&quot;</td><td>0</td><td>0</td><td>0</td><td>&quot;Day&quot;</td><td>2016</td><td>2</td><td>8</td><td>8</td><td>1</td><td>1800</td></tr><tr><td>&quot;Source2&quot;</td><td>2</td><td>39.737633</td><td>-84.149933</td><td>0.0</td><td>&quot;Accident&nbsp;on&nbsp;Revere&nbsp;Ave&nbsp;at&nbsp;Wate…</td><td>&quot;Watervliet&nbsp;Ave&quot;</td><td>&quot;Dayton&quot;</td><td>&quot;Montgomery&quot;</td><td>&quot;OH&quot;</td><td>&quot;45420-1863&quot;</td><td>&quot;US/Eastern&quot;</td><td>33.8</td><td>58.251048</td><td>100.0</td><td>29.63</td><td>3.0</td><td>&quot;SW&quot;</td><td>2.3</td><td>0.008407</td><td>&quot;Overcast&quot;</td><td>0</td><td>0</td><td>0</td><td>&quot;Day&quot;</td><td>2016</td><td>2</td><td>8</td><td>8</td><td>1</td><td>1800</td></tr><tr><td>&quot;Source2&quot;</td><td>2</td><td>39.79076</td><td>-84.241547</td><td>0.01</td><td>&quot;Accident&nbsp;on&nbsp;Salem&nbsp;Ave&nbsp;at&nbsp;Hillc…</td><td>&quot;Salem&nbsp;Ave&quot;</td><td>&quot;Dayton&quot;</td><td>&quot;Montgomery&quot;</td><td>&quot;OH&quot;</td><td>&quot;45406-2708&quot;</td><td>&quot;US/Eastern&quot;</td><td>36.0</td><td>31.1</td><td>89.0</td><td>29.65</td><td>10.0</td><td>&quot;NW&quot;</td><td>5.8</td><td>0.008407</td><td>&quot;Mostly&nbsp;Cloudy&quot;</td><td>0</td><td>0</td><td>1</td><td>&quot;Day&quot;</td><td>2016</td><td>2</td><td>8</td><td>8</td><td>1</td><td>1800</td></tr><tr><td>&quot;Source2&quot;</td><td>2</td><td>39.972038</td><td>-82.913521</td><td>0.01</td><td>&quot;Accident&nbsp;on&nbsp;OH-16&nbsp;Broad&nbsp;St&nbsp;at&nbsp;…</td><td>&quot;E&nbsp;Broad&nbsp;St&quot;</td><td>&quot;Columbus&quot;</td><td>&quot;Franklin&quot;</td><td>&quot;OH&quot;</td><td>&quot;43213-1006&quot;</td><td>&quot;US/Eastern&quot;</td><td>37.4</td><td>33.8</td><td>100.0</td><td>29.62</td><td>3.0</td><td>&quot;SSW&quot;</td><td>4.6</td><td>0.02</td><td>&quot;Light&nbsp;Rain&quot;</td><td>0</td><td>0</td><td>1</td><td>&quot;Day&quot;</td><td>2016</td><td>2</td><td>8</td><td>8</td><td>1</td><td>1800</td></tr></tbody></table></div>"
      ],
      "text/plain": [
       "shape: (15, 31)\n",
       "┌─────────┬──────────┬───────────┬────────────┬───┬─────┬────────┬─────────┬──────────┐\n",
       "│ Source  ┆ Severity ┆ Start_Lat ┆ Start_Lng  ┆ … ┆ Day ┆ Time_S ┆ Weekday ┆ Duration │\n",
       "│ ---     ┆ ---      ┆ ---       ┆ ---        ┆   ┆ --- ┆ ---    ┆ ---     ┆ ---      │\n",
       "│ str     ┆ i64      ┆ f64       ┆ f64        ┆   ┆ i8  ┆ i8     ┆ i8      ┆ i64      │\n",
       "╞═════════╪══════════╪═══════════╪════════════╪═══╪═════╪════════╪═════════╪══════════╡\n",
       "│ Source2 ┆ 3        ┆ 39.865147 ┆ -84.058723 ┆ … ┆ 8   ┆ 5      ┆ 1       ┆ 18840    │\n",
       "│ Source2 ┆ 2        ┆ 39.928059 ┆ -82.831184 ┆ … ┆ 8   ┆ 6      ┆ 1       ┆ 1800     │\n",
       "│ Source2 ┆ 2        ┆ 39.063148 ┆ -84.032608 ┆ … ┆ 8   ┆ 6      ┆ 1       ┆ 1800     │\n",
       "│ Source2 ┆ 3        ┆ 39.747753 ┆ -84.205582 ┆ … ┆ 8   ┆ 7      ┆ 1       ┆ 1800     │\n",
       "│ Source2 ┆ 2        ┆ 39.627781 ┆ -84.188354 ┆ … ┆ 8   ┆ 7      ┆ 1       ┆ 1800     │\n",
       "│ …       ┆ …        ┆ …         ┆ …          ┆ … ┆ …   ┆ …      ┆ …       ┆ …        │\n",
       "│ Source2 ┆ 3        ┆ 39.952812 ┆ -83.119293 ┆ … ┆ 8   ┆ 8      ┆ 1       ┆ 1800     │\n",
       "│ Source2 ┆ 3        ┆ 39.932709 ┆ -82.83091  ┆ … ┆ 8   ┆ 8      ┆ 1       ┆ 1800     │\n",
       "│ Source2 ┆ 2        ┆ 39.737633 ┆ -84.149933 ┆ … ┆ 8   ┆ 8      ┆ 1       ┆ 1800     │\n",
       "│ Source2 ┆ 2        ┆ 39.79076  ┆ -84.241547 ┆ … ┆ 8   ┆ 8      ┆ 1       ┆ 1800     │\n",
       "│ Source2 ┆ 2        ┆ 39.972038 ┆ -82.913521 ┆ … ┆ 8   ┆ 8      ┆ 1       ┆ 1800     │\n",
       "└─────────┴──────────┴───────────┴────────────┴───┴─────┴────────┴─────────┴──────────┘"
      ]
     },
     "execution_count": 28,
     "metadata": {},
     "output_type": "execute_result"
    }
   ],
   "source": [
    "df_drop.head(15)"
   ]
  },
  {
   "cell_type": "code",
   "execution_count": 29,
   "id": "ce0cd205-0a81-4711-89af-0097c7e2a48f",
   "metadata": {
    "colab": {
     "base_uri": "https://localhost:8080/"
    },
    "id": "ce0cd205-0a81-4711-89af-0097c7e2a48f",
    "outputId": "679a6e8f-b0d4-4f74-9ffc-d0f9242be4e7"
   },
   "outputs": [
    {
     "name": "stdout",
     "output_type": "stream",
     "text": [
      "Null entries in Source : 0\n",
      "Null entries in Severity : 0\n",
      "Null entries in Start_Lat : 0\n",
      "Null entries in Start_Lng : 0\n",
      "Null entries in Distance(mi) : 0\n",
      "Null entries in Description : 5\n",
      "Null entries in Street : 10869\n",
      "Null entries in City : 253\n",
      "Null entries in County : 0\n",
      "Null entries in State : 0\n",
      "Null entries in Zipcode : 1915\n",
      "Null entries in Timezone : 7808\n",
      "Null entries in Temperature(F) : 0\n",
      "Null entries in Wind_Chill(F) : 0\n",
      "Null entries in Humidity(%) : 0\n",
      "Null entries in Pressure(in) : 0\n",
      "Null entries in Visibility(mi) : 0\n",
      "Null entries in Wind_Direction : 175206\n",
      "Null entries in Wind_Speed(mph) : 0\n",
      "Null entries in Precipitation(in) : 0\n",
      "Null entries in Weather_Condition : 173459\n",
      "Null entries in Crossing : 0\n",
      "Null entries in Junction : 0\n",
      "Null entries in Traffic_Signal : 0\n",
      "Null entries in Sunrise_Sunset : 23246\n",
      "Null entries in Year : 0\n",
      "Null entries in Month : 0\n",
      "Null entries in Day : 0\n",
      "Null entries in Time_S : 0\n",
      "Null entries in Weekday : 0\n",
      "Null entries in Duration : 0\n"
     ]
    }
   ],
   "source": [
    "cols = ['Source', 'Severity', 'Start_Lat', 'Start_Lng', 'Distance(mi)', 'Description', 'Street','City', 'County', 'State', 'Zipcode', 'Timezone',\n",
    "        'Temperature(F)', 'Wind_Chill(F)','Humidity(%)', 'Pressure(in)', 'Visibility(mi)','Wind_Direction', 'Wind_Speed(mph)','Precipitation(in)',\n",
    "        'Weather_Condition', 'Crossing', 'Junction','Traffic_Signal', 'Sunrise_Sunset', 'Year', 'Month', 'Day', 'Time_S', 'Weekday', 'Duration']\n",
    "for col in cols:\n",
    "    null_count = df_drop.select(pl.col(col).null_count())[0, 0]  # Get the count of nulls in the column\n",
    "    print(f\"Null entries in {col} : {null_count}\")"
   ]
  },
  {
   "cell_type": "code",
   "execution_count": 30,
   "id": "27887950-5c37-47ff-9292-ddd3620b5bd6",
   "metadata": {
    "colab": {
     "base_uri": "https://localhost:8080/"
    },
    "id": "27887950-5c37-47ff-9292-ddd3620b5bd6",
    "outputId": "a213f9b6-e972-410c-bde9-52aa26b39ef0"
   },
   "outputs": [
    {
     "data": {
      "text/plain": [
       "31"
      ]
     },
     "execution_count": 30,
     "metadata": {},
     "output_type": "execute_result"
    }
   ],
   "source": [
    "df_drop.width"
   ]
  },
  {
   "cell_type": "code",
   "execution_count": 31,
   "id": "1c7730a3-cd12-4e3e-a416-91fbba8f21f6",
   "metadata": {
    "colab": {
     "base_uri": "https://localhost:8080/"
    },
    "id": "1c7730a3-cd12-4e3e-a416-91fbba8f21f6",
    "outputId": "450a6ea0-d831-4e11-a851-183f2ee14236"
   },
   "outputs": [
    {
     "data": {
      "text/plain": [
       "7728394"
      ]
     },
     "execution_count": 31,
     "metadata": {},
     "output_type": "execute_result"
    }
   ],
   "source": [
    "df_drop.height"
   ]
  },
  {
   "cell_type": "code",
   "execution_count": 32,
   "id": "c6ac7059-e2eb-4f3a-b922-c4db74446135",
   "metadata": {
    "id": "c6ac7059-e2eb-4f3a-b922-c4db74446135"
   },
   "outputs": [],
   "source": [
    "# Filtering out rows where 'Weather_Condition' or 'Wind_Direction' are null\n",
    "df_drop = df_drop.filter(~pl.col('Weather_Condition').is_null() | ~pl.col('Wind_Direction').is_null())"
   ]
  },
  {
   "cell_type": "code",
   "execution_count": 33,
   "id": "8ee643e2-4bb4-4cbd-8b99-8e1f0f918acd",
   "metadata": {
    "colab": {
     "base_uri": "https://localhost:8080/"
    },
    "id": "8ee643e2-4bb4-4cbd-8b99-8e1f0f918acd",
    "outputId": "f3b91843-bb71-4cef-c0dd-f3da5631240d"
   },
   "outputs": [
    {
     "data": {
      "text/plain": [
       "7593604"
      ]
     },
     "execution_count": 33,
     "metadata": {},
     "output_type": "execute_result"
    }
   ],
   "source": [
    "df_drop.height"
   ]
  },
  {
   "cell_type": "code",
   "execution_count": 34,
   "id": "4f8f16bc-8cd1-48e6-8a66-8c6296e9fa16",
   "metadata": {
    "colab": {
     "base_uri": "https://localhost:8080/"
    },
    "id": "4f8f16bc-8cd1-48e6-8a66-8c6296e9fa16",
    "outputId": "ebd6b460-de1e-4fdd-cf58-3288afa854d4"
   },
   "outputs": [
    {
     "name": "stdout",
     "output_type": "stream",
     "text": [
      "['ESE', 'NNE', 'SSW', 'NNW', None, 'E', 'NW', 'SW', 'WSW', 'CALM', 'Calm', 'West', 'N', 'ENE', 'South', 'North', 'VAR', 'W', 'WNW', 'NE', 'S', 'East', 'SSE', 'SE', 'Variable']\n"
     ]
    }
   ],
   "source": [
    "unique_values = df_drop[\"Wind_Direction\"].unique()\n",
    "print(unique_values.to_list())"
   ]
  },
  {
   "cell_type": "code",
   "execution_count": 35,
   "id": "ad1af222-a7db-4015-9a67-a76de820854f",
   "metadata": {
    "colab": {
     "base_uri": "https://localhost:8080/",
     "height": 316
    },
    "id": "ad1af222-a7db-4015-9a67-a76de820854f",
    "outputId": "c6011a99-3424-4878-f173-2fcf992fb550"
   },
   "outputs": [
    {
     "data": {
      "text/html": [
       "<div><style>\n",
       ".dataframe > thead > tr,\n",
       ".dataframe > tbody > tr {\n",
       "  text-align: right;\n",
       "  white-space: pre-wrap;\n",
       "}\n",
       "</style>\n",
       "<small>shape: (3, 31)</small><table border=\"1\" class=\"dataframe\"><thead><tr><th>Source</th><th>Severity</th><th>Start_Lat</th><th>Start_Lng</th><th>Distance(mi)</th><th>Description</th><th>Street</th><th>City</th><th>County</th><th>State</th><th>Zipcode</th><th>Timezone</th><th>Temperature(F)</th><th>Wind_Chill(F)</th><th>Humidity(%)</th><th>Pressure(in)</th><th>Visibility(mi)</th><th>Wind_Direction</th><th>Wind_Speed(mph)</th><th>Precipitation(in)</th><th>Weather_Condition</th><th>Crossing</th><th>Junction</th><th>Traffic_Signal</th><th>Sunrise_Sunset</th><th>Year</th><th>Month</th><th>Day</th><th>Time_S</th><th>Weekday</th><th>Duration</th></tr><tr><td>str</td><td>i64</td><td>f64</td><td>f64</td><td>f64</td><td>str</td><td>str</td><td>str</td><td>str</td><td>str</td><td>str</td><td>str</td><td>f64</td><td>f64</td><td>f64</td><td>f64</td><td>f64</td><td>str</td><td>f64</td><td>f64</td><td>str</td><td>i32</td><td>i32</td><td>i32</td><td>str</td><td>i32</td><td>i8</td><td>i8</td><td>i8</td><td>i8</td><td>i64</td></tr></thead><tbody><tr><td>&quot;Source2&quot;</td><td>3</td><td>39.865147</td><td>-84.058723</td><td>0.01</td><td>&quot;Right&nbsp;lane&nbsp;blocked&nbsp;due&nbsp;to&nbsp;acci…</td><td>&quot;I-70&nbsp;E&quot;</td><td>&quot;Dayton&quot;</td><td>&quot;Montgomery&quot;</td><td>&quot;OH&quot;</td><td>&quot;45424&quot;</td><td>&quot;US/Eastern&quot;</td><td>36.9</td><td>58.251048</td><td>91.0</td><td>29.68</td><td>10.0</td><td>&quot;Calm&quot;</td><td>7.68549</td><td>0.02</td><td>&quot;Light&nbsp;Rain&quot;</td><td>0</td><td>0</td><td>0</td><td>&quot;Night&quot;</td><td>2016</td><td>2</td><td>8</td><td>5</td><td>1</td><td>18840</td></tr><tr><td>&quot;Source2&quot;</td><td>2</td><td>39.928059</td><td>-82.831184</td><td>0.01</td><td>&quot;Accident&nbsp;on&nbsp;Brice&nbsp;Rd&nbsp;at&nbsp;Tussin…</td><td>&quot;Brice&nbsp;Rd&quot;</td><td>&quot;Reynoldsburg&quot;</td><td>&quot;Franklin&quot;</td><td>&quot;OH&quot;</td><td>&quot;43068-3402&quot;</td><td>&quot;US/Eastern&quot;</td><td>37.9</td><td>58.251048</td><td>100.0</td><td>29.65</td><td>10.0</td><td>&quot;Calm&quot;</td><td>7.68549</td><td>0.0</td><td>&quot;Light&nbsp;Rain&quot;</td><td>0</td><td>0</td><td>0</td><td>&quot;Night&quot;</td><td>2016</td><td>2</td><td>8</td><td>6</td><td>1</td><td>1800</td></tr><tr><td>&quot;Source2&quot;</td><td>2</td><td>39.063148</td><td>-84.032608</td><td>0.01</td><td>&quot;Accident&nbsp;on&nbsp;OH-32&nbsp;State&nbsp;Route&nbsp;…</td><td>&quot;State&nbsp;Route&nbsp;32&quot;</td><td>&quot;Williamsburg&quot;</td><td>&quot;Clermont&quot;</td><td>&quot;OH&quot;</td><td>&quot;45176&quot;</td><td>&quot;US/Eastern&quot;</td><td>36.0</td><td>33.3</td><td>100.0</td><td>29.67</td><td>10.0</td><td>&quot;SW&quot;</td><td>3.5</td><td>0.008407</td><td>&quot;Overcast&quot;</td><td>0</td><td>0</td><td>1</td><td>&quot;Night&quot;</td><td>2016</td><td>2</td><td>8</td><td>6</td><td>1</td><td>1800</td></tr></tbody></table></div>"
      ],
      "text/plain": [
       "shape: (3, 31)\n",
       "┌─────────┬──────────┬───────────┬────────────┬───┬─────┬────────┬─────────┬──────────┐\n",
       "│ Source  ┆ Severity ┆ Start_Lat ┆ Start_Lng  ┆ … ┆ Day ┆ Time_S ┆ Weekday ┆ Duration │\n",
       "│ ---     ┆ ---      ┆ ---       ┆ ---        ┆   ┆ --- ┆ ---    ┆ ---     ┆ ---      │\n",
       "│ str     ┆ i64      ┆ f64       ┆ f64        ┆   ┆ i8  ┆ i8     ┆ i8      ┆ i64      │\n",
       "╞═════════╪══════════╪═══════════╪════════════╪═══╪═════╪════════╪═════════╪══════════╡\n",
       "│ Source2 ┆ 3        ┆ 39.865147 ┆ -84.058723 ┆ … ┆ 8   ┆ 5      ┆ 1       ┆ 18840    │\n",
       "│ Source2 ┆ 2        ┆ 39.928059 ┆ -82.831184 ┆ … ┆ 8   ┆ 6      ┆ 1       ┆ 1800     │\n",
       "│ Source2 ┆ 2        ┆ 39.063148 ┆ -84.032608 ┆ … ┆ 8   ┆ 6      ┆ 1       ┆ 1800     │\n",
       "└─────────┴──────────┴───────────┴────────────┴───┴─────┴────────┴─────────┴──────────┘"
      ]
     },
     "execution_count": 35,
     "metadata": {},
     "output_type": "execute_result"
    }
   ],
   "source": [
    "df_drop.head(3)"
   ]
  },
  {
   "cell_type": "code",
   "execution_count": 36,
   "id": "dcd65b83-1407-4f86-9922-cd993421655c",
   "metadata": {
    "id": "dcd65b83-1407-4f86-9922-cd993421655c"
   },
   "outputs": [],
   "source": [
    "#as we can see S means the same as South and N means the same as North and so on, hence cleaning this up\n",
    "df_drop = df_drop.with_columns(\n",
    "    pl.when(pl.col('Wind_Direction') == 'Calm').then(pl.lit('CALM'))\n",
    "    .when(pl.col('Wind_Direction') == 'North').then(pl.lit('N'))\n",
    "    .when(pl.col('Wind_Direction') == 'South').then(pl.lit('S'))\n",
    "    .when(pl.col('Wind_Direction') == 'East').then(pl.lit('E'))\n",
    "    .when(pl.col('Wind_Direction') == 'West').then(pl.lit('W'))\n",
    "    .when(pl.col('Wind_Direction') == 'Variable').then(pl.lit('VAR'))\n",
    "    .otherwise(pl.col('Wind_Direction'))  # Retain original value if no match\n",
    "    .alias('Wind_Direction')  # Rename back to 'Wind_Direction'\n",
    ")"
   ]
  },
  {
   "cell_type": "code",
   "execution_count": 37,
   "id": "4eda16d1-099c-402a-a853-f18d91ac4883",
   "metadata": {
    "colab": {
     "base_uri": "https://localhost:8080/"
    },
    "id": "4eda16d1-099c-402a-a853-f18d91ac4883",
    "outputId": "53a6723e-aba8-4b03-fedf-5d146f96102e"
   },
   "outputs": [
    {
     "name": "stdout",
     "output_type": "stream",
     "text": [
      "['N', 'CALM', 'VAR', 'WSW', 'W', 'SE', 'WNW', 'NNW', 'NW', 'NE', 'E', 'NNE', 'SSW', 'ESE', 'SW', 'SSE', None, 'ENE', 'S']\n"
     ]
    }
   ],
   "source": [
    "unique_values = df_drop[\"Wind_Direction\"].unique()\n",
    "print(unique_values.to_list())"
   ]
  },
  {
   "cell_type": "code",
   "execution_count": 38,
   "id": "3c05e067-aeb4-493c-b197-3464f3d17113",
   "metadata": {
    "id": "3c05e067-aeb4-493c-b197-3464f3d17113"
   },
   "outputs": [],
   "source": [
    "# Binning Time of Day\n",
    "df_drop = df_drop.with_columns(\n",
    "    pl.when(pl.col('Time_S').lt(6)).then(pl.lit('Early Morning'))\n",
    "    .when(pl.col('Time_S').lt(12)).then(pl.lit('Morning'))\n",
    "    .when(pl.col('Time_S').lt(18)).then(pl.lit('Afternoon'))\n",
    "    .when(pl.col('Time_S').lt(24)).then(pl.lit('Evening'))\n",
    "    .otherwise(pl.lit('Unknown')).alias('TimeofDay')\n",
    ")"
   ]
  },
  {
   "cell_type": "code",
   "execution_count": 39,
   "id": "74e1e8d4-a30c-4926-8c7b-4a7da5762a9b",
   "metadata": {
    "colab": {
     "base_uri": "https://localhost:8080/"
    },
    "id": "74e1e8d4-a30c-4926-8c7b-4a7da5762a9b",
    "outputId": "30d9ef23-1175-4bcc-b16b-273d104cb505"
   },
   "outputs": [
    {
     "name": "stdout",
     "output_type": "stream",
     "text": [
      "shape: (0, 32)\n",
      "┌────────┬──────────┬───────────┬───────────┬───┬────────┬─────────┬──────────┬───────────┐\n",
      "│ Source ┆ Severity ┆ Start_Lat ┆ Start_Lng ┆ … ┆ Time_S ┆ Weekday ┆ Duration ┆ TimeofDay │\n",
      "│ ---    ┆ ---      ┆ ---       ┆ ---       ┆   ┆ ---    ┆ ---     ┆ ---      ┆ ---       │\n",
      "│ str    ┆ i64      ┆ f64       ┆ f64       ┆   ┆ i8     ┆ i8      ┆ i64      ┆ str       │\n",
      "╞════════╪══════════╪═══════════╪═══════════╪═══╪════════╪═════════╪══════════╪═══════════╡\n",
      "└────────┴──────────┴───────────┴───────────┴───┴────────┴─────────┴──────────┴───────────┘\n"
     ]
    }
   ],
   "source": [
    "result = df_drop.filter(pl.col('TimeofDay') == 'Unknown')\n",
    "print(result)"
   ]
  },
  {
   "cell_type": "code",
   "execution_count": 40,
   "id": "06d5fe3c-b2fa-4e9c-84fa-a29220ab72f7",
   "metadata": {
    "id": "06d5fe3c-b2fa-4e9c-84fa-a29220ab72f7"
   },
   "outputs": [],
   "source": [
    "# Binning Seasons\n",
    "df_drop = df_drop.with_columns(\n",
    "    pl.when(pl.col('Month').is_in([12, 1, 2])).then(pl.lit('Winter'))\n",
    "    .when(pl.col('Month').is_in([3, 4, 5])).then(pl.lit('Spring'))\n",
    "    .when(pl.col('Month').is_in([6, 7, 8])).then(pl.lit('Summer'))\n",
    "    .when(pl.col('Month').is_in([9, 10, 11])).then(pl.lit('Autumn'))\n",
    "    .otherwise(pl.lit('Unknown')).alias('Season')\n",
    ")"
   ]
  },
  {
   "cell_type": "code",
   "execution_count": 41,
   "id": "b3d4f10e-3f8b-4ced-8a9b-7ca2385d9bf4",
   "metadata": {
    "colab": {
     "base_uri": "https://localhost:8080/"
    },
    "id": "b3d4f10e-3f8b-4ced-8a9b-7ca2385d9bf4",
    "outputId": "d85f2ff9-540c-4813-d80d-abe249d31b1b"
   },
   "outputs": [
    {
     "name": "stdout",
     "output_type": "stream",
     "text": [
      "shape: (0, 33)\n",
      "┌────────┬──────────┬───────────┬───────────┬───┬─────────┬──────────┬───────────┬────────┐\n",
      "│ Source ┆ Severity ┆ Start_Lat ┆ Start_Lng ┆ … ┆ Weekday ┆ Duration ┆ TimeofDay ┆ Season │\n",
      "│ ---    ┆ ---      ┆ ---       ┆ ---       ┆   ┆ ---     ┆ ---      ┆ ---       ┆ ---    │\n",
      "│ str    ┆ i64      ┆ f64       ┆ f64       ┆   ┆ i8      ┆ i64      ┆ str       ┆ str    │\n",
      "╞════════╪══════════╪═══════════╪═══════════╪═══╪═════════╪══════════╪═══════════╪════════╡\n",
      "└────────┴──────────┴───────────┴───────────┴───┴─────────┴──────────┴───────────┴────────┘\n"
     ]
    }
   ],
   "source": [
    "result = df_drop.filter(pl.col('Season') == 'Unknown')\n",
    "print(result)"
   ]
  },
  {
   "cell_type": "code",
   "execution_count": 42,
   "id": "5f8d548a-dcb6-402e-80ef-2bbbdefe190f",
   "metadata": {
    "colab": {
     "base_uri": "https://localhost:8080/",
     "height": 316
    },
    "id": "5f8d548a-dcb6-402e-80ef-2bbbdefe190f",
    "outputId": "ca05617b-b3c6-4b9e-c585-53d7c746979e"
   },
   "outputs": [
    {
     "data": {
      "text/html": [
       "<div><style>\n",
       ".dataframe > thead > tr,\n",
       ".dataframe > tbody > tr {\n",
       "  text-align: right;\n",
       "  white-space: pre-wrap;\n",
       "}\n",
       "</style>\n",
       "<small>shape: (3, 33)</small><table border=\"1\" class=\"dataframe\"><thead><tr><th>Source</th><th>Severity</th><th>Start_Lat</th><th>Start_Lng</th><th>Distance(mi)</th><th>Description</th><th>Street</th><th>City</th><th>County</th><th>State</th><th>Zipcode</th><th>Timezone</th><th>Temperature(F)</th><th>Wind_Chill(F)</th><th>Humidity(%)</th><th>Pressure(in)</th><th>Visibility(mi)</th><th>Wind_Direction</th><th>Wind_Speed(mph)</th><th>Precipitation(in)</th><th>Weather_Condition</th><th>Crossing</th><th>Junction</th><th>Traffic_Signal</th><th>Sunrise_Sunset</th><th>Year</th><th>Month</th><th>Day</th><th>Time_S</th><th>Weekday</th><th>Duration</th><th>TimeofDay</th><th>Season</th></tr><tr><td>str</td><td>i64</td><td>f64</td><td>f64</td><td>f64</td><td>str</td><td>str</td><td>str</td><td>str</td><td>str</td><td>str</td><td>str</td><td>f64</td><td>f64</td><td>f64</td><td>f64</td><td>f64</td><td>str</td><td>f64</td><td>f64</td><td>str</td><td>i32</td><td>i32</td><td>i32</td><td>str</td><td>i32</td><td>i8</td><td>i8</td><td>i8</td><td>i8</td><td>i64</td><td>str</td><td>str</td></tr></thead><tbody><tr><td>&quot;Source2&quot;</td><td>3</td><td>39.865147</td><td>-84.058723</td><td>0.01</td><td>&quot;Right&nbsp;lane&nbsp;blocked&nbsp;due&nbsp;to&nbsp;acci…</td><td>&quot;I-70&nbsp;E&quot;</td><td>&quot;Dayton&quot;</td><td>&quot;Montgomery&quot;</td><td>&quot;OH&quot;</td><td>&quot;45424&quot;</td><td>&quot;US/Eastern&quot;</td><td>36.9</td><td>58.251048</td><td>91.0</td><td>29.68</td><td>10.0</td><td>&quot;CALM&quot;</td><td>7.68549</td><td>0.02</td><td>&quot;Light&nbsp;Rain&quot;</td><td>0</td><td>0</td><td>0</td><td>&quot;Night&quot;</td><td>2016</td><td>2</td><td>8</td><td>5</td><td>1</td><td>18840</td><td>&quot;Early&nbsp;Morning&quot;</td><td>&quot;Winter&quot;</td></tr><tr><td>&quot;Source2&quot;</td><td>2</td><td>39.928059</td><td>-82.831184</td><td>0.01</td><td>&quot;Accident&nbsp;on&nbsp;Brice&nbsp;Rd&nbsp;at&nbsp;Tussin…</td><td>&quot;Brice&nbsp;Rd&quot;</td><td>&quot;Reynoldsburg&quot;</td><td>&quot;Franklin&quot;</td><td>&quot;OH&quot;</td><td>&quot;43068-3402&quot;</td><td>&quot;US/Eastern&quot;</td><td>37.9</td><td>58.251048</td><td>100.0</td><td>29.65</td><td>10.0</td><td>&quot;CALM&quot;</td><td>7.68549</td><td>0.0</td><td>&quot;Light&nbsp;Rain&quot;</td><td>0</td><td>0</td><td>0</td><td>&quot;Night&quot;</td><td>2016</td><td>2</td><td>8</td><td>6</td><td>1</td><td>1800</td><td>&quot;Morning&quot;</td><td>&quot;Winter&quot;</td></tr><tr><td>&quot;Source2&quot;</td><td>2</td><td>39.063148</td><td>-84.032608</td><td>0.01</td><td>&quot;Accident&nbsp;on&nbsp;OH-32&nbsp;State&nbsp;Route&nbsp;…</td><td>&quot;State&nbsp;Route&nbsp;32&quot;</td><td>&quot;Williamsburg&quot;</td><td>&quot;Clermont&quot;</td><td>&quot;OH&quot;</td><td>&quot;45176&quot;</td><td>&quot;US/Eastern&quot;</td><td>36.0</td><td>33.3</td><td>100.0</td><td>29.67</td><td>10.0</td><td>&quot;SW&quot;</td><td>3.5</td><td>0.008407</td><td>&quot;Overcast&quot;</td><td>0</td><td>0</td><td>1</td><td>&quot;Night&quot;</td><td>2016</td><td>2</td><td>8</td><td>6</td><td>1</td><td>1800</td><td>&quot;Morning&quot;</td><td>&quot;Winter&quot;</td></tr></tbody></table></div>"
      ],
      "text/plain": [
       "shape: (3, 33)\n",
       "┌─────────┬──────────┬───────────┬────────────┬───┬─────────┬──────────┬───────────────┬────────┐\n",
       "│ Source  ┆ Severity ┆ Start_Lat ┆ Start_Lng  ┆ … ┆ Weekday ┆ Duration ┆ TimeofDay     ┆ Season │\n",
       "│ ---     ┆ ---      ┆ ---       ┆ ---        ┆   ┆ ---     ┆ ---      ┆ ---           ┆ ---    │\n",
       "│ str     ┆ i64      ┆ f64       ┆ f64        ┆   ┆ i8      ┆ i64      ┆ str           ┆ str    │\n",
       "╞═════════╪══════════╪═══════════╪════════════╪═══╪═════════╪══════════╪═══════════════╪════════╡\n",
       "│ Source2 ┆ 3        ┆ 39.865147 ┆ -84.058723 ┆ … ┆ 1       ┆ 18840    ┆ Early Morning ┆ Winter │\n",
       "│ Source2 ┆ 2        ┆ 39.928059 ┆ -82.831184 ┆ … ┆ 1       ┆ 1800     ┆ Morning       ┆ Winter │\n",
       "│ Source2 ┆ 2        ┆ 39.063148 ┆ -84.032608 ┆ … ┆ 1       ┆ 1800     ┆ Morning       ┆ Winter │\n",
       "└─────────┴──────────┴───────────┴────────────┴───┴─────────┴──────────┴───────────────┴────────┘"
      ]
     },
     "execution_count": 42,
     "metadata": {},
     "output_type": "execute_result"
    }
   ],
   "source": [
    "df_drop.head(3)"
   ]
  },
  {
   "cell_type": "code",
   "execution_count": 43,
   "id": "3bf6f846-d639-451f-aec2-e8cfc2a9ea5f",
   "metadata": {
    "colab": {
     "base_uri": "https://localhost:8080/"
    },
    "id": "3bf6f846-d639-451f-aec2-e8cfc2a9ea5f",
    "outputId": "f2682134-f767-4341-91a2-63d819afbec0"
   },
   "outputs": [
    {
     "name": "stdout",
     "output_type": "stream",
     "text": [
      "shape: (546_184, 33)\n",
      "┌─────────┬──────────┬───────────┬─────────────┬───┬─────────┬──────────┬───────────┬────────┐\n",
      "│ Source  ┆ Severity ┆ Start_Lat ┆ Start_Lng   ┆ … ┆ Weekday ┆ Duration ┆ TimeofDay ┆ Season │\n",
      "│ ---     ┆ ---      ┆ ---       ┆ ---         ┆   ┆ ---     ┆ ---      ┆ ---       ┆ ---    │\n",
      "│ str     ┆ i64      ┆ f64       ┆ f64         ┆   ┆ i8      ┆ i64      ┆ str       ┆ str    │\n",
      "╞═════════╪══════════╪═══════════╪═════════════╪═══╪═════════╪══════════╪═══════════╪════════╡\n",
      "│ Source2 ┆ 3        ┆ 39.981709 ┆ -82.98436   ┆ … ┆ 7       ┆ 49560    ┆ Morning   ┆ Winter │\n",
      "│ Source2 ┆ 3        ┆ 39.953022 ┆ -82.998894  ┆ … ┆ 7       ┆ 1800     ┆ Morning   ┆ Winter │\n",
      "│ Source2 ┆ 3        ┆ 39.973812 ┆ -82.983162  ┆ … ┆ 7       ┆ 1800     ┆ Morning   ┆ Winter │\n",
      "│ Source2 ┆ 3        ┆ 39.978306 ┆ -82.852554  ┆ … ┆ 7       ┆ 4477     ┆ Evening   ┆ Winter │\n",
      "│ Source2 ┆ 3        ┆ 39.917412 ┆ -83.014236  ┆ … ┆ 7       ┆ 4379     ┆ Evening   ┆ Winter │\n",
      "│ …       ┆ …        ┆ …         ┆ …           ┆ … ┆ …       ┆ …        ┆ …         ┆ …      │\n",
      "│ Source1 ┆ 2        ┆ 45.04527  ┆ -122.97528  ┆ … ┆ 7       ┆ 14400    ┆ Evening   ┆ Summer │\n",
      "│ Source1 ┆ 2        ┆ 44.417608 ┆ -122.007574 ┆ … ┆ 7       ┆ 14400    ┆ Evening   ┆ Summer │\n",
      "│ Source1 ┆ 4        ┆ 38.631829 ┆ -121.38298  ┆ … ┆ 7       ┆ 1692     ┆ Evening   ┆ Summer │\n",
      "│ Source1 ┆ 4        ┆ 38.628633 ┆ -121.3829   ┆ … ┆ 7       ┆ 1692     ┆ Evening   ┆ Summer │\n",
      "│ Source1 ┆ 3        ┆ 34.05845  ┆ -118.24448  ┆ … ┆ 7       ┆ 1708     ┆ Evening   ┆ Summer │\n",
      "└─────────┴──────────┴───────────┴─────────────┴───┴─────────┴──────────┴───────────┴────────┘\n"
     ]
    }
   ],
   "source": [
    "result = df_drop.filter(pl.col('Weekday') == 7)\n",
    "print(result)"
   ]
  },
  {
   "cell_type": "code",
   "execution_count": 44,
   "id": "c0838d3d-c4e2-4b78-97fa-194d57902f0f",
   "metadata": {
    "id": "c0838d3d-c4e2-4b78-97fa-194d57902f0f"
   },
   "outputs": [],
   "source": [
    "# Binning Day Type\n",
    "df_drop = df_drop.with_columns(\n",
    "    pl.when(pl.col('Weekday').is_in([1, 2, 3, 4])).then(pl.lit('Weekday'))\n",
    "    .when(pl.col('Weekday').is_in([5, 6, 7])).then(pl.lit('Weekend'))\n",
    "    .otherwise(pl.lit('Unknown')).alias('Day_Type')\n",
    ")"
   ]
  },
  {
   "cell_type": "code",
   "execution_count": 45,
   "id": "987c3995-0275-48cb-b206-efb30f3a370d",
   "metadata": {
    "colab": {
     "base_uri": "https://localhost:8080/"
    },
    "id": "987c3995-0275-48cb-b206-efb30f3a370d",
    "outputId": "14206f55-366a-49f2-8238-1f2c0c309d8a"
   },
   "outputs": [
    {
     "name": "stdout",
     "output_type": "stream",
     "text": [
      "['Day', None, 'Night']\n"
     ]
    }
   ],
   "source": [
    "unique_values = df_drop[\"Sunrise_Sunset\"].unique()\n",
    "print(unique_values.to_list())"
   ]
  },
  {
   "cell_type": "code",
   "execution_count": 46,
   "id": "23cb18f7-887a-4289-b01b-c2c6001ac74a",
   "metadata": {
    "id": "23cb18f7-887a-4289-b01b-c2c6001ac74a"
   },
   "outputs": [],
   "source": [
    "df_drop = df_drop.with_columns(\n",
    "    pl.when(pl.col('Sunrise_Sunset') == 'Night').then(0)\n",
    "    .when(pl.col('Sunrise_Sunset') == 'Day').then(1)\n",
    "    .otherwise(pl.col('Sunrise_Sunset'))  # Retain original value if no match\n",
    "    .alias('Sunrise_Sunset')  # Rename back to 'Wind_Direction'\n",
    ")"
   ]
  },
  {
   "cell_type": "code",
   "execution_count": 47,
   "id": "df10f1cb-946a-4ec2-a488-763e1f86201b",
   "metadata": {
    "colab": {
     "base_uri": "https://localhost:8080/"
    },
    "id": "df10f1cb-946a-4ec2-a488-763e1f86201b",
    "outputId": "9a08a1b9-6574-4d0a-c671-d1f432ae3114"
   },
   "outputs": [
    {
     "name": "stdout",
     "output_type": "stream",
     "text": [
      "shape: (0, 34)\n",
      "┌────────┬──────────┬───────────┬───────────┬───┬──────────┬───────────┬────────┬──────────┐\n",
      "│ Source ┆ Severity ┆ Start_Lat ┆ Start_Lng ┆ … ┆ Duration ┆ TimeofDay ┆ Season ┆ Day_Type │\n",
      "│ ---    ┆ ---      ┆ ---       ┆ ---       ┆   ┆ ---      ┆ ---       ┆ ---    ┆ ---      │\n",
      "│ str    ┆ i64      ┆ f64       ┆ f64       ┆   ┆ i64      ┆ str       ┆ str    ┆ str      │\n",
      "╞════════╪══════════╪═══════════╪═══════════╪═══╪══════════╪═══════════╪════════╪══════════╡\n",
      "└────────┴──────────┴───────────┴───────────┴───┴──────────┴───────────┴────────┴──────────┘\n"
     ]
    }
   ],
   "source": [
    "result = df_drop.filter(pl.col('Duration') <= 0)\n",
    "print(result)"
   ]
  },
  {
   "cell_type": "code",
   "execution_count": 48,
   "id": "34ffa6d2-58a3-4bbb-818e-546c53dd210e",
   "metadata": {
    "colab": {
     "base_uri": "https://localhost:8080/"
    },
    "id": "34ffa6d2-58a3-4bbb-818e-546c53dd210e",
    "outputId": "5a18d364-9af6-455d-d3b4-10e47f207a76"
   },
   "outputs": [
    {
     "name": "stdout",
     "output_type": "stream",
     "text": [
      "['Squalls', 'Heavy Freezing Rain', 'Haze / Windy', 'Wintry Mix', 'Drizzle', 'Heavy Sleet and Thunder', 'Rain', 'Blowing Snow / Windy', 'Freezing Rain', 'Light Fog', 'Partial Fog / Windy', 'Thunderstorm', 'Heavy Ice Pellets', 'Sleet and Thunder', 'Heavy Snow / Windy', 'Thunderstorms and Snow', 'Fog / Windy', 'Heavy Snow with Thunder', 'Light Thunderstorms and Snow', 'Light Snow', 'Low Drifting Snow', 'Thunder and Hail / Windy', 'Snow and Thunder / Windy', 'T-Storm / Windy', 'Thunder in the Vicinity', 'Sand / Dust Whirlwinds / Windy', 'Drizzle / Windy', None, 'Light Drizzle / Windy', 'Thunder and Hail', 'Duststorm', 'Light Rain / Windy', 'Fair / Windy', 'Cloudy / Windy', 'Widespread Dust', 'Rain Showers', 'Sleet / Windy', 'Partly Cloudy / Windy', 'Rain Shower / Windy', 'Snow Showers', 'Sand / Dust Whirls Nearby', 'Showers in the Vicinity', 'Light Freezing Rain / Windy', 'Patches of Fog', 'Light Rain Shower', 'Snow Grains', 'Mostly Cloudy / Windy', 'Cloudy', 'Fog', 'Light Snow Shower / Windy', 'Dust Whirls', 'Thunder / Wintry Mix / Windy', 'Blowing Dust / Windy', 'Funnel Cloud', 'Heavy Rain Shower / Windy', 'Light Snow / Windy', 'Mist', 'T-Storm', 'Thunder / Wintry Mix', 'Widespread Dust / Windy', 'Light Rain Shower / Windy', 'Freezing Rain / Windy', 'Light Freezing Fog', 'Partly Cloudy', 'Light Drizzle', 'Sleet', 'Light Thunderstorms and Rain', 'Heavy Rain Shower', 'Fair', 'Blowing Snow', 'Snow / Windy', 'Light Snow and Sleet / Windy', 'Light Sleet / Windy', 'Drifting Snow / Windy', 'Squalls / Windy', 'Heavy T-Storm', 'Scattered Clouds', 'Smoke / Windy', 'Drifting Snow', 'Heavy Thunderstorms with Small Hail', 'Light Rain with Thunder', 'N/A Precipitation', 'Haze', 'Light Rain Showers', 'Blowing Sand', 'Heavy Smoke', 'Heavy T-Storm / Windy', 'Heavy Thunderstorms and Snow', 'Snow and Sleet', 'Sand', 'Heavy Rain Showers', 'Light Hail', 'Drizzle and Fog', 'Thunder', 'Shallow Fog', 'Heavy Sleet', 'Heavy Thunderstorms and Rain', 'Light Freezing Rain', 'Light Freezing Drizzle', 'Sand / Dust Whirlwinds', 'Freezing Drizzle', 'Light Haze', 'Partial Fog', 'Heavy Freezing Rain / Windy', 'Heavy Snow', 'Light Snow Showers', 'Heavy Drizzle', 'Light Snow and Sleet', 'Heavy Rain', 'Light Snow with Thunder', 'Light Sleet', 'Snow', 'Overcast', 'Rain Shower', 'Sand / Windy', 'Light Thunderstorm', 'Clear', 'Heavy Freezing Drizzle', 'Patches of Fog / Windy', 'Blowing Dust', 'Heavy Rain / Windy', 'Small Hail', 'Volcanic Ash', 'Light Snow Grains', 'Tornado', 'Rain and Sleet', 'Snow and Sleet / Windy', 'Hail', 'Blowing Snow Nearby', 'Heavy Blowing Snow', 'Rain / Windy', 'Mostly Cloudy', 'Light Blowing Snow', 'Mist / Windy', 'Light Snow Shower', 'Heavy Sleet / Windy', 'Shallow Fog / Windy', 'Light Rain', 'Thunder / Windy', 'Snow and Thunder', 'Smoke', 'Wintry Mix / Windy', 'Thunderstorms and Rain', 'Ice Pellets', 'Light Ice Pellets']\n"
     ]
    }
   ],
   "source": [
    "unique_values = df_drop[\"Weather_Condition\"].unique()\n",
    "print(unique_values.to_list())"
   ]
  },
  {
   "cell_type": "code",
   "execution_count": 49,
   "id": "9077de1e-07de-4552-b005-33dacf012c49",
   "metadata": {
    "id": "9077de1e-07de-4552-b005-33dacf012c49"
   },
   "outputs": [],
   "source": [
    "#We further clean wind direction by grouping similar values into one\n",
    "df_drop = df_drop.with_columns(\n",
    "    pl.when(pl.col('Wind_Direction') == 'Calm').then(pl.lit('CALM'))\n",
    "    .when(pl.col('Wind_Direction').is_in(['West', 'WSW', 'WNW'])).then(pl.lit('W'))\n",
    "    .when(pl.col('Wind_Direction').is_in(['South', 'SSW', 'SSE'])).then(pl.lit('S'))\n",
    "    .when(pl.col('Wind_Direction').is_in(['North', 'NNW', 'NNE'])).then(pl.lit('N'))\n",
    "    .when(pl.col('Wind_Direction').is_in(['East', 'ESE', 'ENE'])).then(pl.lit('E'))\n",
    "    .when(pl.col('Wind_Direction') == 'Variable').then(pl.lit('VAR'))\n",
    "    .otherwise(pl.col('Wind_Direction'))  # Retain original value if no match\n",
    "    .alias('Wind_Direction')  # Rename back to 'Wind_Direction'\n",
    ")"
   ]
  },
  {
   "cell_type": "code",
   "execution_count": 50,
   "id": "0a388d32-7bd7-4a4a-be11-3abc56ad4b2c",
   "metadata": {
    "colab": {
     "base_uri": "https://localhost:8080/"
    },
    "id": "0a388d32-7bd7-4a4a-be11-3abc56ad4b2c",
    "outputId": "c2fb0d2a-31b5-41f9-f924-2c4eb5ddc3b5"
   },
   "outputs": [
    {
     "name": "stdout",
     "output_type": "stream",
     "text": [
      "['E', 'NW', None, 'VAR', 'W', 'NE', 'S', 'SW', 'SE', 'N', 'CALM']\n"
     ]
    }
   ],
   "source": [
    "unique_values = df_drop[\"Wind_Direction\"].unique()\n",
    "print(unique_values.to_list())"
   ]
  },
  {
   "cell_type": "code",
   "execution_count": 51,
   "id": "2337dee3-be3d-4a45-b66b-480cec7da3f2",
   "metadata": {
    "colab": {
     "base_uri": "https://localhost:8080/"
    },
    "id": "2337dee3-be3d-4a45-b66b-480cec7da3f2",
    "outputId": "80b5f3b8-caf1-408b-8c90-8209bc871a67"
   },
   "outputs": [
    {
     "data": {
      "text/plain": [
       "['Source',\n",
       " 'Severity',\n",
       " 'Start_Lat',\n",
       " 'Start_Lng',\n",
       " 'Distance(mi)',\n",
       " 'Description',\n",
       " 'Street',\n",
       " 'City',\n",
       " 'County',\n",
       " 'State',\n",
       " 'Zipcode',\n",
       " 'Timezone',\n",
       " 'Temperature(F)',\n",
       " 'Wind_Chill(F)',\n",
       " 'Humidity(%)',\n",
       " 'Pressure(in)',\n",
       " 'Visibility(mi)',\n",
       " 'Wind_Direction',\n",
       " 'Wind_Speed(mph)',\n",
       " 'Precipitation(in)',\n",
       " 'Weather_Condition',\n",
       " 'Crossing',\n",
       " 'Junction',\n",
       " 'Traffic_Signal',\n",
       " 'Sunrise_Sunset',\n",
       " 'Year',\n",
       " 'Month',\n",
       " 'Day',\n",
       " 'Time_S',\n",
       " 'Weekday',\n",
       " 'Duration',\n",
       " 'TimeofDay',\n",
       " 'Season',\n",
       " 'Day_Type']"
      ]
     },
     "execution_count": 51,
     "metadata": {},
     "output_type": "execute_result"
    }
   ],
   "source": [
    "df_drop.columns"
   ]
  },
  {
   "cell_type": "code",
   "execution_count": 52,
   "id": "bbfd64e1-a0ff-4993-aaef-cd38ff92e43a",
   "metadata": {
    "id": "bbfd64e1-a0ff-4993-aaef-cd38ff92e43a"
   },
   "outputs": [],
   "source": [
    "# import plotly.express as px\n",
    "\n",
    "# # Extract data as lists\n",
    "# latitudes = df['Start_Lat'].to_list()\n",
    "# longitudes = df['Start_Lng'].to_list()\n",
    "\n",
    "# # Create a scatter mapbox plot with Plotly\n",
    "# fig = px.scatter_mapbox(\n",
    "#     lat=latitudes,\n",
    "#     lon=longitudes,\n",
    "#     zoom=3,\n",
    "#     mapbox_style=\"open-street-map\"\n",
    "# )\n",
    "\n",
    "# # Display the plot\n",
    "# fig.show()"
   ]
  },
  {
   "cell_type": "code",
   "execution_count": 53,
   "id": "e084eb55-7ac1-4806-84ae-69ba6eead700",
   "metadata": {
    "colab": {
     "base_uri": "https://localhost:8080/"
    },
    "id": "e084eb55-7ac1-4806-84ae-69ba6eead700",
    "outputId": "e0cf188d-3a0b-4ec4-9262-83e534b557cd"
   },
   "outputs": [
    {
     "name": "stdout",
     "output_type": "stream",
     "text": [
      "shape: (22, 34)\n",
      "┌─────────┬──────────┬───────────┬─────────────┬───┬──────────┬───────────┬────────┬──────────┐\n",
      "│ Source  ┆ Severity ┆ Start_Lat ┆ Start_Lng   ┆ … ┆ Duration ┆ TimeofDay ┆ Season ┆ Day_Type │\n",
      "│ ---     ┆ ---      ┆ ---       ┆ ---         ┆   ┆ ---      ┆ ---       ┆ ---    ┆ ---      │\n",
      "│ str     ┆ i64      ┆ f64       ┆ f64         ┆   ┆ i64      ┆ str       ┆ str    ┆ str      │\n",
      "╞═════════╪══════════╪═══════════╪═════════════╪═══╪══════════╪═══════════╪════════╪══════════╡\n",
      "│ Source2 ┆ 2        ┆ 32.762203 ┆ -116.945045 ┆ … ┆ 2700     ┆ Afternoon ┆ Summer ┆ Weekday  │\n",
      "│ Source2 ┆ 2        ┆ 32.838902 ┆ -116.934479 ┆ … ┆ 1791     ┆ Morning   ┆ Winter ┆ Weekend  │\n",
      "│ Source2 ┆ 2        ┆ 32.825542 ┆ -116.90152  ┆ … ┆ 1782     ┆ Afternoon ┆ Winter ┆ Weekday  │\n",
      "│ Source2 ┆ 2        ┆ 32.753311 ┆ -117.01152  ┆ … ┆ 1787     ┆ Morning   ┆ Winter ┆ Weekend  │\n",
      "│ Source2 ┆ 3        ┆ 26.350828 ┆ -80.117874  ┆ … ┆ 1800     ┆ Morning   ┆ Summer ┆ Weekday  │\n",
      "│ …       ┆ …        ┆ …         ┆ …           ┆ … ┆ …        ┆ …         ┆ …      ┆ …        │\n",
      "│ Source2 ┆ 3        ┆ 32.866253 ┆ -117.10891  ┆ … ┆ 1788     ┆ Morning   ┆ Summer ┆ Weekday  │\n",
      "│ Source1 ┆ 2        ┆ 32.8368   ┆ -117.0019   ┆ … ┆ 21600    ┆ Afternoon ┆ Winter ┆ Weekend  │\n",
      "│ Source1 ┆ 2        ┆ 32.776732 ┆ -117.004822 ┆ … ┆ 21600    ┆ Afternoon ┆ Spring ┆ Weekday  │\n",
      "│ Source1 ┆ 2        ┆ 32.77368  ┆ -117.03529  ┆ … ┆ 21600    ┆ Afternoon ┆ Spring ┆ Weekday  │\n",
      "│ Source1 ┆ 2        ┆ 32.80912  ┆ -116.91865  ┆ … ┆ 21600    ┆ Afternoon ┆ Summer ┆ Weekend  │\n",
      "└─────────┴──────────┴───────────┴─────────────┴───┴──────────┴───────────┴────────┴──────────┘\n"
     ]
    }
   ],
   "source": [
    "result = df_drop.filter(pl.col('Weather_Condition') == 'Volcanic Ash')\n",
    "print(result)"
   ]
  },
  {
   "cell_type": "code",
   "execution_count": 54,
   "id": "0fa37ae8-a02a-44d8-9507-702928ea5941",
   "metadata": {
    "id": "0fa37ae8-a02a-44d8-9507-702928ea5941"
   },
   "outputs": [],
   "source": [
    "# Create weather categories\n",
    "df_drop = df_drop.with_columns([\n",
    "    pl.when(pl.col(\"Weather_Condition\").str.to_lowercase().str.contains(\"clear|fair\")).then(1).otherwise(0).alias(\"Clear\"),\n",
    "    pl.when(pl.col(\"Weather_Condition\").str.to_lowercase().str.contains(\"cloud|overcast\")).then(1).otherwise(0).alias(\"Cloud\"),\n",
    "    pl.when(pl.col(\"Weather_Condition\").str.to_lowercase().str.contains(\"rain|storm|drizzle|shower|precipitation|light hail|small hail\")).then(1).otherwise(0).alias(\"Rain\"),\n",
    "    pl.when(pl.col(\"Weather_Condition\").str.to_lowercase().str.contains(\"heavy rain|rain shower|heavy t-storm|heavy thunderstorms|thunder|hail\")).then(1).otherwise(0).alias(\"Heavy_Rain\"),\n",
    "    pl.when(pl.col(\"Weather_Condition\").str.to_lowercase().str.contains(\"snow|sleet|ice|wintry mix\")).then(1).otherwise(0).alias(\"Snow\"),\n",
    "    pl.when(pl.col(\"Weather_Condition\").str.to_lowercase().str.contains(\"heavy snow|heavy sleet|heavy ice pellets|snow showers|squalls\")).then(1).otherwise(0).alias(\"Heavy_Snow\"),\n",
    "    pl.when(pl.col(\"Weather_Condition\").str.to_lowercase().str.contains(\"fog|haze|mist\")).then(1).otherwise(0).alias(\"Fog\"),\n",
    "    pl.when(pl.col(\"Weather_Condition\").str.to_lowercase().str.contains(\"dust|smoke|sand|tornado\")).then(1).otherwise(0).alias(\"Dusty\"),\n",
    "    pl.when(pl.col(\"Weather_Condition\").str.to_lowercase().str.contains(\"wind|winds\")).then(1).otherwise(0).alias(\"Windy\"),\n",
    "    pl.when(pl.col(\"Weather_Condition\").str.to_lowercase().str.contains(\"ash\")).then(1).otherwise(0).alias(\"Ash\")\n",
    "])\n",
    "\n",
    "# Handle NA for the created weather features where 'Weather_Condition' is null\n",
    "df_drop = df_drop.with_columns([\n",
    "    pl.when(pl.col(\"Weather_Condition\").is_null()).then(None).otherwise(pl.col(\"Clear\")).alias(\"Clear\"),\n",
    "    pl.when(pl.col(\"Weather_Condition\").is_null()).then(None).otherwise(pl.col(\"Cloud\")).alias(\"Cloud\"),\n",
    "    pl.when(pl.col(\"Weather_Condition\").is_null()).then(None).otherwise(pl.col(\"Rain\")).alias(\"Rain\"),\n",
    "    pl.when(pl.col(\"Weather_Condition\").is_null()).then(None).otherwise(pl.col(\"Heavy_Rain\")).alias(\"Heavy_Rain\"),\n",
    "    pl.when(pl.col(\"Weather_Condition\").is_null()).then(None).otherwise(pl.col(\"Snow\")).alias(\"Snow\"),\n",
    "    pl.when(pl.col(\"Weather_Condition\").is_null()).then(None).otherwise(pl.col(\"Heavy_Snow\")).alias(\"Heavy_Snow\"),\n",
    "    pl.when(pl.col(\"Weather_Condition\").is_null()).then(None).otherwise(pl.col(\"Fog\")).alias(\"Fog\"),\n",
    "    pl.when(pl.col(\"Weather_Condition\").is_null()).then(None).otherwise(pl.col(\"Dusty\")).alias(\"Dusty\"),\n",
    "    pl.when(pl.col(\"Weather_Condition\").is_null()).then(None).otherwise(pl.col(\"Windy\")).alias(\"Windy\"),\n",
    "    pl.when(pl.col(\"Weather_Condition\").is_null()).then(None).otherwise(pl.col(\"Ash\")).alias(\"Ash\")\n",
    "])\n",
    "\n",
    "# Drop 'Weather_Condition' column\n",
    "df_drop = df_drop.drop(\"Weather_Condition\")\n",
    "\n",
    "# Convert the new weather columns to integers\n",
    "weather_columns = ['Clear', 'Cloud', 'Rain', 'Heavy_Rain', 'Snow', 'Heavy_Snow', 'Fog', 'Dusty', 'Windy', 'Ash']\n",
    "df_drop = df_drop.with_columns([pl.col(w).cast(pl.Int32) for w in weather_columns])"
   ]
  },
  {
   "cell_type": "code",
   "execution_count": 55,
   "id": "9f1737ea-6346-441a-99a2-8117d25cc7e0",
   "metadata": {
    "colab": {
     "base_uri": "https://localhost:8080/",
     "height": 250
    },
    "id": "9f1737ea-6346-441a-99a2-8117d25cc7e0",
    "outputId": "fcb05aa2-f0c4-48ba-ef92-d4803942e840"
   },
   "outputs": [
    {
     "data": {
      "text/html": [
       "<div><style>\n",
       ".dataframe > thead > tr,\n",
       ".dataframe > tbody > tr {\n",
       "  text-align: right;\n",
       "  white-space: pre-wrap;\n",
       "}\n",
       "</style>\n",
       "<small>shape: (2, 43)</small><table border=\"1\" class=\"dataframe\"><thead><tr><th>Source</th><th>Severity</th><th>Start_Lat</th><th>Start_Lng</th><th>Distance(mi)</th><th>Description</th><th>Street</th><th>City</th><th>County</th><th>State</th><th>Zipcode</th><th>Timezone</th><th>Temperature(F)</th><th>Wind_Chill(F)</th><th>Humidity(%)</th><th>Pressure(in)</th><th>Visibility(mi)</th><th>Wind_Direction</th><th>Wind_Speed(mph)</th><th>Precipitation(in)</th><th>Crossing</th><th>Junction</th><th>Traffic_Signal</th><th>Sunrise_Sunset</th><th>Year</th><th>Month</th><th>Day</th><th>Time_S</th><th>Weekday</th><th>Duration</th><th>TimeofDay</th><th>Season</th><th>Day_Type</th><th>Clear</th><th>Cloud</th><th>Rain</th><th>Heavy_Rain</th><th>Snow</th><th>Heavy_Snow</th><th>Fog</th><th>Dusty</th><th>Windy</th><th>Ash</th></tr><tr><td>str</td><td>i64</td><td>f64</td><td>f64</td><td>f64</td><td>str</td><td>str</td><td>str</td><td>str</td><td>str</td><td>str</td><td>str</td><td>f64</td><td>f64</td><td>f64</td><td>f64</td><td>f64</td><td>str</td><td>f64</td><td>f64</td><td>i32</td><td>i32</td><td>i32</td><td>str</td><td>i32</td><td>i8</td><td>i8</td><td>i8</td><td>i8</td><td>i64</td><td>str</td><td>str</td><td>str</td><td>i32</td><td>i32</td><td>i32</td><td>i32</td><td>i32</td><td>i32</td><td>i32</td><td>i32</td><td>i32</td><td>i32</td></tr></thead><tbody><tr><td>&quot;Source2&quot;</td><td>3</td><td>39.865147</td><td>-84.058723</td><td>0.01</td><td>&quot;Right&nbsp;lane&nbsp;blocked&nbsp;due&nbsp;to&nbsp;acci…</td><td>&quot;I-70&nbsp;E&quot;</td><td>&quot;Dayton&quot;</td><td>&quot;Montgomery&quot;</td><td>&quot;OH&quot;</td><td>&quot;45424&quot;</td><td>&quot;US/Eastern&quot;</td><td>36.9</td><td>58.251048</td><td>91.0</td><td>29.68</td><td>10.0</td><td>&quot;CALM&quot;</td><td>7.68549</td><td>0.02</td><td>0</td><td>0</td><td>0</td><td>&quot;0&quot;</td><td>2016</td><td>2</td><td>8</td><td>5</td><td>1</td><td>18840</td><td>&quot;Early&nbsp;Morning&quot;</td><td>&quot;Winter&quot;</td><td>&quot;Weekday&quot;</td><td>0</td><td>0</td><td>1</td><td>0</td><td>0</td><td>0</td><td>0</td><td>0</td><td>0</td><td>0</td></tr><tr><td>&quot;Source2&quot;</td><td>2</td><td>39.928059</td><td>-82.831184</td><td>0.01</td><td>&quot;Accident&nbsp;on&nbsp;Brice&nbsp;Rd&nbsp;at&nbsp;Tussin…</td><td>&quot;Brice&nbsp;Rd&quot;</td><td>&quot;Reynoldsburg&quot;</td><td>&quot;Franklin&quot;</td><td>&quot;OH&quot;</td><td>&quot;43068-3402&quot;</td><td>&quot;US/Eastern&quot;</td><td>37.9</td><td>58.251048</td><td>100.0</td><td>29.65</td><td>10.0</td><td>&quot;CALM&quot;</td><td>7.68549</td><td>0.0</td><td>0</td><td>0</td><td>0</td><td>&quot;0&quot;</td><td>2016</td><td>2</td><td>8</td><td>6</td><td>1</td><td>1800</td><td>&quot;Morning&quot;</td><td>&quot;Winter&quot;</td><td>&quot;Weekday&quot;</td><td>0</td><td>0</td><td>1</td><td>0</td><td>0</td><td>0</td><td>0</td><td>0</td><td>0</td><td>0</td></tr></tbody></table></div>"
      ],
      "text/plain": [
       "shape: (2, 43)\n",
       "┌─────────┬──────────┬───────────┬────────────┬───┬─────┬───────┬───────┬─────┐\n",
       "│ Source  ┆ Severity ┆ Start_Lat ┆ Start_Lng  ┆ … ┆ Fog ┆ Dusty ┆ Windy ┆ Ash │\n",
       "│ ---     ┆ ---      ┆ ---       ┆ ---        ┆   ┆ --- ┆ ---   ┆ ---   ┆ --- │\n",
       "│ str     ┆ i64      ┆ f64       ┆ f64        ┆   ┆ i32 ┆ i32   ┆ i32   ┆ i32 │\n",
       "╞═════════╪══════════╪═══════════╪════════════╪═══╪═════╪═══════╪═══════╪═════╡\n",
       "│ Source2 ┆ 3        ┆ 39.865147 ┆ -84.058723 ┆ … ┆ 0   ┆ 0     ┆ 0     ┆ 0   │\n",
       "│ Source2 ┆ 2        ┆ 39.928059 ┆ -82.831184 ┆ … ┆ 0   ┆ 0     ┆ 0     ┆ 0   │\n",
       "└─────────┴──────────┴───────────┴────────────┴───┴─────┴───────┴───────┴─────┘"
      ]
     },
     "execution_count": 55,
     "metadata": {},
     "output_type": "execute_result"
    }
   ],
   "source": [
    "df_drop.head(2)"
   ]
  },
  {
   "cell_type": "code",
   "execution_count": 56,
   "id": "43dc2ea0-1523-4a3d-a091-0366eae7b957",
   "metadata": {
    "colab": {
     "base_uri": "https://localhost:8080/"
    },
    "id": "43dc2ea0-1523-4a3d-a091-0366eae7b957",
    "outputId": "19023de7-6b73-45c7-8b98-1c83d42cc281"
   },
   "outputs": [
    {
     "data": {
      "text/plain": [
       "43"
      ]
     },
     "execution_count": 56,
     "metadata": {},
     "output_type": "execute_result"
    }
   ],
   "source": [
    "df_drop.width"
   ]
  },
  {
   "cell_type": "code",
   "execution_count": 57,
   "id": "a2de89c2-c29e-4d80-ab7a-f8163a48c064",
   "metadata": {
    "colab": {
     "base_uri": "https://localhost:8080/"
    },
    "id": "a2de89c2-c29e-4d80-ab7a-f8163a48c064",
    "outputId": "e6119b53-ade4-421a-b6b3-7ed6bc291171"
   },
   "outputs": [
    {
     "data": {
      "text/plain": [
       "['Source',\n",
       " 'Severity',\n",
       " 'Start_Lat',\n",
       " 'Start_Lng',\n",
       " 'Distance(mi)',\n",
       " 'Description',\n",
       " 'Street',\n",
       " 'City',\n",
       " 'County',\n",
       " 'State',\n",
       " 'Zipcode',\n",
       " 'Timezone',\n",
       " 'Temperature(F)',\n",
       " 'Wind_Chill(F)',\n",
       " 'Humidity(%)',\n",
       " 'Pressure(in)',\n",
       " 'Visibility(mi)',\n",
       " 'Wind_Direction',\n",
       " 'Wind_Speed(mph)',\n",
       " 'Precipitation(in)',\n",
       " 'Crossing',\n",
       " 'Junction',\n",
       " 'Traffic_Signal',\n",
       " 'Sunrise_Sunset',\n",
       " 'Year',\n",
       " 'Month',\n",
       " 'Day',\n",
       " 'Time_S',\n",
       " 'Weekday',\n",
       " 'Duration',\n",
       " 'TimeofDay',\n",
       " 'Season',\n",
       " 'Day_Type',\n",
       " 'Clear',\n",
       " 'Cloud',\n",
       " 'Rain',\n",
       " 'Heavy_Rain',\n",
       " 'Snow',\n",
       " 'Heavy_Snow',\n",
       " 'Fog',\n",
       " 'Dusty',\n",
       " 'Windy',\n",
       " 'Ash']"
      ]
     },
     "execution_count": 57,
     "metadata": {},
     "output_type": "execute_result"
    }
   ],
   "source": [
    "df_drop.columns"
   ]
  },
  {
   "cell_type": "code",
   "execution_count": 58,
   "id": "314dc448-f9e5-4847-8aef-1ddf2ce6bb5a",
   "metadata": {
    "id": "314dc448-f9e5-4847-8aef-1ddf2ce6bb5a"
   },
   "outputs": [],
   "source": [
    "df_drop = df_drop.drop(['Description', 'Street','Zipcode','Source','Year', 'Month', 'Day', 'Time_S', 'Weekday'])\n",
    "#Description, Street and Zipcode are irrelevant features in severity analysis\n",
    "#Source indicates from which source the data is captured, which is not useful again\n",
    "#Year,Month,Day,Time_S and Weekday were used to create TimeofDay,Season,Day_Type through binning which are more useful features,hence these are removed"
   ]
  },
  {
   "cell_type": "code",
   "execution_count": 59,
   "id": "06b05e76-b292-4c7e-b6f0-42c50aabc955",
   "metadata": {
    "colab": {
     "base_uri": "https://localhost:8080/"
    },
    "id": "06b05e76-b292-4c7e-b6f0-42c50aabc955",
    "outputId": "5dff19c5-33f7-4e5d-edaa-4e0e05d383eb"
   },
   "outputs": [
    {
     "data": {
      "text/plain": [
       "34"
      ]
     },
     "execution_count": 59,
     "metadata": {},
     "output_type": "execute_result"
    }
   ],
   "source": [
    "df_drop.width"
   ]
  },
  {
   "cell_type": "code",
   "execution_count": 60,
   "id": "d2130ad1-6e0e-4650-89d9-a93bf965db56",
   "metadata": {
    "colab": {
     "base_uri": "https://localhost:8080/"
    },
    "id": "d2130ad1-6e0e-4650-89d9-a93bf965db56",
    "outputId": "408b31ae-8df3-49b1-eb81-c7b5c03456dd"
   },
   "outputs": [
    {
     "name": "stdout",
     "output_type": "stream",
     "text": [
      "28\n"
     ]
    }
   ],
   "source": [
    "used_features=['Severity', 'Distance(mi)','Temperature(F)','Wind_Chill(F)', 'Humidity(%)', 'Pressure(in)', 'Visibility(mi)','Wind_Direction',\n",
    "               'Wind_Speed(mph)','Precipitation(in)','Clear','Cloud','Rain','Heavy_Rain','Snow','Heavy_Snow','Fog', 'Dusty', 'Windy','Ash','Junction',\n",
    "               'Crossing','Traffic_Signal','Sunrise_Sunset','TimeofDay', 'Season', 'Day_Type', 'Duration']\n",
    "print(len(used_features))"
   ]
  },
  {
   "cell_type": "code",
   "execution_count": 61,
   "id": "9QCZzfNIA71T",
   "metadata": {
    "id": "9QCZzfNIA71T"
   },
   "outputs": [],
   "source": [
    "columns_to_drop = [\"City\", \"County\", \"State\",\"Timezone\", ]\n",
    "\n",
    "# Drop the columns\n",
    "df_drop = df_drop.drop(columns_to_drop)\n"
   ]
  },
  {
   "cell_type": "code",
   "execution_count": 62,
   "id": "OijSRmtKv3a5",
   "metadata": {
    "colab": {
     "base_uri": "https://localhost:8080/",
     "height": 167
    },
    "id": "OijSRmtKv3a5",
    "outputId": "abc10c84-bc05-4ef6-fef8-7a3799366651"
   },
   "outputs": [
    {
     "data": {
      "text/html": [
       "<div><style>\n",
       ".dataframe > thead > tr,\n",
       ".dataframe > tbody > tr {\n",
       "  text-align: right;\n",
       "  white-space: pre-wrap;\n",
       "}\n",
       "</style>\n",
       "<small>shape: (1, 30)</small><table border=\"1\" class=\"dataframe\"><thead><tr><th>Severity</th><th>Start_Lat</th><th>Start_Lng</th><th>Distance(mi)</th><th>Temperature(F)</th><th>Wind_Chill(F)</th><th>Humidity(%)</th><th>Pressure(in)</th><th>Visibility(mi)</th><th>Wind_Direction</th><th>Wind_Speed(mph)</th><th>Precipitation(in)</th><th>Crossing</th><th>Junction</th><th>Traffic_Signal</th><th>Sunrise_Sunset</th><th>Duration</th><th>TimeofDay</th><th>Season</th><th>Day_Type</th><th>Clear</th><th>Cloud</th><th>Rain</th><th>Heavy_Rain</th><th>Snow</th><th>Heavy_Snow</th><th>Fog</th><th>Dusty</th><th>Windy</th><th>Ash</th></tr><tr><td>i64</td><td>f64</td><td>f64</td><td>f64</td><td>f64</td><td>f64</td><td>f64</td><td>f64</td><td>f64</td><td>str</td><td>f64</td><td>f64</td><td>i32</td><td>i32</td><td>i32</td><td>str</td><td>i64</td><td>str</td><td>str</td><td>str</td><td>i32</td><td>i32</td><td>i32</td><td>i32</td><td>i32</td><td>i32</td><td>i32</td><td>i32</td><td>i32</td><td>i32</td></tr></thead><tbody><tr><td>3</td><td>39.865147</td><td>-84.058723</td><td>0.01</td><td>36.9</td><td>58.251048</td><td>91.0</td><td>29.68</td><td>10.0</td><td>&quot;CALM&quot;</td><td>7.68549</td><td>0.02</td><td>0</td><td>0</td><td>0</td><td>&quot;0&quot;</td><td>18840</td><td>&quot;Early&nbsp;Morning&quot;</td><td>&quot;Winter&quot;</td><td>&quot;Weekday&quot;</td><td>0</td><td>0</td><td>1</td><td>0</td><td>0</td><td>0</td><td>0</td><td>0</td><td>0</td><td>0</td></tr></tbody></table></div>"
      ],
      "text/plain": [
       "shape: (1, 30)\n",
       "┌──────────┬───────────┬────────────┬──────────────┬───┬─────┬───────┬───────┬─────┐\n",
       "│ Severity ┆ Start_Lat ┆ Start_Lng  ┆ Distance(mi) ┆ … ┆ Fog ┆ Dusty ┆ Windy ┆ Ash │\n",
       "│ ---      ┆ ---       ┆ ---        ┆ ---          ┆   ┆ --- ┆ ---   ┆ ---   ┆ --- │\n",
       "│ i64      ┆ f64       ┆ f64        ┆ f64          ┆   ┆ i32 ┆ i32   ┆ i32   ┆ i32 │\n",
       "╞══════════╪═══════════╪════════════╪══════════════╪═══╪═════╪═══════╪═══════╪═════╡\n",
       "│ 3        ┆ 39.865147 ┆ -84.058723 ┆ 0.01         ┆ … ┆ 0   ┆ 0     ┆ 0     ┆ 0   │\n",
       "└──────────┴───────────┴────────────┴──────────────┴───┴─────┴───────┴───────┴─────┘"
      ]
     },
     "execution_count": 62,
     "metadata": {},
     "output_type": "execute_result"
    }
   ],
   "source": [
    "df_drop.head(1)"
   ]
  },
  {
   "cell_type": "code",
   "execution_count": 63,
   "id": "qmjLmNXLMNsw",
   "metadata": {
    "id": "qmjLmNXLMNsw"
   },
   "outputs": [],
   "source": [
    "# Numerical columns\n",
    "numeric_columns = [\n",
    "    \"Start_Lat\", \"Start_Lng\", \"Distance(mi)\", \"Temperature(F)\", \"Wind_Chill(F)\",\n",
    "    \"Humidity(%)\", \"Pressure(in)\", \"Visibility(mi)\", \"Wind_Speed(mph)\",\n",
    "    \"Precipitation(in)\", \"Duration\"\n",
    "]\n",
    "\n",
    "# Categorical columns\n",
    "categorical_columns = [\n",
    "    \"Wind_Direction\", \"Crossing\", \"Junction\", \"Traffic_Signal\", \"Sunrise_Sunset\",\n",
    "    \"TimeofDay\", \"Season\", \"Day_Type\", \"Clear\", \"Cloud\", \"Rain\", \"Heavy_Rain\",\n",
    "    \"Snow\", \"Heavy_Snow\", \"Fog\", \"Dusty\", \"Windy\", \"Ash\"\n",
    "]\n"
   ]
  },
  {
   "cell_type": "code",
   "execution_count": 64,
   "id": "9cbL6hkANXy2",
   "metadata": {
    "id": "9cbL6hkANXy2"
   },
   "outputs": [],
   "source": [
    "sampled_data = df_drop.sample(n=10_000, with_replacement=True, seed=42)\n",
    "\n",
    "\n",
    "X = sampled_data.drop(\"Severity\")\n",
    "y = sampled_data[\"Severity\"]\n",
    "\n"
   ]
  },
  {
   "cell_type": "code",
   "execution_count": 65,
   "id": "6ebbe0b0",
   "metadata": {},
   "outputs": [],
   "source": [
    "from sklearn.preprocessing import OneHotEncoder\n",
    "from sklearn.impute import SimpleImputer\n",
    "\n",
    "# Function to preprocess the dataset (handle missing values and one-hot encode)\n",
    "def preprocess_dataset(df, numeric_columns, categorical_columns):\n",
    "    # Step 1: Handle missing values\n",
    "    # Replace nulls in numeric columns with their mean\n",
    "    imputer_numeric = SimpleImputer(strategy='mean')\n",
    "    df_numeric_imputed = pl.DataFrame(\n",
    "        imputer_numeric.fit_transform(df[numeric_columns].to_numpy()), \n",
    "        schema=numeric_columns\n",
    "    )\n",
    "\n",
    "    # Replace nulls in categorical columns with the most frequent category\n",
    "    imputer_categorical = SimpleImputer(strategy='most_frequent')\n",
    "    df_categorical_imputed = pl.DataFrame(\n",
    "        imputer_categorical.fit_transform(df[categorical_columns].to_numpy()), \n",
    "        schema=categorical_columns\n",
    "    )\n",
    "\n",
    "    # Step 2: One-hot encode categorical columns\n",
    "    encoder = OneHotEncoder(sparse_output=False, handle_unknown='ignore')\n",
    "    encoded_categorical = encoder.fit_transform(df_categorical_imputed.to_numpy())\n",
    "    \n",
    "    # Get encoded column names\n",
    "    encoded_column_names = encoder.get_feature_names_out(categorical_columns)\n",
    "    df_categorical_encoded = pl.DataFrame(encoded_categorical, schema=list(encoded_column_names))\n",
    "\n",
    "    # Combine numeric and one-hot encoded categorical columns\n",
    "    df_processed = df_numeric_imputed.with_columns(df_categorical_encoded)\n",
    "\n",
    "    return df_processed\n",
    "\n",
    "# Preprocess the entire dataset\n",
    "X_processed = preprocess_dataset(X, numeric_columns, categorical_columns)\n",
    "\n",
    "# Split the processed dataset into train and test sets\n",
    "from sklearn.model_selection import train_test_split\n",
    "X_train, X_test, y_train, y_test = train_test_split(X_processed, y, test_size=0.2, random_state=42)\n"
   ]
  },
  {
   "cell_type": "code",
   "execution_count": 66,
   "id": "wAgC1H28NY9T",
   "metadata": {
    "id": "wAgC1H28NY9T"
   },
   "outputs": [],
   "source": [
    "from sklearn.model_selection import train_test_split\n",
    "from sklearn.preprocessing import MinMaxScaler, OneHotEncoder\n",
    "\n",
    "X_train, X_test, y_train, y_test = train_test_split(X, y, test_size=0.2, random_state=42)\n",
    "\n",
    "# Function to normalize and encode x_train and x_test\n",
    "def normalize_and_encode_train_test(x_train, x_test, numeric_columns, categorical_columns):\n",
    "    scaler = MinMaxScaler()\n",
    "\n",
    "    scaled_train_numeric = scaler.fit_transform(x_train[numeric_columns].to_numpy())\n",
    "\n",
    "    scaled_test_numeric = scaler.transform(x_test[numeric_columns].to_numpy())\n",
    "\n",
    "    # Convert scaled numeric data back to Polars DataFrame\n",
    "    x_train_scaled = x_train.with_columns(pl.DataFrame(scaled_train_numeric, schema=numeric_columns))\n",
    "    x_test_scaled = x_test.with_columns(pl.DataFrame(scaled_test_numeric, schema=numeric_columns))\n",
    "\n",
    "    encoder = OneHotEncoder(sparse_output=False, handle_unknown='ignore')  # Handle unknown categories gracefully\n",
    "\n",
    "    # Fit the encoder on x_train categorical columns and transform x_train\n",
    "    encoded_train_categorical = encoder.fit_transform(x_train[categorical_columns].to_numpy())\n",
    "\n",
    "    # Transform x_test using the same encoder\n",
    "    encoded_test_categorical = encoder.transform(x_test[categorical_columns].to_numpy())\n",
    "\n",
    "    # Get encoded column names\n",
    "    encoded_column_names = encoder.get_feature_names_out(categorical_columns)\n",
    "\n",
    "    # Convert encoded categorical data back to Polars DataFrame\n",
    "    x_train_encoded = pl.DataFrame(encoded_train_categorical, schema=list(encoded_column_names))\n",
    "    x_test_encoded = pl.DataFrame(encoded_test_categorical, schema=list(encoded_column_names))\n",
    "\n",
    "    x_train_final = x_train_scaled.with_columns(x_train_encoded).drop(categorical_columns)\n",
    "    x_test_final = x_test_scaled.with_columns(x_test_encoded).drop(categorical_columns)\n",
    "\n",
    "    return x_train_final, x_test_final\n",
    "\n",
    "\n",
    "X_train_processed, X_test_processed = normalize_and_encode_train_test(X_train, X_test, numeric_columns, categorical_columns)\n",
    "\n",
    "\n",
    "\n"
   ]
  },
  {
   "cell_type": "code",
   "execution_count": 67,
   "id": "1a69d54b",
   "metadata": {},
   "outputs": [
    {
     "name": "stderr",
     "output_type": "stream",
     "text": [
      "/Users/rahulbharti/anaconda3/lib/python3.10/pty.py:89: RuntimeWarning: Using fork() can cause Polars to deadlock in the child process.\n",
      "In addition, using fork() with Python in general is a recipe for mysterious\n",
      "deadlocks and crashes.\n",
      "\n",
      "The most likely reason you are seeing this error is because you are using the\n",
      "multiprocessing module on Linux, which uses fork() by default. This will be\n",
      "fixed in Python 3.14. Until then, you want to use the \"spawn\" context instead.\n",
      "\n",
      "See https://docs.pola.rs/user-guide/misc/multiprocessing/ for details.\n",
      "\n",
      "  pid, fd = os.forkpty()\n"
     ]
    },
    {
     "name": "stdout",
     "output_type": "stream",
     "text": [
      "Requirement already satisfied: lazypredict in ./venv/lib/python3.10/site-packages (0.2.13)\n",
      "Requirement already satisfied: click in ./venv/lib/python3.10/site-packages (from lazypredict) (8.1.7)\n",
      "Requirement already satisfied: scikit-learn in ./venv/lib/python3.10/site-packages (from lazypredict) (1.5.2)\n",
      "Requirement already satisfied: pandas in ./venv/lib/python3.10/site-packages (from lazypredict) (2.2.3)\n",
      "Requirement already satisfied: tqdm in ./venv/lib/python3.10/site-packages (from lazypredict) (4.67.1)\n",
      "Requirement already satisfied: joblib in ./venv/lib/python3.10/site-packages (from lazypredict) (1.4.2)\n",
      "Requirement already satisfied: lightgbm in ./venv/lib/python3.10/site-packages (from lazypredict) (4.5.0)\n",
      "Requirement already satisfied: xgboost in ./venv/lib/python3.10/site-packages (from lazypredict) (2.1.3)\n",
      "Requirement already satisfied: numpy>=1.17.0 in ./venv/lib/python3.10/site-packages (from lightgbm->lazypredict) (2.1.3)\n",
      "Requirement already satisfied: scipy in ./venv/lib/python3.10/site-packages (from lightgbm->lazypredict) (1.14.1)\n",
      "Requirement already satisfied: python-dateutil>=2.8.2 in ./venv/lib/python3.10/site-packages (from pandas->lazypredict) (2.9.0.post0)\n",
      "Requirement already satisfied: pytz>=2020.1 in ./venv/lib/python3.10/site-packages (from pandas->lazypredict) (2024.2)\n",
      "Requirement already satisfied: tzdata>=2022.7 in ./venv/lib/python3.10/site-packages (from pandas->lazypredict) (2024.2)\n",
      "Requirement already satisfied: threadpoolctl>=3.1.0 in ./venv/lib/python3.10/site-packages (from scikit-learn->lazypredict) (3.5.0)\n",
      "Requirement already satisfied: six>=1.5 in ./venv/lib/python3.10/site-packages (from python-dateutil>=2.8.2->pandas->lazypredict) (1.16.0)\n"
     ]
    }
   ],
   "source": [
    "!pip install lazypredict"
   ]
  },
  {
   "cell_type": "code",
   "execution_count": 68,
   "id": "qgzcQtz-xrbQ",
   "metadata": {
    "id": "qgzcQtz-xrbQ"
   },
   "outputs": [],
   "source": [
    "X_train = X_train.to_pandas()\n",
    "X_test = X_test.to_pandas()\n",
    "y_train = y_train.to_pandas()\n",
    "X_train_processed=X_train_processed.to_pandas()\n",
    "X_test_processed=X_test_processed.to_pandas()\n",
    "y_test = y_test.to_pandas()"
   ]
  },
  {
   "cell_type": "code",
   "execution_count": 69,
   "id": "Lf0uT67cw-bR",
   "metadata": {
    "id": "Lf0uT67cw-bR"
   },
   "outputs": [],
   "source": [
    "import lazypredict"
   ]
  },
  {
   "cell_type": "code",
   "execution_count": 70,
   "id": "E-Cb2Os7xCTk",
   "metadata": {
    "colab": {
     "base_uri": "https://localhost:8080/"
    },
    "id": "E-Cb2Os7xCTk",
    "outputId": "0c5c9c89-1e1a-4cd2-f377-d115f61e35f2"
   },
   "outputs": [
    {
     "name": "stderr",
     "output_type": "stream",
     "text": [
      " 87%|█████████████████████████████████████▍     | 27/31 [00:14<00:03,  1.26it/s]"
     ]
    },
    {
     "name": "stdout",
     "output_type": "stream",
     "text": [
      "[LightGBM] [Info] Auto-choosing row-wise multi-threading, the overhead of testing was 0.001567 seconds.\n",
      "You can set `force_row_wise=true` to remove the overhead.\n",
      "And if memory is not enough, you can set `force_col_wise=true`.\n",
      "[LightGBM] [Info] Total Bins 1824\n",
      "[LightGBM] [Info] Number of data points in the train set: 8000, number of used features: 47\n",
      "[LightGBM] [Info] Start training from score -4.926754\n",
      "[LightGBM] [Info] Start training from score -0.219712\n",
      "[LightGBM] [Info] Start training from score -1.814772\n",
      "[LightGBM] [Info] Start training from score -3.607299\n"
     ]
    },
    {
     "name": "stderr",
     "output_type": "stream",
     "text": [
      "100%|███████████████████████████████████████████| 31/31 [00:17<00:00,  1.81it/s]"
     ]
    },
    {
     "name": "stdout",
     "output_type": "stream",
     "text": [
      "                               Accuracy  Balanced Accuracy ROC AUC  F1 Score  \\\n",
      "Model                                                                          \n",
      "NearestCentroid                    0.29               0.43    None      0.36   \n",
      "QuadraticDiscriminantAnalysis      0.16               0.38    None      0.20   \n",
      "GaussianNB                         0.03               0.37    None      0.03   \n",
      "LGBMClassifier                     0.81               0.34    None      0.78   \n",
      "DecisionTreeClassifier             0.74               0.34    None      0.74   \n",
      "BaggingClassifier                  0.80               0.33    None      0.78   \n",
      "AdaBoostClassifier                 0.69               0.32    None      0.71   \n",
      "LabelSpreading                     0.70               0.30    None      0.69   \n",
      "LabelPropagation                   0.70               0.30    None      0.69   \n",
      "ExtraTreeClassifier                0.69               0.30    None      0.69   \n",
      "PassiveAggressiveClassifier        0.75               0.29    None      0.71   \n",
      "Perceptron                         0.63               0.29    None      0.66   \n",
      "RandomForestClassifier             0.80               0.29    None      0.75   \n",
      "KNeighborsClassifier               0.77               0.28    None      0.71   \n",
      "ExtraTreesClassifier               0.79               0.27    None      0.73   \n",
      "BernoulliNB                        0.78               0.26    None      0.71   \n",
      "LogisticRegression                 0.79               0.25    None      0.70   \n",
      "SVC                                0.79               0.25    None      0.70   \n",
      "CalibratedClassifierCV             0.79               0.25    None      0.70   \n",
      "LinearSVC                          0.79               0.25    None      0.70   \n",
      "DummyClassifier                    0.79               0.25    None      0.70   \n",
      "RidgeClassifier                    0.79               0.25    None      0.70   \n",
      "RidgeClassifierCV                  0.79               0.25    None      0.70   \n",
      "SGDClassifier                      0.79               0.25    None      0.70   \n",
      "LinearDiscriminantAnalysis         0.79               0.25    None      0.70   \n",
      "\n",
      "                               Time Taken  \n",
      "Model                                      \n",
      "NearestCentroid                      0.03  \n",
      "QuadraticDiscriminantAnalysis        0.06  \n",
      "GaussianNB                           0.03  \n",
      "LGBMClassifier                       2.18  \n",
      "DecisionTreeClassifier               0.13  \n",
      "BaggingClassifier                    0.75  \n",
      "AdaBoostClassifier                   0.61  \n",
      "LabelSpreading                       2.26  \n",
      "LabelPropagation                     1.25  \n",
      "ExtraTreeClassifier                  0.04  \n",
      "PassiveAggressiveClassifier          0.07  \n",
      "Perceptron                           0.05  \n",
      "RandomForestClassifier               1.23  \n",
      "KNeighborsClassifier                 0.24  \n",
      "ExtraTreesClassifier                 0.96  \n",
      "BernoulliNB                          0.03  \n",
      "LogisticRegression                   0.11  \n",
      "SVC                                  3.15  \n",
      "CalibratedClassifierCV               3.06  \n",
      "LinearSVC                            0.34  \n",
      "DummyClassifier                      0.03  \n",
      "RidgeClassifier                      0.03  \n",
      "RidgeClassifierCV                    0.05  \n",
      "SGDClassifier                        0.26  \n",
      "LinearDiscriminantAnalysis           0.07  \n"
     ]
    },
    {
     "name": "stderr",
     "output_type": "stream",
     "text": [
      "\n"
     ]
    }
   ],
   "source": [
    "from lazypredict.Supervised import LazyClassifier\n",
    "\n",
    "clf = LazyClassifier(verbose=0,ignore_warnings=True, custom_metric=None)\n",
    "models,predictions = clf.fit(X_train, X_test, y_train, y_test)\n",
    "\n",
    "print(models)\n"
   ]
  },
  {
   "cell_type": "code",
   "execution_count": 71,
   "id": "LaSzoknSFJHa",
   "metadata": {
    "colab": {
     "base_uri": "https://localhost:8080/",
     "height": 373
    },
    "id": "LaSzoknSFJHa",
    "outputId": "85ce137f-a3b2-4608-ce16-6766e78e889f"
   },
   "outputs": [
    {
     "name": "stdout",
     "output_type": "stream",
     "text": [
      "Fitting 3 folds for each of 216 candidates, totalling 648 fits\n",
      "Best Parameters: {'max_depth': None, 'max_features': 'sqrt', 'min_samples_leaf': 1, 'min_samples_split': 5, 'n_estimators': 50}\n",
      "              precision    recall  f1-score   support\n",
      "\n",
      "           1       0.00      0.00      0.00        16\n",
      "           2       0.81      0.97      0.88      1583\n",
      "           3       0.50      0.16      0.24       347\n",
      "           4       0.00      0.00      0.00        54\n",
      "\n",
      "    accuracy                           0.79      2000\n",
      "   macro avg       0.33      0.28      0.28      2000\n",
      "weighted avg       0.73      0.79      0.74      2000\n",
      "\n"
     ]
    }
   ],
   "source": [
    "from sklearn.ensemble import RandomForestClassifier\n",
    "from sklearn.model_selection import GridSearchCV\n",
    "from sklearn.model_selection import train_test_split\n",
    "from sklearn.metrics import classification_report\n",
    "\n",
    "# Create a Random Forest Classifier\n",
    "rf = RandomForestClassifier(random_state=42)\n",
    "\n",
    "# Define the parameter grid\n",
    "param_grid = {\n",
    "    'n_estimators': [50, 100, 200],\n",
    "    'max_features': [ 'sqrt', 'log2'],\n",
    "    'max_depth': [None, 10, 20, 30],\n",
    "    'min_samples_split': [2, 5, 10],\n",
    "    'min_samples_leaf': [1, 2, 4]\n",
    "}\n",
    "\n",
    "# Setup the grid search\n",
    "grid_search = GridSearchCV(estimator=rf, param_grid=param_grid,\n",
    "                           scoring='accuracy', n_jobs=-1, cv=3, verbose=2)\n",
    "\n",
    "# Fit the grid search to the data\n",
    "grid_search.fit(X_train_processed, y_train)\n",
    "\n",
    "# Get the best parameters and model\n",
    "best_params = grid_search.best_params_\n",
    "best_rf_model = grid_search.best_estimator_\n",
    "\n",
    "print(f\"Best Parameters: {best_params}\")\n",
    "\n",
    "# Make predictions with the best model\n",
    "# y_pred = best_rf_model.predict(X_test_processed)\n",
    "y_pred = best_rf_model.predict(X_test_processed)\n",
    "\n",
    "# Evaluate the model\n",
    "print(classification_report(y_test, y_pred))\n"
   ]
  },
  {
   "cell_type": "code",
   "execution_count": 72,
   "id": "3YCC6cwuLlrj",
   "metadata": {
    "id": "3YCC6cwuLlrj"
   },
   "outputs": [
    {
     "name": "stdout",
     "output_type": "stream",
     "text": [
      "[CV] END max_depth=None, max_features=sqrt, min_samples_leaf=1, min_samples_split=2, n_estimators=100; total time=   1.8s\n",
      "[CV] END max_depth=None, max_features=sqrt, min_samples_leaf=1, min_samples_split=5, n_estimators=200; total time=   3.7s\n",
      "[CV] END max_depth=None, max_features=sqrt, min_samples_leaf=2, min_samples_split=2, n_estimators=50; total time=   0.7s\n",
      "[CV] END max_depth=None, max_features=sqrt, min_samples_leaf=2, min_samples_split=2, n_estimators=100; total time=   1.6s\n",
      "[CV] END max_depth=None, max_features=sqrt, min_samples_leaf=2, min_samples_split=5, n_estimators=50; total time=   0.7s\n",
      "[CV] END max_depth=None, max_features=sqrt, min_samples_leaf=2, min_samples_split=5, n_estimators=200; total time=   3.0s\n",
      "[CV] END max_depth=None, max_features=sqrt, min_samples_leaf=4, min_samples_split=2, n_estimators=50; total time=   0.8s\n",
      "[CV] END max_depth=None, max_features=sqrt, min_samples_leaf=4, min_samples_split=2, n_estimators=100; total time=   1.4s\n",
      "[CV] END max_depth=None, max_features=sqrt, min_samples_leaf=4, min_samples_split=5, n_estimators=50; total time=   0.8s\n",
      "[CV] END max_depth=None, max_features=sqrt, min_samples_leaf=4, min_samples_split=5, n_estimators=200; total time=   3.8s\n",
      "[CV] END max_depth=None, max_features=log2, min_samples_leaf=1, min_samples_split=2, n_estimators=50; total time=   0.7s\n",
      "[CV] END max_depth=None, max_features=log2, min_samples_leaf=1, min_samples_split=2, n_estimators=100; total time=   1.5s\n",
      "[CV] END max_depth=None, max_features=log2, min_samples_leaf=1, min_samples_split=5, n_estimators=100; total time=   1.4s\n",
      "[CV] END max_depth=None, max_features=log2, min_samples_leaf=1, min_samples_split=5, n_estimators=200; total time=   4.4s\n",
      "[CV] END max_depth=None, max_features=log2, min_samples_leaf=2, min_samples_split=2, n_estimators=200; total time=   4.9s\n",
      "[CV] END max_depth=None, max_features=log2, min_samples_leaf=2, min_samples_split=10, n_estimators=50; total time=   1.0s\n",
      "[CV] END max_depth=None, max_features=log2, min_samples_leaf=2, min_samples_split=10, n_estimators=100; total time=   2.1s\n",
      "[CV] END max_depth=None, max_features=log2, min_samples_leaf=4, min_samples_split=2, n_estimators=100; total time=   1.4s\n",
      "[CV] END max_depth=None, max_features=log2, min_samples_leaf=4, min_samples_split=5, n_estimators=50; total time=   0.7s\n",
      "[CV] END max_depth=None, max_features=log2, min_samples_leaf=4, min_samples_split=5, n_estimators=100; total time=   1.4s\n",
      "[CV] END max_depth=None, max_features=log2, min_samples_leaf=4, min_samples_split=10, n_estimators=50; total time=   0.7s\n",
      "[CV] END max_depth=None, max_features=log2, min_samples_leaf=4, min_samples_split=10, n_estimators=200; total time=   2.8s\n",
      "[CV] END max_depth=10, max_features=sqrt, min_samples_leaf=1, min_samples_split=5, n_estimators=50; total time=   0.9s\n",
      "[CV] END max_depth=10, max_features=sqrt, min_samples_leaf=1, min_samples_split=5, n_estimators=200; total time=   3.3s\n",
      "[CV] END max_depth=10, max_features=sqrt, min_samples_leaf=2, min_samples_split=2, n_estimators=50; total time=   0.9s\n",
      "[CV] END max_depth=10, max_features=sqrt, min_samples_leaf=2, min_samples_split=2, n_estimators=100; total time=   1.6s\n",
      "[CV] END max_depth=10, max_features=sqrt, min_samples_leaf=2, min_samples_split=5, n_estimators=50; total time=   0.7s\n",
      "[CV] END max_depth=10, max_features=sqrt, min_samples_leaf=2, min_samples_split=5, n_estimators=200; total time=   3.3s\n",
      "[CV] END max_depth=10, max_features=sqrt, min_samples_leaf=4, min_samples_split=2, n_estimators=50; total time=   0.7s\n",
      "[CV] END max_depth=10, max_features=sqrt, min_samples_leaf=4, min_samples_split=2, n_estimators=200; total time=   2.6s\n",
      "[CV] END max_depth=10, max_features=sqrt, min_samples_leaf=4, min_samples_split=10, n_estimators=50; total time=   0.8s\n",
      "[CV] END max_depth=10, max_features=sqrt, min_samples_leaf=4, min_samples_split=10, n_estimators=100; total time=   1.7s\n",
      "[CV] END max_depth=10, max_features=log2, min_samples_leaf=1, min_samples_split=2, n_estimators=50; total time=   0.9s\n",
      "[CV] END max_depth=10, max_features=log2, min_samples_leaf=1, min_samples_split=2, n_estimators=200; total time=   2.8s\n",
      "[CV] END max_depth=10, max_features=log2, min_samples_leaf=1, min_samples_split=10, n_estimators=50; total time=   0.5s\n",
      "[CV] END max_depth=10, max_features=log2, min_samples_leaf=1, min_samples_split=10, n_estimators=200; total time=   2.0s\n",
      "[CV] END max_depth=10, max_features=log2, min_samples_leaf=2, min_samples_split=5, n_estimators=50; total time=   0.5s\n",
      "[CV] END max_depth=10, max_features=log2, min_samples_leaf=2, min_samples_split=5, n_estimators=100; total time=   0.9s\n",
      "[CV] END max_depth=10, max_features=log2, min_samples_leaf=2, min_samples_split=10, n_estimators=50; total time=   0.5s\n",
      "[CV] END max_depth=10, max_features=log2, min_samples_leaf=2, min_samples_split=10, n_estimators=200; total time=   2.0s\n",
      "[CV] END max_depth=10, max_features=log2, min_samples_leaf=4, min_samples_split=5, n_estimators=50; total time=   0.5s\n",
      "[CV] END max_depth=10, max_features=log2, min_samples_leaf=4, min_samples_split=5, n_estimators=100; total time=   0.9s\n",
      "[CV] END max_depth=10, max_features=log2, min_samples_leaf=4, min_samples_split=10, n_estimators=50; total time=   0.4s\n",
      "[CV] END max_depth=10, max_features=log2, min_samples_leaf=4, min_samples_split=10, n_estimators=200; total time=   2.0s\n",
      "[CV] END max_depth=20, max_features=sqrt, min_samples_leaf=1, min_samples_split=5, n_estimators=50; total time=   0.7s\n",
      "[CV] END max_depth=20, max_features=sqrt, min_samples_leaf=1, min_samples_split=5, n_estimators=100; total time=   1.4s\n",
      "[CV] END max_depth=20, max_features=sqrt, min_samples_leaf=1, min_samples_split=5, n_estimators=200; total time=   2.8s\n",
      "[CV] END max_depth=20, max_features=sqrt, min_samples_leaf=2, min_samples_split=2, n_estimators=200; total time=   2.7s\n",
      "[CV] END max_depth=20, max_features=sqrt, min_samples_leaf=2, min_samples_split=10, n_estimators=50; total time=   0.6s\n",
      "[CV] END max_depth=20, max_features=sqrt, min_samples_leaf=2, min_samples_split=10, n_estimators=100; total time=   1.3s\n",
      "[CV] END max_depth=20, max_features=sqrt, min_samples_leaf=4, min_samples_split=2, n_estimators=100; total time=   1.2s\n",
      "[CV] END max_depth=20, max_features=sqrt, min_samples_leaf=4, min_samples_split=2, n_estimators=200; total time=   2.8s\n",
      "[CV] END max_depth=20, max_features=sqrt, min_samples_leaf=4, min_samples_split=10, n_estimators=200; total time=   2.5s\n",
      "[CV] END max_depth=20, max_features=log2, min_samples_leaf=1, min_samples_split=2, n_estimators=200; total time=   2.5s\n",
      "[CV] END max_depth=20, max_features=log2, min_samples_leaf=1, min_samples_split=10, n_estimators=200; total time=   2.3s\n",
      "[CV] END max_depth=20, max_features=log2, min_samples_leaf=2, min_samples_split=5, n_estimators=50; total time=   0.6s\n",
      "[CV] END max_depth=20, max_features=log2, min_samples_leaf=2, min_samples_split=5, n_estimators=100; total time=   1.1s\n",
      "[CV] END max_depth=20, max_features=log2, min_samples_leaf=2, min_samples_split=10, n_estimators=100; total time=   1.1s\n",
      "[CV] END max_depth=20, max_features=log2, min_samples_leaf=2, min_samples_split=10, n_estimators=200; total time=   2.1s\n",
      "[CV] END max_depth=20, max_features=log2, min_samples_leaf=4, min_samples_split=5, n_estimators=200; total time=   2.0s\n",
      "[CV] END max_depth=30, max_features=sqrt, min_samples_leaf=1, min_samples_split=2, n_estimators=50; total time=   0.7s\n",
      "[CV] END max_depth=30, max_features=sqrt, min_samples_leaf=1, min_samples_split=2, n_estimators=100; total time=   1.4s\n",
      "[CV] END max_depth=30, max_features=sqrt, min_samples_leaf=1, min_samples_split=5, n_estimators=100; total time=   1.3s\n",
      "[CV] END max_depth=30, max_features=sqrt, min_samples_leaf=1, min_samples_split=10, n_estimators=50; total time=   0.6s\n",
      "[CV] END max_depth=30, max_features=sqrt, min_samples_leaf=1, min_samples_split=10, n_estimators=200; total time=   2.7s\n",
      "[CV] END max_depth=30, max_features=sqrt, min_samples_leaf=2, min_samples_split=2, n_estimators=200; total time=   2.7s\n",
      "[CV] END max_depth=30, max_features=sqrt, min_samples_leaf=2, min_samples_split=10, n_estimators=100; total time=   1.4s\n",
      "[CV] END max_depth=30, max_features=sqrt, min_samples_leaf=4, min_samples_split=2, n_estimators=100; total time=   1.2s\n",
      "[CV] END max_depth=30, max_features=sqrt, min_samples_leaf=4, min_samples_split=2, n_estimators=200; total time=   2.4s\n",
      "[CV] END max_depth=30, max_features=sqrt, min_samples_leaf=4, min_samples_split=10, n_estimators=100; total time=   1.2s\n",
      "[CV] END max_depth=30, max_features=log2, min_samples_leaf=1, min_samples_split=2, n_estimators=100; total time=   1.6s\n",
      "[CV] END max_depth=30, max_features=log2, min_samples_leaf=1, min_samples_split=5, n_estimators=50; total time=   1.4s\n",
      "[CV] END max_depth=30, max_features=log2, min_samples_leaf=1, min_samples_split=5, n_estimators=100; total time=   2.0s\n",
      "[CV] END max_depth=30, max_features=log2, min_samples_leaf=1, min_samples_split=10, n_estimators=100; total time=   2.2s\n",
      "[CV] END max_depth=30, max_features=log2, min_samples_leaf=1, min_samples_split=10, n_estimators=200; total time=   2.3s\n",
      "[CV] END max_depth=30, max_features=log2, min_samples_leaf=2, min_samples_split=5, n_estimators=100; total time=   1.2s\n",
      "[CV] END max_depth=30, max_features=log2, min_samples_leaf=2, min_samples_split=10, n_estimators=50; total time=   0.6s\n",
      "[CV] END max_depth=30, max_features=log2, min_samples_leaf=2, min_samples_split=10, n_estimators=200; total time=   2.3s\n",
      "[CV] END max_depth=30, max_features=log2, min_samples_leaf=4, min_samples_split=5, n_estimators=50; total time=   0.5s\n",
      "[CV] END max_depth=30, max_features=log2, min_samples_leaf=4, min_samples_split=5, n_estimators=100; total time=   1.0s\n",
      "[CV] END max_depth=30, max_features=log2, min_samples_leaf=4, min_samples_split=10, n_estimators=100; total time=   1.0s\n"
     ]
    },
    {
     "name": "stdout",
     "output_type": "stream",
     "text": [
      "[CV] END max_depth=None, max_features=sqrt, min_samples_leaf=1, min_samples_split=2, n_estimators=50; total time=   0.9s\n",
      "[CV] END max_depth=None, max_features=sqrt, min_samples_leaf=1, min_samples_split=2, n_estimators=200; total time=   3.8s\n",
      "[CV] END max_depth=None, max_features=sqrt, min_samples_leaf=1, min_samples_split=10, n_estimators=200; total time=   3.1s\n",
      "[CV] END max_depth=None, max_features=sqrt, min_samples_leaf=2, min_samples_split=5, n_estimators=50; total time=   0.7s\n",
      "[CV] END max_depth=None, max_features=sqrt, min_samples_leaf=2, min_samples_split=5, n_estimators=100; total time=   1.3s\n",
      "[CV] END max_depth=None, max_features=sqrt, min_samples_leaf=2, min_samples_split=10, n_estimators=50; total time=   0.8s\n",
      "[CV] END max_depth=None, max_features=sqrt, min_samples_leaf=2, min_samples_split=10, n_estimators=200; total time=   3.2s\n",
      "[CV] END max_depth=None, max_features=sqrt, min_samples_leaf=4, min_samples_split=5, n_estimators=50; total time=   0.8s\n",
      "[CV] END max_depth=None, max_features=sqrt, min_samples_leaf=4, min_samples_split=5, n_estimators=100; total time=   2.3s\n",
      "[CV] END max_depth=None, max_features=sqrt, min_samples_leaf=4, min_samples_split=10, n_estimators=100; total time=   1.5s\n",
      "[CV] END max_depth=None, max_features=log2, min_samples_leaf=1, min_samples_split=2, n_estimators=50; total time=   0.8s\n",
      "[CV] END max_depth=None, max_features=log2, min_samples_leaf=1, min_samples_split=2, n_estimators=100; total time=   1.5s\n",
      "[CV] END max_depth=None, max_features=log2, min_samples_leaf=1, min_samples_split=5, n_estimators=50; total time=   0.7s\n",
      "[CV] END max_depth=None, max_features=log2, min_samples_leaf=1, min_samples_split=5, n_estimators=200; total time=   3.5s\n",
      "[CV] END max_depth=None, max_features=log2, min_samples_leaf=2, min_samples_split=2, n_estimators=50; total time=   1.4s\n",
      "[CV] END max_depth=None, max_features=log2, min_samples_leaf=2, min_samples_split=2, n_estimators=100; total time=   2.5s\n",
      "[CV] END max_depth=None, max_features=log2, min_samples_leaf=2, min_samples_split=5, n_estimators=100; total time=   2.5s\n",
      "[CV] END max_depth=None, max_features=log2, min_samples_leaf=2, min_samples_split=10, n_estimators=50; total time=   0.8s\n",
      "[CV] END max_depth=None, max_features=log2, min_samples_leaf=2, min_samples_split=10, n_estimators=100; total time=   2.1s\n",
      "[CV] END max_depth=None, max_features=log2, min_samples_leaf=4, min_samples_split=2, n_estimators=50; total time=   0.7s\n",
      "[CV] END max_depth=None, max_features=log2, min_samples_leaf=4, min_samples_split=2, n_estimators=100; total time=   1.3s\n",
      "[CV] END max_depth=None, max_features=log2, min_samples_leaf=4, min_samples_split=5, n_estimators=50; total time=   0.7s\n",
      "[CV] END max_depth=None, max_features=log2, min_samples_leaf=4, min_samples_split=5, n_estimators=200; total time=   2.7s\n",
      "[CV] END max_depth=None, max_features=log2, min_samples_leaf=4, min_samples_split=10, n_estimators=200; total time=   2.8s\n",
      "[CV] END max_depth=10, max_features=sqrt, min_samples_leaf=1, min_samples_split=5, n_estimators=100; total time=   1.5s\n",
      "[CV] END max_depth=10, max_features=sqrt, min_samples_leaf=1, min_samples_split=10, n_estimators=100; total time=   1.7s\n",
      "[CV] END max_depth=10, max_features=sqrt, min_samples_leaf=1, min_samples_split=10, n_estimators=200; total time=   3.2s\n",
      "[CV] END max_depth=10, max_features=sqrt, min_samples_leaf=2, min_samples_split=5, n_estimators=200; total time=   3.2s\n",
      "[CV] END max_depth=10, max_features=sqrt, min_samples_leaf=2, min_samples_split=10, n_estimators=200; total time=   2.8s\n",
      "[CV] END max_depth=10, max_features=sqrt, min_samples_leaf=4, min_samples_split=5, n_estimators=200; total time=   3.0s\n",
      "[CV] END max_depth=10, max_features=log2, min_samples_leaf=1, min_samples_split=2, n_estimators=50; total time=   0.8s\n",
      "[CV] END max_depth=10, max_features=log2, min_samples_leaf=1, min_samples_split=2, n_estimators=100; total time=   1.8s\n",
      "[CV] END max_depth=10, max_features=log2, min_samples_leaf=1, min_samples_split=5, n_estimators=50; total time=   0.6s\n",
      "[CV] END max_depth=10, max_features=log2, min_samples_leaf=1, min_samples_split=5, n_estimators=200; total time=   2.3s\n",
      "[CV] END max_depth=10, max_features=log2, min_samples_leaf=2, min_samples_split=2, n_estimators=50; total time=   0.5s\n",
      "[CV] END max_depth=10, max_features=log2, min_samples_leaf=2, min_samples_split=2, n_estimators=100; total time=   0.9s\n",
      "[CV] END max_depth=10, max_features=log2, min_samples_leaf=2, min_samples_split=5, n_estimators=50; total time=   0.5s\n",
      "[CV] END max_depth=10, max_features=log2, min_samples_leaf=2, min_samples_split=5, n_estimators=200; total time=   1.8s\n",
      "[CV] END max_depth=10, max_features=log2, min_samples_leaf=4, min_samples_split=2, n_estimators=50; total time=   0.5s\n",
      "[CV] END max_depth=10, max_features=log2, min_samples_leaf=4, min_samples_split=2, n_estimators=200; total time=   2.1s\n",
      "[CV] END max_depth=10, max_features=log2, min_samples_leaf=4, min_samples_split=10, n_estimators=50; total time=   0.4s\n",
      "[CV] END max_depth=10, max_features=log2, min_samples_leaf=4, min_samples_split=10, n_estimators=100; total time=   0.9s\n",
      "[CV] END max_depth=20, max_features=sqrt, min_samples_leaf=1, min_samples_split=2, n_estimators=50; total time=   0.9s\n",
      "[CV] END max_depth=20, max_features=sqrt, min_samples_leaf=1, min_samples_split=2, n_estimators=200; total time=   3.0s\n",
      "[CV] END max_depth=20, max_features=sqrt, min_samples_leaf=1, min_samples_split=10, n_estimators=100; total time=   1.3s\n",
      "[CV] END max_depth=20, max_features=sqrt, min_samples_leaf=2, min_samples_split=2, n_estimators=50; total time=   0.7s\n",
      "[CV] END max_depth=20, max_features=sqrt, min_samples_leaf=2, min_samples_split=2, n_estimators=100; total time=   1.4s\n",
      "[CV] END max_depth=20, max_features=sqrt, min_samples_leaf=2, min_samples_split=5, n_estimators=100; total time=   1.4s\n",
      "[CV] END max_depth=20, max_features=sqrt, min_samples_leaf=2, min_samples_split=5, n_estimators=200; total time=   2.6s\n",
      "[CV] END max_depth=20, max_features=sqrt, min_samples_leaf=4, min_samples_split=2, n_estimators=200; total time=   2.8s\n",
      "[CV] END max_depth=20, max_features=sqrt, min_samples_leaf=4, min_samples_split=10, n_estimators=50; total time=   0.6s\n",
      "[CV] END max_depth=20, max_features=sqrt, min_samples_leaf=4, min_samples_split=10, n_estimators=100; total time=   1.3s\n",
      "[CV] END max_depth=20, max_features=log2, min_samples_leaf=1, min_samples_split=2, n_estimators=50; total time=   0.6s\n",
      "[CV] END max_depth=20, max_features=log2, min_samples_leaf=1, min_samples_split=2, n_estimators=200; total time=   2.5s\n",
      "[CV] END max_depth=20, max_features=log2, min_samples_leaf=1, min_samples_split=10, n_estimators=50; total time=   0.5s\n",
      "[CV] END max_depth=20, max_features=log2, min_samples_leaf=1, min_samples_split=10, n_estimators=100; total time=   1.1s\n",
      "[CV] END max_depth=20, max_features=log2, min_samples_leaf=2, min_samples_split=2, n_estimators=100; total time=   1.1s\n",
      "[CV] END max_depth=20, max_features=log2, min_samples_leaf=2, min_samples_split=2, n_estimators=200; total time=   2.3s\n",
      "[CV] END max_depth=20, max_features=log2, min_samples_leaf=2, min_samples_split=10, n_estimators=200; total time=   2.1s\n",
      "[CV] END max_depth=20, max_features=log2, min_samples_leaf=4, min_samples_split=5, n_estimators=50; total time=   0.5s\n",
      "[CV] END max_depth=20, max_features=log2, min_samples_leaf=4, min_samples_split=5, n_estimators=100; total time=   1.0s\n",
      "[CV] END max_depth=20, max_features=log2, min_samples_leaf=4, min_samples_split=10, n_estimators=50; total time=   0.5s\n",
      "[CV] END max_depth=20, max_features=log2, min_samples_leaf=4, min_samples_split=10, n_estimators=200; total time=   2.0s\n",
      "[CV] END max_depth=30, max_features=sqrt, min_samples_leaf=1, min_samples_split=5, n_estimators=50; total time=   0.7s\n",
      "[CV] END max_depth=30, max_features=sqrt, min_samples_leaf=1, min_samples_split=5, n_estimators=100; total time=   1.4s\n",
      "[CV] END max_depth=30, max_features=sqrt, min_samples_leaf=1, min_samples_split=10, n_estimators=50; total time=   0.7s\n",
      "[CV] END max_depth=30, max_features=sqrt, min_samples_leaf=1, min_samples_split=10, n_estimators=100; total time=   1.4s\n",
      "[CV] END max_depth=30, max_features=sqrt, min_samples_leaf=2, min_samples_split=2, n_estimators=50; total time=   0.7s\n",
      "[CV] END max_depth=30, max_features=sqrt, min_samples_leaf=2, min_samples_split=2, n_estimators=200; total time=   2.7s\n",
      "[CV] END max_depth=30, max_features=sqrt, min_samples_leaf=2, min_samples_split=10, n_estimators=50; total time=   0.7s\n",
      "[CV] END max_depth=30, max_features=sqrt, min_samples_leaf=2, min_samples_split=10, n_estimators=100; total time=   1.4s\n",
      "[CV] END max_depth=30, max_features=sqrt, min_samples_leaf=4, min_samples_split=2, n_estimators=50; total time=   0.6s\n",
      "[CV] END max_depth=30, max_features=sqrt, min_samples_leaf=4, min_samples_split=2, n_estimators=200; total time=   2.4s\n",
      "[CV] END max_depth=30, max_features=sqrt, min_samples_leaf=4, min_samples_split=10, n_estimators=50; total time=   0.6s\n",
      "[CV] END max_depth=30, max_features=sqrt, min_samples_leaf=4, min_samples_split=10, n_estimators=100; total time=   1.3s\n",
      "[CV] END max_depth=30, max_features=log2, min_samples_leaf=1, min_samples_split=2, n_estimators=50; total time=   0.7s\n",
      "[CV] END max_depth=30, max_features=log2, min_samples_leaf=1, min_samples_split=2, n_estimators=200; total time=   4.2s\n",
      "[CV] END max_depth=30, max_features=log2, min_samples_leaf=1, min_samples_split=10, n_estimators=50; total time=   1.1s\n",
      "[CV] END max_depth=30, max_features=log2, min_samples_leaf=1, min_samples_split=10, n_estimators=100; total time=   1.7s\n",
      "[CV] END max_depth=30, max_features=log2, min_samples_leaf=2, min_samples_split=2, n_estimators=100; total time=   1.2s\n",
      "[CV] END max_depth=30, max_features=log2, min_samples_leaf=2, min_samples_split=2, n_estimators=200; total time=   2.4s\n",
      "[CV] END max_depth=30, max_features=log2, min_samples_leaf=2, min_samples_split=10, n_estimators=200; total time=   2.2s\n",
      "[CV] END max_depth=30, max_features=log2, min_samples_leaf=4, min_samples_split=5, n_estimators=50; total time=   0.5s\n",
      "[CV] END max_depth=30, max_features=log2, min_samples_leaf=4, min_samples_split=5, n_estimators=100; total time=   1.1s\n",
      "[CV] END max_depth=30, max_features=log2, min_samples_leaf=4, min_samples_split=10, n_estimators=50; total time=   0.5s\n",
      "[CV] END max_depth=30, max_features=log2, min_samples_leaf=4, min_samples_split=10, n_estimators=200; total time=   1.9s\n",
      "[CV] END max_depth=None, max_features=sqrt, min_samples_leaf=1, min_samples_split=2, n_estimators=50; total time=   0.9s\n",
      "[CV] END max_depth=None, max_features=sqrt, min_samples_leaf=1, min_samples_split=5, n_estimators=50; total time=   0.8s\n",
      "[CV] END max_depth=None, max_features=sqrt, min_samples_leaf=1, min_samples_split=5, n_estimators=100; total time=   1.7s\n",
      "[CV] END max_depth=None, max_features=sqrt, min_samples_leaf=1, min_samples_split=10, n_estimators=50; total time=   1.0s\n",
      "[CV] END max_depth=None, max_features=sqrt, min_samples_leaf=1, min_samples_split=10, n_estimators=100; total time=   1.6s\n",
      "[CV] END max_depth=None, max_features=sqrt, min_samples_leaf=2, min_samples_split=2, n_estimators=50; total time=   0.8s\n",
      "[CV] END max_depth=None, max_features=sqrt, min_samples_leaf=2, min_samples_split=2, n_estimators=200; total time=   2.8s\n",
      "[CV] END max_depth=None, max_features=sqrt, min_samples_leaf=2, min_samples_split=10, n_estimators=50; total time=   0.8s\n",
      "[CV] END max_depth=None, max_features=sqrt, min_samples_leaf=2, min_samples_split=10, n_estimators=100; total time=   1.6s\n",
      "[CV] END max_depth=None, max_features=sqrt, min_samples_leaf=4, min_samples_split=2, n_estimators=100; total time=   1.5s\n",
      "[CV] END max_depth=None, max_features=sqrt, min_samples_leaf=4, min_samples_split=2, n_estimators=200; total time=   3.8s\n",
      "[CV] END max_depth=None, max_features=sqrt, min_samples_leaf=4, min_samples_split=10, n_estimators=100; total time=   1.4s\n",
      "[CV] END max_depth=None, max_features=log2, min_samples_leaf=1, min_samples_split=2, n_estimators=50; total time=   0.8s\n",
      "[CV] END max_depth=None, max_features=log2, min_samples_leaf=1, min_samples_split=2, n_estimators=200; total time=   3.0s\n",
      "[CV] END max_depth=None, max_features=log2, min_samples_leaf=1, min_samples_split=10, n_estimators=50; total time=   0.7s\n",
      "[CV] END max_depth=None, max_features=log2, min_samples_leaf=1, min_samples_split=10, n_estimators=200; total time=   5.0s\n",
      "[CV] END max_depth=None, max_features=log2, min_samples_leaf=2, min_samples_split=2, n_estimators=200; total time=   4.5s\n",
      "[CV] END max_depth=None, max_features=log2, min_samples_leaf=2, min_samples_split=10, n_estimators=200; total time=   3.3s\n",
      "[CV] END max_depth=None, max_features=log2, min_samples_leaf=4, min_samples_split=5, n_estimators=50; total time=   0.8s\n",
      "[CV] END max_depth=None, max_features=log2, min_samples_leaf=4, min_samples_split=5, n_estimators=200; total time=   3.1s\n",
      "[CV] END max_depth=10, max_features=sqrt, min_samples_leaf=1, min_samples_split=2, n_estimators=100; total time=   1.4s\n",
      "[CV] END max_depth=10, max_features=sqrt, min_samples_leaf=1, min_samples_split=5, n_estimators=50; total time=   0.8s\n",
      "[CV] END max_depth=10, max_features=sqrt, min_samples_leaf=1, min_samples_split=5, n_estimators=100; total time=   1.6s\n",
      "[CV] END max_depth=10, max_features=sqrt, min_samples_leaf=1, min_samples_split=10, n_estimators=50; total time=   0.9s\n",
      "[CV] END max_depth=10, max_features=sqrt, min_samples_leaf=1, min_samples_split=10, n_estimators=200; total time=   3.4s\n",
      "[CV] END max_depth=10, max_features=sqrt, min_samples_leaf=2, min_samples_split=5, n_estimators=50; total time=   0.7s\n",
      "[CV] END max_depth=10, max_features=sqrt, min_samples_leaf=2, min_samples_split=5, n_estimators=100; total time=   1.3s\n",
      "[CV] END max_depth=10, max_features=sqrt, min_samples_leaf=2, min_samples_split=10, n_estimators=100; total time=   1.8s\n",
      "[CV] END max_depth=10, max_features=sqrt, min_samples_leaf=4, min_samples_split=2, n_estimators=50; total time=   0.7s\n",
      "[CV] END max_depth=10, max_features=sqrt, min_samples_leaf=4, min_samples_split=2, n_estimators=100; total time=   1.4s\n",
      "[CV] END max_depth=10, max_features=sqrt, min_samples_leaf=4, min_samples_split=5, n_estimators=50; total time=   0.7s\n",
      "[CV] END max_depth=10, max_features=sqrt, min_samples_leaf=4, min_samples_split=5, n_estimators=200; total time=   2.9s\n",
      "[CV] END max_depth=10, max_features=sqrt, min_samples_leaf=4, min_samples_split=10, n_estimators=200; total time=   3.6s\n",
      "[CV] END max_depth=10, max_features=log2, min_samples_leaf=1, min_samples_split=5, n_estimators=200; total time=   2.2s\n",
      "[CV] END max_depth=10, max_features=log2, min_samples_leaf=2, min_samples_split=2, n_estimators=100; total time=   0.9s\n",
      "[CV] END max_depth=10, max_features=log2, min_samples_leaf=2, min_samples_split=2, n_estimators=200; total time=   1.9s\n",
      "[CV] END max_depth=10, max_features=log2, min_samples_leaf=2, min_samples_split=10, n_estimators=200; total time=   2.0s\n",
      "[CV] END max_depth=10, max_features=log2, min_samples_leaf=4, min_samples_split=5, n_estimators=50; total time=   0.6s\n",
      "[CV] END max_depth=10, max_features=log2, min_samples_leaf=4, min_samples_split=5, n_estimators=100; total time=   0.9s\n",
      "[CV] END max_depth=10, max_features=log2, min_samples_leaf=4, min_samples_split=10, n_estimators=100; total time=   0.9s\n",
      "[CV] END max_depth=10, max_features=log2, min_samples_leaf=4, min_samples_split=10, n_estimators=200; total time=   2.0s\n",
      "[CV] END max_depth=20, max_features=sqrt, min_samples_leaf=1, min_samples_split=5, n_estimators=50; total time=   0.7s\n",
      "[CV] END max_depth=20, max_features=sqrt, min_samples_leaf=1, min_samples_split=5, n_estimators=200; total time=   2.9s\n",
      "[CV] END max_depth=20, max_features=sqrt, min_samples_leaf=2, min_samples_split=2, n_estimators=50; total time=   0.7s\n",
      "[CV] END max_depth=20, max_features=sqrt, min_samples_leaf=2, min_samples_split=2, n_estimators=100; total time=   1.4s\n",
      "[CV] END max_depth=20, max_features=sqrt, min_samples_leaf=2, min_samples_split=5, n_estimators=50; total time=   0.7s\n",
      "[CV] END max_depth=20, max_features=sqrt, min_samples_leaf=2, min_samples_split=5, n_estimators=200; total time=   2.6s\n",
      "[CV] END max_depth=20, max_features=sqrt, min_samples_leaf=4, min_samples_split=2, n_estimators=50; total time=   0.6s\n",
      "[CV] END max_depth=20, max_features=sqrt, min_samples_leaf=4, min_samples_split=2, n_estimators=100; total time=   1.2s\n",
      "[CV] END max_depth=20, max_features=sqrt, min_samples_leaf=4, min_samples_split=5, n_estimators=100; total time=   1.6s\n",
      "[CV] END max_depth=20, max_features=sqrt, min_samples_leaf=4, min_samples_split=5, n_estimators=200; total time=   2.5s\n",
      "[CV] END max_depth=20, max_features=log2, min_samples_leaf=1, min_samples_split=2, n_estimators=200; total time=   2.5s\n",
      "[CV] END max_depth=20, max_features=log2, min_samples_leaf=1, min_samples_split=10, n_estimators=50; total time=   0.6s\n",
      "[CV] END max_depth=20, max_features=log2, min_samples_leaf=1, min_samples_split=10, n_estimators=100; total time=   1.2s\n",
      "[CV] END max_depth=20, max_features=log2, min_samples_leaf=2, min_samples_split=2, n_estimators=50; total time=   0.6s\n",
      "[CV] END max_depth=20, max_features=log2, min_samples_leaf=2, min_samples_split=2, n_estimators=200; total time=   2.3s\n",
      "[CV] END max_depth=20, max_features=log2, min_samples_leaf=2, min_samples_split=10, n_estimators=50; total time=   0.5s\n",
      "[CV] END max_depth=20, max_features=log2, min_samples_leaf=2, min_samples_split=10, n_estimators=200; total time=   2.1s\n",
      "[CV] END max_depth=20, max_features=log2, min_samples_leaf=4, min_samples_split=5, n_estimators=50; total time=   0.5s\n",
      "[CV] END max_depth=20, max_features=log2, min_samples_leaf=4, min_samples_split=5, n_estimators=100; total time=   1.0s\n",
      "[CV] END max_depth=20, max_features=log2, min_samples_leaf=4, min_samples_split=10, n_estimators=100; total time=   1.0s\n",
      "[CV] END max_depth=20, max_features=log2, min_samples_leaf=4, min_samples_split=10, n_estimators=200; total time=   2.0s\n",
      "[CV] END max_depth=30, max_features=sqrt, min_samples_leaf=1, min_samples_split=5, n_estimators=50; total time=   0.7s\n",
      "[CV] END max_depth=30, max_features=sqrt, min_samples_leaf=1, min_samples_split=5, n_estimators=200; total time=   2.8s\n",
      "[CV] END max_depth=30, max_features=sqrt, min_samples_leaf=2, min_samples_split=2, n_estimators=50; total time=   0.7s\n",
      "[CV] END max_depth=30, max_features=sqrt, min_samples_leaf=2, min_samples_split=2, n_estimators=100; total time=   1.4s\n",
      "[CV] END max_depth=30, max_features=sqrt, min_samples_leaf=2, min_samples_split=5, n_estimators=100; total time=   1.4s\n",
      "[CV] END max_depth=30, max_features=sqrt, min_samples_leaf=2, min_samples_split=5, n_estimators=200; total time=   2.9s\n",
      "[CV] END max_depth=30, max_features=sqrt, min_samples_leaf=4, min_samples_split=2, n_estimators=200; total time=   2.4s\n",
      "[CV] END max_depth=30, max_features=sqrt, min_samples_leaf=4, min_samples_split=10, n_estimators=50; total time=   0.6s\n",
      "[CV] END max_depth=30, max_features=sqrt, min_samples_leaf=4, min_samples_split=10, n_estimators=200; total time=   2.7s\n",
      "[CV] END max_depth=30, max_features=log2, min_samples_leaf=1, min_samples_split=2, n_estimators=200; total time=   4.7s\n",
      "[CV] END max_depth=30, max_features=log2, min_samples_leaf=1, min_samples_split=10, n_estimators=200; total time=   2.9s\n",
      "[CV] END max_depth=30, max_features=log2, min_samples_leaf=2, min_samples_split=5, n_estimators=50; total time=   0.6s\n",
      "[CV] END max_depth=30, max_features=log2, min_samples_leaf=2, min_samples_split=5, n_estimators=200; total time=   2.4s\n",
      "[CV] END max_depth=30, max_features=log2, min_samples_leaf=4, min_samples_split=2, n_estimators=50; total time=   0.5s\n",
      "[CV] END max_depth=30, max_features=log2, min_samples_leaf=4, min_samples_split=2, n_estimators=100; total time=   1.0s\n",
      "[CV] END max_depth=30, max_features=log2, min_samples_leaf=4, min_samples_split=5, n_estimators=50; total time=   0.5s\n",
      "[CV] END max_depth=30, max_features=log2, min_samples_leaf=4, min_samples_split=5, n_estimators=200; total time=   2.2s\n"
     ]
    },
    {
     "name": "stdout",
     "output_type": "stream",
     "text": [
      "Best parameters: {'max_depth': 17, 'max_features': None, 'splitter': 'best'}\n",
      "Accuracy: 0.748\n",
      "Classification Report:\n",
      "               precision    recall  f1-score   support\n",
      "\n",
      "           1       0.05      0.06      0.06        16\n",
      "           2       0.84      0.86      0.85      1583\n",
      "           3       0.42      0.36      0.39       347\n",
      "           4       0.18      0.19      0.18        54\n",
      "\n",
      "    accuracy                           0.75      2000\n",
      "   macro avg       0.37      0.37      0.37      2000\n",
      "weighted avg       0.74      0.75      0.74      2000\n",
      "\n"
     ]
    }
   ],
   "source": [
    "from sklearn.model_selection import GridSearchCV\n",
    "from sklearn.tree import DecisionTreeClassifier\n",
    "\n",
    "# Define parameter grid\n",
    "param_grid = {\n",
    "    'max_depth': [ 17],\n",
    "    'max_features': [None],\n",
    "    'splitter': ['best'],\n",
    "}\n",
    "\n",
    "# Initialize the decision tree classifier\n",
    "decision_tree = DecisionTreeClassifier()\n",
    "\n",
    "# Grid search\n",
    "grid_search = GridSearchCV(decision_tree, param_grid, cv=5, scoring='accuracy', n_jobs=5)\n",
    "grid_search.fit(X_train_processed, y_train)\n",
    "\n",
    "# Get the best parameters\n",
    "print(f\"Best parameters: {grid_search.best_params_}\")\n",
    "best_decision_tree = grid_search.best_estimator_\n",
    "\n",
    "# Make predictions\n",
    "y_pred = best_decision_tree.predict(X_test_processed)\n",
    "\n",
    "# Evaluate the performance\n",
    "from sklearn.metrics import accuracy_score, classification_report\n",
    "\n",
    "print(f\"Accuracy: {accuracy_score(y_test, y_pred)}\")\n",
    "print(f\"Classification Report:\\n {classification_report(y_test, y_pred)}\")\n"
   ]
  },
  {
   "cell_type": "code",
   "execution_count": 73,
   "id": "547525af",
   "metadata": {},
   "outputs": [
    {
     "name": "stdout",
     "output_type": "stream",
     "text": [
      "<class 'pandas.core.frame.DataFrame'>\n",
      "RangeIndex: 8000 entries, 0 to 7999\n",
      "Data columns (total 29 columns):\n",
      " #   Column             Non-Null Count  Dtype  \n",
      "---  ------             --------------  -----  \n",
      " 0   Start_Lat          8000 non-null   float64\n",
      " 1   Start_Lng          8000 non-null   float64\n",
      " 2   Distance(mi)       8000 non-null   float64\n",
      " 3   Temperature(F)     8000 non-null   float64\n",
      " 4   Wind_Chill(F)      8000 non-null   float64\n",
      " 5   Humidity(%)        8000 non-null   float64\n",
      " 6   Pressure(in)       8000 non-null   float64\n",
      " 7   Visibility(mi)     8000 non-null   float64\n",
      " 8   Wind_Direction     7959 non-null   object \n",
      " 9   Wind_Speed(mph)    8000 non-null   float64\n",
      " 10  Precipitation(in)  8000 non-null   float64\n",
      " 11  Crossing           8000 non-null   int32  \n",
      " 12  Junction           8000 non-null   int32  \n",
      " 13  Traffic_Signal     8000 non-null   int32  \n",
      " 14  Sunrise_Sunset     7980 non-null   object \n",
      " 15  Duration           8000 non-null   int64  \n",
      " 16  TimeofDay          8000 non-null   object \n",
      " 17  Season             8000 non-null   object \n",
      " 18  Day_Type           8000 non-null   object \n",
      " 19  Clear              7951 non-null   float64\n",
      " 20  Cloud              7951 non-null   float64\n",
      " 21  Rain               7951 non-null   float64\n",
      " 22  Heavy_Rain         7951 non-null   float64\n",
      " 23  Snow               7951 non-null   float64\n",
      " 24  Heavy_Snow         7951 non-null   float64\n",
      " 25  Fog                7951 non-null   float64\n",
      " 26  Dusty              7951 non-null   float64\n",
      " 27  Windy              7951 non-null   float64\n",
      " 28  Ash                7951 non-null   float64\n",
      "dtypes: float64(20), int32(3), int64(1), object(5)\n",
      "memory usage: 1.7+ MB\n"
     ]
    }
   ],
   "source": [
    "X_train.info()"
   ]
  },
  {
   "cell_type": "code",
   "execution_count": 74,
   "id": "0dbc1ec3",
   "metadata": {},
   "outputs": [
    {
     "name": "stdout",
     "output_type": "stream",
     "text": [
      "Top Features by Random Forest: Index(['Wind_Chill(F)', 'Wind_Speed(mph)', 'Temperature(F)', 'Humidity(%)',\n",
      "       'Pressure(in)', 'Distance(mi)', 'Start_Lng', 'Start_Lat', 'Duration',\n",
      "       'log_Duration'],\n",
      "      dtype='object')\n",
      "Top Features by Mutual Information: Index(['Duration', 'log_Duration', 'Distance(mi)', 'Start_Lng',\n",
      "       'Precipitation(in)', 'Start_Lat', 'Wind_Speed(mph)',\n",
      "       'log_Precipitation(in)', 'Wind_Chill(F)', 'Temperature(F)'],\n",
      "      dtype='object')\n",
      "Selected Features: ['Wind_Chill(F)', 'Distance(mi)', 'Humidity(%)', 'Duration', 'Wind_Speed(mph)', 'Start_Lng', 'Start_Lat', 'Temperature(F)', 'Pressure(in)', 'log_Duration', 'log_Precipitation(in)', 'Precipitation(in)']\n",
      "Model Accuracy with Selected Features: 0.80\n",
      "[CV] END max_depth=None, max_features=sqrt, min_samples_leaf=1, min_samples_split=2, n_estimators=100; total time=   1.7s\n",
      "[CV] END max_depth=None, max_features=sqrt, min_samples_leaf=1, min_samples_split=5, n_estimators=100; total time=   1.6s\n",
      "[CV] END max_depth=None, max_features=sqrt, min_samples_leaf=1, min_samples_split=5, n_estimators=200; total time=   3.5s\n",
      "[CV] END max_depth=None, max_features=sqrt, min_samples_leaf=2, min_samples_split=2, n_estimators=200; total time=   2.9s\n",
      "[CV] END max_depth=None, max_features=sqrt, min_samples_leaf=2, min_samples_split=10, n_estimators=100; total time=   1.6s\n",
      "[CV] END max_depth=None, max_features=sqrt, min_samples_leaf=2, min_samples_split=10, n_estimators=200; total time=   3.2s\n",
      "[CV] END max_depth=None, max_features=sqrt, min_samples_leaf=4, min_samples_split=5, n_estimators=200; total time=   3.6s\n",
      "[CV] END max_depth=None, max_features=sqrt, min_samples_leaf=4, min_samples_split=10, n_estimators=200; total time=   2.9s\n",
      "[CV] END max_depth=None, max_features=log2, min_samples_leaf=1, min_samples_split=5, n_estimators=200; total time=   3.3s\n",
      "[CV] END max_depth=None, max_features=log2, min_samples_leaf=2, min_samples_split=2, n_estimators=50; total time=   1.4s\n",
      "[CV] END max_depth=None, max_features=log2, min_samples_leaf=2, min_samples_split=2, n_estimators=100; total time=   2.5s\n",
      "[CV] END max_depth=None, max_features=log2, min_samples_leaf=2, min_samples_split=5, n_estimators=50; total time=   1.3s\n",
      "[CV] END max_depth=None, max_features=log2, min_samples_leaf=2, min_samples_split=5, n_estimators=200; total time=   4.4s\n",
      "[CV] END max_depth=None, max_features=log2, min_samples_leaf=4, min_samples_split=2, n_estimators=50; total time=   0.7s\n",
      "[CV] END max_depth=None, max_features=log2, min_samples_leaf=4, min_samples_split=2, n_estimators=200; total time=   2.8s\n",
      "[CV] END max_depth=None, max_features=log2, min_samples_leaf=4, min_samples_split=10, n_estimators=50; total time=   0.7s\n",
      "[CV] END max_depth=None, max_features=log2, min_samples_leaf=4, min_samples_split=10, n_estimators=100; total time=   1.3s\n",
      "[CV] END max_depth=10, max_features=sqrt, min_samples_leaf=1, min_samples_split=2, n_estimators=50; total time=   0.7s\n",
      "[CV] END max_depth=10, max_features=sqrt, min_samples_leaf=1, min_samples_split=2, n_estimators=200; total time=   3.2s\n",
      "[CV] END max_depth=10, max_features=sqrt, min_samples_leaf=1, min_samples_split=10, n_estimators=50; total time=   0.8s\n",
      "[CV] END max_depth=10, max_features=sqrt, min_samples_leaf=1, min_samples_split=10, n_estimators=100; total time=   1.6s\n",
      "[CV] END max_depth=10, max_features=sqrt, min_samples_leaf=2, min_samples_split=2, n_estimators=50; total time=   1.0s\n",
      "[CV] END max_depth=10, max_features=sqrt, min_samples_leaf=2, min_samples_split=2, n_estimators=200; total time=   2.9s\n",
      "[CV] END max_depth=10, max_features=sqrt, min_samples_leaf=2, min_samples_split=10, n_estimators=50; total time=   0.8s\n",
      "[CV] END max_depth=10, max_features=sqrt, min_samples_leaf=2, min_samples_split=10, n_estimators=200; total time=   3.1s\n",
      "[CV] END max_depth=10, max_features=sqrt, min_samples_leaf=4, min_samples_split=2, n_estimators=200; total time=   2.7s\n",
      "[CV] END max_depth=10, max_features=sqrt, min_samples_leaf=4, min_samples_split=10, n_estimators=100; total time=   1.6s\n",
      "[CV] END max_depth=10, max_features=log2, min_samples_leaf=1, min_samples_split=2, n_estimators=100; total time=   1.8s\n",
      "[CV] END max_depth=10, max_features=log2, min_samples_leaf=1, min_samples_split=2, n_estimators=200; total time=   2.4s\n",
      "[CV] END max_depth=10, max_features=log2, min_samples_leaf=1, min_samples_split=10, n_estimators=100; total time=   1.0s\n",
      "[CV] END max_depth=10, max_features=log2, min_samples_leaf=2, min_samples_split=2, n_estimators=50; total time=   0.5s\n",
      "[CV] END max_depth=10, max_features=log2, min_samples_leaf=2, min_samples_split=2, n_estimators=200; total time=   1.8s\n",
      "[CV] END max_depth=10, max_features=log2, min_samples_leaf=2, min_samples_split=10, n_estimators=50; total time=   0.4s\n",
      "[CV] END max_depth=10, max_features=log2, min_samples_leaf=2, min_samples_split=10, n_estimators=100; total time=   0.9s\n",
      "[CV] END max_depth=10, max_features=log2, min_samples_leaf=4, min_samples_split=2, n_estimators=50; total time=   0.4s\n",
      "[CV] END max_depth=10, max_features=log2, min_samples_leaf=4, min_samples_split=2, n_estimators=200; total time=   2.1s\n",
      "[CV] END max_depth=10, max_features=log2, min_samples_leaf=4, min_samples_split=10, n_estimators=50; total time=   0.4s\n",
      "[CV] END max_depth=10, max_features=log2, min_samples_leaf=4, min_samples_split=10, n_estimators=100; total time=   0.8s\n",
      "[CV] END max_depth=20, max_features=sqrt, min_samples_leaf=1, min_samples_split=2, n_estimators=100; total time=   1.6s\n",
      "[CV] END max_depth=20, max_features=sqrt, min_samples_leaf=1, min_samples_split=5, n_estimators=50; total time=   0.7s\n",
      "[CV] END max_depth=20, max_features=sqrt, min_samples_leaf=1, min_samples_split=5, n_estimators=200; total time=   2.9s\n",
      "[CV] END max_depth=20, max_features=sqrt, min_samples_leaf=1, min_samples_split=10, n_estimators=200; total time=   2.7s\n",
      "[CV] END max_depth=20, max_features=sqrt, min_samples_leaf=2, min_samples_split=5, n_estimators=200; total time=   2.7s\n",
      "[CV] END max_depth=20, max_features=sqrt, min_samples_leaf=4, min_samples_split=2, n_estimators=50; total time=   0.6s\n",
      "[CV] END max_depth=20, max_features=sqrt, min_samples_leaf=4, min_samples_split=2, n_estimators=100; total time=   1.3s\n",
      "[CV] END max_depth=20, max_features=sqrt, min_samples_leaf=4, min_samples_split=5, n_estimators=50; total time=   0.6s\n",
      "[CV] END max_depth=20, max_features=sqrt, min_samples_leaf=4, min_samples_split=5, n_estimators=200; total time=   2.9s\n",
      "[CV] END max_depth=20, max_features=log2, min_samples_leaf=1, min_samples_split=2, n_estimators=50; total time=   0.6s\n",
      "[CV] END max_depth=20, max_features=log2, min_samples_leaf=1, min_samples_split=2, n_estimators=100; total time=   1.3s\n",
      "[CV] END max_depth=20, max_features=log2, min_samples_leaf=1, min_samples_split=5, n_estimators=100; total time=   1.2s\n",
      "[CV] END max_depth=20, max_features=log2, min_samples_leaf=1, min_samples_split=5, n_estimators=200; total time=   2.4s\n",
      "[CV] END max_depth=20, max_features=log2, min_samples_leaf=2, min_samples_split=2, n_estimators=200; total time=   2.2s\n",
      "[CV] END max_depth=20, max_features=log2, min_samples_leaf=2, min_samples_split=10, n_estimators=50; total time=   0.5s\n",
      "[CV] END max_depth=20, max_features=log2, min_samples_leaf=2, min_samples_split=10, n_estimators=100; total time=   1.1s\n",
      "[CV] END max_depth=20, max_features=log2, min_samples_leaf=4, min_samples_split=2, n_estimators=50; total time=   0.5s\n",
      "[CV] END max_depth=20, max_features=log2, min_samples_leaf=4, min_samples_split=2, n_estimators=200; total time=   2.0s\n",
      "[CV] END max_depth=20, max_features=log2, min_samples_leaf=4, min_samples_split=10, n_estimators=50; total time=   0.5s\n",
      "[CV] END max_depth=20, max_features=log2, min_samples_leaf=4, min_samples_split=10, n_estimators=200; total time=   2.0s\n",
      "[CV] END max_depth=30, max_features=sqrt, min_samples_leaf=1, min_samples_split=2, n_estimators=200; total time=   2.8s\n",
      "[CV] END max_depth=30, max_features=sqrt, min_samples_leaf=1, min_samples_split=10, n_estimators=100; total time=   1.4s\n",
      "[CV] END max_depth=30, max_features=sqrt, min_samples_leaf=2, min_samples_split=2, n_estimators=100; total time=   1.4s\n",
      "[CV] END max_depth=30, max_features=sqrt, min_samples_leaf=2, min_samples_split=5, n_estimators=50; total time=   0.7s\n",
      "[CV] END max_depth=30, max_features=sqrt, min_samples_leaf=2, min_samples_split=5, n_estimators=100; total time=   1.4s\n",
      "[CV] END max_depth=30, max_features=sqrt, min_samples_leaf=2, min_samples_split=10, n_estimators=50; total time=   0.7s\n",
      "[CV] END max_depth=30, max_features=sqrt, min_samples_leaf=2, min_samples_split=10, n_estimators=200; total time=   2.7s\n",
      "[CV] END max_depth=30, max_features=sqrt, min_samples_leaf=4, min_samples_split=5, n_estimators=50; total time=   0.6s\n",
      "[CV] END max_depth=30, max_features=sqrt, min_samples_leaf=4, min_samples_split=5, n_estimators=100; total time=   1.2s\n",
      "[CV] END max_depth=30, max_features=sqrt, min_samples_leaf=4, min_samples_split=10, n_estimators=50; total time=   0.6s\n",
      "[CV] END max_depth=30, max_features=sqrt, min_samples_leaf=4, min_samples_split=10, n_estimators=200; total time=   2.7s\n",
      "[CV] END max_depth=30, max_features=log2, min_samples_leaf=1, min_samples_split=5, n_estimators=50; total time=   1.4s\n",
      "[CV] END max_depth=30, max_features=log2, min_samples_leaf=1, min_samples_split=5, n_estimators=100; total time=   2.0s\n",
      "[CV] END max_depth=30, max_features=log2, min_samples_leaf=1, min_samples_split=10, n_estimators=50; total time=   1.2s\n",
      "[CV] END max_depth=30, max_features=log2, min_samples_leaf=1, min_samples_split=10, n_estimators=200; total time=   2.8s\n",
      "[CV] END max_depth=30, max_features=log2, min_samples_leaf=2, min_samples_split=5, n_estimators=50; total time=   0.6s\n",
      "[CV] END max_depth=30, max_features=log2, min_samples_leaf=2, min_samples_split=5, n_estimators=100; total time=   1.2s\n",
      "[CV] END max_depth=30, max_features=log2, min_samples_leaf=2, min_samples_split=10, n_estimators=100; total time=   1.1s\n",
      "[CV] END max_depth=30, max_features=log2, min_samples_leaf=2, min_samples_split=10, n_estimators=200; total time=   2.2s\n",
      "[CV] END max_depth=30, max_features=log2, min_samples_leaf=4, min_samples_split=5, n_estimators=200; total time=   2.1s\n",
      "[CV] END max_depth=30, max_features=log2, min_samples_leaf=4, min_samples_split=10, n_estimators=200; total time=   1.8s\n"
     ]
    },
    {
     "name": "stdout",
     "output_type": "stream",
     "text": [
      "[CV] END max_depth=None, max_features=sqrt, min_samples_leaf=1, min_samples_split=2, n_estimators=200; total time=   3.5s\n",
      "[CV] END max_depth=None, max_features=sqrt, min_samples_leaf=1, min_samples_split=10, n_estimators=100; total time=   1.9s\n",
      "[CV] END max_depth=None, max_features=sqrt, min_samples_leaf=1, min_samples_split=10, n_estimators=200; total time=   2.9s\n",
      "[CV] END max_depth=None, max_features=sqrt, min_samples_leaf=2, min_samples_split=5, n_estimators=100; total time=   1.3s\n",
      "[CV] END max_depth=None, max_features=sqrt, min_samples_leaf=2, min_samples_split=5, n_estimators=200; total time=   3.3s\n",
      "[CV] END max_depth=None, max_features=sqrt, min_samples_leaf=4, min_samples_split=2, n_estimators=200; total time=   3.7s\n",
      "[CV] END max_depth=None, max_features=sqrt, min_samples_leaf=4, min_samples_split=10, n_estimators=50; total time=   0.8s\n",
      "[CV] END max_depth=None, max_features=sqrt, min_samples_leaf=4, min_samples_split=10, n_estimators=200; total time=   2.9s\n",
      "[CV] END max_depth=None, max_features=log2, min_samples_leaf=1, min_samples_split=5, n_estimators=50; total time=   0.7s\n",
      "[CV] END max_depth=None, max_features=log2, min_samples_leaf=1, min_samples_split=5, n_estimators=100; total time=   1.5s\n",
      "[CV] END max_depth=None, max_features=log2, min_samples_leaf=1, min_samples_split=10, n_estimators=100; total time=   1.7s\n",
      "[CV] END max_depth=None, max_features=log2, min_samples_leaf=1, min_samples_split=10, n_estimators=200; total time=   5.2s\n",
      "[CV] END max_depth=None, max_features=log2, min_samples_leaf=2, min_samples_split=5, n_estimators=100; total time=   1.9s\n",
      "[CV] END max_depth=None, max_features=log2, min_samples_leaf=2, min_samples_split=10, n_estimators=50; total time=   1.0s\n",
      "[CV] END max_depth=None, max_features=log2, min_samples_leaf=2, min_samples_split=10, n_estimators=200; total time=   3.4s\n",
      "[CV] END max_depth=None, max_features=log2, min_samples_leaf=4, min_samples_split=2, n_estimators=200; total time=   2.9s\n",
      "[CV] END max_depth=None, max_features=log2, min_samples_leaf=4, min_samples_split=10, n_estimators=200; total time=   2.5s\n",
      "[CV] END max_depth=10, max_features=sqrt, min_samples_leaf=1, min_samples_split=2, n_estimators=200; total time=   3.3s\n",
      "[CV] END max_depth=10, max_features=sqrt, min_samples_leaf=1, min_samples_split=10, n_estimators=200; total time=   3.1s\n",
      "[CV] END max_depth=10, max_features=sqrt, min_samples_leaf=2, min_samples_split=2, n_estimators=200; total time=   3.0s\n",
      "[CV] END max_depth=10, max_features=sqrt, min_samples_leaf=2, min_samples_split=10, n_estimators=100; total time=   1.7s\n",
      "[CV] END max_depth=10, max_features=sqrt, min_samples_leaf=4, min_samples_split=2, n_estimators=100; total time=   1.6s\n",
      "[CV] END max_depth=10, max_features=sqrt, min_samples_leaf=4, min_samples_split=5, n_estimators=50; total time=   0.7s\n",
      "[CV] END max_depth=10, max_features=sqrt, min_samples_leaf=4, min_samples_split=5, n_estimators=100; total time=   1.3s\n",
      "[CV] END max_depth=10, max_features=sqrt, min_samples_leaf=4, min_samples_split=10, n_estimators=50; total time=   0.8s\n",
      "[CV] END max_depth=10, max_features=sqrt, min_samples_leaf=4, min_samples_split=10, n_estimators=200; total time=   3.7s\n",
      "[CV] END max_depth=10, max_features=log2, min_samples_leaf=1, min_samples_split=5, n_estimators=100; total time=   1.1s\n",
      "[CV] END max_depth=10, max_features=log2, min_samples_leaf=1, min_samples_split=5, n_estimators=200; total time=   2.2s\n",
      "[CV] END max_depth=10, max_features=log2, min_samples_leaf=2, min_samples_split=2, n_estimators=100; total time=   0.9s\n",
      "[CV] END max_depth=10, max_features=log2, min_samples_leaf=2, min_samples_split=5, n_estimators=100; total time=   0.9s\n",
      "[CV] END max_depth=10, max_features=log2, min_samples_leaf=2, min_samples_split=5, n_estimators=200; total time=   1.8s\n",
      "[CV] END max_depth=10, max_features=log2, min_samples_leaf=4, min_samples_split=2, n_estimators=100; total time=   1.1s\n",
      "[CV] END max_depth=10, max_features=log2, min_samples_leaf=4, min_samples_split=5, n_estimators=100; total time=   1.0s\n",
      "[CV] END max_depth=10, max_features=log2, min_samples_leaf=4, min_samples_split=5, n_estimators=200; total time=   1.7s\n",
      "[CV] END max_depth=20, max_features=sqrt, min_samples_leaf=1, min_samples_split=2, n_estimators=100; total time=   1.6s\n",
      "[CV] END max_depth=20, max_features=sqrt, min_samples_leaf=1, min_samples_split=5, n_estimators=100; total time=   1.4s\n",
      "[CV] END max_depth=20, max_features=sqrt, min_samples_leaf=1, min_samples_split=10, n_estimators=50; total time=   0.7s\n",
      "[CV] END max_depth=20, max_features=sqrt, min_samples_leaf=1, min_samples_split=10, n_estimators=100; total time=   1.3s\n",
      "[CV] END max_depth=20, max_features=sqrt, min_samples_leaf=2, min_samples_split=2, n_estimators=50; total time=   0.7s\n",
      "[CV] END max_depth=20, max_features=sqrt, min_samples_leaf=2, min_samples_split=2, n_estimators=200; total time=   2.7s\n",
      "[CV] END max_depth=20, max_features=sqrt, min_samples_leaf=2, min_samples_split=10, n_estimators=50; total time=   0.6s\n",
      "[CV] END max_depth=20, max_features=sqrt, min_samples_leaf=2, min_samples_split=10, n_estimators=100; total time=   1.3s\n",
      "[CV] END max_depth=20, max_features=sqrt, min_samples_leaf=4, min_samples_split=2, n_estimators=50; total time=   0.6s\n",
      "[CV] END max_depth=20, max_features=sqrt, min_samples_leaf=4, min_samples_split=2, n_estimators=200; total time=   2.8s\n",
      "[CV] END max_depth=20, max_features=sqrt, min_samples_leaf=4, min_samples_split=10, n_estimators=50; total time=   0.6s\n",
      "[CV] END max_depth=20, max_features=sqrt, min_samples_leaf=4, min_samples_split=10, n_estimators=100; total time=   1.3s\n",
      "[CV] END max_depth=20, max_features=log2, min_samples_leaf=1, min_samples_split=2, n_estimators=100; total time=   1.2s\n",
      "[CV] END max_depth=20, max_features=log2, min_samples_leaf=1, min_samples_split=5, n_estimators=50; total time=   0.6s\n",
      "[CV] END max_depth=20, max_features=log2, min_samples_leaf=1, min_samples_split=5, n_estimators=100; total time=   1.2s\n",
      "[CV] END max_depth=20, max_features=log2, min_samples_leaf=1, min_samples_split=10, n_estimators=50; total time=   0.6s\n",
      "[CV] END max_depth=20, max_features=log2, min_samples_leaf=1, min_samples_split=10, n_estimators=200; total time=   2.3s\n",
      "[CV] END max_depth=20, max_features=log2, min_samples_leaf=2, min_samples_split=5, n_estimators=50; total time=   0.6s\n",
      "[CV] END max_depth=20, max_features=log2, min_samples_leaf=2, min_samples_split=5, n_estimators=100; total time=   1.1s\n",
      "[CV] END max_depth=20, max_features=log2, min_samples_leaf=2, min_samples_split=10, n_estimators=50; total time=   0.5s\n",
      "[CV] END max_depth=20, max_features=log2, min_samples_leaf=2, min_samples_split=10, n_estimators=100; total time=   1.0s\n",
      "[CV] END max_depth=20, max_features=log2, min_samples_leaf=4, min_samples_split=2, n_estimators=100; total time=   1.0s\n",
      "[CV] END max_depth=20, max_features=log2, min_samples_leaf=4, min_samples_split=2, n_estimators=200; total time=   2.0s\n",
      "[CV] END max_depth=20, max_features=log2, min_samples_leaf=4, min_samples_split=10, n_estimators=100; total time=   1.0s\n",
      "[CV] END max_depth=30, max_features=sqrt, min_samples_leaf=1, min_samples_split=2, n_estimators=100; total time=   1.4s\n",
      "[CV] END max_depth=30, max_features=sqrt, min_samples_leaf=1, min_samples_split=5, n_estimators=50; total time=   0.7s\n",
      "[CV] END max_depth=30, max_features=sqrt, min_samples_leaf=1, min_samples_split=5, n_estimators=200; total time=   2.7s\n",
      "[CV] END max_depth=30, max_features=sqrt, min_samples_leaf=2, min_samples_split=2, n_estimators=50; total time=   0.7s\n",
      "[CV] END max_depth=30, max_features=sqrt, min_samples_leaf=2, min_samples_split=2, n_estimators=100; total time=   1.4s\n",
      "[CV] END max_depth=30, max_features=sqrt, min_samples_leaf=2, min_samples_split=5, n_estimators=50; total time=   0.7s\n",
      "[CV] END max_depth=30, max_features=sqrt, min_samples_leaf=2, min_samples_split=5, n_estimators=200; total time=   2.8s\n",
      "[CV] END max_depth=30, max_features=sqrt, min_samples_leaf=4, min_samples_split=2, n_estimators=50; total time=   0.6s\n",
      "[CV] END max_depth=30, max_features=sqrt, min_samples_leaf=4, min_samples_split=2, n_estimators=100; total time=   1.2s\n",
      "[CV] END max_depth=30, max_features=sqrt, min_samples_leaf=4, min_samples_split=5, n_estimators=100; total time=   1.2s\n",
      "[CV] END max_depth=30, max_features=sqrt, min_samples_leaf=4, min_samples_split=5, n_estimators=200; total time=   2.5s\n",
      "[CV] END max_depth=30, max_features=log2, min_samples_leaf=1, min_samples_split=2, n_estimators=200; total time=   4.2s\n",
      "[CV] END max_depth=30, max_features=log2, min_samples_leaf=1, min_samples_split=10, n_estimators=50; total time=   0.9s\n",
      "[CV] END max_depth=30, max_features=log2, min_samples_leaf=1, min_samples_split=10, n_estimators=100; total time=   2.1s\n",
      "[CV] END max_depth=30, max_features=log2, min_samples_leaf=2, min_samples_split=2, n_estimators=50; total time=   0.6s\n",
      "[CV] END max_depth=30, max_features=log2, min_samples_leaf=2, min_samples_split=2, n_estimators=200; total time=   2.4s\n",
      "[CV] END max_depth=30, max_features=log2, min_samples_leaf=2, min_samples_split=10, n_estimators=50; total time=   0.6s\n",
      "[CV] END max_depth=30, max_features=log2, min_samples_leaf=2, min_samples_split=10, n_estimators=100; total time=   1.1s\n",
      "[CV] END max_depth=30, max_features=log2, min_samples_leaf=4, min_samples_split=2, n_estimators=50; total time=   0.5s\n",
      "[CV] END max_depth=30, max_features=log2, min_samples_leaf=4, min_samples_split=2, n_estimators=200; total time=   2.1s\n",
      "[CV] END max_depth=30, max_features=log2, min_samples_leaf=4, min_samples_split=10, n_estimators=50; total time=   0.5s\n",
      "[CV] END max_depth=30, max_features=log2, min_samples_leaf=4, min_samples_split=10, n_estimators=100; total time=   1.1s\n",
      "[CV] END max_depth=None, max_features=sqrt, min_samples_leaf=1, min_samples_split=2, n_estimators=200; total time=   3.4s\n",
      "[CV] END max_depth=None, max_features=sqrt, min_samples_leaf=1, min_samples_split=10, n_estimators=50; total time=   1.1s\n",
      "[CV] END max_depth=None, max_features=sqrt, min_samples_leaf=1, min_samples_split=10, n_estimators=200; total time=   3.2s\n",
      "[CV] END max_depth=None, max_features=sqrt, min_samples_leaf=2, min_samples_split=2, n_estimators=200; total time=   2.8s\n",
      "[CV] END max_depth=None, max_features=sqrt, min_samples_leaf=2, min_samples_split=10, n_estimators=200; total time=   3.2s\n",
      "[CV] END max_depth=None, max_features=sqrt, min_samples_leaf=4, min_samples_split=5, n_estimators=50; total time=   0.8s\n",
      "[CV] END max_depth=None, max_features=sqrt, min_samples_leaf=4, min_samples_split=5, n_estimators=100; total time=   2.3s\n",
      "[CV] END max_depth=None, max_features=sqrt, min_samples_leaf=4, min_samples_split=10, n_estimators=50; total time=   0.8s\n",
      "[CV] END max_depth=None, max_features=sqrt, min_samples_leaf=4, min_samples_split=10, n_estimators=200; total time=   2.8s\n",
      "[CV] END max_depth=None, max_features=log2, min_samples_leaf=1, min_samples_split=5, n_estimators=50; total time=   0.7s\n",
      "[CV] END max_depth=None, max_features=log2, min_samples_leaf=1, min_samples_split=5, n_estimators=100; total time=   1.4s\n",
      "[CV] END max_depth=None, max_features=log2, min_samples_leaf=1, min_samples_split=10, n_estimators=50; total time=   0.7s\n",
      "[CV] END max_depth=None, max_features=log2, min_samples_leaf=1, min_samples_split=10, n_estimators=100; total time=   2.6s\n",
      "[CV] END max_depth=None, max_features=log2, min_samples_leaf=2, min_samples_split=2, n_estimators=100; total time=   2.5s\n",
      "[CV] END max_depth=None, max_features=log2, min_samples_leaf=2, min_samples_split=5, n_estimators=50; total time=   1.3s\n",
      "[CV] END max_depth=None, max_features=log2, min_samples_leaf=2, min_samples_split=5, n_estimators=200; total time=   4.3s\n",
      "[CV] END max_depth=None, max_features=log2, min_samples_leaf=4, min_samples_split=2, n_estimators=50; total time=   0.7s\n",
      "[CV] END max_depth=None, max_features=log2, min_samples_leaf=4, min_samples_split=2, n_estimators=100; total time=   1.5s\n",
      "[CV] END max_depth=None, max_features=log2, min_samples_leaf=4, min_samples_split=5, n_estimators=100; total time=   1.4s\n",
      "[CV] END max_depth=None, max_features=log2, min_samples_leaf=4, min_samples_split=10, n_estimators=50; total time=   0.7s\n",
      "[CV] END max_depth=None, max_features=log2, min_samples_leaf=4, min_samples_split=10, n_estimators=100; total time=   1.3s\n",
      "[CV] END max_depth=10, max_features=sqrt, min_samples_leaf=1, min_samples_split=2, n_estimators=50; total time=   0.7s\n",
      "[CV] END max_depth=10, max_features=sqrt, min_samples_leaf=1, min_samples_split=2, n_estimators=200; total time=   3.1s\n",
      "[CV] END max_depth=10, max_features=sqrt, min_samples_leaf=1, min_samples_split=10, n_estimators=50; total time=   0.8s\n",
      "[CV] END max_depth=10, max_features=sqrt, min_samples_leaf=1, min_samples_split=10, n_estimators=100; total time=   1.6s\n",
      "[CV] END max_depth=10, max_features=sqrt, min_samples_leaf=2, min_samples_split=2, n_estimators=100; total time=   1.8s\n",
      "[CV] END max_depth=10, max_features=sqrt, min_samples_leaf=2, min_samples_split=5, n_estimators=50; total time=   0.7s\n",
      "[CV] END max_depth=10, max_features=sqrt, min_samples_leaf=2, min_samples_split=5, n_estimators=100; total time=   1.4s\n",
      "[CV] END max_depth=10, max_features=sqrt, min_samples_leaf=2, min_samples_split=10, n_estimators=50; total time=   0.8s\n",
      "[CV] END max_depth=10, max_features=sqrt, min_samples_leaf=2, min_samples_split=10, n_estimators=200; total time=   3.1s\n",
      "[CV] END max_depth=10, max_features=sqrt, min_samples_leaf=4, min_samples_split=5, n_estimators=50; total time=   0.6s\n",
      "[CV] END max_depth=10, max_features=sqrt, min_samples_leaf=4, min_samples_split=5, n_estimators=100; total time=   1.3s\n",
      "[CV] END max_depth=10, max_features=sqrt, min_samples_leaf=4, min_samples_split=10, n_estimators=50; total time=   0.8s\n",
      "[CV] END max_depth=10, max_features=sqrt, min_samples_leaf=4, min_samples_split=10, n_estimators=200; total time=   3.6s\n",
      "[CV] END max_depth=10, max_features=log2, min_samples_leaf=1, min_samples_split=5, n_estimators=50; total time=   0.6s\n",
      "[CV] END max_depth=10, max_features=log2, min_samples_leaf=1, min_samples_split=5, n_estimators=100; total time=   1.2s\n",
      "[CV] END max_depth=10, max_features=log2, min_samples_leaf=1, min_samples_split=10, n_estimators=50; total time=   0.6s\n",
      "[CV] END max_depth=10, max_features=log2, min_samples_leaf=1, min_samples_split=10, n_estimators=200; total time=   1.9s\n",
      "[CV] END max_depth=10, max_features=log2, min_samples_leaf=2, min_samples_split=5, n_estimators=50; total time=   0.5s\n",
      "[CV] END max_depth=10, max_features=log2, min_samples_leaf=2, min_samples_split=5, n_estimators=200; total time=   1.8s\n",
      "[CV] END max_depth=10, max_features=log2, min_samples_leaf=4, min_samples_split=2, n_estimators=50; total time=   0.5s\n",
      "[CV] END max_depth=10, max_features=log2, min_samples_leaf=4, min_samples_split=2, n_estimators=100; total time=   1.1s\n",
      "[CV] END max_depth=10, max_features=log2, min_samples_leaf=4, min_samples_split=5, n_estimators=50; total time=   0.7s\n",
      "[CV] END max_depth=10, max_features=log2, min_samples_leaf=4, min_samples_split=5, n_estimators=200; total time=   1.7s\n",
      "[CV] END max_depth=20, max_features=sqrt, min_samples_leaf=1, min_samples_split=2, n_estimators=50; total time=   0.8s\n",
      "[CV] END max_depth=20, max_features=sqrt, min_samples_leaf=1, min_samples_split=2, n_estimators=200; total time=   3.0s\n",
      "[CV] END max_depth=20, max_features=sqrt, min_samples_leaf=1, min_samples_split=10, n_estimators=50; total time=   0.7s\n",
      "[CV] END max_depth=20, max_features=sqrt, min_samples_leaf=1, min_samples_split=10, n_estimators=200; total time=   2.7s\n",
      "[CV] END max_depth=20, max_features=sqrt, min_samples_leaf=2, min_samples_split=5, n_estimators=50; total time=   0.7s\n",
      "[CV] END max_depth=20, max_features=sqrt, min_samples_leaf=2, min_samples_split=5, n_estimators=100; total time=   1.4s\n",
      "[CV] END max_depth=20, max_features=sqrt, min_samples_leaf=2, min_samples_split=10, n_estimators=100; total time=   1.3s\n",
      "[CV] END max_depth=20, max_features=sqrt, min_samples_leaf=2, min_samples_split=10, n_estimators=200; total time=   2.5s\n",
      "[CV] END max_depth=20, max_features=sqrt, min_samples_leaf=4, min_samples_split=5, n_estimators=200; total time=   2.8s\n",
      "[CV] END max_depth=20, max_features=log2, min_samples_leaf=1, min_samples_split=2, n_estimators=50; total time=   0.6s\n",
      "[CV] END max_depth=20, max_features=log2, min_samples_leaf=1, min_samples_split=2, n_estimators=100; total time=   1.3s\n",
      "[CV] END max_depth=20, max_features=log2, min_samples_leaf=1, min_samples_split=5, n_estimators=50; total time=   0.6s\n",
      "[CV] END max_depth=20, max_features=log2, min_samples_leaf=1, min_samples_split=5, n_estimators=200; total time=   2.4s\n",
      "[CV] END max_depth=20, max_features=log2, min_samples_leaf=2, min_samples_split=2, n_estimators=50; total time=   0.6s\n",
      "[CV] END max_depth=20, max_features=log2, min_samples_leaf=2, min_samples_split=2, n_estimators=100; total time=   1.1s\n",
      "[CV] END max_depth=20, max_features=log2, min_samples_leaf=2, min_samples_split=5, n_estimators=100; total time=   1.1s\n",
      "[CV] END max_depth=20, max_features=log2, min_samples_leaf=2, min_samples_split=5, n_estimators=200; total time=   2.2s\n",
      "[CV] END max_depth=20, max_features=log2, min_samples_leaf=4, min_samples_split=2, n_estimators=200; total time=   2.0s\n",
      "[CV] END max_depth=20, max_features=log2, min_samples_leaf=4, min_samples_split=10, n_estimators=50; total time=   0.5s\n",
      "[CV] END max_depth=20, max_features=log2, min_samples_leaf=4, min_samples_split=10, n_estimators=100; total time=   1.0s\n",
      "[CV] END max_depth=30, max_features=sqrt, min_samples_leaf=1, min_samples_split=2, n_estimators=50; total time=   0.7s\n",
      "[CV] END max_depth=30, max_features=sqrt, min_samples_leaf=1, min_samples_split=2, n_estimators=200; total time=   2.8s\n",
      "[CV] END max_depth=30, max_features=sqrt, min_samples_leaf=1, min_samples_split=10, n_estimators=100; total time=   1.3s\n",
      "[CV] END max_depth=30, max_features=sqrt, min_samples_leaf=1, min_samples_split=10, n_estimators=200; total time=   2.7s\n",
      "[CV] END max_depth=30, max_features=sqrt, min_samples_leaf=2, min_samples_split=5, n_estimators=200; total time=   2.8s\n",
      "[CV] END max_depth=30, max_features=sqrt, min_samples_leaf=4, min_samples_split=2, n_estimators=50; total time=   0.6s\n",
      "[CV] END max_depth=30, max_features=sqrt, min_samples_leaf=4, min_samples_split=2, n_estimators=100; total time=   1.2s\n",
      "[CV] END max_depth=30, max_features=sqrt, min_samples_leaf=4, min_samples_split=5, n_estimators=50; total time=   0.6s\n",
      "[CV] END max_depth=30, max_features=sqrt, min_samples_leaf=4, min_samples_split=5, n_estimators=200; total time=   2.4s\n",
      "[CV] END max_depth=30, max_features=log2, min_samples_leaf=1, min_samples_split=2, n_estimators=50; total time=   0.6s\n",
      "[CV] END max_depth=30, max_features=log2, min_samples_leaf=1, min_samples_split=2, n_estimators=100; total time=   1.6s\n",
      "[CV] END max_depth=30, max_features=log2, min_samples_leaf=1, min_samples_split=5, n_estimators=50; total time=   1.5s\n",
      "[CV] END max_depth=30, max_features=log2, min_samples_leaf=1, min_samples_split=5, n_estimators=200; total time=   4.1s\n",
      "[CV] END max_depth=30, max_features=log2, min_samples_leaf=2, min_samples_split=2, n_estimators=50; total time=   0.6s\n",
      "[CV] END max_depth=30, max_features=log2, min_samples_leaf=2, min_samples_split=2, n_estimators=100; total time=   1.2s\n",
      "[CV] END max_depth=30, max_features=log2, min_samples_leaf=2, min_samples_split=5, n_estimators=100; total time=   1.2s\n",
      "[CV] END max_depth=30, max_features=log2, min_samples_leaf=2, min_samples_split=5, n_estimators=200; total time=   2.3s\n",
      "[CV] END max_depth=30, max_features=log2, min_samples_leaf=4, min_samples_split=2, n_estimators=200; total time=   2.1s\n",
      "[CV] END max_depth=30, max_features=log2, min_samples_leaf=4, min_samples_split=10, n_estimators=50; total time=   0.5s\n",
      "[CV] END max_depth=30, max_features=log2, min_samples_leaf=4, min_samples_split=10, n_estimators=100; total time=   1.1s\n"
     ]
    },
    {
     "name": "stdout",
     "output_type": "stream",
     "text": [
      "[CV] END max_depth=None, max_features=sqrt, min_samples_leaf=1, min_samples_split=2, n_estimators=100; total time=   1.7s\n",
      "[CV] END max_depth=None, max_features=sqrt, min_samples_leaf=1, min_samples_split=5, n_estimators=50; total time=   0.8s\n",
      "[CV] END max_depth=None, max_features=sqrt, min_samples_leaf=1, min_samples_split=5, n_estimators=200; total time=   3.7s\n",
      "[CV] END max_depth=None, max_features=sqrt, min_samples_leaf=2, min_samples_split=2, n_estimators=100; total time=   1.6s\n",
      "[CV] END max_depth=None, max_features=sqrt, min_samples_leaf=2, min_samples_split=5, n_estimators=50; total time=   0.7s\n",
      "[CV] END max_depth=None, max_features=sqrt, min_samples_leaf=2, min_samples_split=5, n_estimators=200; total time=   3.0s\n",
      "[CV] END max_depth=None, max_features=sqrt, min_samples_leaf=4, min_samples_split=2, n_estimators=50; total time=   0.8s\n",
      "[CV] END max_depth=None, max_features=sqrt, min_samples_leaf=4, min_samples_split=2, n_estimators=100; total time=   1.5s\n",
      "[CV] END max_depth=None, max_features=sqrt, min_samples_leaf=4, min_samples_split=5, n_estimators=100; total time=   1.9s\n",
      "[CV] END max_depth=None, max_features=sqrt, min_samples_leaf=4, min_samples_split=5, n_estimators=200; total time=   3.5s\n",
      "[CV] END max_depth=None, max_features=log2, min_samples_leaf=1, min_samples_split=2, n_estimators=200; total time=   3.0s\n",
      "[CV] END max_depth=None, max_features=log2, min_samples_leaf=1, min_samples_split=10, n_estimators=50; total time=   0.7s\n",
      "[CV] END max_depth=None, max_features=log2, min_samples_leaf=1, min_samples_split=10, n_estimators=100; total time=   2.0s\n",
      "[CV] END max_depth=None, max_features=log2, min_samples_leaf=2, min_samples_split=2, n_estimators=50; total time=   1.4s\n",
      "[CV] END max_depth=None, max_features=log2, min_samples_leaf=2, min_samples_split=2, n_estimators=200; total time=   4.8s\n",
      "[CV] END max_depth=None, max_features=log2, min_samples_leaf=2, min_samples_split=5, n_estimators=200; total time=   3.9s\n",
      "[CV] END max_depth=None, max_features=log2, min_samples_leaf=4, min_samples_split=2, n_estimators=200; total time=   2.7s\n",
      "[CV] END max_depth=None, max_features=log2, min_samples_leaf=4, min_samples_split=5, n_estimators=200; total time=   2.6s\n",
      "[CV] END max_depth=10, max_features=sqrt, min_samples_leaf=1, min_samples_split=2, n_estimators=100; total time=   1.3s\n",
      "[CV] END max_depth=10, max_features=sqrt, min_samples_leaf=1, min_samples_split=5, n_estimators=100; total time=   1.8s\n",
      "[CV] END max_depth=10, max_features=sqrt, min_samples_leaf=1, min_samples_split=5, n_estimators=200; total time=   3.2s\n",
      "[CV] END max_depth=10, max_features=sqrt, min_samples_leaf=2, min_samples_split=2, n_estimators=100; total time=   1.7s\n",
      "[CV] END max_depth=10, max_features=sqrt, min_samples_leaf=2, min_samples_split=5, n_estimators=100; total time=   1.4s\n",
      "[CV] END max_depth=10, max_features=sqrt, min_samples_leaf=2, min_samples_split=10, n_estimators=50; total time=   0.7s\n",
      "[CV] END max_depth=10, max_features=sqrt, min_samples_leaf=2, min_samples_split=10, n_estimators=100; total time=   1.8s\n",
      "[CV] END max_depth=10, max_features=sqrt, min_samples_leaf=4, min_samples_split=2, n_estimators=50; total time=   0.9s\n",
      "[CV] END max_depth=10, max_features=sqrt, min_samples_leaf=4, min_samples_split=2, n_estimators=200; total time=   2.8s\n",
      "[CV] END max_depth=10, max_features=sqrt, min_samples_leaf=4, min_samples_split=10, n_estimators=100; total time=   1.8s\n",
      "[CV] END max_depth=10, max_features=log2, min_samples_leaf=1, min_samples_split=2, n_estimators=50; total time=   0.7s\n",
      "[CV] END max_depth=10, max_features=log2, min_samples_leaf=1, min_samples_split=2, n_estimators=100; total time=   1.8s\n",
      "[CV] END max_depth=10, max_features=log2, min_samples_leaf=1, min_samples_split=5, n_estimators=50; total time=   0.6s\n",
      "[CV] END max_depth=10, max_features=log2, min_samples_leaf=1, min_samples_split=5, n_estimators=100; total time=   1.3s\n",
      "[CV] END max_depth=10, max_features=log2, min_samples_leaf=1, min_samples_split=10, n_estimators=100; total time=   1.0s\n",
      "[CV] END max_depth=10, max_features=log2, min_samples_leaf=1, min_samples_split=10, n_estimators=200; total time=   1.8s\n",
      "[CV] END max_depth=10, max_features=log2, min_samples_leaf=2, min_samples_split=5, n_estimators=100; total time=   0.9s\n",
      "[CV] END max_depth=10, max_features=log2, min_samples_leaf=2, min_samples_split=10, n_estimators=100; total time=   0.9s\n",
      "[CV] END max_depth=10, max_features=log2, min_samples_leaf=2, min_samples_split=10, n_estimators=200; total time=   2.2s\n",
      "[CV] END max_depth=10, max_features=log2, min_samples_leaf=4, min_samples_split=5, n_estimators=200; total time=   1.8s\n",
      "[CV] END max_depth=20, max_features=sqrt, min_samples_leaf=1, min_samples_split=2, n_estimators=50; total time=   0.8s\n",
      "[CV] END max_depth=20, max_features=sqrt, min_samples_leaf=1, min_samples_split=2, n_estimators=100; total time=   1.5s\n",
      "[CV] END max_depth=20, max_features=sqrt, min_samples_leaf=1, min_samples_split=5, n_estimators=100; total time=   1.5s\n",
      "[CV] END max_depth=20, max_features=sqrt, min_samples_leaf=1, min_samples_split=10, n_estimators=50; total time=   0.7s\n",
      "[CV] END max_depth=20, max_features=sqrt, min_samples_leaf=1, min_samples_split=10, n_estimators=200; total time=   2.6s\n",
      "[CV] END max_depth=20, max_features=sqrt, min_samples_leaf=2, min_samples_split=5, n_estimators=50; total time=   0.7s\n",
      "[CV] END max_depth=20, max_features=sqrt, min_samples_leaf=2, min_samples_split=5, n_estimators=100; total time=   1.3s\n",
      "[CV] END max_depth=20, max_features=sqrt, min_samples_leaf=2, min_samples_split=10, n_estimators=50; total time=   0.6s\n",
      "[CV] END max_depth=20, max_features=sqrt, min_samples_leaf=2, min_samples_split=10, n_estimators=200; total time=   2.5s\n",
      "[CV] END max_depth=20, max_features=sqrt, min_samples_leaf=4, min_samples_split=5, n_estimators=50; total time=   0.6s\n",
      "[CV] END max_depth=20, max_features=sqrt, min_samples_leaf=4, min_samples_split=5, n_estimators=100; total time=   1.6s\n",
      "[CV] END max_depth=20, max_features=sqrt, min_samples_leaf=4, min_samples_split=10, n_estimators=100; total time=   1.2s\n",
      "[CV] END max_depth=20, max_features=sqrt, min_samples_leaf=4, min_samples_split=10, n_estimators=200; total time=   2.5s\n",
      "[CV] END max_depth=20, max_features=log2, min_samples_leaf=1, min_samples_split=5, n_estimators=200; total time=   2.4s\n",
      "[CV] END max_depth=20, max_features=log2, min_samples_leaf=2, min_samples_split=2, n_estimators=50; total time=   0.6s\n",
      "[CV] END max_depth=20, max_features=log2, min_samples_leaf=2, min_samples_split=2, n_estimators=100; total time=   1.1s\n",
      "[CV] END max_depth=20, max_features=log2, min_samples_leaf=2, min_samples_split=5, n_estimators=50; total time=   0.6s\n",
      "[CV] END max_depth=20, max_features=log2, min_samples_leaf=2, min_samples_split=5, n_estimators=200; total time=   2.2s\n",
      "[CV] END max_depth=20, max_features=log2, min_samples_leaf=4, min_samples_split=2, n_estimators=50; total time=   0.5s\n",
      "[CV] END max_depth=20, max_features=log2, min_samples_leaf=4, min_samples_split=2, n_estimators=100; total time=   1.0s\n",
      "[CV] END max_depth=20, max_features=log2, min_samples_leaf=4, min_samples_split=5, n_estimators=100; total time=   1.0s\n",
      "[CV] END max_depth=20, max_features=log2, min_samples_leaf=4, min_samples_split=5, n_estimators=200; total time=   2.0s\n",
      "[CV] END max_depth=30, max_features=sqrt, min_samples_leaf=1, min_samples_split=2, n_estimators=100; total time=   1.4s\n",
      "[CV] END max_depth=30, max_features=sqrt, min_samples_leaf=1, min_samples_split=5, n_estimators=100; total time=   1.4s\n",
      "[CV] END max_depth=30, max_features=sqrt, min_samples_leaf=1, min_samples_split=5, n_estimators=200; total time=   2.8s\n",
      "[CV] END max_depth=30, max_features=sqrt, min_samples_leaf=2, min_samples_split=2, n_estimators=200; total time=   2.8s\n",
      "[CV] END max_depth=30, max_features=sqrt, min_samples_leaf=2, min_samples_split=10, n_estimators=50; total time=   0.7s\n",
      "[CV] END max_depth=30, max_features=sqrt, min_samples_leaf=2, min_samples_split=10, n_estimators=200; total time=   2.7s\n",
      "[CV] END max_depth=30, max_features=sqrt, min_samples_leaf=4, min_samples_split=5, n_estimators=50; total time=   0.6s\n",
      "[CV] END max_depth=30, max_features=sqrt, min_samples_leaf=4, min_samples_split=5, n_estimators=100; total time=   1.2s\n",
      "[CV] END max_depth=30, max_features=sqrt, min_samples_leaf=4, min_samples_split=10, n_estimators=100; total time=   1.2s\n",
      "[CV] END max_depth=30, max_features=sqrt, min_samples_leaf=4, min_samples_split=10, n_estimators=200; total time=   3.6s\n",
      "[CV] END max_depth=30, max_features=log2, min_samples_leaf=1, min_samples_split=5, n_estimators=200; total time=   4.2s\n",
      "[CV] END max_depth=30, max_features=log2, min_samples_leaf=2, min_samples_split=2, n_estimators=50; total time=   0.6s\n",
      "[CV] END max_depth=30, max_features=log2, min_samples_leaf=2, min_samples_split=2, n_estimators=100; total time=   1.2s\n",
      "[CV] END max_depth=30, max_features=log2, min_samples_leaf=2, min_samples_split=5, n_estimators=50; total time=   0.6s\n",
      "[CV] END max_depth=30, max_features=log2, min_samples_leaf=2, min_samples_split=5, n_estimators=200; total time=   2.4s\n",
      "[CV] END max_depth=30, max_features=log2, min_samples_leaf=4, min_samples_split=2, n_estimators=50; total time=   0.5s\n",
      "[CV] END max_depth=30, max_features=log2, min_samples_leaf=4, min_samples_split=2, n_estimators=100; total time=   1.1s\n",
      "[CV] END max_depth=30, max_features=log2, min_samples_leaf=4, min_samples_split=5, n_estimators=100; total time=   1.1s\n",
      "[CV] END max_depth=30, max_features=log2, min_samples_leaf=4, min_samples_split=5, n_estimators=200; total time=   2.1s\n",
      "[CV] END max_depth=None, max_features=sqrt, min_samples_leaf=1, min_samples_split=2, n_estimators=50; total time=   0.9s\n",
      "[CV] END max_depth=None, max_features=sqrt, min_samples_leaf=1, min_samples_split=5, n_estimators=50; total time=   0.8s\n",
      "[CV] END max_depth=None, max_features=sqrt, min_samples_leaf=1, min_samples_split=5, n_estimators=100; total time=   1.7s\n",
      "[CV] END max_depth=None, max_features=sqrt, min_samples_leaf=1, min_samples_split=10, n_estimators=50; total time=   1.0s\n",
      "[CV] END max_depth=None, max_features=sqrt, min_samples_leaf=1, min_samples_split=10, n_estimators=100; total time=   1.6s\n",
      "[CV] END max_depth=None, max_features=sqrt, min_samples_leaf=2, min_samples_split=2, n_estimators=50; total time=   0.7s\n",
      "[CV] END max_depth=None, max_features=sqrt, min_samples_leaf=2, min_samples_split=2, n_estimators=100; total time=   1.5s\n",
      "[CV] END max_depth=None, max_features=sqrt, min_samples_leaf=2, min_samples_split=5, n_estimators=100; total time=   1.3s\n",
      "[CV] END max_depth=None, max_features=sqrt, min_samples_leaf=2, min_samples_split=10, n_estimators=50; total time=   0.8s\n",
      "[CV] END max_depth=None, max_features=sqrt, min_samples_leaf=2, min_samples_split=10, n_estimators=100; total time=   1.6s\n",
      "[CV] END max_depth=None, max_features=sqrt, min_samples_leaf=4, min_samples_split=2, n_estimators=50; total time=   0.7s\n",
      "[CV] END max_depth=None, max_features=sqrt, min_samples_leaf=4, min_samples_split=2, n_estimators=200; total time=   3.6s\n",
      "[CV] END max_depth=None, max_features=sqrt, min_samples_leaf=4, min_samples_split=10, n_estimators=50; total time=   0.9s\n",
      "[CV] END max_depth=None, max_features=sqrt, min_samples_leaf=4, min_samples_split=10, n_estimators=100; total time=   1.4s\n",
      "[CV] END max_depth=None, max_features=log2, min_samples_leaf=1, min_samples_split=2, n_estimators=100; total time=   1.5s\n",
      "[CV] END max_depth=None, max_features=log2, min_samples_leaf=1, min_samples_split=2, n_estimators=200; total time=   3.0s\n",
      "[CV] END max_depth=None, max_features=log2, min_samples_leaf=1, min_samples_split=10, n_estimators=200; total time=   5.0s\n",
      "[CV] END max_depth=None, max_features=log2, min_samples_leaf=2, min_samples_split=5, n_estimators=50; total time=   1.2s\n",
      "[CV] END max_depth=None, max_features=log2, min_samples_leaf=2, min_samples_split=5, n_estimators=100; total time=   2.1s\n",
      "[CV] END max_depth=None, max_features=log2, min_samples_leaf=2, min_samples_split=10, n_estimators=100; total time=   2.2s\n",
      "[CV] END max_depth=None, max_features=log2, min_samples_leaf=2, min_samples_split=10, n_estimators=200; total time=   2.9s\n",
      "[CV] END max_depth=None, max_features=log2, min_samples_leaf=4, min_samples_split=5, n_estimators=100; total time=   1.4s\n",
      "[CV] END max_depth=None, max_features=log2, min_samples_leaf=4, min_samples_split=10, n_estimators=100; total time=   1.4s\n",
      "[CV] END max_depth=10, max_features=sqrt, min_samples_leaf=1, min_samples_split=2, n_estimators=50; total time=   0.6s\n",
      "[CV] END max_depth=10, max_features=sqrt, min_samples_leaf=1, min_samples_split=2, n_estimators=100; total time=   1.3s\n",
      "[CV] END max_depth=10, max_features=sqrt, min_samples_leaf=1, min_samples_split=5, n_estimators=50; total time=   0.9s\n",
      "[CV] END max_depth=10, max_features=sqrt, min_samples_leaf=1, min_samples_split=5, n_estimators=200; total time=   3.3s\n",
      "[CV] END max_depth=10, max_features=sqrt, min_samples_leaf=2, min_samples_split=2, n_estimators=50; total time=   0.9s\n",
      "[CV] END max_depth=10, max_features=sqrt, min_samples_leaf=2, min_samples_split=2, n_estimators=200; total time=   2.9s\n",
      "[CV] END max_depth=10, max_features=sqrt, min_samples_leaf=2, min_samples_split=5, n_estimators=200; total time=   3.0s\n",
      "[CV] END max_depth=10, max_features=sqrt, min_samples_leaf=4, min_samples_split=2, n_estimators=100; total time=   1.4s\n",
      "[CV] END max_depth=10, max_features=sqrt, min_samples_leaf=4, min_samples_split=5, n_estimators=100; total time=   1.3s\n",
      "[CV] END max_depth=10, max_features=sqrt, min_samples_leaf=4, min_samples_split=5, n_estimators=200; total time=   3.1s\n",
      "[CV] END max_depth=10, max_features=log2, min_samples_leaf=1, min_samples_split=2, n_estimators=200; total time=   3.2s\n",
      "[CV] END max_depth=10, max_features=log2, min_samples_leaf=1, min_samples_split=10, n_estimators=50; total time=   0.6s\n",
      "[CV] END max_depth=10, max_features=log2, min_samples_leaf=1, min_samples_split=10, n_estimators=100; total time=   1.0s\n",
      "[CV] END max_depth=10, max_features=log2, min_samples_leaf=2, min_samples_split=2, n_estimators=50; total time=   0.5s\n",
      "[CV] END max_depth=10, max_features=log2, min_samples_leaf=2, min_samples_split=2, n_estimators=200; total time=   1.8s\n",
      "[CV] END max_depth=10, max_features=log2, min_samples_leaf=2, min_samples_split=10, n_estimators=50; total time=   0.5s\n",
      "[CV] END max_depth=10, max_features=log2, min_samples_leaf=2, min_samples_split=10, n_estimators=100; total time=   0.9s\n",
      "[CV] END max_depth=10, max_features=log2, min_samples_leaf=4, min_samples_split=2, n_estimators=100; total time=   1.1s\n",
      "[CV] END max_depth=10, max_features=log2, min_samples_leaf=4, min_samples_split=2, n_estimators=200; total time=   1.9s\n",
      "[CV] END max_depth=10, max_features=log2, min_samples_leaf=4, min_samples_split=10, n_estimators=200; total time=   1.9s\n",
      "[CV] END max_depth=20, max_features=sqrt, min_samples_leaf=1, min_samples_split=2, n_estimators=200; total time=   3.0s\n",
      "[CV] END max_depth=20, max_features=sqrt, min_samples_leaf=1, min_samples_split=10, n_estimators=100; total time=   1.3s\n",
      "[CV] END max_depth=20, max_features=sqrt, min_samples_leaf=2, min_samples_split=2, n_estimators=100; total time=   1.4s\n",
      "[CV] END max_depth=20, max_features=sqrt, min_samples_leaf=2, min_samples_split=2, n_estimators=200; total time=   2.7s\n",
      "[CV] END max_depth=20, max_features=sqrt, min_samples_leaf=2, min_samples_split=10, n_estimators=200; total time=   2.6s\n",
      "[CV] END max_depth=20, max_features=sqrt, min_samples_leaf=4, min_samples_split=5, n_estimators=50; total time=   0.6s\n",
      "[CV] END max_depth=20, max_features=sqrt, min_samples_leaf=4, min_samples_split=5, n_estimators=100; total time=   1.6s\n",
      "[CV] END max_depth=20, max_features=sqrt, min_samples_leaf=4, min_samples_split=10, n_estimators=50; total time=   0.7s\n",
      "[CV] END max_depth=20, max_features=sqrt, min_samples_leaf=4, min_samples_split=10, n_estimators=200; total time=   2.5s\n",
      "[CV] END max_depth=20, max_features=log2, min_samples_leaf=1, min_samples_split=5, n_estimators=50; total time=   0.6s\n",
      "[CV] END max_depth=20, max_features=log2, min_samples_leaf=1, min_samples_split=5, n_estimators=100; total time=   1.2s\n",
      "[CV] END max_depth=20, max_features=log2, min_samples_leaf=1, min_samples_split=10, n_estimators=100; total time=   1.1s\n",
      "[CV] END max_depth=20, max_features=log2, min_samples_leaf=1, min_samples_split=10, n_estimators=200; total time=   2.3s\n",
      "[CV] END max_depth=20, max_features=log2, min_samples_leaf=2, min_samples_split=5, n_estimators=200; total time=   2.2s\n",
      "[CV] END max_depth=20, max_features=log2, min_samples_leaf=4, min_samples_split=2, n_estimators=50; total time=   0.5s\n",
      "[CV] END max_depth=20, max_features=log2, min_samples_leaf=4, min_samples_split=2, n_estimators=100; total time=   1.0s\n",
      "[CV] END max_depth=20, max_features=log2, min_samples_leaf=4, min_samples_split=5, n_estimators=50; total time=   0.5s\n",
      "[CV] END max_depth=20, max_features=log2, min_samples_leaf=4, min_samples_split=5, n_estimators=200; total time=   2.1s\n",
      "[CV] END max_depth=30, max_features=sqrt, min_samples_leaf=1, min_samples_split=2, n_estimators=50; total time=   0.7s\n",
      "[CV] END max_depth=30, max_features=sqrt, min_samples_leaf=1, min_samples_split=2, n_estimators=200; total time=   2.8s\n",
      "[CV] END max_depth=30, max_features=sqrt, min_samples_leaf=1, min_samples_split=10, n_estimators=50; total time=   0.6s\n",
      "[CV] END max_depth=30, max_features=sqrt, min_samples_leaf=1, min_samples_split=10, n_estimators=200; total time=   2.7s\n",
      "[CV] END max_depth=30, max_features=sqrt, min_samples_leaf=2, min_samples_split=5, n_estimators=50; total time=   0.7s\n",
      "[CV] END max_depth=30, max_features=sqrt, min_samples_leaf=2, min_samples_split=5, n_estimators=100; total time=   1.4s\n",
      "[CV] END max_depth=30, max_features=sqrt, min_samples_leaf=2, min_samples_split=10, n_estimators=100; total time=   1.4s\n",
      "[CV] END max_depth=30, max_features=sqrt, min_samples_leaf=2, min_samples_split=10, n_estimators=200; total time=   2.5s\n",
      "[CV] END max_depth=30, max_features=sqrt, min_samples_leaf=4, min_samples_split=5, n_estimators=200; total time=   2.4s\n",
      "[CV] END max_depth=30, max_features=log2, min_samples_leaf=1, min_samples_split=2, n_estimators=50; total time=   0.6s\n",
      "[CV] END max_depth=30, max_features=log2, min_samples_leaf=1, min_samples_split=2, n_estimators=100; total time=   1.7s\n",
      "[CV] END max_depth=30, max_features=log2, min_samples_leaf=1, min_samples_split=5, n_estimators=100; total time=   2.4s\n",
      "[CV] END max_depth=30, max_features=log2, min_samples_leaf=1, min_samples_split=5, n_estimators=200; total time=   3.8s\n",
      "[CV] END max_depth=30, max_features=log2, min_samples_leaf=2, min_samples_split=2, n_estimators=200; total time=   2.4s\n",
      "[CV] END max_depth=30, max_features=log2, min_samples_leaf=2, min_samples_split=10, n_estimators=50; total time=   0.6s\n",
      "[CV] END max_depth=30, max_features=log2, min_samples_leaf=2, min_samples_split=10, n_estimators=100; total time=   1.1s\n",
      "[CV] END max_depth=30, max_features=log2, min_samples_leaf=4, min_samples_split=2, n_estimators=100; total time=   1.1s\n",
      "[CV] END max_depth=30, max_features=log2, min_samples_leaf=4, min_samples_split=2, n_estimators=200; total time=   2.1s\n",
      "[CV] END max_depth=30, max_features=log2, min_samples_leaf=4, min_samples_split=10, n_estimators=200; total time=   1.9s\n"
     ]
    }
   ],
   "source": [
    "import numpy as np\n",
    "from sklearn.ensemble import RandomForestClassifier\n",
    "from sklearn.feature_selection import mutual_info_classif\n",
    "from sklearn.preprocessing import KBinsDiscretizer\n",
    "\n",
    "log_cols = [\"Duration\", \"Precipitation(in)\"]\n",
    "for col in log_cols:\n",
    "    X_train_processed[f\"log_{col}\"] = np.log1p(X_train[col])  \n",
    "    X_test_processed[f\"log_{col}\"] = np.log1p(X_test[col])\n",
    "\n",
    "bin_cols = [\"Temperature(F)\", \"Visibility(mi)\"]\n",
    "binner = KBinsDiscretizer(n_bins=3, encode='ordinal', strategy='quantile')\n",
    "\n",
    "for col in bin_cols:\n",
    "    X_train_processed[f\"bin_{col}\"] = binner.fit_transform(X_train[[col]])\n",
    "    X_test_processed[f\"bin_{col}\"] = binner.transform(X_test[[col]])\n",
    "\n",
    "rf = RandomForestClassifier(random_state=42)\n",
    "rf.fit(X_train_processed, y_train)\n",
    "\n",
    "feat_importance = rf.feature_importances_\n",
    "top_rf_feats = X_train_processed.columns[np.argsort(feat_importance)[-10:]] \n",
    "\n",
    "print(\"Top Features by Random Forest:\", top_rf_feats)\n",
    "\n",
    "mi_scores = mutual_info_classif(X_train_processed, y_train)\n",
    "mi_top_idx = np.argsort(mi_scores)[::-1]\n",
    "top_mi_feats = X_train_processed.columns[mi_top_idx[:10]]\n",
    "\n",
    "print(\"Top Features by Mutual Information:\", top_mi_feats)\n",
    "\n",
    "selected_feats = list(set(top_rf_feats) | set(top_mi_feats))\n",
    "X_train_sel = X_train_processed[selected_feats]\n",
    "X_test_sel = X_test_processed[selected_feats]\n",
    "\n",
    "print(\"Selected Features:\", selected_feats)\n",
    "\n",
    "rf_sel = RandomForestClassifier(random_state=42)\n",
    "rf_sel.fit(X_train_sel, y_train)\n",
    "\n",
    "acc = rf_sel.score(X_test_sel, y_test)\n",
    "print(f\"Model Accuracy with Selected Features: {acc:.2f}\")\n"
   ]
  },
  {
   "cell_type": "code",
   "execution_count": 75,
   "id": "52b95eb8",
   "metadata": {},
   "outputs": [
    {
     "name": "stdout",
     "output_type": "stream",
     "text": [
      "Collecting imbalanced-learn\n",
      "  Downloading imbalanced_learn-0.12.4-py3-none-any.whl.metadata (8.3 kB)\n",
      "Requirement already satisfied: numpy>=1.17.3 in ./venv/lib/python3.10/site-packages (from imbalanced-learn) (2.1.3)\n",
      "Requirement already satisfied: scipy>=1.5.0 in ./venv/lib/python3.10/site-packages (from imbalanced-learn) (1.14.1)\n",
      "Requirement already satisfied: scikit-learn>=1.0.2 in ./venv/lib/python3.10/site-packages (from imbalanced-learn) (1.5.2)\n",
      "Requirement already satisfied: joblib>=1.1.1 in ./venv/lib/python3.10/site-packages (from imbalanced-learn) (1.4.2)\n",
      "Requirement already satisfied: threadpoolctl>=2.0.0 in ./venv/lib/python3.10/site-packages (from imbalanced-learn) (3.5.0)\n",
      "Downloading imbalanced_learn-0.12.4-py3-none-any.whl (258 kB)\n",
      "Installing collected packages: imbalanced-learn\n",
      "Successfully installed imbalanced-learn-0.12.4\n"
     ]
    }
   ],
   "source": [
    "!pip install imbalanced-learn"
   ]
  },
  {
   "cell_type": "markdown",
   "id": "d7520c8a",
   "metadata": {},
   "source": [
    "Implementing SMOTE"
   ]
  },
  {
   "cell_type": "code",
   "execution_count": 77,
   "id": "de9e827d",
   "metadata": {},
   "outputs": [],
   "source": [
    "from imblearn.over_sampling import SMOTE\n",
    "smote= SMOTE(random_state=42)\n",
    "X_train_resampled, y_train_resampled= smote.fit_resample(X_train_sel,y_train)\n",
    "\n"
   ]
  },
  {
   "cell_type": "code",
   "execution_count": 78,
   "id": "efb0135e",
   "metadata": {},
   "outputs": [
    {
     "name": "stdout",
     "output_type": "stream",
     "text": [
      "<class 'pandas.core.frame.DataFrame'> <class 'pandas.core.series.Series'>\n"
     ]
    }
   ],
   "source": [
    "print(type(X_train_resampled),type(y_train_resampled))"
   ]
  },
  {
   "cell_type": "code",
   "execution_count": 80,
   "id": "55d0202a",
   "metadata": {},
   "outputs": [
    {
     "data": {
      "text/plain": [
       "Severity\n",
       "2    6422\n",
       "3    6422\n",
       "1    6422\n",
       "4    6422\n",
       "Name: count, dtype: int64"
      ]
     },
     "execution_count": 80,
     "metadata": {},
     "output_type": "execute_result"
    }
   ],
   "source": [
    "pd.Series(y_train_resampled).value_counts()"
   ]
  },
  {
   "cell_type": "markdown",
   "id": "76f473ab",
   "metadata": {},
   "source": [
    "Now we train model on this resampled data\n"
   ]
  },
  {
   "cell_type": "code",
   "execution_count": 104,
   "id": "30d90908",
   "metadata": {},
   "outputs": [],
   "source": [
    "# models=['RandomForest','SVM','LGBM','Baggingclassifier']\n",
    "# Hyperparameters dictionary={}\n",
    "#train each model for respective hyperparameters and plot the accuracy and F1 scores and ROC AUC curve for each of them\n",
    "from sklearn.svm import SVC\n",
    "import joblib\n",
    "import lightgbm as lgb\n",
    "from sklearn.ensemble import BaggingClassifier\n",
    "import matplotlib.pyplot as plt\n",
    "from sklearn.metrics import accuracy_score, f1_score, roc_auc_score, roc_curve, classification_report"
   ]
  },
  {
   "cell_type": "code",
   "execution_count": 106,
   "id": "86eaefa7",
   "metadata": {},
   "outputs": [
    {
     "name": "stdout",
     "output_type": "stream",
     "text": [
      "Training RandomForest...\n",
      "\n",
      "Classification Report for RandomForest:\n",
      "\n",
      "              precision    recall  f1-score   support\n",
      "\n",
      "           1       0.07      0.12      0.09        16\n",
      "           2       0.85      0.86      0.85      1583\n",
      "           3       0.44      0.42      0.43       347\n",
      "           4       0.09      0.07      0.08        54\n",
      "\n",
      "    accuracy                           0.75      2000\n",
      "   macro avg       0.36      0.37      0.36      2000\n",
      "weighted avg       0.75      0.75      0.75      2000\n",
      "\n",
      "Training SVM...\n",
      "\n",
      "Classification Report for SVM:\n",
      "\n",
      "              precision    recall  f1-score   support\n",
      "\n",
      "           1       0.02      0.62      0.05        16\n",
      "           2       0.91      0.38      0.53      1583\n",
      "           3       0.34      0.52      0.41       347\n",
      "           4       0.07      0.50      0.12        54\n",
      "\n",
      "    accuracy                           0.41      2000\n",
      "   macro avg       0.34      0.51      0.28      2000\n",
      "weighted avg       0.78      0.41      0.50      2000\n",
      "\n",
      "Training LGBM...\n",
      "[LightGBM] [Info] Auto-choosing row-wise multi-threading, the overhead of testing was 0.000495 seconds.\n",
      "You can set `force_row_wise=true` to remove the overhead.\n",
      "And if memory is not enough, you can set `force_col_wise=true`.\n",
      "[LightGBM] [Info] Total Bins 3060\n",
      "[LightGBM] [Info] Number of data points in the train set: 25688, number of used features: 12\n",
      "[LightGBM] [Info] Start training from score -1.386294\n",
      "[LightGBM] [Info] Start training from score -1.386294\n",
      "[LightGBM] [Info] Start training from score -1.386294\n",
      "[LightGBM] [Info] Start training from score -1.386294\n",
      "\n",
      "Classification Report for LGBM:\n",
      "\n",
      "              precision    recall  f1-score   support\n",
      "\n",
      "           1       0.13      0.12      0.13        16\n",
      "           2       0.85      0.90      0.88      1583\n",
      "           3       0.51      0.41      0.45       347\n",
      "           4       0.22      0.13      0.16        54\n",
      "\n",
      "    accuracy                           0.79      2000\n",
      "   macro avg       0.43      0.39      0.40      2000\n",
      "weighted avg       0.77      0.79      0.78      2000\n",
      "\n",
      "Training BaggingClassifier...\n",
      "\n",
      "Classification Report for BaggingClassifier:\n",
      "\n",
      "              precision    recall  f1-score   support\n",
      "\n",
      "           1       0.02      0.06      0.03        16\n",
      "           2       0.85      0.81      0.83      1583\n",
      "           3       0.41      0.42      0.42       347\n",
      "           4       0.13      0.22      0.16        54\n",
      "\n",
      "    accuracy                           0.72      2000\n",
      "   macro avg       0.35      0.38      0.36      2000\n",
      "weighted avg       0.75      0.72      0.73      2000\n",
      "\n",
      "[LightGBM] [Info] Auto-choosing row-wise multi-threading, the overhead of testing was 0.000827 seconds.\n",
      "You can set `force_row_wise=true` to remove the overhead.\n",
      "And if memory is not enough, you can set `force_col_wise=true`.\n",
      "[LightGBM] [Info] Total Bins 3060\n",
      "[LightGBM] [Info] Number of data points in the train set: 20550, number of used features: 12\n",
      "[LightGBM] [Info] Start training from score -1.386197\n",
      "[LightGBM] [Info] Start training from score -1.386197\n",
      "[LightGBM] [Info] Start training from score -1.386392\n",
      "[LightGBM] [Info] Start training from score -1.386392\n",
      "[LightGBM] [Info] Auto-choosing col-wise multi-threading, the overhead of testing was 0.015670 seconds.\n",
      "You can set `force_col_wise=true` to remove the overhead.\n",
      "[LightGBM] [Info] Total Bins 3060\n",
      "[LightGBM] [Info] Number of data points in the train set: 20551, number of used features: 12\n",
      "[LightGBM] [Info] Start training from score -1.386246\n",
      "[LightGBM] [Info] Start training from score -1.386246\n",
      "[LightGBM] [Info] Start training from score -1.386440\n",
      "[LightGBM] [Info] Start training from score -1.386246\n",
      "[LightGBM] [Info] Auto-choosing col-wise multi-threading, the overhead of testing was 0.005053 seconds.\n",
      "You can set `force_col_wise=true` to remove the overhead.\n",
      "[LightGBM] [Info] Total Bins 3060\n",
      "[LightGBM] [Info] Number of data points in the train set: 20551, number of used features: 12\n",
      "[LightGBM] [Info] Start training from score -1.386440\n",
      "[LightGBM] [Info] Start training from score -1.386246\n",
      "[LightGBM] [Info] Start training from score -1.386246\n",
      "[LightGBM] [Info] Start training from score -1.386246\n",
      "[LightGBM] [Info] Auto-choosing row-wise multi-threading, the overhead of testing was 0.003809 seconds.\n",
      "You can set `force_row_wise=true` to remove the overhead.\n",
      "And if memory is not enough, you can set `force_col_wise=true`.\n",
      "[LightGBM] [Info] Total Bins 3060\n",
      "[LightGBM] [Info] Number of data points in the train set: 20551, number of used features: 12\n",
      "[LightGBM] [Info] Start training from score -1.386246\n",
      "[LightGBM] [Info] Start training from score -1.386246\n",
      "[LightGBM] [Info] Start training from score -1.386440\n",
      "[LightGBM] [Info] Start training from score -1.386246\n",
      "[LightGBM] [Info] Auto-choosing col-wise multi-threading, the overhead of testing was 0.005148 seconds.\n",
      "You can set `force_col_wise=true` to remove the overhead.\n",
      "[LightGBM] [Info] Total Bins 3060\n",
      "[LightGBM] [Info] Number of data points in the train set: 20550, number of used features: 12\n",
      "[LightGBM] [Info] Start training from score -1.386197\n",
      "[LightGBM] [Info] Start training from score -1.386392\n",
      "[LightGBM] [Info] Start training from score -1.386197\n",
      "[LightGBM] [Info] Start training from score -1.386392\n",
      "[LightGBM] [Info] Auto-choosing col-wise multi-threading, the overhead of testing was 0.001328 seconds.\n",
      "You can set `force_col_wise=true` to remove the overhead.\n",
      "[LightGBM] [Info] Total Bins 3060\n",
      "[LightGBM] [Info] Number of data points in the train set: 20551, number of used features: 12\n",
      "[LightGBM] [Info] Start training from score -1.386246\n",
      "[LightGBM] [Info] Start training from score -1.386246\n",
      "[LightGBM] [Info] Start training from score -1.386440\n",
      "[LightGBM] [Info] Start training from score -1.386246\n",
      "[LightGBM] [Info] Auto-choosing col-wise multi-threading, the overhead of testing was 0.001701 seconds.\n",
      "You can set `force_col_wise=true` to remove the overhead.\n",
      "[LightGBM] [Info] Total Bins 3060\n",
      "[LightGBM] [Info] Number of data points in the train set: 20551, number of used features: 12\n",
      "[LightGBM] [Info] Start training from score -1.386440\n",
      "[LightGBM] [Info] Start training from score -1.386246\n",
      "[LightGBM] [Info] Start training from score -1.386246\n",
      "[LightGBM] [Info] Start training from score -1.386246\n",
      "[LightGBM] [Info] Auto-choosing col-wise multi-threading, the overhead of testing was 0.005083 seconds.\n",
      "You can set `force_col_wise=true` to remove the overhead.\n",
      "[LightGBM] [Info] Total Bins 3060\n",
      "[LightGBM] [Info] Number of data points in the train set: 20550, number of used features: 12\n",
      "[LightGBM] [Info] Start training from score -1.386392\n",
      "[LightGBM] [Info] Start training from score -1.386392\n",
      "[LightGBM] [Info] Start training from score -1.386197\n",
      "[LightGBM] [Info] Start training from score -1.386197\n",
      "[LightGBM] [Info] Auto-choosing col-wise multi-threading, the overhead of testing was 0.005100 seconds.\n",
      "You can set `force_col_wise=true` to remove the overhead.\n",
      "[LightGBM] [Info] Total Bins 3060\n",
      "[LightGBM] [Info] Number of data points in the train set: 20551, number of used features: 12\n",
      "[LightGBM] [Info] Start training from score -1.386440\n",
      "[LightGBM] [Info] Start training from score -1.386246\n",
      "[LightGBM] [Info] Start training from score -1.386246\n",
      "[LightGBM] [Info] Start training from score -1.386246\n",
      "[LightGBM] [Info] Auto-choosing row-wise multi-threading, the overhead of testing was 0.002485 seconds.\n",
      "You can set `force_row_wise=true` to remove the overhead.\n",
      "And if memory is not enough, you can set `force_col_wise=true`.\n",
      "[LightGBM] [Info] Total Bins 3060\n",
      "[LightGBM] [Info] Number of data points in the train set: 20550, number of used features: 12\n",
      "[LightGBM] [Info] Start training from score -1.386392\n",
      "[LightGBM] [Info] Start training from score -1.386392\n",
      "[LightGBM] [Info] Start training from score -1.386197\n",
      "[LightGBM] [Info] Start training from score -1.386197\n",
      "[LightGBM] [Info] Auto-choosing col-wise multi-threading, the overhead of testing was 0.001694 seconds.\n",
      "You can set `force_col_wise=true` to remove the overhead.\n",
      "[LightGBM] [Info] Total Bins 3060\n",
      "[LightGBM] [Info] Number of data points in the train set: 20550, number of used features: 12\n",
      "[LightGBM] [Info] Start training from score -1.386197\n",
      "[LightGBM] [Info] Start training from score -1.386392\n",
      "[LightGBM] [Info] Start training from score -1.386197\n",
      "[LightGBM] [Info] Start training from score -1.386392\n",
      "[LightGBM] [Info] Auto-choosing col-wise multi-threading, the overhead of testing was 0.003423 seconds.\n",
      "You can set `force_col_wise=true` to remove the overhead.\n",
      "[LightGBM] [Info] Total Bins 3060\n",
      "[LightGBM] [Info] Number of data points in the train set: 20550, number of used features: 12\n",
      "[LightGBM] [Info] Start training from score -1.386197\n",
      "[LightGBM] [Info] Start training from score -1.386392\n",
      "[LightGBM] [Info] Start training from score -1.386197\n",
      "[LightGBM] [Info] Start training from score -1.386392\n"
     ]
    },
    {
     "name": "stdout",
     "output_type": "stream",
     "text": [
      "[LightGBM] [Info] Auto-choosing col-wise multi-threading, the overhead of testing was 0.001919 seconds.\n",
      "You can set `force_col_wise=true` to remove the overhead.\n",
      "[LightGBM] [Info] Total Bins 3060\n",
      "[LightGBM] [Info] Number of data points in the train set: 20550, number of used features: 12\n",
      "[LightGBM] [Info] Start training from score -1.386197\n",
      "[LightGBM] [Info] Start training from score -1.386392\n",
      "[LightGBM] [Info] Start training from score -1.386197\n",
      "[LightGBM] [Info] Start training from score -1.386392\n",
      "[LightGBM] [Info] Auto-choosing row-wise multi-threading, the overhead of testing was 0.000834 seconds.\n",
      "You can set `force_row_wise=true` to remove the overhead.\n",
      "And if memory is not enough, you can set `force_col_wise=true`.\n",
      "[LightGBM] [Info] Total Bins 3060\n",
      "[LightGBM] [Info] Number of data points in the train set: 20551, number of used features: 12\n",
      "[LightGBM] [Info] Start training from score -1.386440\n",
      "[LightGBM] [Info] Start training from score -1.386246\n",
      "[LightGBM] [Info] Start training from score -1.386246\n",
      "[LightGBM] [Info] Start training from score -1.386246\n",
      "[LightGBM] [Info] Auto-choosing col-wise multi-threading, the overhead of testing was 0.005258 seconds.\n",
      "You can set `force_col_wise=true` to remove the overhead.\n",
      "[LightGBM] [Info] Total Bins 3060\n",
      "[LightGBM] [Info] Number of data points in the train set: 20551, number of used features: 12\n",
      "[LightGBM] [Info] Start training from score -1.386246\n",
      "[LightGBM] [Info] Start training from score -1.386246\n",
      "[LightGBM] [Info] Start training from score -1.386440\n",
      "[LightGBM] [Info] Start training from score -1.386246\n",
      "[LightGBM] [Info] Auto-choosing col-wise multi-threading, the overhead of testing was 0.023898 seconds.\n",
      "You can set `force_col_wise=true` to remove the overhead.\n",
      "[LightGBM] [Info] Total Bins 3060\n",
      "[LightGBM] [Info] Number of data points in the train set: 20550, number of used features: 12\n",
      "[LightGBM] [Info] Start training from score -1.386392\n",
      "[LightGBM] [Info] Start training from score -1.386392\n",
      "[LightGBM] [Info] Start training from score -1.386197\n",
      "[LightGBM] [Info] Start training from score -1.386197\n",
      "[LightGBM] [Info] Auto-choosing col-wise multi-threading, the overhead of testing was 0.002145 seconds.\n",
      "You can set `force_col_wise=true` to remove the overhead.\n",
      "[LightGBM] [Info] Total Bins 3060\n",
      "[LightGBM] [Info] Number of data points in the train set: 20550, number of used features: 12\n",
      "[LightGBM] [Info] Start training from score -1.386392\n",
      "[LightGBM] [Info] Start training from score -1.386392\n",
      "[LightGBM] [Info] Start training from score -1.386197\n",
      "[LightGBM] [Info] Start training from score -1.386197\n",
      "[LightGBM] [Info] Auto-choosing row-wise multi-threading, the overhead of testing was 0.002410 seconds.\n",
      "You can set `force_row_wise=true` to remove the overhead.\n",
      "And if memory is not enough, you can set `force_col_wise=true`.\n",
      "[LightGBM] [Info] Total Bins 3060\n",
      "[LightGBM] [Info] Number of data points in the train set: 20550, number of used features: 12\n",
      "[LightGBM] [Info] Start training from score -1.386197\n",
      "[LightGBM] [Info] Start training from score -1.386197\n",
      "[LightGBM] [Info] Start training from score -1.386392\n",
      "[LightGBM] [Info] Start training from score -1.386392\n",
      "[LightGBM] [Info] Auto-choosing col-wise multi-threading, the overhead of testing was 0.001708 seconds.\n",
      "You can set `force_col_wise=true` to remove the overhead.\n",
      "[LightGBM] [Info] Total Bins 3060\n",
      "[LightGBM] [Info] Number of data points in the train set: 20550, number of used features: 12\n",
      "[LightGBM] [Info] Start training from score -1.386197\n",
      "[LightGBM] [Info] Start training from score -1.386197\n",
      "[LightGBM] [Info] Start training from score -1.386392\n",
      "[LightGBM] [Info] Start training from score -1.386392\n",
      "[LightGBM] [Info] Auto-choosing col-wise multi-threading, the overhead of testing was 0.003653 seconds.\n",
      "You can set `force_col_wise=true` to remove the overhead.\n",
      "[LightGBM] [Info] Total Bins 3060\n",
      "[LightGBM] [Info] Number of data points in the train set: 20550, number of used features: 12\n",
      "[LightGBM] [Info] Start training from score -1.386197\n",
      "[LightGBM] [Info] Start training from score -1.386197\n",
      "[LightGBM] [Info] Start training from score -1.386392\n",
      "[LightGBM] [Info] Start training from score -1.386392\n"
     ]
    }
   ],
   "source": [
    "models = {\n",
    "    'RandomForest': RandomForestClassifier(),\n",
    "    'SVM': SVC(probability=True),  \n",
    "    'LGBM': lgb.LGBMClassifier(),\n",
    "    'BaggingClassifier': BaggingClassifier()\n",
    "}\n",
    "hyperparameters = {\n",
    "    'RandomForest': {'n_estimators': [50, 100], 'max_depth': [None, 10]},\n",
    "    'SVM': {'C': [0.1, 1, 10], 'kernel': ['linear', 'rbf']},\n",
    "    'LGBM': {'num_leaves': [31, 50], 'learning_rate': [0.01, 0.1]},\n",
    "    'BaggingClassifier': {'n_estimators': [10, 50], 'max_samples': [0.5, 1.0]}\n",
    "}\n",
    "results = {}\n",
    "\n",
    "for model_name, model in models.items():\n",
    "    print(f\"Training {model_name}...\")\n",
    "    grid_search = GridSearchCV(model, hyperparameters[model_name], scoring='accuracy', cv=5, n_jobs=-1)\n",
    "    grid_search.fit(X_train_resampled, y_train_resampled)\n",
    "    \n",
    "    best_model = grid_search.best_estimator_\n",
    "    y_pred = best_model.predict(X_test_sel)\n",
    "    y_proba = best_model.predict_proba(X_test_sel)[:, 1]\n",
    "\n",
    "    \n",
    "    accuracy = accuracy_score(y_test, y_pred)\n",
    "    f1 = f1_score(y_test, y_pred, average='weighted')\n",
    "#     roc_auc = roc_auc_score(y_test, y_proba,multi_class='ovr')\n",
    "\n",
    "    results[model_name] = {\n",
    "        'model': best_model,\n",
    "        'accuracy': accuracy,\n",
    "        'f1_score': f1\n",
    "#         'roc_auc': roc_auc\n",
    "    }\n",
    "    #save the model\n",
    "    model_filename = f'{model_name}.joblib'\n",
    "    joblib.dump(best_model, model_filename)\n",
    "\n",
    "    \n",
    "    print(f\"\\nClassification Report for {model_name}:\\n\")\n",
    "    print(classification_report(y_test, y_pred))\n",
    "\n",
    "    \n",
    "#     fpr, tpr, _ = roc_curve(y_test, y_proba)\n",
    "#     plt.plot(fpr, tpr, label=f'{model_name} (AUC = {roc_auc:.2f})')\n",
    "\n",
    "# Plot ROC curves for all models\n",
    "# plt.xlabel('False Positive Rate')\n",
    "# plt.ylabel('True Positive Rate')\n",
    "# plt.title('ROC Curves')\n",
    "# plt.legend()\n",
    "# plt.show()\n"
   ]
  },
  {
   "cell_type": "code",
   "execution_count": 98,
   "id": "74af7384",
   "metadata": {},
   "outputs": [
    {
     "data": {
      "image/png": "[encoded data removed]",
      "text/plain": [
       "<Figure size 1200x600 with 2 Axes>"
      ]
     },
     "metadata": {},
     "output_type": "display_data"
    }
   ],
   "source": [
    "# Plot Accuracy and F1 scores\n",
    "model_names = list(results.keys())\n",
    "accuracies = [results[model]['accuracy'] for model in model_names]\n",
    "f1_scores = [results[model]['f1_score'] for model in model_names]\n",
    "\n",
    "plt.figure(figsize=(12, 6))\n",
    "\n",
    "plt.subplot(1, 2, 1)\n",
    "plt.bar(model_names, accuracies, color='skyblue')\n",
    "plt.title('Model Accuracy')\n",
    "plt.ylabel('Accuracy')\n",
    "\n",
    "plt.subplot(1, 2, 2)\n",
    "plt.bar(model_names, f1_scores, color='lightgreen')\n",
    "plt.title('Model F1 Score')\n",
    "plt.ylabel('F1 Score')\n",
    "\n",
    "plt.show()\n"
   ]
  },
  {
   "cell_type": "code",
   "execution_count": null,
   "id": "e4e2e1f9",
   "metadata": {},
   "outputs": [],
   "source": [
    "#We compare this with earlier reports of Random Forests we can see prescision has improved a bit but is still abysmal \n"
   ]
  },
  {
   "cell_type": "code",
   "execution_count": 102,
   "id": "0f56548f",
   "metadata": {},
   "outputs": [
    {
     "name": "stdout",
     "output_type": "stream",
     "text": [
      "Fitting 5 folds for each of 96 candidates, totalling 480 fits\n"
     ]
    },
    {
     "name": "stderr",
     "output_type": "stream",
     "text": [
      "/Users/rahulbharti/Desktop/ML_project/ML/venv/lib/python3.10/site-packages/sklearn/neural_network/_multilayer_perceptron.py:690: ConvergenceWarning: Stochastic Optimizer: Maximum iterations (300) reached and the optimization hasn't converged yet.\n",
      "  warnings.warn(\n",
      "/Users/rahulbharti/Desktop/ML_project/ML/venv/lib/python3.10/site-packages/sklearn/neural_network/_multilayer_perceptron.py:690: ConvergenceWarning: Stochastic Optimizer: Maximum iterations (300) reached and the optimization hasn't converged yet.\n",
      "  warnings.warn(\n",
      "/Users/rahulbharti/Desktop/ML_project/ML/venv/lib/python3.10/site-packages/sklearn/neural_network/_multilayer_perceptron.py:690: ConvergenceWarning: Stochastic Optimizer: Maximum iterations (300) reached and the optimization hasn't converged yet.\n",
      "  warnings.warn(\n",
      "/Users/rahulbharti/Desktop/ML_project/ML/venv/lib/python3.10/site-packages/sklearn/neural_network/_multilayer_perceptron.py:690: ConvergenceWarning: Stochastic Optimizer: Maximum iterations (300) reached and the optimization hasn't converged yet.\n",
      "  warnings.warn(\n",
      "/Users/rahulbharti/Desktop/ML_project/ML/venv/lib/python3.10/site-packages/sklearn/neural_network/_multilayer_perceptron.py:690: ConvergenceWarning: Stochastic Optimizer: Maximum iterations (400) reached and the optimization hasn't converged yet.\n",
      "  warnings.warn(\n",
      "/Users/rahulbharti/Desktop/ML_project/ML/venv/lib/python3.10/site-packages/sklearn/neural_network/_multilayer_perceptron.py:690: ConvergenceWarning: Stochastic Optimizer: Maximum iterations (400) reached and the optimization hasn't converged yet.\n",
      "  warnings.warn(\n",
      "/Users/rahulbharti/Desktop/ML_project/ML/venv/lib/python3.10/site-packages/sklearn/neural_network/_multilayer_perceptron.py:690: ConvergenceWarning: Stochastic Optimizer: Maximum iterations (300) reached and the optimization hasn't converged yet.\n",
      "  warnings.warn(\n",
      "/Users/rahulbharti/Desktop/ML_project/ML/venv/lib/python3.10/site-packages/sklearn/neural_network/_multilayer_perceptron.py:690: ConvergenceWarning: Stochastic Optimizer: Maximum iterations (300) reached and the optimization hasn't converged yet.\n",
      "  warnings.warn(\n",
      "/Users/rahulbharti/Desktop/ML_project/ML/venv/lib/python3.10/site-packages/sklearn/neural_network/_multilayer_perceptron.py:690: ConvergenceWarning: Stochastic Optimizer: Maximum iterations (300) reached and the optimization hasn't converged yet.\n",
      "  warnings.warn(\n",
      "/Users/rahulbharti/Desktop/ML_project/ML/venv/lib/python3.10/site-packages/sklearn/neural_network/_multilayer_perceptron.py:690: ConvergenceWarning: Stochastic Optimizer: Maximum iterations (300) reached and the optimization hasn't converged yet.\n",
      "  warnings.warn(\n",
      "/Users/rahulbharti/Desktop/ML_project/ML/venv/lib/python3.10/site-packages/sklearn/neural_network/_multilayer_perceptron.py:690: ConvergenceWarning: Stochastic Optimizer: Maximum iterations (400) reached and the optimization hasn't converged yet.\n",
      "  warnings.warn(\n",
      "/Users/rahulbharti/Desktop/ML_project/ML/venv/lib/python3.10/site-packages/sklearn/neural_network/_multilayer_perceptron.py:690: ConvergenceWarning: Stochastic Optimizer: Maximum iterations (300) reached and the optimization hasn't converged yet.\n",
      "  warnings.warn(\n",
      "/Users/rahulbharti/Desktop/ML_project/ML/venv/lib/python3.10/site-packages/sklearn/neural_network/_multilayer_perceptron.py:690: ConvergenceWarning: Stochastic Optimizer: Maximum iterations (400) reached and the optimization hasn't converged yet.\n",
      "  warnings.warn(\n",
      "/Users/rahulbharti/Desktop/ML_project/ML/venv/lib/python3.10/site-packages/sklearn/neural_network/_multilayer_perceptron.py:690: ConvergenceWarning: Stochastic Optimizer: Maximum iterations (300) reached and the optimization hasn't converged yet.\n",
      "  warnings.warn(\n",
      "/Users/rahulbharti/Desktop/ML_project/ML/venv/lib/python3.10/site-packages/sklearn/neural_network/_multilayer_perceptron.py:690: ConvergenceWarning: Stochastic Optimizer: Maximum iterations (300) reached and the optimization hasn't converged yet.\n",
      "  warnings.warn(\n",
      "/Users/rahulbharti/Desktop/ML_project/ML/venv/lib/python3.10/site-packages/sklearn/neural_network/_multilayer_perceptron.py:690: ConvergenceWarning: Stochastic Optimizer: Maximum iterations (300) reached and the optimization hasn't converged yet.\n",
      "  warnings.warn(\n",
      "/Users/rahulbharti/Desktop/ML_project/ML/venv/lib/python3.10/site-packages/sklearn/neural_network/_multilayer_perceptron.py:690: ConvergenceWarning: Stochastic Optimizer: Maximum iterations (300) reached and the optimization hasn't converged yet.\n",
      "  warnings.warn(\n",
      "/Users/rahulbharti/Desktop/ML_project/ML/venv/lib/python3.10/site-packages/sklearn/neural_network/_multilayer_perceptron.py:690: ConvergenceWarning: Stochastic Optimizer: Maximum iterations (400) reached and the optimization hasn't converged yet.\n",
      "  warnings.warn(\n",
      "/Users/rahulbharti/Desktop/ML_project/ML/venv/lib/python3.10/site-packages/sklearn/neural_network/_multilayer_perceptron.py:690: ConvergenceWarning: Stochastic Optimizer: Maximum iterations (300) reached and the optimization hasn't converged yet.\n",
      "  warnings.warn(\n",
      "/Users/rahulbharti/Desktop/ML_project/ML/venv/lib/python3.10/site-packages/sklearn/neural_network/_multilayer_perceptron.py:690: ConvergenceWarning: Stochastic Optimizer: Maximum iterations (300) reached and the optimization hasn't converged yet.\n",
      "  warnings.warn(\n",
      "/Users/rahulbharti/Desktop/ML_project/ML/venv/lib/python3.10/site-packages/sklearn/neural_network/_multilayer_perceptron.py:690: ConvergenceWarning: Stochastic Optimizer: Maximum iterations (300) reached and the optimization hasn't converged yet.\n",
      "  warnings.warn(\n",
      "/Users/rahulbharti/Desktop/ML_project/ML/venv/lib/python3.10/site-packages/sklearn/neural_network/_multilayer_perceptron.py:690: ConvergenceWarning: Stochastic Optimizer: Maximum iterations (400) reached and the optimization hasn't converged yet.\n",
      "  warnings.warn(\n",
      "/Users/rahulbharti/Desktop/ML_project/ML/venv/lib/python3.10/site-packages/sklearn/neural_network/_multilayer_perceptron.py:690: ConvergenceWarning: Stochastic Optimizer: Maximum iterations (300) reached and the optimization hasn't converged yet.\n",
      "  warnings.warn(\n",
      "/Users/rahulbharti/Desktop/ML_project/ML/venv/lib/python3.10/site-packages/sklearn/neural_network/_multilayer_perceptron.py:690: ConvergenceWarning: Stochastic Optimizer: Maximum iterations (300) reached and the optimization hasn't converged yet.\n",
      "  warnings.warn(\n",
      "/Users/rahulbharti/Desktop/ML_project/ML/venv/lib/python3.10/site-packages/sklearn/neural_network/_multilayer_perceptron.py:690: ConvergenceWarning: Stochastic Optimizer: Maximum iterations (300) reached and the optimization hasn't converged yet.\n",
      "  warnings.warn(\n",
      "/Users/rahulbharti/Desktop/ML_project/ML/venv/lib/python3.10/site-packages/sklearn/neural_network/_multilayer_perceptron.py:690: ConvergenceWarning: Stochastic Optimizer: Maximum iterations (300) reached and the optimization hasn't converged yet.\n",
      "  warnings.warn(\n",
      "/Users/rahulbharti/Desktop/ML_project/ML/venv/lib/python3.10/site-packages/sklearn/neural_network/_multilayer_perceptron.py:690: ConvergenceWarning: Stochastic Optimizer: Maximum iterations (400) reached and the optimization hasn't converged yet.\n",
      "  warnings.warn(\n",
      "/Users/rahulbharti/Desktop/ML_project/ML/venv/lib/python3.10/site-packages/sklearn/neural_network/_multilayer_perceptron.py:690: ConvergenceWarning: Stochastic Optimizer: Maximum iterations (400) reached and the optimization hasn't converged yet.\n",
      "  warnings.warn(\n",
      "/Users/rahulbharti/Desktop/ML_project/ML/venv/lib/python3.10/site-packages/sklearn/neural_network/_multilayer_perceptron.py:690: ConvergenceWarning: Stochastic Optimizer: Maximum iterations (300) reached and the optimization hasn't converged yet.\n",
      "  warnings.warn(\n",
      "/Users/rahulbharti/Desktop/ML_project/ML/venv/lib/python3.10/site-packages/sklearn/neural_network/_multilayer_perceptron.py:690: ConvergenceWarning: Stochastic Optimizer: Maximum iterations (300) reached and the optimization hasn't converged yet.\n",
      "  warnings.warn(\n",
      "/Users/rahulbharti/Desktop/ML_project/ML/venv/lib/python3.10/site-packages/sklearn/neural_network/_multilayer_perceptron.py:690: ConvergenceWarning: Stochastic Optimizer: Maximum iterations (300) reached and the optimization hasn't converged yet.\n",
      "  warnings.warn(\n",
      "/Users/rahulbharti/Desktop/ML_project/ML/venv/lib/python3.10/site-packages/sklearn/neural_network/_multilayer_perceptron.py:690: ConvergenceWarning: Stochastic Optimizer: Maximum iterations (300) reached and the optimization hasn't converged yet.\n",
      "  warnings.warn(\n"
     ]
    },
    {
     "name": "stderr",
     "output_type": "stream",
     "text": [
      "/Users/rahulbharti/Desktop/ML_project/ML/venv/lib/python3.10/site-packages/sklearn/neural_network/_multilayer_perceptron.py:690: ConvergenceWarning: Stochastic Optimizer: Maximum iterations (300) reached and the optimization hasn't converged yet.\n",
      "  warnings.warn(\n",
      "/Users/rahulbharti/Desktop/ML_project/ML/venv/lib/python3.10/site-packages/sklearn/neural_network/_multilayer_perceptron.py:690: ConvergenceWarning: Stochastic Optimizer: Maximum iterations (400) reached and the optimization hasn't converged yet.\n",
      "  warnings.warn(\n",
      "/Users/rahulbharti/Desktop/ML_project/ML/venv/lib/python3.10/site-packages/sklearn/neural_network/_multilayer_perceptron.py:690: ConvergenceWarning: Stochastic Optimizer: Maximum iterations (300) reached and the optimization hasn't converged yet.\n",
      "  warnings.warn(\n",
      "/Users/rahulbharti/Desktop/ML_project/ML/venv/lib/python3.10/site-packages/sklearn/neural_network/_multilayer_perceptron.py:690: ConvergenceWarning: Stochastic Optimizer: Maximum iterations (400) reached and the optimization hasn't converged yet.\n",
      "  warnings.warn(\n",
      "/Users/rahulbharti/Desktop/ML_project/ML/venv/lib/python3.10/site-packages/sklearn/neural_network/_multilayer_perceptron.py:690: ConvergenceWarning: Stochastic Optimizer: Maximum iterations (300) reached and the optimization hasn't converged yet.\n",
      "  warnings.warn(\n",
      "/Users/rahulbharti/Desktop/ML_project/ML/venv/lib/python3.10/site-packages/sklearn/neural_network/_multilayer_perceptron.py:690: ConvergenceWarning: Stochastic Optimizer: Maximum iterations (300) reached and the optimization hasn't converged yet.\n",
      "  warnings.warn(\n",
      "/Users/rahulbharti/Desktop/ML_project/ML/venv/lib/python3.10/site-packages/sklearn/neural_network/_multilayer_perceptron.py:690: ConvergenceWarning: Stochastic Optimizer: Maximum iterations (300) reached and the optimization hasn't converged yet.\n",
      "  warnings.warn(\n",
      "/Users/rahulbharti/Desktop/ML_project/ML/venv/lib/python3.10/site-packages/sklearn/neural_network/_multilayer_perceptron.py:690: ConvergenceWarning: Stochastic Optimizer: Maximum iterations (300) reached and the optimization hasn't converged yet.\n",
      "  warnings.warn(\n",
      "/Users/rahulbharti/Desktop/ML_project/ML/venv/lib/python3.10/site-packages/sklearn/neural_network/_multilayer_perceptron.py:690: ConvergenceWarning: Stochastic Optimizer: Maximum iterations (300) reached and the optimization hasn't converged yet.\n",
      "  warnings.warn(\n",
      "/Users/rahulbharti/Desktop/ML_project/ML/venv/lib/python3.10/site-packages/sklearn/neural_network/_multilayer_perceptron.py:690: ConvergenceWarning: Stochastic Optimizer: Maximum iterations (300) reached and the optimization hasn't converged yet.\n",
      "  warnings.warn(\n",
      "/Users/rahulbharti/Desktop/ML_project/ML/venv/lib/python3.10/site-packages/sklearn/neural_network/_multilayer_perceptron.py:690: ConvergenceWarning: Stochastic Optimizer: Maximum iterations (300) reached and the optimization hasn't converged yet.\n",
      "  warnings.warn(\n",
      "/Users/rahulbharti/Desktop/ML_project/ML/venv/lib/python3.10/site-packages/sklearn/neural_network/_multilayer_perceptron.py:690: ConvergenceWarning: Stochastic Optimizer: Maximum iterations (300) reached and the optimization hasn't converged yet.\n",
      "  warnings.warn(\n",
      "/Users/rahulbharti/Desktop/ML_project/ML/venv/lib/python3.10/site-packages/sklearn/neural_network/_multilayer_perceptron.py:690: ConvergenceWarning: Stochastic Optimizer: Maximum iterations (300) reached and the optimization hasn't converged yet.\n",
      "  warnings.warn(\n",
      "/Users/rahulbharti/Desktop/ML_project/ML/venv/lib/python3.10/site-packages/sklearn/neural_network/_multilayer_perceptron.py:690: ConvergenceWarning: Stochastic Optimizer: Maximum iterations (300) reached and the optimization hasn't converged yet.\n",
      "  warnings.warn(\n",
      "/Users/rahulbharti/Desktop/ML_project/ML/venv/lib/python3.10/site-packages/sklearn/neural_network/_multilayer_perceptron.py:690: ConvergenceWarning: Stochastic Optimizer: Maximum iterations (300) reached and the optimization hasn't converged yet.\n",
      "  warnings.warn(\n",
      "/Users/rahulbharti/Desktop/ML_project/ML/venv/lib/python3.10/site-packages/sklearn/neural_network/_multilayer_perceptron.py:690: ConvergenceWarning: Stochastic Optimizer: Maximum iterations (300) reached and the optimization hasn't converged yet.\n",
      "  warnings.warn(\n",
      "/Users/rahulbharti/Desktop/ML_project/ML/venv/lib/python3.10/site-packages/sklearn/neural_network/_multilayer_perceptron.py:690: ConvergenceWarning: Stochastic Optimizer: Maximum iterations (300) reached and the optimization hasn't converged yet.\n",
      "  warnings.warn(\n",
      "/Users/rahulbharti/Desktop/ML_project/ML/venv/lib/python3.10/site-packages/sklearn/neural_network/_multilayer_perceptron.py:690: ConvergenceWarning: Stochastic Optimizer: Maximum iterations (300) reached and the optimization hasn't converged yet.\n",
      "  warnings.warn(\n",
      "/Users/rahulbharti/Desktop/ML_project/ML/venv/lib/python3.10/site-packages/sklearn/neural_network/_multilayer_perceptron.py:690: ConvergenceWarning: Stochastic Optimizer: Maximum iterations (300) reached and the optimization hasn't converged yet.\n",
      "  warnings.warn(\n",
      "/Users/rahulbharti/Desktop/ML_project/ML/venv/lib/python3.10/site-packages/sklearn/neural_network/_multilayer_perceptron.py:690: ConvergenceWarning: Stochastic Optimizer: Maximum iterations (300) reached and the optimization hasn't converged yet.\n",
      "  warnings.warn(\n",
      "/Users/rahulbharti/Desktop/ML_project/ML/venv/lib/python3.10/site-packages/sklearn/neural_network/_multilayer_perceptron.py:690: ConvergenceWarning: Stochastic Optimizer: Maximum iterations (300) reached and the optimization hasn't converged yet.\n",
      "  warnings.warn(\n",
      "/Users/rahulbharti/Desktop/ML_project/ML/venv/lib/python3.10/site-packages/sklearn/neural_network/_multilayer_perceptron.py:690: ConvergenceWarning: Stochastic Optimizer: Maximum iterations (300) reached and the optimization hasn't converged yet.\n",
      "  warnings.warn(\n",
      "/Users/rahulbharti/Desktop/ML_project/ML/venv/lib/python3.10/site-packages/sklearn/neural_network/_multilayer_perceptron.py:690: ConvergenceWarning: Stochastic Optimizer: Maximum iterations (300) reached and the optimization hasn't converged yet.\n",
      "  warnings.warn(\n",
      "/Users/rahulbharti/Desktop/ML_project/ML/venv/lib/python3.10/site-packages/sklearn/neural_network/_multilayer_perceptron.py:690: ConvergenceWarning: Stochastic Optimizer: Maximum iterations (300) reached and the optimization hasn't converged yet.\n",
      "  warnings.warn(\n",
      "/Users/rahulbharti/Desktop/ML_project/ML/venv/lib/python3.10/site-packages/sklearn/neural_network/_multilayer_perceptron.py:690: ConvergenceWarning: Stochastic Optimizer: Maximum iterations (300) reached and the optimization hasn't converged yet.\n",
      "  warnings.warn(\n",
      "/Users/rahulbharti/Desktop/ML_project/ML/venv/lib/python3.10/site-packages/sklearn/neural_network/_multilayer_perceptron.py:690: ConvergenceWarning: Stochastic Optimizer: Maximum iterations (400) reached and the optimization hasn't converged yet.\n",
      "  warnings.warn(\n",
      "/Users/rahulbharti/Desktop/ML_project/ML/venv/lib/python3.10/site-packages/sklearn/neural_network/_multilayer_perceptron.py:690: ConvergenceWarning: Stochastic Optimizer: Maximum iterations (300) reached and the optimization hasn't converged yet.\n",
      "  warnings.warn(\n",
      "/Users/rahulbharti/Desktop/ML_project/ML/venv/lib/python3.10/site-packages/sklearn/neural_network/_multilayer_perceptron.py:690: ConvergenceWarning: Stochastic Optimizer: Maximum iterations (300) reached and the optimization hasn't converged yet.\n",
      "  warnings.warn(\n",
      "/Users/rahulbharti/Desktop/ML_project/ML/venv/lib/python3.10/site-packages/sklearn/neural_network/_multilayer_perceptron.py:690: ConvergenceWarning: Stochastic Optimizer: Maximum iterations (300) reached and the optimization hasn't converged yet.\n",
      "  warnings.warn(\n",
      "/Users/rahulbharti/Desktop/ML_project/ML/venv/lib/python3.10/site-packages/sklearn/neural_network/_multilayer_perceptron.py:690: ConvergenceWarning: Stochastic Optimizer: Maximum iterations (300) reached and the optimization hasn't converged yet.\n",
      "  warnings.warn(\n",
      "/Users/rahulbharti/Desktop/ML_project/ML/venv/lib/python3.10/site-packages/sklearn/neural_network/_multilayer_perceptron.py:690: ConvergenceWarning: Stochastic Optimizer: Maximum iterations (300) reached and the optimization hasn't converged yet.\n",
      "  warnings.warn(\n",
      "/Users/rahulbharti/Desktop/ML_project/ML/venv/lib/python3.10/site-packages/sklearn/neural_network/_multilayer_perceptron.py:690: ConvergenceWarning: Stochastic Optimizer: Maximum iterations (400) reached and the optimization hasn't converged yet.\n",
      "  warnings.warn(\n"
     ]
    },
    {
     "name": "stderr",
     "output_type": "stream",
     "text": [
      "/Users/rahulbharti/Desktop/ML_project/ML/venv/lib/python3.10/site-packages/sklearn/neural_network/_multilayer_perceptron.py:690: ConvergenceWarning: Stochastic Optimizer: Maximum iterations (300) reached and the optimization hasn't converged yet.\n",
      "  warnings.warn(\n",
      "/Users/rahulbharti/Desktop/ML_project/ML/venv/lib/python3.10/site-packages/sklearn/neural_network/_multilayer_perceptron.py:690: ConvergenceWarning: Stochastic Optimizer: Maximum iterations (300) reached and the optimization hasn't converged yet.\n",
      "  warnings.warn(\n",
      "/Users/rahulbharti/Desktop/ML_project/ML/venv/lib/python3.10/site-packages/sklearn/neural_network/_multilayer_perceptron.py:690: ConvergenceWarning: Stochastic Optimizer: Maximum iterations (300) reached and the optimization hasn't converged yet.\n",
      "  warnings.warn(\n",
      "/Users/rahulbharti/Desktop/ML_project/ML/venv/lib/python3.10/site-packages/sklearn/neural_network/_multilayer_perceptron.py:690: ConvergenceWarning: Stochastic Optimizer: Maximum iterations (300) reached and the optimization hasn't converged yet.\n",
      "  warnings.warn(\n",
      "/Users/rahulbharti/Desktop/ML_project/ML/venv/lib/python3.10/site-packages/sklearn/neural_network/_multilayer_perceptron.py:690: ConvergenceWarning: Stochastic Optimizer: Maximum iterations (400) reached and the optimization hasn't converged yet.\n",
      "  warnings.warn(\n",
      "/Users/rahulbharti/Desktop/ML_project/ML/venv/lib/python3.10/site-packages/sklearn/neural_network/_multilayer_perceptron.py:690: ConvergenceWarning: Stochastic Optimizer: Maximum iterations (300) reached and the optimization hasn't converged yet.\n",
      "  warnings.warn(\n",
      "/Users/rahulbharti/Desktop/ML_project/ML/venv/lib/python3.10/site-packages/sklearn/neural_network/_multilayer_perceptron.py:690: ConvergenceWarning: Stochastic Optimizer: Maximum iterations (300) reached and the optimization hasn't converged yet.\n",
      "  warnings.warn(\n",
      "/Users/rahulbharti/Desktop/ML_project/ML/venv/lib/python3.10/site-packages/sklearn/neural_network/_multilayer_perceptron.py:690: ConvergenceWarning: Stochastic Optimizer: Maximum iterations (300) reached and the optimization hasn't converged yet.\n",
      "  warnings.warn(\n",
      "/Users/rahulbharti/Desktop/ML_project/ML/venv/lib/python3.10/site-packages/sklearn/neural_network/_multilayer_perceptron.py:690: ConvergenceWarning: Stochastic Optimizer: Maximum iterations (300) reached and the optimization hasn't converged yet.\n",
      "  warnings.warn(\n",
      "/Users/rahulbharti/Desktop/ML_project/ML/venv/lib/python3.10/site-packages/sklearn/neural_network/_multilayer_perceptron.py:690: ConvergenceWarning: Stochastic Optimizer: Maximum iterations (400) reached and the optimization hasn't converged yet.\n",
      "  warnings.warn(\n",
      "/Users/rahulbharti/Desktop/ML_project/ML/venv/lib/python3.10/site-packages/sklearn/neural_network/_multilayer_perceptron.py:690: ConvergenceWarning: Stochastic Optimizer: Maximum iterations (300) reached and the optimization hasn't converged yet.\n",
      "  warnings.warn(\n",
      "/Users/rahulbharti/Desktop/ML_project/ML/venv/lib/python3.10/site-packages/sklearn/neural_network/_multilayer_perceptron.py:690: ConvergenceWarning: Stochastic Optimizer: Maximum iterations (300) reached and the optimization hasn't converged yet.\n",
      "  warnings.warn(\n",
      "/Users/rahulbharti/Desktop/ML_project/ML/venv/lib/python3.10/site-packages/sklearn/neural_network/_multilayer_perceptron.py:690: ConvergenceWarning: Stochastic Optimizer: Maximum iterations (300) reached and the optimization hasn't converged yet.\n",
      "  warnings.warn(\n",
      "/Users/rahulbharti/Desktop/ML_project/ML/venv/lib/python3.10/site-packages/sklearn/neural_network/_multilayer_perceptron.py:690: ConvergenceWarning: Stochastic Optimizer: Maximum iterations (300) reached and the optimization hasn't converged yet.\n",
      "  warnings.warn(\n",
      "/Users/rahulbharti/Desktop/ML_project/ML/venv/lib/python3.10/site-packages/sklearn/neural_network/_multilayer_perceptron.py:690: ConvergenceWarning: Stochastic Optimizer: Maximum iterations (300) reached and the optimization hasn't converged yet.\n",
      "  warnings.warn(\n",
      "/Users/rahulbharti/Desktop/ML_project/ML/venv/lib/python3.10/site-packages/sklearn/neural_network/_multilayer_perceptron.py:690: ConvergenceWarning: Stochastic Optimizer: Maximum iterations (300) reached and the optimization hasn't converged yet.\n",
      "  warnings.warn(\n",
      "/Users/rahulbharti/Desktop/ML_project/ML/venv/lib/python3.10/site-packages/sklearn/neural_network/_multilayer_perceptron.py:690: ConvergenceWarning: Stochastic Optimizer: Maximum iterations (300) reached and the optimization hasn't converged yet.\n",
      "  warnings.warn(\n",
      "/Users/rahulbharti/Desktop/ML_project/ML/venv/lib/python3.10/site-packages/sklearn/neural_network/_multilayer_perceptron.py:690: ConvergenceWarning: Stochastic Optimizer: Maximum iterations (300) reached and the optimization hasn't converged yet.\n",
      "  warnings.warn(\n",
      "/Users/rahulbharti/Desktop/ML_project/ML/venv/lib/python3.10/site-packages/sklearn/neural_network/_multilayer_perceptron.py:690: ConvergenceWarning: Stochastic Optimizer: Maximum iterations (300) reached and the optimization hasn't converged yet.\n",
      "  warnings.warn(\n",
      "/Users/rahulbharti/Desktop/ML_project/ML/venv/lib/python3.10/site-packages/sklearn/neural_network/_multilayer_perceptron.py:690: ConvergenceWarning: Stochastic Optimizer: Maximum iterations (300) reached and the optimization hasn't converged yet.\n",
      "  warnings.warn(\n",
      "/Users/rahulbharti/Desktop/ML_project/ML/venv/lib/python3.10/site-packages/sklearn/neural_network/_multilayer_perceptron.py:690: ConvergenceWarning: Stochastic Optimizer: Maximum iterations (300) reached and the optimization hasn't converged yet.\n",
      "  warnings.warn(\n",
      "/Users/rahulbharti/Desktop/ML_project/ML/venv/lib/python3.10/site-packages/sklearn/neural_network/_multilayer_perceptron.py:690: ConvergenceWarning: Stochastic Optimizer: Maximum iterations (300) reached and the optimization hasn't converged yet.\n",
      "  warnings.warn(\n",
      "/Users/rahulbharti/Desktop/ML_project/ML/venv/lib/python3.10/site-packages/sklearn/neural_network/_multilayer_perceptron.py:690: ConvergenceWarning: Stochastic Optimizer: Maximum iterations (300) reached and the optimization hasn't converged yet.\n",
      "  warnings.warn(\n",
      "/Users/rahulbharti/Desktop/ML_project/ML/venv/lib/python3.10/site-packages/sklearn/neural_network/_multilayer_perceptron.py:690: ConvergenceWarning: Stochastic Optimizer: Maximum iterations (400) reached and the optimization hasn't converged yet.\n",
      "  warnings.warn(\n",
      "/Users/rahulbharti/Desktop/ML_project/ML/venv/lib/python3.10/site-packages/sklearn/neural_network/_multilayer_perceptron.py:690: ConvergenceWarning: Stochastic Optimizer: Maximum iterations (300) reached and the optimization hasn't converged yet.\n",
      "  warnings.warn(\n",
      "/Users/rahulbharti/Desktop/ML_project/ML/venv/lib/python3.10/site-packages/sklearn/neural_network/_multilayer_perceptron.py:690: ConvergenceWarning: Stochastic Optimizer: Maximum iterations (400) reached and the optimization hasn't converged yet.\n",
      "  warnings.warn(\n",
      "/Users/rahulbharti/Desktop/ML_project/ML/venv/lib/python3.10/site-packages/sklearn/neural_network/_multilayer_perceptron.py:690: ConvergenceWarning: Stochastic Optimizer: Maximum iterations (400) reached and the optimization hasn't converged yet.\n",
      "  warnings.warn(\n",
      "/Users/rahulbharti/Desktop/ML_project/ML/venv/lib/python3.10/site-packages/sklearn/neural_network/_multilayer_perceptron.py:690: ConvergenceWarning: Stochastic Optimizer: Maximum iterations (300) reached and the optimization hasn't converged yet.\n",
      "  warnings.warn(\n",
      "/Users/rahulbharti/Desktop/ML_project/ML/venv/lib/python3.10/site-packages/sklearn/neural_network/_multilayer_perceptron.py:690: ConvergenceWarning: Stochastic Optimizer: Maximum iterations (300) reached and the optimization hasn't converged yet.\n",
      "  warnings.warn(\n",
      "/Users/rahulbharti/Desktop/ML_project/ML/venv/lib/python3.10/site-packages/sklearn/neural_network/_multilayer_perceptron.py:690: ConvergenceWarning: Stochastic Optimizer: Maximum iterations (300) reached and the optimization hasn't converged yet.\n",
      "  warnings.warn(\n",
      "/Users/rahulbharti/Desktop/ML_project/ML/venv/lib/python3.10/site-packages/sklearn/neural_network/_multilayer_perceptron.py:690: ConvergenceWarning: Stochastic Optimizer: Maximum iterations (300) reached and the optimization hasn't converged yet.\n",
      "  warnings.warn(\n",
      "/Users/rahulbharti/Desktop/ML_project/ML/venv/lib/python3.10/site-packages/sklearn/neural_network/_multilayer_perceptron.py:690: ConvergenceWarning: Stochastic Optimizer: Maximum iterations (300) reached and the optimization hasn't converged yet.\n",
      "  warnings.warn(\n"
     ]
    },
    {
     "name": "stderr",
     "output_type": "stream",
     "text": [
      "/Users/rahulbharti/Desktop/ML_project/ML/venv/lib/python3.10/site-packages/sklearn/neural_network/_multilayer_perceptron.py:690: ConvergenceWarning: Stochastic Optimizer: Maximum iterations (400) reached and the optimization hasn't converged yet.\n",
      "  warnings.warn(\n",
      "/Users/rahulbharti/Desktop/ML_project/ML/venv/lib/python3.10/site-packages/sklearn/neural_network/_multilayer_perceptron.py:690: ConvergenceWarning: Stochastic Optimizer: Maximum iterations (300) reached and the optimization hasn't converged yet.\n",
      "  warnings.warn(\n",
      "/Users/rahulbharti/Desktop/ML_project/ML/venv/lib/python3.10/site-packages/sklearn/neural_network/_multilayer_perceptron.py:690: ConvergenceWarning: Stochastic Optimizer: Maximum iterations (400) reached and the optimization hasn't converged yet.\n",
      "  warnings.warn(\n",
      "/Users/rahulbharti/Desktop/ML_project/ML/venv/lib/python3.10/site-packages/sklearn/neural_network/_multilayer_perceptron.py:690: ConvergenceWarning: Stochastic Optimizer: Maximum iterations (400) reached and the optimization hasn't converged yet.\n",
      "  warnings.warn(\n",
      "/Users/rahulbharti/Desktop/ML_project/ML/venv/lib/python3.10/site-packages/sklearn/neural_network/_multilayer_perceptron.py:690: ConvergenceWarning: Stochastic Optimizer: Maximum iterations (300) reached and the optimization hasn't converged yet.\n",
      "  warnings.warn(\n",
      "/Users/rahulbharti/Desktop/ML_project/ML/venv/lib/python3.10/site-packages/sklearn/neural_network/_multilayer_perceptron.py:690: ConvergenceWarning: Stochastic Optimizer: Maximum iterations (300) reached and the optimization hasn't converged yet.\n",
      "  warnings.warn(\n",
      "/Users/rahulbharti/Desktop/ML_project/ML/venv/lib/python3.10/site-packages/sklearn/neural_network/_multilayer_perceptron.py:690: ConvergenceWarning: Stochastic Optimizer: Maximum iterations (400) reached and the optimization hasn't converged yet.\n",
      "  warnings.warn(\n",
      "/Users/rahulbharti/Desktop/ML_project/ML/venv/lib/python3.10/site-packages/sklearn/neural_network/_multilayer_perceptron.py:690: ConvergenceWarning: Stochastic Optimizer: Maximum iterations (300) reached and the optimization hasn't converged yet.\n",
      "  warnings.warn(\n",
      "/Users/rahulbharti/Desktop/ML_project/ML/venv/lib/python3.10/site-packages/sklearn/neural_network/_multilayer_perceptron.py:690: ConvergenceWarning: Stochastic Optimizer: Maximum iterations (300) reached and the optimization hasn't converged yet.\n",
      "  warnings.warn(\n",
      "/Users/rahulbharti/Desktop/ML_project/ML/venv/lib/python3.10/site-packages/sklearn/neural_network/_multilayer_perceptron.py:690: ConvergenceWarning: Stochastic Optimizer: Maximum iterations (300) reached and the optimization hasn't converged yet.\n",
      "  warnings.warn(\n",
      "/Users/rahulbharti/Desktop/ML_project/ML/venv/lib/python3.10/site-packages/sklearn/neural_network/_multilayer_perceptron.py:690: ConvergenceWarning: Stochastic Optimizer: Maximum iterations (300) reached and the optimization hasn't converged yet.\n",
      "  warnings.warn(\n",
      "/Users/rahulbharti/Desktop/ML_project/ML/venv/lib/python3.10/site-packages/sklearn/neural_network/_multilayer_perceptron.py:690: ConvergenceWarning: Stochastic Optimizer: Maximum iterations (400) reached and the optimization hasn't converged yet.\n",
      "  warnings.warn(\n",
      "/Users/rahulbharti/Desktop/ML_project/ML/venv/lib/python3.10/site-packages/sklearn/neural_network/_multilayer_perceptron.py:690: ConvergenceWarning: Stochastic Optimizer: Maximum iterations (300) reached and the optimization hasn't converged yet.\n",
      "  warnings.warn(\n",
      "/Users/rahulbharti/Desktop/ML_project/ML/venv/lib/python3.10/site-packages/sklearn/neural_network/_multilayer_perceptron.py:690: ConvergenceWarning: Stochastic Optimizer: Maximum iterations (300) reached and the optimization hasn't converged yet.\n",
      "  warnings.warn(\n",
      "/Users/rahulbharti/Desktop/ML_project/ML/venv/lib/python3.10/site-packages/sklearn/neural_network/_multilayer_perceptron.py:690: ConvergenceWarning: Stochastic Optimizer: Maximum iterations (300) reached and the optimization hasn't converged yet.\n",
      "  warnings.warn(\n",
      "/Users/rahulbharti/Desktop/ML_project/ML/venv/lib/python3.10/site-packages/sklearn/neural_network/_multilayer_perceptron.py:690: ConvergenceWarning: Stochastic Optimizer: Maximum iterations (400) reached and the optimization hasn't converged yet.\n",
      "  warnings.warn(\n",
      "/Users/rahulbharti/Desktop/ML_project/ML/venv/lib/python3.10/site-packages/sklearn/neural_network/_multilayer_perceptron.py:690: ConvergenceWarning: Stochastic Optimizer: Maximum iterations (400) reached and the optimization hasn't converged yet.\n",
      "  warnings.warn(\n",
      "/Users/rahulbharti/Desktop/ML_project/ML/venv/lib/python3.10/site-packages/sklearn/neural_network/_multilayer_perceptron.py:690: ConvergenceWarning: Stochastic Optimizer: Maximum iterations (400) reached and the optimization hasn't converged yet.\n",
      "  warnings.warn(\n",
      "/Users/rahulbharti/Desktop/ML_project/ML/venv/lib/python3.10/site-packages/sklearn/neural_network/_multilayer_perceptron.py:690: ConvergenceWarning: Stochastic Optimizer: Maximum iterations (300) reached and the optimization hasn't converged yet.\n",
      "  warnings.warn(\n",
      "/Users/rahulbharti/Desktop/ML_project/ML/venv/lib/python3.10/site-packages/sklearn/neural_network/_multilayer_perceptron.py:690: ConvergenceWarning: Stochastic Optimizer: Maximum iterations (300) reached and the optimization hasn't converged yet.\n",
      "  warnings.warn(\n",
      "/Users/rahulbharti/Desktop/ML_project/ML/venv/lib/python3.10/site-packages/sklearn/neural_network/_multilayer_perceptron.py:690: ConvergenceWarning: Stochastic Optimizer: Maximum iterations (300) reached and the optimization hasn't converged yet.\n",
      "  warnings.warn(\n",
      "/Users/rahulbharti/Desktop/ML_project/ML/venv/lib/python3.10/site-packages/sklearn/neural_network/_multilayer_perceptron.py:690: ConvergenceWarning: Stochastic Optimizer: Maximum iterations (400) reached and the optimization hasn't converged yet.\n",
      "  warnings.warn(\n",
      "/Users/rahulbharti/Desktop/ML_project/ML/venv/lib/python3.10/site-packages/sklearn/neural_network/_multilayer_perceptron.py:690: ConvergenceWarning: Stochastic Optimizer: Maximum iterations (400) reached and the optimization hasn't converged yet.\n",
      "  warnings.warn(\n",
      "/Users/rahulbharti/Desktop/ML_project/ML/venv/lib/python3.10/site-packages/sklearn/neural_network/_multilayer_perceptron.py:690: ConvergenceWarning: Stochastic Optimizer: Maximum iterations (400) reached and the optimization hasn't converged yet.\n",
      "  warnings.warn(\n",
      "/Users/rahulbharti/Desktop/ML_project/ML/venv/lib/python3.10/site-packages/sklearn/neural_network/_multilayer_perceptron.py:690: ConvergenceWarning: Stochastic Optimizer: Maximum iterations (300) reached and the optimization hasn't converged yet.\n",
      "  warnings.warn(\n",
      "/Users/rahulbharti/Desktop/ML_project/ML/venv/lib/python3.10/site-packages/sklearn/neural_network/_multilayer_perceptron.py:690: ConvergenceWarning: Stochastic Optimizer: Maximum iterations (300) reached and the optimization hasn't converged yet.\n",
      "  warnings.warn(\n",
      "/Users/rahulbharti/Desktop/ML_project/ML/venv/lib/python3.10/site-packages/sklearn/neural_network/_multilayer_perceptron.py:690: ConvergenceWarning: Stochastic Optimizer: Maximum iterations (300) reached and the optimization hasn't converged yet.\n",
      "  warnings.warn(\n",
      "/Users/rahulbharti/Desktop/ML_project/ML/venv/lib/python3.10/site-packages/sklearn/neural_network/_multilayer_perceptron.py:690: ConvergenceWarning: Stochastic Optimizer: Maximum iterations (300) reached and the optimization hasn't converged yet.\n",
      "  warnings.warn(\n",
      "/Users/rahulbharti/Desktop/ML_project/ML/venv/lib/python3.10/site-packages/sklearn/neural_network/_multilayer_perceptron.py:690: ConvergenceWarning: Stochastic Optimizer: Maximum iterations (300) reached and the optimization hasn't converged yet.\n",
      "  warnings.warn(\n",
      "/Users/rahulbharti/Desktop/ML_project/ML/venv/lib/python3.10/site-packages/sklearn/neural_network/_multilayer_perceptron.py:690: ConvergenceWarning: Stochastic Optimizer: Maximum iterations (400) reached and the optimization hasn't converged yet.\n",
      "  warnings.warn(\n",
      "/Users/rahulbharti/Desktop/ML_project/ML/venv/lib/python3.10/site-packages/sklearn/neural_network/_multilayer_perceptron.py:690: ConvergenceWarning: Stochastic Optimizer: Maximum iterations (300) reached and the optimization hasn't converged yet.\n",
      "  warnings.warn(\n",
      "/Users/rahulbharti/Desktop/ML_project/ML/venv/lib/python3.10/site-packages/sklearn/neural_network/_multilayer_perceptron.py:690: ConvergenceWarning: Stochastic Optimizer: Maximum iterations (400) reached and the optimization hasn't converged yet.\n",
      "  warnings.warn(\n"
     ]
    },
    {
     "name": "stderr",
     "output_type": "stream",
     "text": [
      "/Users/rahulbharti/Desktop/ML_project/ML/venv/lib/python3.10/site-packages/sklearn/neural_network/_multilayer_perceptron.py:690: ConvergenceWarning: Stochastic Optimizer: Maximum iterations (300) reached and the optimization hasn't converged yet.\n",
      "  warnings.warn(\n",
      "/Users/rahulbharti/Desktop/ML_project/ML/venv/lib/python3.10/site-packages/sklearn/neural_network/_multilayer_perceptron.py:690: ConvergenceWarning: Stochastic Optimizer: Maximum iterations (300) reached and the optimization hasn't converged yet.\n",
      "  warnings.warn(\n",
      "/Users/rahulbharti/Desktop/ML_project/ML/venv/lib/python3.10/site-packages/sklearn/neural_network/_multilayer_perceptron.py:690: ConvergenceWarning: Stochastic Optimizer: Maximum iterations (400) reached and the optimization hasn't converged yet.\n",
      "  warnings.warn(\n",
      "/Users/rahulbharti/Desktop/ML_project/ML/venv/lib/python3.10/site-packages/sklearn/neural_network/_multilayer_perceptron.py:690: ConvergenceWarning: Stochastic Optimizer: Maximum iterations (300) reached and the optimization hasn't converged yet.\n",
      "  warnings.warn(\n",
      "/Users/rahulbharti/Desktop/ML_project/ML/venv/lib/python3.10/site-packages/sklearn/neural_network/_multilayer_perceptron.py:690: ConvergenceWarning: Stochastic Optimizer: Maximum iterations (300) reached and the optimization hasn't converged yet.\n",
      "  warnings.warn(\n",
      "/Users/rahulbharti/Desktop/ML_project/ML/venv/lib/python3.10/site-packages/sklearn/neural_network/_multilayer_perceptron.py:690: ConvergenceWarning: Stochastic Optimizer: Maximum iterations (400) reached and the optimization hasn't converged yet.\n",
      "  warnings.warn(\n",
      "/Users/rahulbharti/Desktop/ML_project/ML/venv/lib/python3.10/site-packages/sklearn/neural_network/_multilayer_perceptron.py:690: ConvergenceWarning: Stochastic Optimizer: Maximum iterations (300) reached and the optimization hasn't converged yet.\n",
      "  warnings.warn(\n",
      "/Users/rahulbharti/Desktop/ML_project/ML/venv/lib/python3.10/site-packages/sklearn/neural_network/_multilayer_perceptron.py:690: ConvergenceWarning: Stochastic Optimizer: Maximum iterations (400) reached and the optimization hasn't converged yet.\n",
      "  warnings.warn(\n",
      "/Users/rahulbharti/Desktop/ML_project/ML/venv/lib/python3.10/site-packages/sklearn/neural_network/_multilayer_perceptron.py:690: ConvergenceWarning: Stochastic Optimizer: Maximum iterations (400) reached and the optimization hasn't converged yet.\n",
      "  warnings.warn(\n",
      "/Users/rahulbharti/Desktop/ML_project/ML/venv/lib/python3.10/site-packages/sklearn/neural_network/_multilayer_perceptron.py:690: ConvergenceWarning: Stochastic Optimizer: Maximum iterations (300) reached and the optimization hasn't converged yet.\n",
      "  warnings.warn(\n",
      "/Users/rahulbharti/Desktop/ML_project/ML/venv/lib/python3.10/site-packages/sklearn/neural_network/_multilayer_perceptron.py:690: ConvergenceWarning: Stochastic Optimizer: Maximum iterations (300) reached and the optimization hasn't converged yet.\n",
      "  warnings.warn(\n",
      "/Users/rahulbharti/Desktop/ML_project/ML/venv/lib/python3.10/site-packages/sklearn/neural_network/_multilayer_perceptron.py:690: ConvergenceWarning: Stochastic Optimizer: Maximum iterations (300) reached and the optimization hasn't converged yet.\n",
      "  warnings.warn(\n",
      "/Users/rahulbharti/Desktop/ML_project/ML/venv/lib/python3.10/site-packages/sklearn/neural_network/_multilayer_perceptron.py:690: ConvergenceWarning: Stochastic Optimizer: Maximum iterations (300) reached and the optimization hasn't converged yet.\n",
      "  warnings.warn(\n",
      "/Users/rahulbharti/Desktop/ML_project/ML/venv/lib/python3.10/site-packages/sklearn/neural_network/_multilayer_perceptron.py:690: ConvergenceWarning: Stochastic Optimizer: Maximum iterations (300) reached and the optimization hasn't converged yet.\n",
      "  warnings.warn(\n",
      "/Users/rahulbharti/Desktop/ML_project/ML/venv/lib/python3.10/site-packages/sklearn/neural_network/_multilayer_perceptron.py:690: ConvergenceWarning: Stochastic Optimizer: Maximum iterations (300) reached and the optimization hasn't converged yet.\n",
      "  warnings.warn(\n",
      "/Users/rahulbharti/Desktop/ML_project/ML/venv/lib/python3.10/site-packages/sklearn/neural_network/_multilayer_perceptron.py:690: ConvergenceWarning: Stochastic Optimizer: Maximum iterations (300) reached and the optimization hasn't converged yet.\n",
      "  warnings.warn(\n",
      "/Users/rahulbharti/Desktop/ML_project/ML/venv/lib/python3.10/site-packages/sklearn/neural_network/_multilayer_perceptron.py:690: ConvergenceWarning: Stochastic Optimizer: Maximum iterations (300) reached and the optimization hasn't converged yet.\n",
      "  warnings.warn(\n",
      "/Users/rahulbharti/Desktop/ML_project/ML/venv/lib/python3.10/site-packages/sklearn/neural_network/_multilayer_perceptron.py:690: ConvergenceWarning: Stochastic Optimizer: Maximum iterations (300) reached and the optimization hasn't converged yet.\n",
      "  warnings.warn(\n"
     ]
    },
    {
     "name": "stdout",
     "output_type": "stream",
     "text": [
      "Best hyperparameters: {'activation': 'relu', 'alpha': 0.0001, 'batch_size': 32, 'hidden_layer_sizes': (100, 50), 'learning_rate': 'constant', 'max_iter': 400, 'solver': 'adam'}\n",
      "Accuracy: 0.5865\n",
      "Classification Report:\n",
      "               precision    recall  f1-score   support\n",
      "\n",
      "           1       0.04      0.12      0.06        16\n",
      "           2       0.89      0.58      0.70      1583\n",
      "           3       0.32      0.71      0.44       347\n",
      "           4       0.09      0.28      0.13        54\n",
      "\n",
      "    accuracy                           0.59      2000\n",
      "   macro avg       0.34      0.42      0.33      2000\n",
      "weighted avg       0.77      0.59      0.64      2000\n",
      "\n"
     ]
    }
   ],
   "source": [
    "\n",
    "from sklearn.neural_network import MLPClassifier\n",
    "\n",
    "mlp = MLPClassifier(random_state=42)\n",
    "\n",
    "param_grid = {\n",
    "    'hidden_layer_sizes': [ (100, 50), (100, 30, 10)],  # Different layer architectures\n",
    "    'activation': ['relu', 'tanh'],  # Activation functions\n",
    "    'solver': ['adam'],  # Solvers for optimization\n",
    "    'learning_rate': ['constant', 'adaptive'],  # Learning rate schedules\n",
    "    'alpha': [0.0001, 0.001, 0.01],  # Regularization term\n",
    "    'batch_size': ['auto', 32],  # Batch sizes\n",
    "    'max_iter': [300, 400]  # Max iterations for training\n",
    "}\n",
    "\n",
    "grid_search = GridSearchCV(estimator=mlp, param_grid=param_grid, cv=5, n_jobs=-1, verbose=2)\n",
    "\n",
    "\n",
    "grid_search.fit(X_train_resampled, y_train_resampled)\n",
    "\n",
    "best_model = grid_search.best_estimator_\n",
    "\n",
    "\n",
    "y_pred = best_model.predict(X_test_sel)\n",
    "\n",
    "\n",
    "print(f\"Best hyperparameters: {grid_search.best_params_}\")\n",
    "print(\"Accuracy:\", accuracy_score(y_test, y_pred))\n",
    "print(\"Classification Report:\\n\", classification_report(y_test, y_pred))\n",
    "\n"
   ]
  },
  {
   "cell_type": "code",
   "execution_count": 105,
   "id": "235e0b58",
   "metadata": {},
   "outputs": [
    {
     "data": {
      "text/plain": [
       "['NN.joblib']"
      ]
     },
     "execution_count": 105,
     "metadata": {},
     "output_type": "execute_result"
    }
   ],
   "source": [
    "#Deployment\n",
    "#first we save our models as joblib files \n",
    "model_filename = f'NN.joblib'\n",
    "joblib.dump(best_model, model_filename) "
   ]
  },
  {
   "cell_type": "code",
   "execution_count": null,
   "id": "991f8e05",
   "metadata": {},
   "outputs": [],
   "source": []
  }
 ],
 "metadata": {
  "colab": {
   "provenance": [],
   "toc_visible": true
  },
  "kernelspec": {
   "display_name": "Python_venv",
   "language": "python",
   "name": "python_venv"
  },
  "language_info": {
   "codemirror_mode": {
    "name": "ipython",
    "version": 3
   },
   "file_extension": ".py",
   "mimetype": "text/x-python",
   "name": "python",
   "nbconvert_exporter": "python",
   "pygments_lexer": "ipython3",
   "version": "3.10.9"
  },
  "vscode": {
   "interpreter": {
    "hash": "e5490b8f9e02945a51a122e6bae6347486bb9366fce57f45a0551d80bd00ecc0"
   }
  }
 },
 "nbformat": 4,
 "nbformat_minor": 5
}

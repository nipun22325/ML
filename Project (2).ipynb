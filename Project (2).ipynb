{
  "cells": [
    {
      "cell_type": "code",
      "source": [
        "!pip install gdown\n"
      ],
      "metadata": {
        "colab": {
          "base_uri": "https://localhost:8080/"
        },
        "id": "0kreZGYRBk0x",
        "outputId": "32008596-a81c-42cd-b326-c5a7f73c1019"
      },
      "id": "0kreZGYRBk0x",
      "execution_count": 1,
      "outputs": [
        {
          "output_type": "stream",
          "name": "stdout",
          "text": [
            "Requirement already satisfied: gdown in /usr/local/lib/python3.10/dist-packages (5.2.0)\n",
            "Requirement already satisfied: beautifulsoup4 in /usr/local/lib/python3.10/dist-packages (from gdown) (4.12.3)\n",
            "Requirement already satisfied: filelock in /usr/local/lib/python3.10/dist-packages (from gdown) (3.16.1)\n",
            "Requirement already satisfied: requests[socks] in /usr/local/lib/python3.10/dist-packages (from gdown) (2.32.3)\n",
            "Requirement already satisfied: tqdm in /usr/local/lib/python3.10/dist-packages (from gdown) (4.66.6)\n",
            "Requirement already satisfied: soupsieve>1.2 in /usr/local/lib/python3.10/dist-packages (from beautifulsoup4->gdown) (2.6)\n",
            "Requirement already satisfied: charset-normalizer<4,>=2 in /usr/local/lib/python3.10/dist-packages (from requests[socks]->gdown) (3.4.0)\n",
            "Requirement already satisfied: idna<4,>=2.5 in /usr/local/lib/python3.10/dist-packages (from requests[socks]->gdown) (3.10)\n",
            "Requirement already satisfied: urllib3<3,>=1.21.1 in /usr/local/lib/python3.10/dist-packages (from requests[socks]->gdown) (2.2.3)\n",
            "Requirement already satisfied: certifi>=2017.4.17 in /usr/local/lib/python3.10/dist-packages (from requests[socks]->gdown) (2024.8.30)\n",
            "Requirement already satisfied: PySocks!=1.5.7,>=1.5.6 in /usr/local/lib/python3.10/dist-packages (from requests[socks]->gdown) (1.7.1)\n"
          ]
        }
      ]
    },
    {
      "cell_type": "code",
      "source": [
        "!gdown --id 1vFpaOc_Clgn_k8Rldw528aRyBcNP47oQ\n"
      ],
      "metadata": {
        "colab": {
          "base_uri": "https://localhost:8080/"
        },
        "id": "cVfLxy8yBrau",
        "outputId": "df7422d5-9f6a-4569-9165-a5b05ed4f051"
      },
      "id": "cVfLxy8yBrau",
      "execution_count": 2,
      "outputs": [
        {
          "output_type": "stream",
          "name": "stdout",
          "text": [
            "/usr/local/lib/python3.10/dist-packages/gdown/__main__.py:140: FutureWarning: Option `--id` was deprecated in version 4.3.1 and will be removed in 5.0. You don't need to pass it anymore to use a file ID.\n",
            "  warnings.warn(\n",
            "Downloading...\n",
            "From (original): https://drive.google.com/uc?id=1vFpaOc_Clgn_k8Rldw528aRyBcNP47oQ\n",
            "From (redirected): https://drive.google.com/uc?id=1vFpaOc_Clgn_k8Rldw528aRyBcNP47oQ&confirm=t&uuid=e0b1ddf6-ef8e-4db6-83e9-0f79d4c7310d\n",
            "To: /content/US_Accidents_March23.csv\n",
            "100% 3.06G/3.06G [00:33<00:00, 92.3MB/s]\n"
          ]
        }
      ]
    },
    {
      "cell_type": "code",
      "execution_count": 3,
      "id": "27c9b910-6fa5-4b3e-ab83-0d71b499328a",
      "metadata": {
        "id": "27c9b910-6fa5-4b3e-ab83-0d71b499328a"
      },
      "outputs": [],
      "source": [
        "import pandas as pd\n",
        "import polars as pl"
      ]
    },
    {
      "cell_type": "code",
      "execution_count": 4,
      "id": "30b98b25-1cb5-47d6-9a27-9042114b7c07",
      "metadata": {
        "id": "30b98b25-1cb5-47d6-9a27-9042114b7c07"
      },
      "outputs": [],
      "source": [
        "# chunk_size = 100000  # Number of rows per chunk\n",
        "df = pl.read_csv('US_Accidents_March23.csv') #, chunksize = chunk_size)"
      ]
    },
    {
      "cell_type": "code",
      "execution_count": 5,
      "id": "6a979cf4-ae4b-42e8-81d7-9309bd07efa2",
      "metadata": {
        "colab": {
          "base_uri": "https://localhost:8080/",
          "height": 466
        },
        "id": "6a979cf4-ae4b-42e8-81d7-9309bd07efa2",
        "outputId": "972798fa-061e-4bc2-fc68-a2f78f359460"
      },
      "outputs": [
        {
          "output_type": "execute_result",
          "data": {
            "text/plain": [
              "shape: (5, 46)\n",
              "┌─────┬─────────┬──────────┬─────────────┬───┬─────────────┬─────────────┬────────────┬────────────┐\n",
              "│ ID  ┆ Source  ┆ Severity ┆ Start_Time  ┆ … ┆ Sunrise_Sun ┆ Civil_Twili ┆ Nautical_T ┆ Astronomic │\n",
              "│ --- ┆ ---     ┆ ---      ┆ ---         ┆   ┆ set         ┆ ght         ┆ wilight    ┆ al_Twiligh │\n",
              "│ str ┆ str     ┆ i64      ┆ str         ┆   ┆ ---         ┆ ---         ┆ ---        ┆ t          │\n",
              "│     ┆         ┆          ┆             ┆   ┆ str         ┆ str         ┆ str        ┆ ---        │\n",
              "│     ┆         ┆          ┆             ┆   ┆             ┆             ┆            ┆ str        │\n",
              "╞═════╪═════════╪══════════╪═════════════╪═══╪═════════════╪═════════════╪════════════╪════════════╡\n",
              "│ A-1 ┆ Source2 ┆ 3        ┆ 2016-02-08  ┆ … ┆ Night       ┆ Night       ┆ Night      ┆ Night      │\n",
              "│     ┆         ┆          ┆ 05:46:00    ┆   ┆             ┆             ┆            ┆            │\n",
              "│ A-2 ┆ Source2 ┆ 2        ┆ 2016-02-08  ┆ … ┆ Night       ┆ Night       ┆ Night      ┆ Day        │\n",
              "│     ┆         ┆          ┆ 06:07:59    ┆   ┆             ┆             ┆            ┆            │\n",
              "│ A-3 ┆ Source2 ┆ 2        ┆ 2016-02-08  ┆ … ┆ Night       ┆ Night       ┆ Day        ┆ Day        │\n",
              "│     ┆         ┆          ┆ 06:49:27    ┆   ┆             ┆             ┆            ┆            │\n",
              "│ A-4 ┆ Source2 ┆ 3        ┆ 2016-02-08  ┆ … ┆ Night       ┆ Day         ┆ Day        ┆ Day        │\n",
              "│     ┆         ┆          ┆ 07:23:34    ┆   ┆             ┆             ┆            ┆            │\n",
              "│ A-5 ┆ Source2 ┆ 2        ┆ 2016-02-08  ┆ … ┆ Day         ┆ Day         ┆ Day        ┆ Day        │\n",
              "│     ┆         ┆          ┆ 07:39:07    ┆   ┆             ┆             ┆            ┆            │\n",
              "└─────┴─────────┴──────────┴─────────────┴───┴─────────────┴─────────────┴────────────┴────────────┘"
            ],
            "text/html": [
              "<div><style>\n",
              ".dataframe > thead > tr,\n",
              ".dataframe > tbody > tr {\n",
              "  text-align: right;\n",
              "  white-space: pre-wrap;\n",
              "}\n",
              "</style>\n",
              "<small>shape: (5, 46)</small><table border=\"1\" class=\"dataframe\"><thead><tr><th>ID</th><th>Source</th><th>Severity</th><th>Start_Time</th><th>End_Time</th><th>Start_Lat</th><th>Start_Lng</th><th>End_Lat</th><th>End_Lng</th><th>Distance(mi)</th><th>Description</th><th>Street</th><th>City</th><th>County</th><th>State</th><th>Zipcode</th><th>Country</th><th>Timezone</th><th>Airport_Code</th><th>Weather_Timestamp</th><th>Temperature(F)</th><th>Wind_Chill(F)</th><th>Humidity(%)</th><th>Pressure(in)</th><th>Visibility(mi)</th><th>Wind_Direction</th><th>Wind_Speed(mph)</th><th>Precipitation(in)</th><th>Weather_Condition</th><th>Amenity</th><th>Bump</th><th>Crossing</th><th>Give_Way</th><th>Junction</th><th>No_Exit</th><th>Railway</th><th>Roundabout</th><th>Station</th><th>Stop</th><th>Traffic_Calming</th><th>Traffic_Signal</th><th>Turning_Loop</th><th>Sunrise_Sunset</th><th>Civil_Twilight</th><th>Nautical_Twilight</th><th>Astronomical_Twilight</th></tr><tr><td>str</td><td>str</td><td>i64</td><td>str</td><td>str</td><td>f64</td><td>f64</td><td>str</td><td>str</td><td>f64</td><td>str</td><td>str</td><td>str</td><td>str</td><td>str</td><td>str</td><td>str</td><td>str</td><td>str</td><td>str</td><td>f64</td><td>f64</td><td>f64</td><td>f64</td><td>f64</td><td>str</td><td>f64</td><td>f64</td><td>str</td><td>bool</td><td>bool</td><td>bool</td><td>bool</td><td>bool</td><td>bool</td><td>bool</td><td>bool</td><td>bool</td><td>bool</td><td>bool</td><td>bool</td><td>bool</td><td>str</td><td>str</td><td>str</td><td>str</td></tr></thead><tbody><tr><td>&quot;A-1&quot;</td><td>&quot;Source2&quot;</td><td>3</td><td>&quot;2016-02-08 05:46:00&quot;</td><td>&quot;2016-02-08 11:00:00&quot;</td><td>39.865147</td><td>-84.058723</td><td>null</td><td>null</td><td>0.01</td><td>&quot;Right lane blocked due to acci…</td><td>&quot;I-70 E&quot;</td><td>&quot;Dayton&quot;</td><td>&quot;Montgomery&quot;</td><td>&quot;OH&quot;</td><td>&quot;45424&quot;</td><td>&quot;US&quot;</td><td>&quot;US/Eastern&quot;</td><td>&quot;KFFO&quot;</td><td>&quot;2016-02-08 05:58:00&quot;</td><td>36.9</td><td>null</td><td>91.0</td><td>29.68</td><td>10.0</td><td>&quot;Calm&quot;</td><td>null</td><td>0.02</td><td>&quot;Light Rain&quot;</td><td>false</td><td>false</td><td>false</td><td>false</td><td>false</td><td>false</td><td>false</td><td>false</td><td>false</td><td>false</td><td>false</td><td>false</td><td>false</td><td>&quot;Night&quot;</td><td>&quot;Night&quot;</td><td>&quot;Night&quot;</td><td>&quot;Night&quot;</td></tr><tr><td>&quot;A-2&quot;</td><td>&quot;Source2&quot;</td><td>2</td><td>&quot;2016-02-08 06:07:59&quot;</td><td>&quot;2016-02-08 06:37:59&quot;</td><td>39.928059</td><td>-82.831184</td><td>null</td><td>null</td><td>0.01</td><td>&quot;Accident on Brice Rd at Tussin…</td><td>&quot;Brice Rd&quot;</td><td>&quot;Reynoldsburg&quot;</td><td>&quot;Franklin&quot;</td><td>&quot;OH&quot;</td><td>&quot;43068-3402&quot;</td><td>&quot;US&quot;</td><td>&quot;US/Eastern&quot;</td><td>&quot;KCMH&quot;</td><td>&quot;2016-02-08 05:51:00&quot;</td><td>37.9</td><td>null</td><td>100.0</td><td>29.65</td><td>10.0</td><td>&quot;Calm&quot;</td><td>null</td><td>0.0</td><td>&quot;Light Rain&quot;</td><td>false</td><td>false</td><td>false</td><td>false</td><td>false</td><td>false</td><td>false</td><td>false</td><td>false</td><td>false</td><td>false</td><td>false</td><td>false</td><td>&quot;Night&quot;</td><td>&quot;Night&quot;</td><td>&quot;Night&quot;</td><td>&quot;Day&quot;</td></tr><tr><td>&quot;A-3&quot;</td><td>&quot;Source2&quot;</td><td>2</td><td>&quot;2016-02-08 06:49:27&quot;</td><td>&quot;2016-02-08 07:19:27&quot;</td><td>39.063148</td><td>-84.032608</td><td>null</td><td>null</td><td>0.01</td><td>&quot;Accident on OH-32 State Route …</td><td>&quot;State Route 32&quot;</td><td>&quot;Williamsburg&quot;</td><td>&quot;Clermont&quot;</td><td>&quot;OH&quot;</td><td>&quot;45176&quot;</td><td>&quot;US&quot;</td><td>&quot;US/Eastern&quot;</td><td>&quot;KI69&quot;</td><td>&quot;2016-02-08 06:56:00&quot;</td><td>36.0</td><td>33.3</td><td>100.0</td><td>29.67</td><td>10.0</td><td>&quot;SW&quot;</td><td>3.5</td><td>null</td><td>&quot;Overcast&quot;</td><td>false</td><td>false</td><td>false</td><td>false</td><td>false</td><td>false</td><td>false</td><td>false</td><td>false</td><td>false</td><td>false</td><td>true</td><td>false</td><td>&quot;Night&quot;</td><td>&quot;Night&quot;</td><td>&quot;Day&quot;</td><td>&quot;Day&quot;</td></tr><tr><td>&quot;A-4&quot;</td><td>&quot;Source2&quot;</td><td>3</td><td>&quot;2016-02-08 07:23:34&quot;</td><td>&quot;2016-02-08 07:53:34&quot;</td><td>39.747753</td><td>-84.205582</td><td>null</td><td>null</td><td>0.01</td><td>&quot;Accident on I-75 Southbound at…</td><td>&quot;I-75 S&quot;</td><td>&quot;Dayton&quot;</td><td>&quot;Montgomery&quot;</td><td>&quot;OH&quot;</td><td>&quot;45417&quot;</td><td>&quot;US&quot;</td><td>&quot;US/Eastern&quot;</td><td>&quot;KDAY&quot;</td><td>&quot;2016-02-08 07:38:00&quot;</td><td>35.1</td><td>31.0</td><td>96.0</td><td>29.64</td><td>9.0</td><td>&quot;SW&quot;</td><td>4.6</td><td>null</td><td>&quot;Mostly Cloudy&quot;</td><td>false</td><td>false</td><td>false</td><td>false</td><td>false</td><td>false</td><td>false</td><td>false</td><td>false</td><td>false</td><td>false</td><td>false</td><td>false</td><td>&quot;Night&quot;</td><td>&quot;Day&quot;</td><td>&quot;Day&quot;</td><td>&quot;Day&quot;</td></tr><tr><td>&quot;A-5&quot;</td><td>&quot;Source2&quot;</td><td>2</td><td>&quot;2016-02-08 07:39:07&quot;</td><td>&quot;2016-02-08 08:09:07&quot;</td><td>39.627781</td><td>-84.188354</td><td>null</td><td>null</td><td>0.01</td><td>&quot;Accident on McEwen Rd at OH-72…</td><td>&quot;Miamisburg Centerville Rd&quot;</td><td>&quot;Dayton&quot;</td><td>&quot;Montgomery&quot;</td><td>&quot;OH&quot;</td><td>&quot;45459&quot;</td><td>&quot;US&quot;</td><td>&quot;US/Eastern&quot;</td><td>&quot;KMGY&quot;</td><td>&quot;2016-02-08 07:53:00&quot;</td><td>36.0</td><td>33.3</td><td>89.0</td><td>29.65</td><td>6.0</td><td>&quot;SW&quot;</td><td>3.5</td><td>null</td><td>&quot;Mostly Cloudy&quot;</td><td>false</td><td>false</td><td>false</td><td>false</td><td>false</td><td>false</td><td>false</td><td>false</td><td>false</td><td>false</td><td>false</td><td>true</td><td>false</td><td>&quot;Day&quot;</td><td>&quot;Day&quot;</td><td>&quot;Day&quot;</td><td>&quot;Day&quot;</td></tr></tbody></table></div>"
            ]
          },
          "metadata": {},
          "execution_count": 5
        }
      ],
      "source": [
        "df.head(5)"
      ]
    },
    {
      "cell_type": "code",
      "execution_count": 6,
      "id": "46e7f696-a7cb-4ee2-8c3b-b9175661b90d",
      "metadata": {
        "colab": {
          "base_uri": "https://localhost:8080/"
        },
        "id": "46e7f696-a7cb-4ee2-8c3b-b9175661b90d",
        "outputId": "b518c26d-bb5b-47f0-ec8f-2af2e26e9783"
      },
      "outputs": [
        {
          "output_type": "execute_result",
          "data": {
            "text/plain": [
              "7728394"
            ]
          },
          "metadata": {},
          "execution_count": 6
        }
      ],
      "source": [
        "df.height"
      ]
    },
    {
      "cell_type": "code",
      "execution_count": 7,
      "id": "ec76fceb-a715-484d-8f9a-dbb218d46cc9",
      "metadata": {
        "colab": {
          "base_uri": "https://localhost:8080/"
        },
        "id": "ec76fceb-a715-484d-8f9a-dbb218d46cc9",
        "outputId": "0fe22ca6-9f54-47b1-b377-3d71ebfabcb7"
      },
      "outputs": [
        {
          "output_type": "execute_result",
          "data": {
            "text/plain": [
              "46"
            ]
          },
          "metadata": {},
          "execution_count": 7
        }
      ],
      "source": [
        "df.width"
      ]
    },
    {
      "cell_type": "code",
      "execution_count": 8,
      "id": "7cb4bbe8-9b3b-4297-b096-f1bb2d65d071",
      "metadata": {
        "colab": {
          "base_uri": "https://localhost:8080/"
        },
        "id": "7cb4bbe8-9b3b-4297-b096-f1bb2d65d071",
        "outputId": "0aea4506-d4fc-47e6-da5b-1ac51978a2e8"
      },
      "outputs": [
        {
          "output_type": "execute_result",
          "data": {
            "text/plain": [
              "['ID',\n",
              " 'Source',\n",
              " 'Severity',\n",
              " 'Start_Time',\n",
              " 'End_Time',\n",
              " 'Start_Lat',\n",
              " 'Start_Lng',\n",
              " 'End_Lat',\n",
              " 'End_Lng',\n",
              " 'Distance(mi)',\n",
              " 'Description',\n",
              " 'Street',\n",
              " 'City',\n",
              " 'County',\n",
              " 'State',\n",
              " 'Zipcode',\n",
              " 'Country',\n",
              " 'Timezone',\n",
              " 'Airport_Code',\n",
              " 'Weather_Timestamp',\n",
              " 'Temperature(F)',\n",
              " 'Wind_Chill(F)',\n",
              " 'Humidity(%)',\n",
              " 'Pressure(in)',\n",
              " 'Visibility(mi)',\n",
              " 'Wind_Direction',\n",
              " 'Wind_Speed(mph)',\n",
              " 'Precipitation(in)',\n",
              " 'Weather_Condition',\n",
              " 'Amenity',\n",
              " 'Bump',\n",
              " 'Crossing',\n",
              " 'Give_Way',\n",
              " 'Junction',\n",
              " 'No_Exit',\n",
              " 'Railway',\n",
              " 'Roundabout',\n",
              " 'Station',\n",
              " 'Stop',\n",
              " 'Traffic_Calming',\n",
              " 'Traffic_Signal',\n",
              " 'Turning_Loop',\n",
              " 'Sunrise_Sunset',\n",
              " 'Civil_Twilight',\n",
              " 'Nautical_Twilight',\n",
              " 'Astronomical_Twilight']"
            ]
          },
          "metadata": {},
          "execution_count": 8
        }
      ],
      "source": [
        "df.columns"
      ]
    },
    {
      "cell_type": "code",
      "execution_count": 9,
      "id": "d08f251d-3f00-42be-9e69-34843685d548",
      "metadata": {
        "colab": {
          "base_uri": "https://localhost:8080/"
        },
        "id": "d08f251d-3f00-42be-9e69-34843685d548",
        "outputId": "f6902ced-f73f-49b2-ced4-0f435eaa20b3"
      },
      "outputs": [
        {
          "output_type": "stream",
          "name": "stdout",
          "text": [
            "False entries in Amenity : 7632060\n",
            "False entries in Bump : 7724880\n",
            "False entries in Crossing : 6854631\n",
            "False entries in Give_Way : 7691812\n",
            "False entries in Junction : 7157052\n",
            "False entries in No_Exit : 7708849\n",
            "False entries in Railway : 7661415\n",
            "False entries in Roundabout : 7728145\n",
            "False entries in Station : 7526493\n",
            "False entries in Stop : 7514023\n",
            "False entries in Traffic_Calming : 7720796\n",
            "False entries in Traffic_Signal : 6584622\n",
            "False entries in Turning_Loop : 7728394\n"
          ]
        }
      ],
      "source": [
        "#Checking how many values are false in the boolean columns\n",
        "cols = ['Amenity','Bump','Crossing','Give_Way','Junction','No_Exit','Railway','Roundabout','Station','Stop','Traffic_Calming','Traffic_Signal','Turning_Loop']\n",
        "false_counts = df.select([(pl.col(col) == False).sum().alias(col) for col in cols])\n",
        "for col in cols:\n",
        "    print(f\"False entries in {col} : {false_counts[0, col]}\")"
      ]
    },
    {
      "cell_type": "code",
      "execution_count": 10,
      "id": "47d4778a-3f90-48e6-826b-6ed1fc546455",
      "metadata": {
        "colab": {
          "base_uri": "https://localhost:8080/"
        },
        "id": "47d4778a-3f90-48e6-826b-6ed1fc546455",
        "outputId": "b13f525a-1dd8-4019-94c2-02c9d5f9eaf0"
      },
      "outputs": [
        {
          "output_type": "execute_result",
          "data": {
            "text/plain": [
              "36"
            ]
          },
          "metadata": {},
          "execution_count": 10
        }
      ],
      "source": [
        "#The 10 columns that are almost entirely false and thus not useful\n",
        "df_drop = df.drop(['Amenity','Bump','Give_Way','No_Exit','Railway','Roundabout','Station','Stop','Traffic_Calming','Turning_Loop'])\n",
        "df_drop.width"
      ]
    },
    {
      "cell_type": "code",
      "execution_count": 11,
      "id": "adc57c1b-b68b-42df-9efe-3ce78c41d70f",
      "metadata": {
        "id": "adc57c1b-b68b-42df-9efe-3ce78c41d70f"
      },
      "outputs": [],
      "source": [
        "#Just a couple of extra columns that do not give us enough information on their own to warrant staying.\n",
        "#Closely associated with Sunset, so they will not add to our analysis\n",
        "df_drop = df_drop.drop(['Nautical_Twilight','Astronomical_Twilight', 'Civil_Twilight'])"
      ]
    },
    {
      "cell_type": "code",
      "execution_count": 12,
      "id": "272b3aa9-bcf8-43ad-8dc9-cc476e0f9c44",
      "metadata": {
        "colab": {
          "base_uri": "https://localhost:8080/"
        },
        "id": "272b3aa9-bcf8-43ad-8dc9-cc476e0f9c44",
        "outputId": "6a2d87d0-e450-424a-e983-9507a6b8b369"
      },
      "outputs": [
        {
          "output_type": "execute_result",
          "data": {
            "text/plain": [
              "33"
            ]
          },
          "metadata": {},
          "execution_count": 12
        }
      ],
      "source": [
        "df_drop.width"
      ]
    },
    {
      "cell_type": "code",
      "execution_count": 13,
      "id": "5f7d60ad-3fc0-47e0-a829-e12ab91ac3f1",
      "metadata": {
        "colab": {
          "base_uri": "https://localhost:8080/"
        },
        "id": "5f7d60ad-3fc0-47e0-a829-e12ab91ac3f1",
        "outputId": "85408829-d5fa-45a1-dc16-1a933ff959da"
      },
      "outputs": [
        {
          "output_type": "execute_result",
          "data": {
            "text/plain": [
              "['ID',\n",
              " 'Source',\n",
              " 'Severity',\n",
              " 'Start_Time',\n",
              " 'End_Time',\n",
              " 'Start_Lat',\n",
              " 'Start_Lng',\n",
              " 'End_Lat',\n",
              " 'End_Lng',\n",
              " 'Distance(mi)',\n",
              " 'Description',\n",
              " 'Street',\n",
              " 'City',\n",
              " 'County',\n",
              " 'State',\n",
              " 'Zipcode',\n",
              " 'Country',\n",
              " 'Timezone',\n",
              " 'Airport_Code',\n",
              " 'Weather_Timestamp',\n",
              " 'Temperature(F)',\n",
              " 'Wind_Chill(F)',\n",
              " 'Humidity(%)',\n",
              " 'Pressure(in)',\n",
              " 'Visibility(mi)',\n",
              " 'Wind_Direction',\n",
              " 'Wind_Speed(mph)',\n",
              " 'Precipitation(in)',\n",
              " 'Weather_Condition',\n",
              " 'Crossing',\n",
              " 'Junction',\n",
              " 'Traffic_Signal',\n",
              " 'Sunrise_Sunset']"
            ]
          },
          "metadata": {},
          "execution_count": 13
        }
      ],
      "source": [
        "df_drop.columns"
      ]
    },
    {
      "cell_type": "code",
      "execution_count": 14,
      "id": "a66f7275-503d-4280-964e-e10ecbe69434",
      "metadata": {
        "colab": {
          "base_uri": "https://localhost:8080/"
        },
        "id": "a66f7275-503d-4280-964e-e10ecbe69434",
        "outputId": "f0c91bb1-0cf1-4b9d-fd45-dfcdc075a674"
      },
      "outputs": [
        {
          "output_type": "stream",
          "name": "stdout",
          "text": [
            "Null entries in ID : 0\n",
            "Null entries in Source : 0\n",
            "Null entries in Severity : 0\n",
            "Null entries in Start_Time : 0\n",
            "Null entries in End_Time : 0\n",
            "Null entries in Start_Lat : 0\n",
            "Null entries in Start_Lng : 0\n",
            "Null entries in End_Lat : 3402762\n",
            "Null entries in End_Lng : 3402762\n",
            "Null entries in Distance(mi) : 0\n",
            "Null entries in Description : 5\n",
            "Null entries in Street : 10869\n",
            "Null entries in City : 253\n",
            "Null entries in County : 0\n",
            "Null entries in State : 0\n",
            "Null entries in Zipcode : 1915\n",
            "Null entries in Country : 0\n",
            "Null entries in Timezone : 7808\n",
            "Null entries in Airport_Code : 22635\n",
            "Null entries in Weather_Timestamp : 120228\n",
            "Null entries in Temperature(F) : 163853\n",
            "Null entries in Wind_Chill(F) : 1999019\n",
            "Null entries in Humidity(%) : 174144\n",
            "Null entries in Pressure(in) : 140679\n",
            "Null entries in Visibility(mi) : 177098\n",
            "Null entries in Wind_Direction : 175206\n",
            "Null entries in Wind_Speed(mph) : 571233\n",
            "Null entries in Precipitation(in) : 2203586\n",
            "Null entries in Weather_Condition : 173459\n",
            "Null entries in Crossing : 0\n",
            "Null entries in Junction : 0\n",
            "Null entries in Traffic_Signal : 0\n",
            "Null entries in Sunrise_Sunset : 23246\n"
          ]
        }
      ],
      "source": [
        "cols = ['ID', 'Source', 'Severity', 'Start_Time', 'End_Time', 'Start_Lat', 'Start_Lng', 'End_Lat', 'End_Lng', 'Distance(mi)', 'Description', 'Street',\n",
        "        'City', 'County', 'State', 'Zipcode', 'Country', 'Timezone', 'Airport_Code', 'Weather_Timestamp', 'Temperature(F)', 'Wind_Chill(F)','Humidity(%)'\n",
        "        , 'Pressure(in)', 'Visibility(mi)', 'Wind_Direction', 'Wind_Speed(mph)', 'Precipitation(in)', 'Weather_Condition', 'Crossing', 'Junction',\n",
        "        'Traffic_Signal', 'Sunrise_Sunset']\n",
        "for col in cols:\n",
        "    null_count = df_drop.select(pl.col(col).null_count())[0, 0]  # Get the count of nulls in the column\n",
        "    print(f\"Null entries in {col} : {null_count}\")"
      ]
    },
    {
      "cell_type": "code",
      "execution_count": 15,
      "id": "c7165b0a-f98f-4d3e-af74-f86500ad0e78",
      "metadata": {
        "id": "c7165b0a-f98f-4d3e-af74-f86500ad0e78"
      },
      "outputs": [],
      "source": [
        "df_drop = df_drop.drop(['End_Lat','End_Lng']) #since majority of the values are null and these columns are insignificant"
      ]
    },
    {
      "cell_type": "code",
      "execution_count": 16,
      "id": "4661aeda-57dd-4a9e-a5bf-3a36af59f07b",
      "metadata": {
        "colab": {
          "base_uri": "https://localhost:8080/"
        },
        "id": "4661aeda-57dd-4a9e-a5bf-3a36af59f07b",
        "outputId": "a77743fa-0a63-47fe-e119-17b2b1e20726"
      },
      "outputs": [
        {
          "output_type": "execute_result",
          "data": {
            "text/plain": [
              "31"
            ]
          },
          "metadata": {},
          "execution_count": 16
        }
      ],
      "source": [
        "df_drop.width"
      ]
    },
    {
      "cell_type": "code",
      "execution_count": 17,
      "id": "46cea50b-ac7e-42a6-9bf4-5152dea451da",
      "metadata": {
        "id": "46cea50b-ac7e-42a6-9bf4-5152dea451da"
      },
      "outputs": [],
      "source": [
        "bool_cols = ['Junction', 'Crossing', 'Traffic_Signal']\n",
        "df_drop = df_drop.with_columns([pl.col(col).cast(pl.Int32).alias(col) for col in bool_cols])"
      ]
    },
    {
      "cell_type": "code",
      "execution_count": 18,
      "id": "d04d90ee-9314-4af9-8061-eae14d50eee3",
      "metadata": {
        "colab": {
          "base_uri": "https://localhost:8080/",
          "height": 316
        },
        "id": "d04d90ee-9314-4af9-8061-eae14d50eee3",
        "outputId": "c86210f0-3710-4472-d0f4-a0e160df4b30"
      },
      "outputs": [
        {
          "output_type": "execute_result",
          "data": {
            "text/plain": [
              "shape: (3, 31)\n",
              "┌─────┬─────────┬──────────┬───────────────┬───┬──────────┬──────────┬──────────────┬──────────────┐\n",
              "│ ID  ┆ Source  ┆ Severity ┆ Start_Time    ┆ … ┆ Crossing ┆ Junction ┆ Traffic_Sign ┆ Sunrise_Suns │\n",
              "│ --- ┆ ---     ┆ ---      ┆ ---           ┆   ┆ ---      ┆ ---      ┆ al           ┆ et           │\n",
              "│ str ┆ str     ┆ i64      ┆ str           ┆   ┆ i32      ┆ i32      ┆ ---          ┆ ---          │\n",
              "│     ┆         ┆          ┆               ┆   ┆          ┆          ┆ i32          ┆ str          │\n",
              "╞═════╪═════════╪══════════╪═══════════════╪═══╪══════════╪══════════╪══════════════╪══════════════╡\n",
              "│ A-1 ┆ Source2 ┆ 3        ┆ 2016-02-08    ┆ … ┆ 0        ┆ 0        ┆ 0            ┆ Night        │\n",
              "│     ┆         ┆          ┆ 05:46:00      ┆   ┆          ┆          ┆              ┆              │\n",
              "│ A-2 ┆ Source2 ┆ 2        ┆ 2016-02-08    ┆ … ┆ 0        ┆ 0        ┆ 0            ┆ Night        │\n",
              "│     ┆         ┆          ┆ 06:07:59      ┆   ┆          ┆          ┆              ┆              │\n",
              "│ A-3 ┆ Source2 ┆ 2        ┆ 2016-02-08    ┆ … ┆ 0        ┆ 0        ┆ 1            ┆ Night        │\n",
              "│     ┆         ┆          ┆ 06:49:27      ┆   ┆          ┆          ┆              ┆              │\n",
              "└─────┴─────────┴──────────┴───────────────┴───┴──────────┴──────────┴──────────────┴──────────────┘"
            ],
            "text/html": [
              "<div><style>\n",
              ".dataframe > thead > tr,\n",
              ".dataframe > tbody > tr {\n",
              "  text-align: right;\n",
              "  white-space: pre-wrap;\n",
              "}\n",
              "</style>\n",
              "<small>shape: (3, 31)</small><table border=\"1\" class=\"dataframe\"><thead><tr><th>ID</th><th>Source</th><th>Severity</th><th>Start_Time</th><th>End_Time</th><th>Start_Lat</th><th>Start_Lng</th><th>Distance(mi)</th><th>Description</th><th>Street</th><th>City</th><th>County</th><th>State</th><th>Zipcode</th><th>Country</th><th>Timezone</th><th>Airport_Code</th><th>Weather_Timestamp</th><th>Temperature(F)</th><th>Wind_Chill(F)</th><th>Humidity(%)</th><th>Pressure(in)</th><th>Visibility(mi)</th><th>Wind_Direction</th><th>Wind_Speed(mph)</th><th>Precipitation(in)</th><th>Weather_Condition</th><th>Crossing</th><th>Junction</th><th>Traffic_Signal</th><th>Sunrise_Sunset</th></tr><tr><td>str</td><td>str</td><td>i64</td><td>str</td><td>str</td><td>f64</td><td>f64</td><td>f64</td><td>str</td><td>str</td><td>str</td><td>str</td><td>str</td><td>str</td><td>str</td><td>str</td><td>str</td><td>str</td><td>f64</td><td>f64</td><td>f64</td><td>f64</td><td>f64</td><td>str</td><td>f64</td><td>f64</td><td>str</td><td>i32</td><td>i32</td><td>i32</td><td>str</td></tr></thead><tbody><tr><td>&quot;A-1&quot;</td><td>&quot;Source2&quot;</td><td>3</td><td>&quot;2016-02-08 05:46:00&quot;</td><td>&quot;2016-02-08 11:00:00&quot;</td><td>39.865147</td><td>-84.058723</td><td>0.01</td><td>&quot;Right lane blocked due to acci…</td><td>&quot;I-70 E&quot;</td><td>&quot;Dayton&quot;</td><td>&quot;Montgomery&quot;</td><td>&quot;OH&quot;</td><td>&quot;45424&quot;</td><td>&quot;US&quot;</td><td>&quot;US/Eastern&quot;</td><td>&quot;KFFO&quot;</td><td>&quot;2016-02-08 05:58:00&quot;</td><td>36.9</td><td>null</td><td>91.0</td><td>29.68</td><td>10.0</td><td>&quot;Calm&quot;</td><td>null</td><td>0.02</td><td>&quot;Light Rain&quot;</td><td>0</td><td>0</td><td>0</td><td>&quot;Night&quot;</td></tr><tr><td>&quot;A-2&quot;</td><td>&quot;Source2&quot;</td><td>2</td><td>&quot;2016-02-08 06:07:59&quot;</td><td>&quot;2016-02-08 06:37:59&quot;</td><td>39.928059</td><td>-82.831184</td><td>0.01</td><td>&quot;Accident on Brice Rd at Tussin…</td><td>&quot;Brice Rd&quot;</td><td>&quot;Reynoldsburg&quot;</td><td>&quot;Franklin&quot;</td><td>&quot;OH&quot;</td><td>&quot;43068-3402&quot;</td><td>&quot;US&quot;</td><td>&quot;US/Eastern&quot;</td><td>&quot;KCMH&quot;</td><td>&quot;2016-02-08 05:51:00&quot;</td><td>37.9</td><td>null</td><td>100.0</td><td>29.65</td><td>10.0</td><td>&quot;Calm&quot;</td><td>null</td><td>0.0</td><td>&quot;Light Rain&quot;</td><td>0</td><td>0</td><td>0</td><td>&quot;Night&quot;</td></tr><tr><td>&quot;A-3&quot;</td><td>&quot;Source2&quot;</td><td>2</td><td>&quot;2016-02-08 06:49:27&quot;</td><td>&quot;2016-02-08 07:19:27&quot;</td><td>39.063148</td><td>-84.032608</td><td>0.01</td><td>&quot;Accident on OH-32 State Route …</td><td>&quot;State Route 32&quot;</td><td>&quot;Williamsburg&quot;</td><td>&quot;Clermont&quot;</td><td>&quot;OH&quot;</td><td>&quot;45176&quot;</td><td>&quot;US&quot;</td><td>&quot;US/Eastern&quot;</td><td>&quot;KI69&quot;</td><td>&quot;2016-02-08 06:56:00&quot;</td><td>36.0</td><td>33.3</td><td>100.0</td><td>29.67</td><td>10.0</td><td>&quot;SW&quot;</td><td>3.5</td><td>null</td><td>&quot;Overcast&quot;</td><td>0</td><td>0</td><td>1</td><td>&quot;Night&quot;</td></tr></tbody></table></div>"
            ]
          },
          "metadata": {},
          "execution_count": 18
        }
      ],
      "source": [
        "df_drop.head(3)"
      ]
    },
    {
      "cell_type": "code",
      "execution_count": 19,
      "id": "70295609-cbcc-4aa9-94d4-a40c17eb522d",
      "metadata": {
        "colab": {
          "base_uri": "https://localhost:8080/"
        },
        "id": "70295609-cbcc-4aa9-94d4-a40c17eb522d",
        "outputId": "971818b5-ddfd-45ad-9691-89e46833a206"
      },
      "outputs": [
        {
          "output_type": "stream",
          "name": "stdout",
          "text": [
            "Unique entries in ID : 7728394\n",
            "Unique entries in Source : 3\n",
            "Unique entries in Severity : 4\n",
            "Unique entries in Start_Time : 6131796\n",
            "Unique entries in End_Time : 6705355\n",
            "Unique entries in Start_Lat : 2449172\n",
            "Unique entries in Start_Lng : 2493905\n",
            "Unique entries in Distance(mi) : 22382\n",
            "Unique entries in Description : 3761579\n",
            "Unique entries in Street : 336307\n",
            "Unique entries in City : 13679\n",
            "Unique entries in County : 1871\n",
            "Unique entries in State : 49\n",
            "Unique entries in Zipcode : 825095\n",
            "Unique entries in Country : 1\n",
            "Unique entries in Timezone : 5\n",
            "Unique entries in Airport_Code : 2046\n",
            "Unique entries in Weather_Timestamp : 941332\n",
            "Unique entries in Temperature(F) : 861\n",
            "Unique entries in Wind_Chill(F) : 1002\n",
            "Unique entries in Humidity(%) : 101\n",
            "Unique entries in Pressure(in) : 1145\n",
            "Unique entries in Visibility(mi) : 93\n",
            "Unique entries in Wind_Direction : 25\n",
            "Unique entries in Wind_Speed(mph) : 185\n",
            "Unique entries in Precipitation(in) : 300\n",
            "Unique entries in Weather_Condition : 145\n",
            "Unique entries in Crossing : 2\n",
            "Unique entries in Junction : 2\n",
            "Unique entries in Traffic_Signal : 2\n",
            "Unique entries in Sunrise_Sunset : 3\n"
          ]
        }
      ],
      "source": [
        "for col in df_drop.columns:\n",
        "    unique_count = df_drop.select(pl.col(col).n_unique())[0, 0]\n",
        "    print(f\"Unique entries in {col} : {unique_count}\")"
      ]
    },
    {
      "cell_type": "code",
      "execution_count": 20,
      "id": "d6c5982b-b630-4298-b72f-a0055baee1f0",
      "metadata": {
        "id": "d6c5982b-b630-4298-b72f-a0055baee1f0"
      },
      "outputs": [],
      "source": [
        "df_drop = df_drop.drop(['Country']) #This is a uniform column displaying just the 'US'"
      ]
    },
    {
      "cell_type": "code",
      "execution_count": 21,
      "id": "4aa16435-550b-4ee3-abdf-6810cf7ec1c5",
      "metadata": {
        "colab": {
          "base_uri": "https://localhost:8080/"
        },
        "id": "4aa16435-550b-4ee3-abdf-6810cf7ec1c5",
        "outputId": "1ea0b940-d684-411a-b666-35b82bae6c50"
      },
      "outputs": [
        {
          "output_type": "execute_result",
          "data": {
            "text/plain": [
              "30"
            ]
          },
          "metadata": {},
          "execution_count": 21
        }
      ],
      "source": [
        "df_drop.width"
      ]
    },
    {
      "cell_type": "code",
      "execution_count": 22,
      "id": "463d8bda-8c5c-4b5a-8e7c-cbadd6663053",
      "metadata": {
        "id": "463d8bda-8c5c-4b5a-8e7c-cbadd6663053"
      },
      "outputs": [],
      "source": [
        "df_drop = df_drop.drop(['Airport_Code','ID']) #not useful in our context"
      ]
    },
    {
      "cell_type": "code",
      "execution_count": 23,
      "id": "c45c18c4-13a1-4911-8b9e-10adae0f9bd9",
      "metadata": {
        "colab": {
          "base_uri": "https://localhost:8080/"
        },
        "id": "c45c18c4-13a1-4911-8b9e-10adae0f9bd9",
        "outputId": "7ceb4965-c0c7-4052-d0ad-19772a760b03"
      },
      "outputs": [
        {
          "output_type": "execute_result",
          "data": {
            "text/plain": [
              "28"
            ]
          },
          "metadata": {},
          "execution_count": 23
        }
      ],
      "source": [
        "df_drop.width"
      ]
    },
    {
      "cell_type": "code",
      "execution_count": 24,
      "id": "6945619a-0975-47d0-b940-5c041010e2b4",
      "metadata": {
        "id": "6945619a-0975-47d0-b940-5c041010e2b4"
      },
      "outputs": [],
      "source": [
        "df_drop = df_drop.drop(['Weather_Timestamp']) #This relates to what time the weather data was recorded, so irrelevant to us"
      ]
    },
    {
      "cell_type": "code",
      "execution_count": 25,
      "id": "9916b176-f6a4-4309-8328-22a4757244de",
      "metadata": {
        "colab": {
          "base_uri": "https://localhost:8080/"
        },
        "id": "9916b176-f6a4-4309-8328-22a4757244de",
        "outputId": "ff6eee76-1cd2-4d02-a34d-7a6e9bae0d3b"
      },
      "outputs": [
        {
          "output_type": "execute_result",
          "data": {
            "text/plain": [
              "['Source',\n",
              " 'Severity',\n",
              " 'Start_Time',\n",
              " 'End_Time',\n",
              " 'Start_Lat',\n",
              " 'Start_Lng',\n",
              " 'Distance(mi)',\n",
              " 'Description',\n",
              " 'Street',\n",
              " 'City',\n",
              " 'County',\n",
              " 'State',\n",
              " 'Zipcode',\n",
              " 'Timezone',\n",
              " 'Temperature(F)',\n",
              " 'Wind_Chill(F)',\n",
              " 'Humidity(%)',\n",
              " 'Pressure(in)',\n",
              " 'Visibility(mi)',\n",
              " 'Wind_Direction',\n",
              " 'Wind_Speed(mph)',\n",
              " 'Precipitation(in)',\n",
              " 'Weather_Condition',\n",
              " 'Crossing',\n",
              " 'Junction',\n",
              " 'Traffic_Signal',\n",
              " 'Sunrise_Sunset']"
            ]
          },
          "metadata": {},
          "execution_count": 25
        }
      ],
      "source": [
        "df_drop.columns"
      ]
    },
    {
      "cell_type": "code",
      "execution_count": 26,
      "id": "22362d5f-ad85-4ab9-8650-b348d4ea06f5",
      "metadata": {
        "colab": {
          "base_uri": "https://localhost:8080/",
          "height": 831
        },
        "id": "22362d5f-ad85-4ab9-8650-b348d4ea06f5",
        "outputId": "259a4c72-6e14-41f9-e488-186d34a99ae8"
      },
      "outputs": [
        {
          "output_type": "execute_result",
          "data": {
            "text/plain": [
              "shape: (10, 27)\n",
              "┌─────────┬──────────┬────────────┬────────────┬───┬──────────┬──────────┬────────────┬────────────┐\n",
              "│ Source  ┆ Severity ┆ Start_Time ┆ End_Time   ┆ … ┆ Crossing ┆ Junction ┆ Traffic_Si ┆ Sunrise_Su │\n",
              "│ ---     ┆ ---      ┆ ---        ┆ ---        ┆   ┆ ---      ┆ ---      ┆ gnal       ┆ nset       │\n",
              "│ str     ┆ i64      ┆ str        ┆ str        ┆   ┆ i32      ┆ i32      ┆ ---        ┆ ---        │\n",
              "│         ┆          ┆            ┆            ┆   ┆          ┆          ┆ i32        ┆ str        │\n",
              "╞═════════╪══════════╪════════════╪════════════╪═══╪══════════╪══════════╪════════════╪════════════╡\n",
              "│ Source2 ┆ 3        ┆ 2016-02-08 ┆ 2016-02-08 ┆ … ┆ 0        ┆ 0        ┆ 0          ┆ Night      │\n",
              "│         ┆          ┆ 05:46:00   ┆ 11:00:00   ┆   ┆          ┆          ┆            ┆            │\n",
              "│ Source2 ┆ 2        ┆ 2016-02-08 ┆ 2016-02-08 ┆ … ┆ 0        ┆ 0        ┆ 0          ┆ Night      │\n",
              "│         ┆          ┆ 06:07:59   ┆ 06:37:59   ┆   ┆          ┆          ┆            ┆            │\n",
              "│ Source2 ┆ 2        ┆ 2016-02-08 ┆ 2016-02-08 ┆ … ┆ 0        ┆ 0        ┆ 1          ┆ Night      │\n",
              "│         ┆          ┆ 06:49:27   ┆ 07:19:27   ┆   ┆          ┆          ┆            ┆            │\n",
              "│ Source2 ┆ 3        ┆ 2016-02-08 ┆ 2016-02-08 ┆ … ┆ 0        ┆ 0        ┆ 0          ┆ Night      │\n",
              "│         ┆          ┆ 07:23:34   ┆ 07:53:34   ┆   ┆          ┆          ┆            ┆            │\n",
              "│ Source2 ┆ 2        ┆ 2016-02-08 ┆ 2016-02-08 ┆ … ┆ 0        ┆ 0        ┆ 1          ┆ Day        │\n",
              "│         ┆          ┆ 07:39:07   ┆ 08:09:07   ┆   ┆          ┆          ┆            ┆            │\n",
              "│ Source2 ┆ 3        ┆ 2016-02-08 ┆ 2016-02-08 ┆ … ┆ 0        ┆ 0        ┆ 0          ┆ Day        │\n",
              "│         ┆          ┆ 07:44:26   ┆ 08:14:26   ┆   ┆          ┆          ┆            ┆            │\n",
              "│ Source2 ┆ 2        ┆ 2016-02-08 ┆ 2016-02-08 ┆ … ┆ 0        ┆ 0        ┆ 0          ┆ Day        │\n",
              "│         ┆          ┆ 07:59:35   ┆ 08:29:35   ┆   ┆          ┆          ┆            ┆            │\n",
              "│ Source2 ┆ 3        ┆ 2016-02-08 ┆ 2016-02-08 ┆ … ┆ 0        ┆ 0        ┆ 0          ┆ Day        │\n",
              "│         ┆          ┆ 07:59:58   ┆ 08:29:58   ┆   ┆          ┆          ┆            ┆            │\n",
              "│ Source2 ┆ 2        ┆ 2016-02-08 ┆ 2016-02-08 ┆ … ┆ 0        ┆ 0        ┆ 0          ┆ Day        │\n",
              "│         ┆          ┆ 08:00:40   ┆ 08:30:40   ┆   ┆          ┆          ┆            ┆            │\n",
              "│ Source2 ┆ 3        ┆ 2016-02-08 ┆ 2016-02-08 ┆ … ┆ 0        ┆ 0        ┆ 0          ┆ Day        │\n",
              "│         ┆          ┆ 08:10:04   ┆ 08:40:04   ┆   ┆          ┆          ┆            ┆            │\n",
              "└─────────┴──────────┴────────────┴────────────┴───┴──────────┴──────────┴────────────┴────────────┘"
            ],
            "text/html": [
              "<div><style>\n",
              ".dataframe > thead > tr,\n",
              ".dataframe > tbody > tr {\n",
              "  text-align: right;\n",
              "  white-space: pre-wrap;\n",
              "}\n",
              "</style>\n",
              "<small>shape: (10, 27)</small><table border=\"1\" class=\"dataframe\"><thead><tr><th>Source</th><th>Severity</th><th>Start_Time</th><th>End_Time</th><th>Start_Lat</th><th>Start_Lng</th><th>Distance(mi)</th><th>Description</th><th>Street</th><th>City</th><th>County</th><th>State</th><th>Zipcode</th><th>Timezone</th><th>Temperature(F)</th><th>Wind_Chill(F)</th><th>Humidity(%)</th><th>Pressure(in)</th><th>Visibility(mi)</th><th>Wind_Direction</th><th>Wind_Speed(mph)</th><th>Precipitation(in)</th><th>Weather_Condition</th><th>Crossing</th><th>Junction</th><th>Traffic_Signal</th><th>Sunrise_Sunset</th></tr><tr><td>str</td><td>i64</td><td>str</td><td>str</td><td>f64</td><td>f64</td><td>f64</td><td>str</td><td>str</td><td>str</td><td>str</td><td>str</td><td>str</td><td>str</td><td>f64</td><td>f64</td><td>f64</td><td>f64</td><td>f64</td><td>str</td><td>f64</td><td>f64</td><td>str</td><td>i32</td><td>i32</td><td>i32</td><td>str</td></tr></thead><tbody><tr><td>&quot;Source2&quot;</td><td>3</td><td>&quot;2016-02-08 05:46:00&quot;</td><td>&quot;2016-02-08 11:00:00&quot;</td><td>39.865147</td><td>-84.058723</td><td>0.01</td><td>&quot;Right lane blocked due to acci…</td><td>&quot;I-70 E&quot;</td><td>&quot;Dayton&quot;</td><td>&quot;Montgomery&quot;</td><td>&quot;OH&quot;</td><td>&quot;45424&quot;</td><td>&quot;US/Eastern&quot;</td><td>36.9</td><td>58.251048</td><td>91.0</td><td>29.68</td><td>10.0</td><td>&quot;Calm&quot;</td><td>7.68549</td><td>0.02</td><td>&quot;Light Rain&quot;</td><td>0</td><td>0</td><td>0</td><td>&quot;Night&quot;</td></tr><tr><td>&quot;Source2&quot;</td><td>2</td><td>&quot;2016-02-08 06:07:59&quot;</td><td>&quot;2016-02-08 06:37:59&quot;</td><td>39.928059</td><td>-82.831184</td><td>0.01</td><td>&quot;Accident on Brice Rd at Tussin…</td><td>&quot;Brice Rd&quot;</td><td>&quot;Reynoldsburg&quot;</td><td>&quot;Franklin&quot;</td><td>&quot;OH&quot;</td><td>&quot;43068-3402&quot;</td><td>&quot;US/Eastern&quot;</td><td>37.9</td><td>58.251048</td><td>100.0</td><td>29.65</td><td>10.0</td><td>&quot;Calm&quot;</td><td>7.68549</td><td>0.0</td><td>&quot;Light Rain&quot;</td><td>0</td><td>0</td><td>0</td><td>&quot;Night&quot;</td></tr><tr><td>&quot;Source2&quot;</td><td>2</td><td>&quot;2016-02-08 06:49:27&quot;</td><td>&quot;2016-02-08 07:19:27&quot;</td><td>39.063148</td><td>-84.032608</td><td>0.01</td><td>&quot;Accident on OH-32 State Route …</td><td>&quot;State Route 32&quot;</td><td>&quot;Williamsburg&quot;</td><td>&quot;Clermont&quot;</td><td>&quot;OH&quot;</td><td>&quot;45176&quot;</td><td>&quot;US/Eastern&quot;</td><td>36.0</td><td>33.3</td><td>100.0</td><td>29.67</td><td>10.0</td><td>&quot;SW&quot;</td><td>3.5</td><td>0.008407</td><td>&quot;Overcast&quot;</td><td>0</td><td>0</td><td>1</td><td>&quot;Night&quot;</td></tr><tr><td>&quot;Source2&quot;</td><td>3</td><td>&quot;2016-02-08 07:23:34&quot;</td><td>&quot;2016-02-08 07:53:34&quot;</td><td>39.747753</td><td>-84.205582</td><td>0.01</td><td>&quot;Accident on I-75 Southbound at…</td><td>&quot;I-75 S&quot;</td><td>&quot;Dayton&quot;</td><td>&quot;Montgomery&quot;</td><td>&quot;OH&quot;</td><td>&quot;45417&quot;</td><td>&quot;US/Eastern&quot;</td><td>35.1</td><td>31.0</td><td>96.0</td><td>29.64</td><td>9.0</td><td>&quot;SW&quot;</td><td>4.6</td><td>0.008407</td><td>&quot;Mostly Cloudy&quot;</td><td>0</td><td>0</td><td>0</td><td>&quot;Night&quot;</td></tr><tr><td>&quot;Source2&quot;</td><td>2</td><td>&quot;2016-02-08 07:39:07&quot;</td><td>&quot;2016-02-08 08:09:07&quot;</td><td>39.627781</td><td>-84.188354</td><td>0.01</td><td>&quot;Accident on McEwen Rd at OH-72…</td><td>&quot;Miamisburg Centerville Rd&quot;</td><td>&quot;Dayton&quot;</td><td>&quot;Montgomery&quot;</td><td>&quot;OH&quot;</td><td>&quot;45459&quot;</td><td>&quot;US/Eastern&quot;</td><td>36.0</td><td>33.3</td><td>89.0</td><td>29.65</td><td>6.0</td><td>&quot;SW&quot;</td><td>3.5</td><td>0.008407</td><td>&quot;Mostly Cloudy&quot;</td><td>0</td><td>0</td><td>1</td><td>&quot;Day&quot;</td></tr><tr><td>&quot;Source2&quot;</td><td>3</td><td>&quot;2016-02-08 07:44:26&quot;</td><td>&quot;2016-02-08 08:14:26&quot;</td><td>40.10059</td><td>-82.925194</td><td>0.01</td><td>&quot;Accident on I-270 Outerbelt No…</td><td>&quot;Westerville Rd&quot;</td><td>&quot;Westerville&quot;</td><td>&quot;Franklin&quot;</td><td>&quot;OH&quot;</td><td>&quot;43081&quot;</td><td>&quot;US/Eastern&quot;</td><td>37.9</td><td>35.5</td><td>97.0</td><td>29.63</td><td>7.0</td><td>&quot;SSW&quot;</td><td>3.5</td><td>0.03</td><td>&quot;Light Rain&quot;</td><td>0</td><td>0</td><td>0</td><td>&quot;Day&quot;</td></tr><tr><td>&quot;Source2&quot;</td><td>2</td><td>&quot;2016-02-08 07:59:35&quot;</td><td>&quot;2016-02-08 08:29:35&quot;</td><td>39.758274</td><td>-84.230507</td><td>0.0</td><td>&quot;Accident on Oakridge Dr at Woo…</td><td>&quot;N Woodward Ave&quot;</td><td>&quot;Dayton&quot;</td><td>&quot;Montgomery&quot;</td><td>&quot;OH&quot;</td><td>&quot;45417-2476&quot;</td><td>&quot;US/Eastern&quot;</td><td>34.0</td><td>31.0</td><td>100.0</td><td>29.66</td><td>7.0</td><td>&quot;WSW&quot;</td><td>3.5</td><td>0.008407</td><td>&quot;Overcast&quot;</td><td>0</td><td>0</td><td>0</td><td>&quot;Day&quot;</td></tr><tr><td>&quot;Source2&quot;</td><td>3</td><td>&quot;2016-02-08 07:59:58&quot;</td><td>&quot;2016-02-08 08:29:58&quot;</td><td>39.770382</td><td>-84.194901</td><td>0.01</td><td>&quot;Accident on I-75 Southbound at…</td><td>&quot;N Main St&quot;</td><td>&quot;Dayton&quot;</td><td>&quot;Montgomery&quot;</td><td>&quot;OH&quot;</td><td>&quot;45405&quot;</td><td>&quot;US/Eastern&quot;</td><td>34.0</td><td>31.0</td><td>100.0</td><td>29.66</td><td>7.0</td><td>&quot;WSW&quot;</td><td>3.5</td><td>0.008407</td><td>&quot;Overcast&quot;</td><td>0</td><td>0</td><td>0</td><td>&quot;Day&quot;</td></tr><tr><td>&quot;Source2&quot;</td><td>2</td><td>&quot;2016-02-08 08:00:40&quot;</td><td>&quot;2016-02-08 08:30:40&quot;</td><td>39.778061</td><td>-84.172005</td><td>0.0</td><td>&quot;Accident on Notre Dame Ave at …</td><td>&quot;Notre Dame Ave&quot;</td><td>&quot;Dayton&quot;</td><td>&quot;Montgomery&quot;</td><td>&quot;OH&quot;</td><td>&quot;45404-1923&quot;</td><td>&quot;US/Eastern&quot;</td><td>33.3</td><td>58.251048</td><td>99.0</td><td>29.67</td><td>5.0</td><td>&quot;SW&quot;</td><td>1.2</td><td>0.008407</td><td>&quot;Mostly Cloudy&quot;</td><td>0</td><td>0</td><td>0</td><td>&quot;Day&quot;</td></tr><tr><td>&quot;Source2&quot;</td><td>3</td><td>&quot;2016-02-08 08:10:04&quot;</td><td>&quot;2016-02-08 08:40:04&quot;</td><td>40.10059</td><td>-82.925194</td><td>0.01</td><td>&quot;Right hand shoulder blocked du…</td><td>&quot;Westerville Rd&quot;</td><td>&quot;Westerville&quot;</td><td>&quot;Franklin&quot;</td><td>&quot;OH&quot;</td><td>&quot;43081&quot;</td><td>&quot;US/Eastern&quot;</td><td>37.4</td><td>33.8</td><td>100.0</td><td>29.62</td><td>3.0</td><td>&quot;SSW&quot;</td><td>4.6</td><td>0.02</td><td>&quot;Light Rain&quot;</td><td>0</td><td>0</td><td>0</td><td>&quot;Day&quot;</td></tr></tbody></table></div>"
            ]
          },
          "metadata": {},
          "execution_count": 26
        }
      ],
      "source": [
        "# List of columns to fill null values with mean\n",
        "cols_to_fill = ['Wind_Chill(F)', 'Wind_Speed(mph)', 'Visibility(mi)', 'Precipitation(in)', 'Temperature(F)', 'Humidity(%)', 'Pressure(in)']\n",
        "\n",
        "# Fill null values with the mean of the column\n",
        "df_drop = df_drop.with_columns([pl.col(col).fill_null(pl.col(col).mean()).alias(col) for col in cols_to_fill])\n",
        "df_drop.head(10)"
      ]
    },
    {
      "cell_type": "code",
      "execution_count": 27,
      "id": "5f5b6e1a-3a21-4268-98e3-e6bb7f2a1ca0",
      "metadata": {
        "colab": {
          "base_uri": "https://localhost:8080/"
        },
        "id": "5f5b6e1a-3a21-4268-98e3-e6bb7f2a1ca0",
        "outputId": "2ba29716-0bee-426c-bce7-ac091321cc0e"
      },
      "outputs": [
        {
          "output_type": "stream",
          "name": "stdout",
          "text": [
            "Null entries in Source : 0\n",
            "Null entries in Severity : 0\n",
            "Null entries in Start_Time : 0\n",
            "Null entries in End_Time : 0\n",
            "Null entries in Start_Lat : 0\n",
            "Null entries in Start_Lng : 0\n",
            "Null entries in Distance(mi) : 0\n",
            "Null entries in Description : 5\n",
            "Null entries in Street : 10869\n",
            "Null entries in City : 253\n",
            "Null entries in County : 0\n",
            "Null entries in State : 0\n",
            "Null entries in Zipcode : 1915\n",
            "Null entries in Timezone : 7808\n",
            "Null entries in Temperature(F) : 0\n",
            "Null entries in Wind_Chill(F) : 0\n",
            "Null entries in Humidity(%) : 0\n",
            "Null entries in Pressure(in) : 0\n",
            "Null entries in Visibility(mi) : 0\n",
            "Null entries in Wind_Direction : 175206\n",
            "Null entries in Wind_Speed(mph) : 0\n",
            "Null entries in Precipitation(in) : 0\n",
            "Null entries in Weather_Condition : 173459\n",
            "Null entries in Crossing : 0\n",
            "Null entries in Junction : 0\n",
            "Null entries in Traffic_Signal : 0\n",
            "Null entries in Sunrise_Sunset : 23246\n"
          ]
        }
      ],
      "source": [
        "cols = ['Source', 'Severity', 'Start_Time', 'End_Time', 'Start_Lat', 'Start_Lng', 'Distance(mi)', 'Description', 'Street','City', 'County', 'State',\n",
        "        'Zipcode', 'Timezone', 'Temperature(F)', 'Wind_Chill(F)','Humidity(%)', 'Pressure(in)', 'Visibility(mi)','Wind_Direction', 'Wind_Speed(mph)',\n",
        "        'Precipitation(in)', 'Weather_Condition', 'Crossing', 'Junction','Traffic_Signal', 'Sunrise_Sunset']\n",
        "for col in cols:\n",
        "    null_count = df_drop.select(pl.col(col).null_count())[0, 0]  # Get the count of nulls in the column\n",
        "    print(f\"Null entries in {col} : {null_count}\")"
      ]
    },
    {
      "cell_type": "code",
      "execution_count": 28,
      "id": "415f6931-ef93-4ab6-8342-72e451d4db8d",
      "metadata": {
        "colab": {
          "base_uri": "https://localhost:8080/",
          "height": 316
        },
        "id": "415f6931-ef93-4ab6-8342-72e451d4db8d",
        "outputId": "a1100423-696a-4365-c1a6-0f880ec0032e"
      },
      "outputs": [
        {
          "output_type": "execute_result",
          "data": {
            "text/plain": [
              "shape: (3, 27)\n",
              "┌─────────┬──────────┬────────────┬────────────┬───┬──────────┬──────────┬────────────┬────────────┐\n",
              "│ Source  ┆ Severity ┆ Start_Time ┆ End_Time   ┆ … ┆ Crossing ┆ Junction ┆ Traffic_Si ┆ Sunrise_Su │\n",
              "│ ---     ┆ ---      ┆ ---        ┆ ---        ┆   ┆ ---      ┆ ---      ┆ gnal       ┆ nset       │\n",
              "│ str     ┆ i64      ┆ str        ┆ str        ┆   ┆ i32      ┆ i32      ┆ ---        ┆ ---        │\n",
              "│         ┆          ┆            ┆            ┆   ┆          ┆          ┆ i32        ┆ str        │\n",
              "╞═════════╪══════════╪════════════╪════════════╪═══╪══════════╪══════════╪════════════╪════════════╡\n",
              "│ Source2 ┆ 3        ┆ 2016-02-08 ┆ 2016-02-08 ┆ … ┆ 0        ┆ 0        ┆ 0          ┆ Night      │\n",
              "│         ┆          ┆ 05:46:00   ┆ 11:00:00   ┆   ┆          ┆          ┆            ┆            │\n",
              "│ Source2 ┆ 2        ┆ 2016-02-08 ┆ 2016-02-08 ┆ … ┆ 0        ┆ 0        ┆ 0          ┆ Night      │\n",
              "│         ┆          ┆ 06:07:59   ┆ 06:37:59   ┆   ┆          ┆          ┆            ┆            │\n",
              "│ Source2 ┆ 2        ┆ 2016-02-08 ┆ 2016-02-08 ┆ … ┆ 0        ┆ 0        ┆ 1          ┆ Night      │\n",
              "│         ┆          ┆ 06:49:27   ┆ 07:19:27   ┆   ┆          ┆          ┆            ┆            │\n",
              "└─────────┴──────────┴────────────┴────────────┴───┴──────────┴──────────┴────────────┴────────────┘"
            ],
            "text/html": [
              "<div><style>\n",
              ".dataframe > thead > tr,\n",
              ".dataframe > tbody > tr {\n",
              "  text-align: right;\n",
              "  white-space: pre-wrap;\n",
              "}\n",
              "</style>\n",
              "<small>shape: (3, 27)</small><table border=\"1\" class=\"dataframe\"><thead><tr><th>Source</th><th>Severity</th><th>Start_Time</th><th>End_Time</th><th>Start_Lat</th><th>Start_Lng</th><th>Distance(mi)</th><th>Description</th><th>Street</th><th>City</th><th>County</th><th>State</th><th>Zipcode</th><th>Timezone</th><th>Temperature(F)</th><th>Wind_Chill(F)</th><th>Humidity(%)</th><th>Pressure(in)</th><th>Visibility(mi)</th><th>Wind_Direction</th><th>Wind_Speed(mph)</th><th>Precipitation(in)</th><th>Weather_Condition</th><th>Crossing</th><th>Junction</th><th>Traffic_Signal</th><th>Sunrise_Sunset</th></tr><tr><td>str</td><td>i64</td><td>str</td><td>str</td><td>f64</td><td>f64</td><td>f64</td><td>str</td><td>str</td><td>str</td><td>str</td><td>str</td><td>str</td><td>str</td><td>f64</td><td>f64</td><td>f64</td><td>f64</td><td>f64</td><td>str</td><td>f64</td><td>f64</td><td>str</td><td>i32</td><td>i32</td><td>i32</td><td>str</td></tr></thead><tbody><tr><td>&quot;Source2&quot;</td><td>3</td><td>&quot;2016-02-08 05:46:00&quot;</td><td>&quot;2016-02-08 11:00:00&quot;</td><td>39.865147</td><td>-84.058723</td><td>0.01</td><td>&quot;Right lane blocked due to acci…</td><td>&quot;I-70 E&quot;</td><td>&quot;Dayton&quot;</td><td>&quot;Montgomery&quot;</td><td>&quot;OH&quot;</td><td>&quot;45424&quot;</td><td>&quot;US/Eastern&quot;</td><td>36.9</td><td>58.251048</td><td>91.0</td><td>29.68</td><td>10.0</td><td>&quot;Calm&quot;</td><td>7.68549</td><td>0.02</td><td>&quot;Light Rain&quot;</td><td>0</td><td>0</td><td>0</td><td>&quot;Night&quot;</td></tr><tr><td>&quot;Source2&quot;</td><td>2</td><td>&quot;2016-02-08 06:07:59&quot;</td><td>&quot;2016-02-08 06:37:59&quot;</td><td>39.928059</td><td>-82.831184</td><td>0.01</td><td>&quot;Accident on Brice Rd at Tussin…</td><td>&quot;Brice Rd&quot;</td><td>&quot;Reynoldsburg&quot;</td><td>&quot;Franklin&quot;</td><td>&quot;OH&quot;</td><td>&quot;43068-3402&quot;</td><td>&quot;US/Eastern&quot;</td><td>37.9</td><td>58.251048</td><td>100.0</td><td>29.65</td><td>10.0</td><td>&quot;Calm&quot;</td><td>7.68549</td><td>0.0</td><td>&quot;Light Rain&quot;</td><td>0</td><td>0</td><td>0</td><td>&quot;Night&quot;</td></tr><tr><td>&quot;Source2&quot;</td><td>2</td><td>&quot;2016-02-08 06:49:27&quot;</td><td>&quot;2016-02-08 07:19:27&quot;</td><td>39.063148</td><td>-84.032608</td><td>0.01</td><td>&quot;Accident on OH-32 State Route …</td><td>&quot;State Route 32&quot;</td><td>&quot;Williamsburg&quot;</td><td>&quot;Clermont&quot;</td><td>&quot;OH&quot;</td><td>&quot;45176&quot;</td><td>&quot;US/Eastern&quot;</td><td>36.0</td><td>33.3</td><td>100.0</td><td>29.67</td><td>10.0</td><td>&quot;SW&quot;</td><td>3.5</td><td>0.008407</td><td>&quot;Overcast&quot;</td><td>0</td><td>0</td><td>1</td><td>&quot;Night&quot;</td></tr></tbody></table></div>"
            ]
          },
          "metadata": {},
          "execution_count": 28
        }
      ],
      "source": [
        "df_drop.head(3)"
      ]
    },
    {
      "cell_type": "code",
      "execution_count": 29,
      "id": "667184d8-de5c-477b-84f8-1298dfcc3e4a",
      "metadata": {
        "colab": {
          "base_uri": "https://localhost:8080/"
        },
        "id": "667184d8-de5c-477b-84f8-1298dfcc3e4a",
        "outputId": "4472f47b-9455-48d4-830b-a6b78803c3da"
      },
      "outputs": [
        {
          "output_type": "stream",
          "name": "stdout",
          "text": [
            "Invalid Start_Time entries:\n",
            "shape: (0, 27)\n",
            "┌────────┬──────────┬────────────┬──────────┬───┬──────────┬──────────┬──────────────┬─────────────┐\n",
            "│ Source ┆ Severity ┆ Start_Time ┆ End_Time ┆ … ┆ Crossing ┆ Junction ┆ Traffic_Sign ┆ Sunrise_Sun │\n",
            "│ ---    ┆ ---      ┆ ---        ┆ ---      ┆   ┆ ---      ┆ ---      ┆ al           ┆ set         │\n",
            "│ str    ┆ i64      ┆ str        ┆ str      ┆   ┆ i32      ┆ i32      ┆ ---          ┆ ---         │\n",
            "│        ┆          ┆            ┆          ┆   ┆          ┆          ┆ i32          ┆ str         │\n",
            "╞════════╪══════════╪════════════╪══════════╪═══╪══════════╪══════════╪══════════════╪═════════════╡\n",
            "└────────┴──────────┴────────────┴──────────┴───┴──────────┴──────────┴──────────────┴─────────────┘\n",
            "Invalid End_Time entries:\n",
            "shape: (0, 27)\n",
            "┌────────┬──────────┬────────────┬──────────┬───┬──────────┬──────────┬──────────────┬─────────────┐\n",
            "│ Source ┆ Severity ┆ Start_Time ┆ End_Time ┆ … ┆ Crossing ┆ Junction ┆ Traffic_Sign ┆ Sunrise_Sun │\n",
            "│ ---    ┆ ---      ┆ ---        ┆ ---      ┆   ┆ ---      ┆ ---      ┆ al           ┆ set         │\n",
            "│ str    ┆ i64      ┆ str        ┆ str      ┆   ┆ i32      ┆ i32      ┆ ---          ┆ ---         │\n",
            "│        ┆          ┆            ┆          ┆   ┆          ┆          ┆ i32          ┆ str         │\n",
            "╞════════╪══════════╪════════════╪══════════╪═══╪══════════╪══════════╪══════════════╪═════════════╡\n",
            "└────────┴──────────┴────────────┴──────────┴───┴──────────┴──────────┴──────────────┴─────────────┘\n"
          ]
        }
      ],
      "source": [
        "# Step 1: Clean the datetime strings to remove fractional seconds\n",
        "df_drop = df_drop.with_columns([\n",
        "    pl.col('Start_Time').str.replace(r'\\.\\d+', '').alias('Start_Time'),  # Remove anything after the seconds\n",
        "    pl.col('End_Time').str.replace(r'\\.\\d+', '').alias('End_Time')      # Remove anything after the seconds\n",
        "])\n",
        "\n",
        "# Step 2: Identify invalid datetime entries (optional but useful for debugging)\n",
        "invalid_start = df_drop.filter(~pl.col('Start_Time').str.strptime(pl.Datetime, '%Y-%m-%d %H:%M:%S', strict=True).is_not_null())\n",
        "invalid_end = df_drop.filter(~pl.col('End_Time').str.strptime(pl.Datetime, '%Y-%m-%d %H:%M:%S', strict=True).is_not_null())\n",
        "\n",
        "print(\"Invalid Start_Time entries:\")\n",
        "print(invalid_start)\n",
        "\n",
        "print(\"Invalid End_Time entries:\")\n",
        "print(invalid_end)\n",
        "\n",
        "# Step 3: Convert the cleaned time data into workable DateTime objects with strict=False\n",
        "df_drop = df_drop.with_columns([\n",
        "    pl.col('Start_Time').str.strptime(pl.Datetime, '%Y-%m-%d %H:%M:%S', strict=False).alias('Start_Time'),\n",
        "    pl.col('End_Time').str.strptime(pl.Datetime, '%Y-%m-%d %H:%M:%S', strict=False).alias('End_Time')\n",
        "])\n",
        "\n",
        "# Breaking the start time into usable independent features\n",
        "df_drop = df_drop.with_columns([\n",
        "    pl.col('Start_Time').dt.year().alias('Year'),\n",
        "    pl.col('Start_Time').dt.month().alias('Month'),\n",
        "    pl.col('Start_Time').dt.day().alias('Day'),\n",
        "    pl.col('Start_Time').dt.hour().alias('Time_S'),\n",
        "    pl.col('Start_Time').dt.weekday().alias('Weekday'),\n",
        "    (pl.col('End_Time') - pl.col('Start_Time')).dt.total_seconds().alias('Duration')\n",
        "])\n",
        "\n",
        "# Drop the original Start_Time and End_Time columns\n",
        "df_drop = df_drop.drop(['Start_Time', 'End_Time'])"
      ]
    },
    {
      "cell_type": "code",
      "execution_count": 30,
      "id": "d2cbfc92-cb81-4847-b962-a8b9cc24cfd4",
      "metadata": {
        "colab": {
          "base_uri": "https://localhost:8080/",
          "height": 845
        },
        "id": "d2cbfc92-cb81-4847-b962-a8b9cc24cfd4",
        "outputId": "80ff1e85-6178-4710-dd9e-7ae124f056e1"
      },
      "outputs": [
        {
          "output_type": "execute_result",
          "data": {
            "text/plain": [
              "shape: (15, 31)\n",
              "┌─────────┬──────────┬───────────┬────────────┬───┬─────┬────────┬─────────┬──────────┐\n",
              "│ Source  ┆ Severity ┆ Start_Lat ┆ Start_Lng  ┆ … ┆ Day ┆ Time_S ┆ Weekday ┆ Duration │\n",
              "│ ---     ┆ ---      ┆ ---       ┆ ---        ┆   ┆ --- ┆ ---    ┆ ---     ┆ ---      │\n",
              "│ str     ┆ i64      ┆ f64       ┆ f64        ┆   ┆ i8  ┆ i8     ┆ i8      ┆ i64      │\n",
              "╞═════════╪══════════╪═══════════╪════════════╪═══╪═════╪════════╪═════════╪══════════╡\n",
              "│ Source2 ┆ 3        ┆ 39.865147 ┆ -84.058723 ┆ … ┆ 8   ┆ 5      ┆ 1       ┆ 18840    │\n",
              "│ Source2 ┆ 2        ┆ 39.928059 ┆ -82.831184 ┆ … ┆ 8   ┆ 6      ┆ 1       ┆ 1800     │\n",
              "│ Source2 ┆ 2        ┆ 39.063148 ┆ -84.032608 ┆ … ┆ 8   ┆ 6      ┆ 1       ┆ 1800     │\n",
              "│ Source2 ┆ 3        ┆ 39.747753 ┆ -84.205582 ┆ … ┆ 8   ┆ 7      ┆ 1       ┆ 1800     │\n",
              "│ Source2 ┆ 2        ┆ 39.627781 ┆ -84.188354 ┆ … ┆ 8   ┆ 7      ┆ 1       ┆ 1800     │\n",
              "│ …       ┆ …        ┆ …         ┆ …          ┆ … ┆ …   ┆ …      ┆ …       ┆ …        │\n",
              "│ Source2 ┆ 3        ┆ 39.952812 ┆ -83.119293 ┆ … ┆ 8   ┆ 8      ┆ 1       ┆ 1800     │\n",
              "│ Source2 ┆ 3        ┆ 39.932709 ┆ -82.83091  ┆ … ┆ 8   ┆ 8      ┆ 1       ┆ 1800     │\n",
              "│ Source2 ┆ 2        ┆ 39.737633 ┆ -84.149933 ┆ … ┆ 8   ┆ 8      ┆ 1       ┆ 1800     │\n",
              "│ Source2 ┆ 2        ┆ 39.79076  ┆ -84.241547 ┆ … ┆ 8   ┆ 8      ┆ 1       ┆ 1800     │\n",
              "│ Source2 ┆ 2        ┆ 39.972038 ┆ -82.913521 ┆ … ┆ 8   ┆ 8      ┆ 1       ┆ 1800     │\n",
              "└─────────┴──────────┴───────────┴────────────┴───┴─────┴────────┴─────────┴──────────┘"
            ],
            "text/html": [
              "<div><style>\n",
              ".dataframe > thead > tr,\n",
              ".dataframe > tbody > tr {\n",
              "  text-align: right;\n",
              "  white-space: pre-wrap;\n",
              "}\n",
              "</style>\n",
              "<small>shape: (15, 31)</small><table border=\"1\" class=\"dataframe\"><thead><tr><th>Source</th><th>Severity</th><th>Start_Lat</th><th>Start_Lng</th><th>Distance(mi)</th><th>Description</th><th>Street</th><th>City</th><th>County</th><th>State</th><th>Zipcode</th><th>Timezone</th><th>Temperature(F)</th><th>Wind_Chill(F)</th><th>Humidity(%)</th><th>Pressure(in)</th><th>Visibility(mi)</th><th>Wind_Direction</th><th>Wind_Speed(mph)</th><th>Precipitation(in)</th><th>Weather_Condition</th><th>Crossing</th><th>Junction</th><th>Traffic_Signal</th><th>Sunrise_Sunset</th><th>Year</th><th>Month</th><th>Day</th><th>Time_S</th><th>Weekday</th><th>Duration</th></tr><tr><td>str</td><td>i64</td><td>f64</td><td>f64</td><td>f64</td><td>str</td><td>str</td><td>str</td><td>str</td><td>str</td><td>str</td><td>str</td><td>f64</td><td>f64</td><td>f64</td><td>f64</td><td>f64</td><td>str</td><td>f64</td><td>f64</td><td>str</td><td>i32</td><td>i32</td><td>i32</td><td>str</td><td>i32</td><td>i8</td><td>i8</td><td>i8</td><td>i8</td><td>i64</td></tr></thead><tbody><tr><td>&quot;Source2&quot;</td><td>3</td><td>39.865147</td><td>-84.058723</td><td>0.01</td><td>&quot;Right lane blocked due to acci…</td><td>&quot;I-70 E&quot;</td><td>&quot;Dayton&quot;</td><td>&quot;Montgomery&quot;</td><td>&quot;OH&quot;</td><td>&quot;45424&quot;</td><td>&quot;US/Eastern&quot;</td><td>36.9</td><td>58.251048</td><td>91.0</td><td>29.68</td><td>10.0</td><td>&quot;Calm&quot;</td><td>7.68549</td><td>0.02</td><td>&quot;Light Rain&quot;</td><td>0</td><td>0</td><td>0</td><td>&quot;Night&quot;</td><td>2016</td><td>2</td><td>8</td><td>5</td><td>1</td><td>18840</td></tr><tr><td>&quot;Source2&quot;</td><td>2</td><td>39.928059</td><td>-82.831184</td><td>0.01</td><td>&quot;Accident on Brice Rd at Tussin…</td><td>&quot;Brice Rd&quot;</td><td>&quot;Reynoldsburg&quot;</td><td>&quot;Franklin&quot;</td><td>&quot;OH&quot;</td><td>&quot;43068-3402&quot;</td><td>&quot;US/Eastern&quot;</td><td>37.9</td><td>58.251048</td><td>100.0</td><td>29.65</td><td>10.0</td><td>&quot;Calm&quot;</td><td>7.68549</td><td>0.0</td><td>&quot;Light Rain&quot;</td><td>0</td><td>0</td><td>0</td><td>&quot;Night&quot;</td><td>2016</td><td>2</td><td>8</td><td>6</td><td>1</td><td>1800</td></tr><tr><td>&quot;Source2&quot;</td><td>2</td><td>39.063148</td><td>-84.032608</td><td>0.01</td><td>&quot;Accident on OH-32 State Route …</td><td>&quot;State Route 32&quot;</td><td>&quot;Williamsburg&quot;</td><td>&quot;Clermont&quot;</td><td>&quot;OH&quot;</td><td>&quot;45176&quot;</td><td>&quot;US/Eastern&quot;</td><td>36.0</td><td>33.3</td><td>100.0</td><td>29.67</td><td>10.0</td><td>&quot;SW&quot;</td><td>3.5</td><td>0.008407</td><td>&quot;Overcast&quot;</td><td>0</td><td>0</td><td>1</td><td>&quot;Night&quot;</td><td>2016</td><td>2</td><td>8</td><td>6</td><td>1</td><td>1800</td></tr><tr><td>&quot;Source2&quot;</td><td>3</td><td>39.747753</td><td>-84.205582</td><td>0.01</td><td>&quot;Accident on I-75 Southbound at…</td><td>&quot;I-75 S&quot;</td><td>&quot;Dayton&quot;</td><td>&quot;Montgomery&quot;</td><td>&quot;OH&quot;</td><td>&quot;45417&quot;</td><td>&quot;US/Eastern&quot;</td><td>35.1</td><td>31.0</td><td>96.0</td><td>29.64</td><td>9.0</td><td>&quot;SW&quot;</td><td>4.6</td><td>0.008407</td><td>&quot;Mostly Cloudy&quot;</td><td>0</td><td>0</td><td>0</td><td>&quot;Night&quot;</td><td>2016</td><td>2</td><td>8</td><td>7</td><td>1</td><td>1800</td></tr><tr><td>&quot;Source2&quot;</td><td>2</td><td>39.627781</td><td>-84.188354</td><td>0.01</td><td>&quot;Accident on McEwen Rd at OH-72…</td><td>&quot;Miamisburg Centerville Rd&quot;</td><td>&quot;Dayton&quot;</td><td>&quot;Montgomery&quot;</td><td>&quot;OH&quot;</td><td>&quot;45459&quot;</td><td>&quot;US/Eastern&quot;</td><td>36.0</td><td>33.3</td><td>89.0</td><td>29.65</td><td>6.0</td><td>&quot;SW&quot;</td><td>3.5</td><td>0.008407</td><td>&quot;Mostly Cloudy&quot;</td><td>0</td><td>0</td><td>1</td><td>&quot;Day&quot;</td><td>2016</td><td>2</td><td>8</td><td>7</td><td>1</td><td>1800</td></tr><tr><td>&hellip;</td><td>&hellip;</td><td>&hellip;</td><td>&hellip;</td><td>&hellip;</td><td>&hellip;</td><td>&hellip;</td><td>&hellip;</td><td>&hellip;</td><td>&hellip;</td><td>&hellip;</td><td>&hellip;</td><td>&hellip;</td><td>&hellip;</td><td>&hellip;</td><td>&hellip;</td><td>&hellip;</td><td>&hellip;</td><td>&hellip;</td><td>&hellip;</td><td>&hellip;</td><td>&hellip;</td><td>&hellip;</td><td>&hellip;</td><td>&hellip;</td><td>&hellip;</td><td>&hellip;</td><td>&hellip;</td><td>&hellip;</td><td>&hellip;</td><td>&hellip;</td></tr><tr><td>&quot;Source2&quot;</td><td>3</td><td>39.952812</td><td>-83.119293</td><td>0.01</td><td>&quot;Accident on I-270 Outerbelt No…</td><td>&quot;Outerbelt S&quot;</td><td>&quot;Columbus&quot;</td><td>&quot;Franklin&quot;</td><td>&quot;OH&quot;</td><td>&quot;43228&quot;</td><td>&quot;US/Eastern&quot;</td><td>35.6</td><td>30.7</td><td>93.0</td><td>29.64</td><td>5.0</td><td>&quot;WNW&quot;</td><td>5.8</td><td>0.008407</td><td>&quot;Rain&quot;</td><td>1</td><td>1</td><td>0</td><td>&quot;Day&quot;</td><td>2016</td><td>2</td><td>8</td><td>8</td><td>1</td><td>1800</td></tr><tr><td>&quot;Source2&quot;</td><td>3</td><td>39.932709</td><td>-82.83091</td><td>0.01</td><td>&quot;One lane blocked due to accide…</td><td>&quot;I-70 E&quot;</td><td>&quot;Reynoldsburg&quot;</td><td>&quot;Franklin&quot;</td><td>&quot;OH&quot;</td><td>&quot;43068&quot;</td><td>&quot;US/Eastern&quot;</td><td>37.4</td><td>33.8</td><td>100.0</td><td>29.62</td><td>3.0</td><td>&quot;SSW&quot;</td><td>4.6</td><td>0.02</td><td>&quot;Light Rain&quot;</td><td>0</td><td>0</td><td>0</td><td>&quot;Day&quot;</td><td>2016</td><td>2</td><td>8</td><td>8</td><td>1</td><td>1800</td></tr><tr><td>&quot;Source2&quot;</td><td>2</td><td>39.737633</td><td>-84.149933</td><td>0.0</td><td>&quot;Accident on Revere Ave at Wate…</td><td>&quot;Watervliet Ave&quot;</td><td>&quot;Dayton&quot;</td><td>&quot;Montgomery&quot;</td><td>&quot;OH&quot;</td><td>&quot;45420-1863&quot;</td><td>&quot;US/Eastern&quot;</td><td>33.8</td><td>58.251048</td><td>100.0</td><td>29.63</td><td>3.0</td><td>&quot;SW&quot;</td><td>2.3</td><td>0.008407</td><td>&quot;Overcast&quot;</td><td>0</td><td>0</td><td>0</td><td>&quot;Day&quot;</td><td>2016</td><td>2</td><td>8</td><td>8</td><td>1</td><td>1800</td></tr><tr><td>&quot;Source2&quot;</td><td>2</td><td>39.79076</td><td>-84.241547</td><td>0.01</td><td>&quot;Accident on Salem Ave at Hillc…</td><td>&quot;Salem Ave&quot;</td><td>&quot;Dayton&quot;</td><td>&quot;Montgomery&quot;</td><td>&quot;OH&quot;</td><td>&quot;45406-2708&quot;</td><td>&quot;US/Eastern&quot;</td><td>36.0</td><td>31.1</td><td>89.0</td><td>29.65</td><td>10.0</td><td>&quot;NW&quot;</td><td>5.8</td><td>0.008407</td><td>&quot;Mostly Cloudy&quot;</td><td>0</td><td>0</td><td>1</td><td>&quot;Day&quot;</td><td>2016</td><td>2</td><td>8</td><td>8</td><td>1</td><td>1800</td></tr><tr><td>&quot;Source2&quot;</td><td>2</td><td>39.972038</td><td>-82.913521</td><td>0.01</td><td>&quot;Accident on OH-16 Broad St at …</td><td>&quot;E Broad St&quot;</td><td>&quot;Columbus&quot;</td><td>&quot;Franklin&quot;</td><td>&quot;OH&quot;</td><td>&quot;43213-1006&quot;</td><td>&quot;US/Eastern&quot;</td><td>37.4</td><td>33.8</td><td>100.0</td><td>29.62</td><td>3.0</td><td>&quot;SSW&quot;</td><td>4.6</td><td>0.02</td><td>&quot;Light Rain&quot;</td><td>0</td><td>0</td><td>1</td><td>&quot;Day&quot;</td><td>2016</td><td>2</td><td>8</td><td>8</td><td>1</td><td>1800</td></tr></tbody></table></div>"
            ]
          },
          "metadata": {},
          "execution_count": 30
        }
      ],
      "source": [
        "df_drop.head(15)"
      ]
    },
    {
      "cell_type": "code",
      "execution_count": 31,
      "id": "ce0cd205-0a81-4711-89af-0097c7e2a48f",
      "metadata": {
        "colab": {
          "base_uri": "https://localhost:8080/"
        },
        "id": "ce0cd205-0a81-4711-89af-0097c7e2a48f",
        "outputId": "679a6e8f-b0d4-4f74-9ffc-d0f9242be4e7"
      },
      "outputs": [
        {
          "output_type": "stream",
          "name": "stdout",
          "text": [
            "Null entries in Source : 0\n",
            "Null entries in Severity : 0\n",
            "Null entries in Start_Lat : 0\n",
            "Null entries in Start_Lng : 0\n",
            "Null entries in Distance(mi) : 0\n",
            "Null entries in Description : 5\n",
            "Null entries in Street : 10869\n",
            "Null entries in City : 253\n",
            "Null entries in County : 0\n",
            "Null entries in State : 0\n",
            "Null entries in Zipcode : 1915\n",
            "Null entries in Timezone : 7808\n",
            "Null entries in Temperature(F) : 0\n",
            "Null entries in Wind_Chill(F) : 0\n",
            "Null entries in Humidity(%) : 0\n",
            "Null entries in Pressure(in) : 0\n",
            "Null entries in Visibility(mi) : 0\n",
            "Null entries in Wind_Direction : 175206\n",
            "Null entries in Wind_Speed(mph) : 0\n",
            "Null entries in Precipitation(in) : 0\n",
            "Null entries in Weather_Condition : 173459\n",
            "Null entries in Crossing : 0\n",
            "Null entries in Junction : 0\n",
            "Null entries in Traffic_Signal : 0\n",
            "Null entries in Sunrise_Sunset : 23246\n",
            "Null entries in Year : 0\n",
            "Null entries in Month : 0\n",
            "Null entries in Day : 0\n",
            "Null entries in Time_S : 0\n",
            "Null entries in Weekday : 0\n",
            "Null entries in Duration : 0\n"
          ]
        }
      ],
      "source": [
        "cols = ['Source', 'Severity', 'Start_Lat', 'Start_Lng', 'Distance(mi)', 'Description', 'Street','City', 'County', 'State', 'Zipcode', 'Timezone',\n",
        "        'Temperature(F)', 'Wind_Chill(F)','Humidity(%)', 'Pressure(in)', 'Visibility(mi)','Wind_Direction', 'Wind_Speed(mph)','Precipitation(in)',\n",
        "        'Weather_Condition', 'Crossing', 'Junction','Traffic_Signal', 'Sunrise_Sunset', 'Year', 'Month', 'Day', 'Time_S', 'Weekday', 'Duration']\n",
        "for col in cols:\n",
        "    null_count = df_drop.select(pl.col(col).null_count())[0, 0]  # Get the count of nulls in the column\n",
        "    print(f\"Null entries in {col} : {null_count}\")"
      ]
    },
    {
      "cell_type": "code",
      "execution_count": 32,
      "id": "27887950-5c37-47ff-9292-ddd3620b5bd6",
      "metadata": {
        "colab": {
          "base_uri": "https://localhost:8080/"
        },
        "id": "27887950-5c37-47ff-9292-ddd3620b5bd6",
        "outputId": "a213f9b6-e972-410c-bde9-52aa26b39ef0"
      },
      "outputs": [
        {
          "output_type": "execute_result",
          "data": {
            "text/plain": [
              "31"
            ]
          },
          "metadata": {},
          "execution_count": 32
        }
      ],
      "source": [
        "df_drop.width"
      ]
    },
    {
      "cell_type": "code",
      "execution_count": 33,
      "id": "1c7730a3-cd12-4e3e-a416-91fbba8f21f6",
      "metadata": {
        "colab": {
          "base_uri": "https://localhost:8080/"
        },
        "id": "1c7730a3-cd12-4e3e-a416-91fbba8f21f6",
        "outputId": "450a6ea0-d831-4e11-a851-183f2ee14236"
      },
      "outputs": [
        {
          "output_type": "execute_result",
          "data": {
            "text/plain": [
              "7728394"
            ]
          },
          "metadata": {},
          "execution_count": 33
        }
      ],
      "source": [
        "df_drop.height"
      ]
    },
    {
      "cell_type": "code",
      "execution_count": 34,
      "id": "c6ac7059-e2eb-4f3a-b922-c4db74446135",
      "metadata": {
        "id": "c6ac7059-e2eb-4f3a-b922-c4db74446135"
      },
      "outputs": [],
      "source": [
        "# Filtering out rows where 'Weather_Condition' or 'Wind_Direction' are null\n",
        "df_drop = df_drop.filter(~pl.col('Weather_Condition').is_null() | ~pl.col('Wind_Direction').is_null())"
      ]
    },
    {
      "cell_type": "code",
      "execution_count": 35,
      "id": "8ee643e2-4bb4-4cbd-8b99-8e1f0f918acd",
      "metadata": {
        "colab": {
          "base_uri": "https://localhost:8080/"
        },
        "id": "8ee643e2-4bb4-4cbd-8b99-8e1f0f918acd",
        "outputId": "f3b91843-bb71-4cef-c0dd-f3da5631240d"
      },
      "outputs": [
        {
          "output_type": "execute_result",
          "data": {
            "text/plain": [
              "7593604"
            ]
          },
          "metadata": {},
          "execution_count": 35
        }
      ],
      "source": [
        "df_drop.height"
      ]
    },
    {
      "cell_type": "code",
      "execution_count": 36,
      "id": "4f8f16bc-8cd1-48e6-8a66-8c6296e9fa16",
      "metadata": {
        "colab": {
          "base_uri": "https://localhost:8080/"
        },
        "id": "4f8f16bc-8cd1-48e6-8a66-8c6296e9fa16",
        "outputId": "ebd6b460-de1e-4fdd-cf58-3288afa854d4"
      },
      "outputs": [
        {
          "output_type": "stream",
          "name": "stdout",
          "text": [
            "['SE', 'NNE', 'West', 'W', 'East', 'NW', 'WNW', 'NE', 'S', 'NNW', 'SSW', 'SSE', 'WSW', 'E', 'South', 'ESE', 'CALM', 'Calm', 'ENE', 'Variable', 'North', 'N', 'VAR', None, 'SW']\n"
          ]
        }
      ],
      "source": [
        "unique_values = df_drop[\"Wind_Direction\"].unique()\n",
        "print(unique_values.to_list())"
      ]
    },
    {
      "cell_type": "code",
      "execution_count": 37,
      "id": "ad1af222-a7db-4015-9a67-a76de820854f",
      "metadata": {
        "colab": {
          "base_uri": "https://localhost:8080/",
          "height": 316
        },
        "id": "ad1af222-a7db-4015-9a67-a76de820854f",
        "outputId": "c6011a99-3424-4878-f173-2fcf992fb550"
      },
      "outputs": [
        {
          "output_type": "execute_result",
          "data": {
            "text/plain": [
              "shape: (3, 31)\n",
              "┌─────────┬──────────┬───────────┬────────────┬───┬─────┬────────┬─────────┬──────────┐\n",
              "│ Source  ┆ Severity ┆ Start_Lat ┆ Start_Lng  ┆ … ┆ Day ┆ Time_S ┆ Weekday ┆ Duration │\n",
              "│ ---     ┆ ---      ┆ ---       ┆ ---        ┆   ┆ --- ┆ ---    ┆ ---     ┆ ---      │\n",
              "│ str     ┆ i64      ┆ f64       ┆ f64        ┆   ┆ i8  ┆ i8     ┆ i8      ┆ i64      │\n",
              "╞═════════╪══════════╪═══════════╪════════════╪═══╪═════╪════════╪═════════╪══════════╡\n",
              "│ Source2 ┆ 3        ┆ 39.865147 ┆ -84.058723 ┆ … ┆ 8   ┆ 5      ┆ 1       ┆ 18840    │\n",
              "│ Source2 ┆ 2        ┆ 39.928059 ┆ -82.831184 ┆ … ┆ 8   ┆ 6      ┆ 1       ┆ 1800     │\n",
              "│ Source2 ┆ 2        ┆ 39.063148 ┆ -84.032608 ┆ … ┆ 8   ┆ 6      ┆ 1       ┆ 1800     │\n",
              "└─────────┴──────────┴───────────┴────────────┴───┴─────┴────────┴─────────┴──────────┘"
            ],
            "text/html": [
              "<div><style>\n",
              ".dataframe > thead > tr,\n",
              ".dataframe > tbody > tr {\n",
              "  text-align: right;\n",
              "  white-space: pre-wrap;\n",
              "}\n",
              "</style>\n",
              "<small>shape: (3, 31)</small><table border=\"1\" class=\"dataframe\"><thead><tr><th>Source</th><th>Severity</th><th>Start_Lat</th><th>Start_Lng</th><th>Distance(mi)</th><th>Description</th><th>Street</th><th>City</th><th>County</th><th>State</th><th>Zipcode</th><th>Timezone</th><th>Temperature(F)</th><th>Wind_Chill(F)</th><th>Humidity(%)</th><th>Pressure(in)</th><th>Visibility(mi)</th><th>Wind_Direction</th><th>Wind_Speed(mph)</th><th>Precipitation(in)</th><th>Weather_Condition</th><th>Crossing</th><th>Junction</th><th>Traffic_Signal</th><th>Sunrise_Sunset</th><th>Year</th><th>Month</th><th>Day</th><th>Time_S</th><th>Weekday</th><th>Duration</th></tr><tr><td>str</td><td>i64</td><td>f64</td><td>f64</td><td>f64</td><td>str</td><td>str</td><td>str</td><td>str</td><td>str</td><td>str</td><td>str</td><td>f64</td><td>f64</td><td>f64</td><td>f64</td><td>f64</td><td>str</td><td>f64</td><td>f64</td><td>str</td><td>i32</td><td>i32</td><td>i32</td><td>str</td><td>i32</td><td>i8</td><td>i8</td><td>i8</td><td>i8</td><td>i64</td></tr></thead><tbody><tr><td>&quot;Source2&quot;</td><td>3</td><td>39.865147</td><td>-84.058723</td><td>0.01</td><td>&quot;Right lane blocked due to acci…</td><td>&quot;I-70 E&quot;</td><td>&quot;Dayton&quot;</td><td>&quot;Montgomery&quot;</td><td>&quot;OH&quot;</td><td>&quot;45424&quot;</td><td>&quot;US/Eastern&quot;</td><td>36.9</td><td>58.251048</td><td>91.0</td><td>29.68</td><td>10.0</td><td>&quot;Calm&quot;</td><td>7.68549</td><td>0.02</td><td>&quot;Light Rain&quot;</td><td>0</td><td>0</td><td>0</td><td>&quot;Night&quot;</td><td>2016</td><td>2</td><td>8</td><td>5</td><td>1</td><td>18840</td></tr><tr><td>&quot;Source2&quot;</td><td>2</td><td>39.928059</td><td>-82.831184</td><td>0.01</td><td>&quot;Accident on Brice Rd at Tussin…</td><td>&quot;Brice Rd&quot;</td><td>&quot;Reynoldsburg&quot;</td><td>&quot;Franklin&quot;</td><td>&quot;OH&quot;</td><td>&quot;43068-3402&quot;</td><td>&quot;US/Eastern&quot;</td><td>37.9</td><td>58.251048</td><td>100.0</td><td>29.65</td><td>10.0</td><td>&quot;Calm&quot;</td><td>7.68549</td><td>0.0</td><td>&quot;Light Rain&quot;</td><td>0</td><td>0</td><td>0</td><td>&quot;Night&quot;</td><td>2016</td><td>2</td><td>8</td><td>6</td><td>1</td><td>1800</td></tr><tr><td>&quot;Source2&quot;</td><td>2</td><td>39.063148</td><td>-84.032608</td><td>0.01</td><td>&quot;Accident on OH-32 State Route …</td><td>&quot;State Route 32&quot;</td><td>&quot;Williamsburg&quot;</td><td>&quot;Clermont&quot;</td><td>&quot;OH&quot;</td><td>&quot;45176&quot;</td><td>&quot;US/Eastern&quot;</td><td>36.0</td><td>33.3</td><td>100.0</td><td>29.67</td><td>10.0</td><td>&quot;SW&quot;</td><td>3.5</td><td>0.008407</td><td>&quot;Overcast&quot;</td><td>0</td><td>0</td><td>1</td><td>&quot;Night&quot;</td><td>2016</td><td>2</td><td>8</td><td>6</td><td>1</td><td>1800</td></tr></tbody></table></div>"
            ]
          },
          "metadata": {},
          "execution_count": 37
        }
      ],
      "source": [
        "df_drop.head(3)"
      ]
    },
    {
      "cell_type": "code",
      "execution_count": 38,
      "id": "dcd65b83-1407-4f86-9922-cd993421655c",
      "metadata": {
        "id": "dcd65b83-1407-4f86-9922-cd993421655c"
      },
      "outputs": [],
      "source": [
        "#as we can see S means the same as South and N means the same as North and so on, hence cleaning this up\n",
        "df_drop = df_drop.with_columns(\n",
        "    pl.when(pl.col('Wind_Direction') == 'Calm').then(pl.lit('CALM'))\n",
        "    .when(pl.col('Wind_Direction') == 'North').then(pl.lit('N'))\n",
        "    .when(pl.col('Wind_Direction') == 'South').then(pl.lit('S'))\n",
        "    .when(pl.col('Wind_Direction') == 'East').then(pl.lit('E'))\n",
        "    .when(pl.col('Wind_Direction') == 'West').then(pl.lit('W'))\n",
        "    .when(pl.col('Wind_Direction') == 'Variable').then(pl.lit('VAR'))\n",
        "    .otherwise(pl.col('Wind_Direction'))  # Retain original value if no match\n",
        "    .alias('Wind_Direction')  # Rename back to 'Wind_Direction'\n",
        ")"
      ]
    },
    {
      "cell_type": "code",
      "execution_count": 39,
      "id": "4eda16d1-099c-402a-a853-f18d91ac4883",
      "metadata": {
        "colab": {
          "base_uri": "https://localhost:8080/"
        },
        "id": "4eda16d1-099c-402a-a853-f18d91ac4883",
        "outputId": "53a6723e-aba8-4b03-fedf-5d146f96102e"
      },
      "outputs": [
        {
          "output_type": "stream",
          "name": "stdout",
          "text": [
            "['E', 'WSW', 'SE', 'NNW', None, 'ENE', 'N', 'CALM', 'SSW', 'SW', 'SSE', 'NE', 'WNW', 'ESE', 'VAR', 'S', 'NNE', 'NW', 'W']\n"
          ]
        }
      ],
      "source": [
        "unique_values = df_drop[\"Wind_Direction\"].unique()\n",
        "print(unique_values.to_list())"
      ]
    },
    {
      "cell_type": "code",
      "execution_count": 40,
      "id": "3c05e067-aeb4-493c-b197-3464f3d17113",
      "metadata": {
        "id": "3c05e067-aeb4-493c-b197-3464f3d17113"
      },
      "outputs": [],
      "source": [
        "# Binning Time of Day\n",
        "df_drop = df_drop.with_columns(\n",
        "    pl.when(pl.col('Time_S').lt(6)).then(pl.lit('Early Morning'))\n",
        "    .when(pl.col('Time_S').lt(12)).then(pl.lit('Morning'))\n",
        "    .when(pl.col('Time_S').lt(18)).then(pl.lit('Afternoon'))\n",
        "    .when(pl.col('Time_S').lt(24)).then(pl.lit('Evening'))\n",
        "    .otherwise(pl.lit('Unknown')).alias('TimeofDay')\n",
        ")"
      ]
    },
    {
      "cell_type": "code",
      "execution_count": 41,
      "id": "74e1e8d4-a30c-4926-8c7b-4a7da5762a9b",
      "metadata": {
        "colab": {
          "base_uri": "https://localhost:8080/"
        },
        "id": "74e1e8d4-a30c-4926-8c7b-4a7da5762a9b",
        "outputId": "30d9ef23-1175-4bcc-b16b-273d104cb505"
      },
      "outputs": [
        {
          "output_type": "stream",
          "name": "stdout",
          "text": [
            "shape: (0, 32)\n",
            "┌────────┬──────────┬───────────┬───────────┬───┬────────┬─────────┬──────────┬───────────┐\n",
            "│ Source ┆ Severity ┆ Start_Lat ┆ Start_Lng ┆ … ┆ Time_S ┆ Weekday ┆ Duration ┆ TimeofDay │\n",
            "│ ---    ┆ ---      ┆ ---       ┆ ---       ┆   ┆ ---    ┆ ---     ┆ ---      ┆ ---       │\n",
            "│ str    ┆ i64      ┆ f64       ┆ f64       ┆   ┆ i8     ┆ i8      ┆ i64      ┆ str       │\n",
            "╞════════╪══════════╪═══════════╪═══════════╪═══╪════════╪═════════╪══════════╪═══════════╡\n",
            "└────────┴──────────┴───────────┴───────────┴───┴────────┴─────────┴──────────┴───────────┘\n"
          ]
        }
      ],
      "source": [
        "result = df_drop.filter(pl.col('TimeofDay') == 'Unknown')\n",
        "print(result)"
      ]
    },
    {
      "cell_type": "code",
      "execution_count": 42,
      "id": "06d5fe3c-b2fa-4e9c-84fa-a29220ab72f7",
      "metadata": {
        "id": "06d5fe3c-b2fa-4e9c-84fa-a29220ab72f7"
      },
      "outputs": [],
      "source": [
        "# Binning Seasons\n",
        "df_drop = df_drop.with_columns(\n",
        "    pl.when(pl.col('Month').is_in([12, 1, 2])).then(pl.lit('Winter'))\n",
        "    .when(pl.col('Month').is_in([3, 4, 5])).then(pl.lit('Spring'))\n",
        "    .when(pl.col('Month').is_in([6, 7, 8])).then(pl.lit('Summer'))\n",
        "    .when(pl.col('Month').is_in([9, 10, 11])).then(pl.lit('Autumn'))\n",
        "    .otherwise(pl.lit('Unknown')).alias('Season')\n",
        ")"
      ]
    },
    {
      "cell_type": "code",
      "execution_count": 43,
      "id": "b3d4f10e-3f8b-4ced-8a9b-7ca2385d9bf4",
      "metadata": {
        "colab": {
          "base_uri": "https://localhost:8080/"
        },
        "id": "b3d4f10e-3f8b-4ced-8a9b-7ca2385d9bf4",
        "outputId": "d85f2ff9-540c-4813-d80d-abe249d31b1b"
      },
      "outputs": [
        {
          "output_type": "stream",
          "name": "stdout",
          "text": [
            "shape: (0, 33)\n",
            "┌────────┬──────────┬───────────┬───────────┬───┬─────────┬──────────┬───────────┬────────┐\n",
            "│ Source ┆ Severity ┆ Start_Lat ┆ Start_Lng ┆ … ┆ Weekday ┆ Duration ┆ TimeofDay ┆ Season │\n",
            "│ ---    ┆ ---      ┆ ---       ┆ ---       ┆   ┆ ---     ┆ ---      ┆ ---       ┆ ---    │\n",
            "│ str    ┆ i64      ┆ f64       ┆ f64       ┆   ┆ i8      ┆ i64      ┆ str       ┆ str    │\n",
            "╞════════╪══════════╪═══════════╪═══════════╪═══╪═════════╪══════════╪═══════════╪════════╡\n",
            "└────────┴──────────┴───────────┴───────────┴───┴─────────┴──────────┴───────────┴────────┘\n"
          ]
        }
      ],
      "source": [
        "result = df_drop.filter(pl.col('Season') == 'Unknown')\n",
        "print(result)"
      ]
    },
    {
      "cell_type": "code",
      "execution_count": 44,
      "id": "5f8d548a-dcb6-402e-80ef-2bbbdefe190f",
      "metadata": {
        "colab": {
          "base_uri": "https://localhost:8080/",
          "height": 316
        },
        "id": "5f8d548a-dcb6-402e-80ef-2bbbdefe190f",
        "outputId": "ca05617b-b3c6-4b9e-c585-53d7c746979e"
      },
      "outputs": [
        {
          "output_type": "execute_result",
          "data": {
            "text/plain": [
              "shape: (3, 33)\n",
              "┌─────────┬──────────┬───────────┬────────────┬───┬─────────┬──────────┬───────────────┬────────┐\n",
              "│ Source  ┆ Severity ┆ Start_Lat ┆ Start_Lng  ┆ … ┆ Weekday ┆ Duration ┆ TimeofDay     ┆ Season │\n",
              "│ ---     ┆ ---      ┆ ---       ┆ ---        ┆   ┆ ---     ┆ ---      ┆ ---           ┆ ---    │\n",
              "│ str     ┆ i64      ┆ f64       ┆ f64        ┆   ┆ i8      ┆ i64      ┆ str           ┆ str    │\n",
              "╞═════════╪══════════╪═══════════╪════════════╪═══╪═════════╪══════════╪═══════════════╪════════╡\n",
              "│ Source2 ┆ 3        ┆ 39.865147 ┆ -84.058723 ┆ … ┆ 1       ┆ 18840    ┆ Early Morning ┆ Winter │\n",
              "│ Source2 ┆ 2        ┆ 39.928059 ┆ -82.831184 ┆ … ┆ 1       ┆ 1800     ┆ Morning       ┆ Winter │\n",
              "│ Source2 ┆ 2        ┆ 39.063148 ┆ -84.032608 ┆ … ┆ 1       ┆ 1800     ┆ Morning       ┆ Winter │\n",
              "└─────────┴──────────┴───────────┴────────────┴───┴─────────┴──────────┴───────────────┴────────┘"
            ],
            "text/html": [
              "<div><style>\n",
              ".dataframe > thead > tr,\n",
              ".dataframe > tbody > tr {\n",
              "  text-align: right;\n",
              "  white-space: pre-wrap;\n",
              "}\n",
              "</style>\n",
              "<small>shape: (3, 33)</small><table border=\"1\" class=\"dataframe\"><thead><tr><th>Source</th><th>Severity</th><th>Start_Lat</th><th>Start_Lng</th><th>Distance(mi)</th><th>Description</th><th>Street</th><th>City</th><th>County</th><th>State</th><th>Zipcode</th><th>Timezone</th><th>Temperature(F)</th><th>Wind_Chill(F)</th><th>Humidity(%)</th><th>Pressure(in)</th><th>Visibility(mi)</th><th>Wind_Direction</th><th>Wind_Speed(mph)</th><th>Precipitation(in)</th><th>Weather_Condition</th><th>Crossing</th><th>Junction</th><th>Traffic_Signal</th><th>Sunrise_Sunset</th><th>Year</th><th>Month</th><th>Day</th><th>Time_S</th><th>Weekday</th><th>Duration</th><th>TimeofDay</th><th>Season</th></tr><tr><td>str</td><td>i64</td><td>f64</td><td>f64</td><td>f64</td><td>str</td><td>str</td><td>str</td><td>str</td><td>str</td><td>str</td><td>str</td><td>f64</td><td>f64</td><td>f64</td><td>f64</td><td>f64</td><td>str</td><td>f64</td><td>f64</td><td>str</td><td>i32</td><td>i32</td><td>i32</td><td>str</td><td>i32</td><td>i8</td><td>i8</td><td>i8</td><td>i8</td><td>i64</td><td>str</td><td>str</td></tr></thead><tbody><tr><td>&quot;Source2&quot;</td><td>3</td><td>39.865147</td><td>-84.058723</td><td>0.01</td><td>&quot;Right lane blocked due to acci…</td><td>&quot;I-70 E&quot;</td><td>&quot;Dayton&quot;</td><td>&quot;Montgomery&quot;</td><td>&quot;OH&quot;</td><td>&quot;45424&quot;</td><td>&quot;US/Eastern&quot;</td><td>36.9</td><td>58.251048</td><td>91.0</td><td>29.68</td><td>10.0</td><td>&quot;CALM&quot;</td><td>7.68549</td><td>0.02</td><td>&quot;Light Rain&quot;</td><td>0</td><td>0</td><td>0</td><td>&quot;Night&quot;</td><td>2016</td><td>2</td><td>8</td><td>5</td><td>1</td><td>18840</td><td>&quot;Early Morning&quot;</td><td>&quot;Winter&quot;</td></tr><tr><td>&quot;Source2&quot;</td><td>2</td><td>39.928059</td><td>-82.831184</td><td>0.01</td><td>&quot;Accident on Brice Rd at Tussin…</td><td>&quot;Brice Rd&quot;</td><td>&quot;Reynoldsburg&quot;</td><td>&quot;Franklin&quot;</td><td>&quot;OH&quot;</td><td>&quot;43068-3402&quot;</td><td>&quot;US/Eastern&quot;</td><td>37.9</td><td>58.251048</td><td>100.0</td><td>29.65</td><td>10.0</td><td>&quot;CALM&quot;</td><td>7.68549</td><td>0.0</td><td>&quot;Light Rain&quot;</td><td>0</td><td>0</td><td>0</td><td>&quot;Night&quot;</td><td>2016</td><td>2</td><td>8</td><td>6</td><td>1</td><td>1800</td><td>&quot;Morning&quot;</td><td>&quot;Winter&quot;</td></tr><tr><td>&quot;Source2&quot;</td><td>2</td><td>39.063148</td><td>-84.032608</td><td>0.01</td><td>&quot;Accident on OH-32 State Route …</td><td>&quot;State Route 32&quot;</td><td>&quot;Williamsburg&quot;</td><td>&quot;Clermont&quot;</td><td>&quot;OH&quot;</td><td>&quot;45176&quot;</td><td>&quot;US/Eastern&quot;</td><td>36.0</td><td>33.3</td><td>100.0</td><td>29.67</td><td>10.0</td><td>&quot;SW&quot;</td><td>3.5</td><td>0.008407</td><td>&quot;Overcast&quot;</td><td>0</td><td>0</td><td>1</td><td>&quot;Night&quot;</td><td>2016</td><td>2</td><td>8</td><td>6</td><td>1</td><td>1800</td><td>&quot;Morning&quot;</td><td>&quot;Winter&quot;</td></tr></tbody></table></div>"
            ]
          },
          "metadata": {},
          "execution_count": 44
        }
      ],
      "source": [
        "df_drop.head(3)"
      ]
    },
    {
      "cell_type": "code",
      "execution_count": 45,
      "id": "3bf6f846-d639-451f-aec2-e8cfc2a9ea5f",
      "metadata": {
        "colab": {
          "base_uri": "https://localhost:8080/"
        },
        "id": "3bf6f846-d639-451f-aec2-e8cfc2a9ea5f",
        "outputId": "f2682134-f767-4341-91a2-63d819afbec0"
      },
      "outputs": [
        {
          "output_type": "stream",
          "name": "stdout",
          "text": [
            "shape: (546_184, 33)\n",
            "┌─────────┬──────────┬───────────┬─────────────┬───┬─────────┬──────────┬───────────┬────────┐\n",
            "│ Source  ┆ Severity ┆ Start_Lat ┆ Start_Lng   ┆ … ┆ Weekday ┆ Duration ┆ TimeofDay ┆ Season │\n",
            "│ ---     ┆ ---      ┆ ---       ┆ ---         ┆   ┆ ---     ┆ ---      ┆ ---       ┆ ---    │\n",
            "│ str     ┆ i64      ┆ f64       ┆ f64         ┆   ┆ i8      ┆ i64      ┆ str       ┆ str    │\n",
            "╞═════════╪══════════╪═══════════╪═════════════╪═══╪═════════╪══════════╪═══════════╪════════╡\n",
            "│ Source2 ┆ 3        ┆ 39.981709 ┆ -82.98436   ┆ … ┆ 7       ┆ 49560    ┆ Morning   ┆ Winter │\n",
            "│ Source2 ┆ 3        ┆ 39.953022 ┆ -82.998894  ┆ … ┆ 7       ┆ 1800     ┆ Morning   ┆ Winter │\n",
            "│ Source2 ┆ 3        ┆ 39.973812 ┆ -82.983162  ┆ … ┆ 7       ┆ 1800     ┆ Morning   ┆ Winter │\n",
            "│ Source2 ┆ 3        ┆ 39.978306 ┆ -82.852554  ┆ … ┆ 7       ┆ 4477     ┆ Evening   ┆ Winter │\n",
            "│ Source2 ┆ 3        ┆ 39.917412 ┆ -83.014236  ┆ … ┆ 7       ┆ 4379     ┆ Evening   ┆ Winter │\n",
            "│ …       ┆ …        ┆ …         ┆ …           ┆ … ┆ …       ┆ …        ┆ …         ┆ …      │\n",
            "│ Source1 ┆ 2        ┆ 45.04527  ┆ -122.97528  ┆ … ┆ 7       ┆ 14400    ┆ Evening   ┆ Summer │\n",
            "│ Source1 ┆ 2        ┆ 44.417608 ┆ -122.007574 ┆ … ┆ 7       ┆ 14400    ┆ Evening   ┆ Summer │\n",
            "│ Source1 ┆ 4        ┆ 38.631829 ┆ -121.38298  ┆ … ┆ 7       ┆ 1692     ┆ Evening   ┆ Summer │\n",
            "│ Source1 ┆ 4        ┆ 38.628633 ┆ -121.3829   ┆ … ┆ 7       ┆ 1692     ┆ Evening   ┆ Summer │\n",
            "│ Source1 ┆ 3        ┆ 34.05845  ┆ -118.24448  ┆ … ┆ 7       ┆ 1708     ┆ Evening   ┆ Summer │\n",
            "└─────────┴──────────┴───────────┴─────────────┴───┴─────────┴──────────┴───────────┴────────┘\n"
          ]
        }
      ],
      "source": [
        "result = df_drop.filter(pl.col('Weekday') == 7)\n",
        "print(result)"
      ]
    },
    {
      "cell_type": "code",
      "execution_count": 46,
      "id": "c0838d3d-c4e2-4b78-97fa-194d57902f0f",
      "metadata": {
        "id": "c0838d3d-c4e2-4b78-97fa-194d57902f0f"
      },
      "outputs": [],
      "source": [
        "# Binning Day Type\n",
        "df_drop = df_drop.with_columns(\n",
        "    pl.when(pl.col('Weekday').is_in([1, 2, 3, 4])).then(pl.lit('Weekday'))\n",
        "    .when(pl.col('Weekday').is_in([5, 6, 7])).then(pl.lit('Weekend'))\n",
        "    .otherwise(pl.lit('Unknown')).alias('Day_Type')\n",
        ")"
      ]
    },
    {
      "cell_type": "code",
      "execution_count": 47,
      "id": "987c3995-0275-48cb-b206-efb30f3a370d",
      "metadata": {
        "colab": {
          "base_uri": "https://localhost:8080/"
        },
        "id": "987c3995-0275-48cb-b206-efb30f3a370d",
        "outputId": "14206f55-366a-49f2-8238-1f2c0c309d8a"
      },
      "outputs": [
        {
          "output_type": "stream",
          "name": "stdout",
          "text": [
            "['Night', 'Day', None]\n"
          ]
        }
      ],
      "source": [
        "unique_values = df_drop[\"Sunrise_Sunset\"].unique()\n",
        "print(unique_values.to_list())"
      ]
    },
    {
      "cell_type": "code",
      "execution_count": 48,
      "id": "23cb18f7-887a-4289-b01b-c2c6001ac74a",
      "metadata": {
        "id": "23cb18f7-887a-4289-b01b-c2c6001ac74a"
      },
      "outputs": [],
      "source": [
        "df_drop = df_drop.with_columns(\n",
        "    pl.when(pl.col('Sunrise_Sunset') == 'Night').then(0)\n",
        "    .when(pl.col('Sunrise_Sunset') == 'Day').then(1)\n",
        "    .otherwise(pl.col('Sunrise_Sunset'))  # Retain original value if no match\n",
        "    .alias('Sunrise_Sunset')  # Rename back to 'Wind_Direction'\n",
        ")"
      ]
    },
    {
      "cell_type": "code",
      "execution_count": 49,
      "id": "df10f1cb-946a-4ec2-a488-763e1f86201b",
      "metadata": {
        "colab": {
          "base_uri": "https://localhost:8080/"
        },
        "id": "df10f1cb-946a-4ec2-a488-763e1f86201b",
        "outputId": "9a08a1b9-6574-4d0a-c671-d1f432ae3114"
      },
      "outputs": [
        {
          "output_type": "stream",
          "name": "stdout",
          "text": [
            "shape: (0, 34)\n",
            "┌────────┬──────────┬───────────┬───────────┬───┬──────────┬───────────┬────────┬──────────┐\n",
            "│ Source ┆ Severity ┆ Start_Lat ┆ Start_Lng ┆ … ┆ Duration ┆ TimeofDay ┆ Season ┆ Day_Type │\n",
            "│ ---    ┆ ---      ┆ ---       ┆ ---       ┆   ┆ ---      ┆ ---       ┆ ---    ┆ ---      │\n",
            "│ str    ┆ i64      ┆ f64       ┆ f64       ┆   ┆ i64      ┆ str       ┆ str    ┆ str      │\n",
            "╞════════╪══════════╪═══════════╪═══════════╪═══╪══════════╪═══════════╪════════╪══════════╡\n",
            "└────────┴──────────┴───────────┴───────────┴───┴──────────┴───────────┴────────┴──────────┘\n"
          ]
        }
      ],
      "source": [
        "result = df_drop.filter(pl.col('Duration') <= 0)\n",
        "print(result)"
      ]
    },
    {
      "cell_type": "code",
      "execution_count": 50,
      "id": "34ffa6d2-58a3-4bbb-818e-546c53dd210e",
      "metadata": {
        "colab": {
          "base_uri": "https://localhost:8080/"
        },
        "id": "34ffa6d2-58a3-4bbb-818e-546c53dd210e",
        "outputId": "5a18d364-9af6-455d-d3b4-10e47f207a76"
      },
      "outputs": [
        {
          "output_type": "stream",
          "name": "stdout",
          "text": [
            "['Light Rain', 'Light Snow Showers', 'Snow / Windy', 'Overcast', 'Thunder / Wintry Mix', 'Mostly Cloudy', 'Snow and Sleet / Windy', 'Drizzle and Fog', 'Thunderstorm', 'Light Snow', 'Thunder and Hail / Windy', 'Light Thunderstorm', 'Snow and Thunder', 'Heavy Snow', 'Light Rain Showers', 'Light Freezing Drizzle', 'Patches of Fog / Windy', 'Fog', 'Widespread Dust / Windy', 'Light Snow with Thunder', 'Sand / Dust Whirlwinds', 'Light Fog', 'Shallow Fog', 'Squalls / Windy', 'Blowing Snow Nearby', 'Heavy Ice Pellets', 'Heavy T-Storm / Windy', 'Light Snow / Windy', 'Blowing Sand', 'Sand / Dust Whirls Nearby', 'Thunderstorms and Rain', 'Cloudy', 'Partial Fog', 'Light Freezing Fog', 'Heavy T-Storm', 'Tornado', 'Light Freezing Rain / Windy', 'Thunder and Hail', 'Blowing Snow / Windy', 'Rain Showers', 'Heavy Blowing Snow', 'Sand / Dust Whirlwinds / Windy', 'Heavy Smoke', 'Wintry Mix / Windy', 'Mostly Cloudy / Windy', 'Partly Cloudy', 'Thunder / Wintry Mix / Windy', 'Heavy Freezing Rain / Windy', 'Patches of Fog', 'Scattered Clouds', 'Duststorm', 'Heavy Thunderstorms and Snow', 'Shallow Fog / Windy', 'T-Storm / Windy', 'Light Ice Pellets', 'Freezing Rain', 'Light Snow and Sleet', 'Light Snow Shower', 'Thunder in the Vicinity', 'Partial Fog / Windy', 'Cloudy / Windy', 'Sleet / Windy', 'Freezing Drizzle', 'Showers in the Vicinity', 'Snow Showers', 'Hail', 'Heavy Sleet / Windy', 'Small Hail', 'Light Rain Shower / Windy', 'Heavy Snow / Windy', 'Rain / Windy', 'Rain', 'Squalls', 'Light Sleet', 'Clear', 'Heavy Thunderstorms and Rain', 'N/A Precipitation', 'Light Hail', 'Mist / Windy', 'Snow and Thunder / Windy', 'Snow', 'Smoke / Windy', 'Light Thunderstorms and Snow', 'Snow and Sleet', 'Heavy Rain Shower / Windy', 'Light Drizzle', 'Fair / Windy', 'Heavy Rain', 'Heavy Rain / Windy', 'Rain and Sleet', 'Sleet and Thunder', 'Light Blowing Snow', 'Funnel Cloud', 'Heavy Sleet and Thunder', 'Sleet', 'Dust Whirls', None, 'Heavy Freezing Rain', 'Light Drizzle / Windy', 'Fog / Windy', 'Light Rain with Thunder', 'Fair', 'Light Sleet / Windy', 'Heavy Freezing Drizzle', 'Thunder / Windy', 'Wintry Mix', 'Light Snow Shower / Windy', 'Freezing Rain / Windy', 'Volcanic Ash', 'Widespread Dust', 'Rain Shower', 'Light Rain / Windy', 'Light Snow Grains', 'Haze', 'Rain Shower / Windy', 'Light Thunderstorms and Rain', 'T-Storm', 'Light Haze', 'Sand / Windy', 'Blowing Dust / Windy', 'Ice Pellets', 'Heavy Drizzle', 'Heavy Thunderstorms with Small Hail', 'Drizzle / Windy', 'Thunder', 'Light Snow and Sleet / Windy', 'Sand', 'Drifting Snow', 'Thunderstorms and Snow', 'Smoke', 'Drizzle', 'Haze / Windy', 'Mist', 'Blowing Dust', 'Light Freezing Rain', 'Heavy Snow with Thunder', 'Snow Grains', 'Light Rain Shower', 'Drifting Snow / Windy', 'Low Drifting Snow', 'Partly Cloudy / Windy', 'Heavy Sleet', 'Heavy Rain Showers', 'Heavy Rain Shower', 'Blowing Snow']\n"
          ]
        }
      ],
      "source": [
        "unique_values = df_drop[\"Weather_Condition\"].unique()\n",
        "print(unique_values.to_list())"
      ]
    },
    {
      "cell_type": "code",
      "execution_count": 51,
      "id": "9077de1e-07de-4552-b005-33dacf012c49",
      "metadata": {
        "id": "9077de1e-07de-4552-b005-33dacf012c49"
      },
      "outputs": [],
      "source": [
        "#We further clean wind direction by grouping similar values into one\n",
        "df_drop = df_drop.with_columns(\n",
        "    pl.when(pl.col('Wind_Direction') == 'Calm').then(pl.lit('CALM'))\n",
        "    .when(pl.col('Wind_Direction').is_in(['West', 'WSW', 'WNW'])).then(pl.lit('W'))\n",
        "    .when(pl.col('Wind_Direction').is_in(['South', 'SSW', 'SSE'])).then(pl.lit('S'))\n",
        "    .when(pl.col('Wind_Direction').is_in(['North', 'NNW', 'NNE'])).then(pl.lit('N'))\n",
        "    .when(pl.col('Wind_Direction').is_in(['East', 'ESE', 'ENE'])).then(pl.lit('E'))\n",
        "    .when(pl.col('Wind_Direction') == 'Variable').then(pl.lit('VAR'))\n",
        "    .otherwise(pl.col('Wind_Direction'))  # Retain original value if no match\n",
        "    .alias('Wind_Direction')  # Rename back to 'Wind_Direction'\n",
        ")"
      ]
    },
    {
      "cell_type": "code",
      "execution_count": 52,
      "id": "0a388d32-7bd7-4a4a-be11-3abc56ad4b2c",
      "metadata": {
        "colab": {
          "base_uri": "https://localhost:8080/"
        },
        "id": "0a388d32-7bd7-4a4a-be11-3abc56ad4b2c",
        "outputId": "c2fb0d2a-31b5-41f9-f924-2c4eb5ddc3b5"
      },
      "outputs": [
        {
          "output_type": "stream",
          "name": "stdout",
          "text": [
            "['SW', 'NE', 'NW', None, 'SE', 'N', 'CALM', 'E', 'VAR', 'S', 'W']\n"
          ]
        }
      ],
      "source": [
        "unique_values = df_drop[\"Wind_Direction\"].unique()\n",
        "print(unique_values.to_list())"
      ]
    },
    {
      "cell_type": "code",
      "execution_count": 53,
      "id": "2337dee3-be3d-4a45-b66b-480cec7da3f2",
      "metadata": {
        "colab": {
          "base_uri": "https://localhost:8080/"
        },
        "id": "2337dee3-be3d-4a45-b66b-480cec7da3f2",
        "outputId": "80b5f3b8-caf1-408b-8c90-8209bc871a67"
      },
      "outputs": [
        {
          "output_type": "execute_result",
          "data": {
            "text/plain": [
              "['Source',\n",
              " 'Severity',\n",
              " 'Start_Lat',\n",
              " 'Start_Lng',\n",
              " 'Distance(mi)',\n",
              " 'Description',\n",
              " 'Street',\n",
              " 'City',\n",
              " 'County',\n",
              " 'State',\n",
              " 'Zipcode',\n",
              " 'Timezone',\n",
              " 'Temperature(F)',\n",
              " 'Wind_Chill(F)',\n",
              " 'Humidity(%)',\n",
              " 'Pressure(in)',\n",
              " 'Visibility(mi)',\n",
              " 'Wind_Direction',\n",
              " 'Wind_Speed(mph)',\n",
              " 'Precipitation(in)',\n",
              " 'Weather_Condition',\n",
              " 'Crossing',\n",
              " 'Junction',\n",
              " 'Traffic_Signal',\n",
              " 'Sunrise_Sunset',\n",
              " 'Year',\n",
              " 'Month',\n",
              " 'Day',\n",
              " 'Time_S',\n",
              " 'Weekday',\n",
              " 'Duration',\n",
              " 'TimeofDay',\n",
              " 'Season',\n",
              " 'Day_Type']"
            ]
          },
          "metadata": {},
          "execution_count": 53
        }
      ],
      "source": [
        "df_drop.columns"
      ]
    },
    {
      "cell_type": "code",
      "execution_count": 54,
      "id": "bbfd64e1-a0ff-4993-aaef-cd38ff92e43a",
      "metadata": {
        "id": "bbfd64e1-a0ff-4993-aaef-cd38ff92e43a"
      },
      "outputs": [],
      "source": [
        "# import plotly.express as px\n",
        "\n",
        "# # Extract data as lists\n",
        "# latitudes = df['Start_Lat'].to_list()\n",
        "# longitudes = df['Start_Lng'].to_list()\n",
        "\n",
        "# # Create a scatter mapbox plot with Plotly\n",
        "# fig = px.scatter_mapbox(\n",
        "#     lat=latitudes,\n",
        "#     lon=longitudes,\n",
        "#     zoom=3,\n",
        "#     mapbox_style=\"open-street-map\"\n",
        "# )\n",
        "\n",
        "# # Display the plot\n",
        "# fig.show()"
      ]
    },
    {
      "cell_type": "code",
      "execution_count": 55,
      "id": "e084eb55-7ac1-4806-84ae-69ba6eead700",
      "metadata": {
        "colab": {
          "base_uri": "https://localhost:8080/"
        },
        "id": "e084eb55-7ac1-4806-84ae-69ba6eead700",
        "outputId": "e0cf188d-3a0b-4ec4-9262-83e534b557cd"
      },
      "outputs": [
        {
          "output_type": "stream",
          "name": "stdout",
          "text": [
            "shape: (22, 34)\n",
            "┌─────────┬──────────┬───────────┬─────────────┬───┬──────────┬───────────┬────────┬──────────┐\n",
            "│ Source  ┆ Severity ┆ Start_Lat ┆ Start_Lng   ┆ … ┆ Duration ┆ TimeofDay ┆ Season ┆ Day_Type │\n",
            "│ ---     ┆ ---      ┆ ---       ┆ ---         ┆   ┆ ---      ┆ ---       ┆ ---    ┆ ---      │\n",
            "│ str     ┆ i64      ┆ f64       ┆ f64         ┆   ┆ i64      ┆ str       ┆ str    ┆ str      │\n",
            "╞═════════╪══════════╪═══════════╪═════════════╪═══╪══════════╪═══════════╪════════╪══════════╡\n",
            "│ Source2 ┆ 2        ┆ 32.762203 ┆ -116.945045 ┆ … ┆ 2700     ┆ Afternoon ┆ Summer ┆ Weekday  │\n",
            "│ Source2 ┆ 2        ┆ 32.838902 ┆ -116.934479 ┆ … ┆ 1791     ┆ Morning   ┆ Winter ┆ Weekend  │\n",
            "│ Source2 ┆ 2        ┆ 32.825542 ┆ -116.90152  ┆ … ┆ 1782     ┆ Afternoon ┆ Winter ┆ Weekday  │\n",
            "│ Source2 ┆ 2        ┆ 32.753311 ┆ -117.01152  ┆ … ┆ 1787     ┆ Morning   ┆ Winter ┆ Weekend  │\n",
            "│ Source2 ┆ 3        ┆ 26.350828 ┆ -80.117874  ┆ … ┆ 1800     ┆ Morning   ┆ Summer ┆ Weekday  │\n",
            "│ …       ┆ …        ┆ …         ┆ …           ┆ … ┆ …        ┆ …         ┆ …      ┆ …        │\n",
            "│ Source2 ┆ 3        ┆ 32.866253 ┆ -117.10891  ┆ … ┆ 1788     ┆ Morning   ┆ Summer ┆ Weekday  │\n",
            "│ Source1 ┆ 2        ┆ 32.8368   ┆ -117.0019   ┆ … ┆ 21600    ┆ Afternoon ┆ Winter ┆ Weekend  │\n",
            "│ Source1 ┆ 2        ┆ 32.776732 ┆ -117.004822 ┆ … ┆ 21600    ┆ Afternoon ┆ Spring ┆ Weekday  │\n",
            "│ Source1 ┆ 2        ┆ 32.77368  ┆ -117.03529  ┆ … ┆ 21600    ┆ Afternoon ┆ Spring ┆ Weekday  │\n",
            "│ Source1 ┆ 2        ┆ 32.80912  ┆ -116.91865  ┆ … ┆ 21600    ┆ Afternoon ┆ Summer ┆ Weekend  │\n",
            "└─────────┴──────────┴───────────┴─────────────┴───┴──────────┴───────────┴────────┴──────────┘\n"
          ]
        }
      ],
      "source": [
        "result = df_drop.filter(pl.col('Weather_Condition') == 'Volcanic Ash')\n",
        "print(result)"
      ]
    },
    {
      "cell_type": "code",
      "execution_count": 56,
      "id": "0fa37ae8-a02a-44d8-9507-702928ea5941",
      "metadata": {
        "id": "0fa37ae8-a02a-44d8-9507-702928ea5941"
      },
      "outputs": [],
      "source": [
        "# Create weather categories\n",
        "df_drop = df_drop.with_columns([\n",
        "    pl.when(pl.col(\"Weather_Condition\").str.to_lowercase().str.contains(\"clear|fair\")).then(1).otherwise(0).alias(\"Clear\"),\n",
        "    pl.when(pl.col(\"Weather_Condition\").str.to_lowercase().str.contains(\"cloud|overcast\")).then(1).otherwise(0).alias(\"Cloud\"),\n",
        "    pl.when(pl.col(\"Weather_Condition\").str.to_lowercase().str.contains(\"rain|storm|drizzle|shower|precipitation|light hail|small hail\")).then(1).otherwise(0).alias(\"Rain\"),\n",
        "    pl.when(pl.col(\"Weather_Condition\").str.to_lowercase().str.contains(\"heavy rain|rain shower|heavy t-storm|heavy thunderstorms|thunder|hail\")).then(1).otherwise(0).alias(\"Heavy_Rain\"),\n",
        "    pl.when(pl.col(\"Weather_Condition\").str.to_lowercase().str.contains(\"snow|sleet|ice|wintry mix\")).then(1).otherwise(0).alias(\"Snow\"),\n",
        "    pl.when(pl.col(\"Weather_Condition\").str.to_lowercase().str.contains(\"heavy snow|heavy sleet|heavy ice pellets|snow showers|squalls\")).then(1).otherwise(0).alias(\"Heavy_Snow\"),\n",
        "    pl.when(pl.col(\"Weather_Condition\").str.to_lowercase().str.contains(\"fog|haze|mist\")).then(1).otherwise(0).alias(\"Fog\"),\n",
        "    pl.when(pl.col(\"Weather_Condition\").str.to_lowercase().str.contains(\"dust|smoke|sand|tornado\")).then(1).otherwise(0).alias(\"Dusty\"),\n",
        "    pl.when(pl.col(\"Weather_Condition\").str.to_lowercase().str.contains(\"wind|winds\")).then(1).otherwise(0).alias(\"Windy\"),\n",
        "    pl.when(pl.col(\"Weather_Condition\").str.to_lowercase().str.contains(\"ash\")).then(1).otherwise(0).alias(\"Ash\")\n",
        "])\n",
        "\n",
        "# Handle NA for the created weather features where 'Weather_Condition' is null\n",
        "df_drop = df_drop.with_columns([\n",
        "    pl.when(pl.col(\"Weather_Condition\").is_null()).then(None).otherwise(pl.col(\"Clear\")).alias(\"Clear\"),\n",
        "    pl.when(pl.col(\"Weather_Condition\").is_null()).then(None).otherwise(pl.col(\"Cloud\")).alias(\"Cloud\"),\n",
        "    pl.when(pl.col(\"Weather_Condition\").is_null()).then(None).otherwise(pl.col(\"Rain\")).alias(\"Rain\"),\n",
        "    pl.when(pl.col(\"Weather_Condition\").is_null()).then(None).otherwise(pl.col(\"Heavy_Rain\")).alias(\"Heavy_Rain\"),\n",
        "    pl.when(pl.col(\"Weather_Condition\").is_null()).then(None).otherwise(pl.col(\"Snow\")).alias(\"Snow\"),\n",
        "    pl.when(pl.col(\"Weather_Condition\").is_null()).then(None).otherwise(pl.col(\"Heavy_Snow\")).alias(\"Heavy_Snow\"),\n",
        "    pl.when(pl.col(\"Weather_Condition\").is_null()).then(None).otherwise(pl.col(\"Fog\")).alias(\"Fog\"),\n",
        "    pl.when(pl.col(\"Weather_Condition\").is_null()).then(None).otherwise(pl.col(\"Dusty\")).alias(\"Dusty\"),\n",
        "    pl.when(pl.col(\"Weather_Condition\").is_null()).then(None).otherwise(pl.col(\"Windy\")).alias(\"Windy\"),\n",
        "    pl.when(pl.col(\"Weather_Condition\").is_null()).then(None).otherwise(pl.col(\"Ash\")).alias(\"Ash\")\n",
        "])\n",
        "\n",
        "# Drop 'Weather_Condition' column\n",
        "df_drop = df_drop.drop(\"Weather_Condition\")\n",
        "\n",
        "# Convert the new weather columns to integers\n",
        "weather_columns = ['Clear', 'Cloud', 'Rain', 'Heavy_Rain', 'Snow', 'Heavy_Snow', 'Fog', 'Dusty', 'Windy', 'Ash']\n",
        "df_drop = df_drop.with_columns([pl.col(w).cast(pl.Int32) for w in weather_columns])"
      ]
    },
    {
      "cell_type": "code",
      "execution_count": 57,
      "id": "9f1737ea-6346-441a-99a2-8117d25cc7e0",
      "metadata": {
        "colab": {
          "base_uri": "https://localhost:8080/",
          "height": 250
        },
        "id": "9f1737ea-6346-441a-99a2-8117d25cc7e0",
        "outputId": "fcb05aa2-f0c4-48ba-ef92-d4803942e840"
      },
      "outputs": [
        {
          "output_type": "execute_result",
          "data": {
            "text/plain": [
              "shape: (2, 43)\n",
              "┌─────────┬──────────┬───────────┬────────────┬───┬─────┬───────┬───────┬─────┐\n",
              "│ Source  ┆ Severity ┆ Start_Lat ┆ Start_Lng  ┆ … ┆ Fog ┆ Dusty ┆ Windy ┆ Ash │\n",
              "│ ---     ┆ ---      ┆ ---       ┆ ---        ┆   ┆ --- ┆ ---   ┆ ---   ┆ --- │\n",
              "│ str     ┆ i64      ┆ f64       ┆ f64        ┆   ┆ i32 ┆ i32   ┆ i32   ┆ i32 │\n",
              "╞═════════╪══════════╪═══════════╪════════════╪═══╪═════╪═══════╪═══════╪═════╡\n",
              "│ Source2 ┆ 3        ┆ 39.865147 ┆ -84.058723 ┆ … ┆ 0   ┆ 0     ┆ 0     ┆ 0   │\n",
              "│ Source2 ┆ 2        ┆ 39.928059 ┆ -82.831184 ┆ … ┆ 0   ┆ 0     ┆ 0     ┆ 0   │\n",
              "└─────────┴──────────┴───────────┴────────────┴───┴─────┴───────┴───────┴─────┘"
            ],
            "text/html": [
              "<div><style>\n",
              ".dataframe > thead > tr,\n",
              ".dataframe > tbody > tr {\n",
              "  text-align: right;\n",
              "  white-space: pre-wrap;\n",
              "}\n",
              "</style>\n",
              "<small>shape: (2, 43)</small><table border=\"1\" class=\"dataframe\"><thead><tr><th>Source</th><th>Severity</th><th>Start_Lat</th><th>Start_Lng</th><th>Distance(mi)</th><th>Description</th><th>Street</th><th>City</th><th>County</th><th>State</th><th>Zipcode</th><th>Timezone</th><th>Temperature(F)</th><th>Wind_Chill(F)</th><th>Humidity(%)</th><th>Pressure(in)</th><th>Visibility(mi)</th><th>Wind_Direction</th><th>Wind_Speed(mph)</th><th>Precipitation(in)</th><th>Crossing</th><th>Junction</th><th>Traffic_Signal</th><th>Sunrise_Sunset</th><th>Year</th><th>Month</th><th>Day</th><th>Time_S</th><th>Weekday</th><th>Duration</th><th>TimeofDay</th><th>Season</th><th>Day_Type</th><th>Clear</th><th>Cloud</th><th>Rain</th><th>Heavy_Rain</th><th>Snow</th><th>Heavy_Snow</th><th>Fog</th><th>Dusty</th><th>Windy</th><th>Ash</th></tr><tr><td>str</td><td>i64</td><td>f64</td><td>f64</td><td>f64</td><td>str</td><td>str</td><td>str</td><td>str</td><td>str</td><td>str</td><td>str</td><td>f64</td><td>f64</td><td>f64</td><td>f64</td><td>f64</td><td>str</td><td>f64</td><td>f64</td><td>i32</td><td>i32</td><td>i32</td><td>str</td><td>i32</td><td>i8</td><td>i8</td><td>i8</td><td>i8</td><td>i64</td><td>str</td><td>str</td><td>str</td><td>i32</td><td>i32</td><td>i32</td><td>i32</td><td>i32</td><td>i32</td><td>i32</td><td>i32</td><td>i32</td><td>i32</td></tr></thead><tbody><tr><td>&quot;Source2&quot;</td><td>3</td><td>39.865147</td><td>-84.058723</td><td>0.01</td><td>&quot;Right lane blocked due to acci…</td><td>&quot;I-70 E&quot;</td><td>&quot;Dayton&quot;</td><td>&quot;Montgomery&quot;</td><td>&quot;OH&quot;</td><td>&quot;45424&quot;</td><td>&quot;US/Eastern&quot;</td><td>36.9</td><td>58.251048</td><td>91.0</td><td>29.68</td><td>10.0</td><td>&quot;CALM&quot;</td><td>7.68549</td><td>0.02</td><td>0</td><td>0</td><td>0</td><td>&quot;0&quot;</td><td>2016</td><td>2</td><td>8</td><td>5</td><td>1</td><td>18840</td><td>&quot;Early Morning&quot;</td><td>&quot;Winter&quot;</td><td>&quot;Weekday&quot;</td><td>0</td><td>0</td><td>1</td><td>0</td><td>0</td><td>0</td><td>0</td><td>0</td><td>0</td><td>0</td></tr><tr><td>&quot;Source2&quot;</td><td>2</td><td>39.928059</td><td>-82.831184</td><td>0.01</td><td>&quot;Accident on Brice Rd at Tussin…</td><td>&quot;Brice Rd&quot;</td><td>&quot;Reynoldsburg&quot;</td><td>&quot;Franklin&quot;</td><td>&quot;OH&quot;</td><td>&quot;43068-3402&quot;</td><td>&quot;US/Eastern&quot;</td><td>37.9</td><td>58.251048</td><td>100.0</td><td>29.65</td><td>10.0</td><td>&quot;CALM&quot;</td><td>7.68549</td><td>0.0</td><td>0</td><td>0</td><td>0</td><td>&quot;0&quot;</td><td>2016</td><td>2</td><td>8</td><td>6</td><td>1</td><td>1800</td><td>&quot;Morning&quot;</td><td>&quot;Winter&quot;</td><td>&quot;Weekday&quot;</td><td>0</td><td>0</td><td>1</td><td>0</td><td>0</td><td>0</td><td>0</td><td>0</td><td>0</td><td>0</td></tr></tbody></table></div>"
            ]
          },
          "metadata": {},
          "execution_count": 57
        }
      ],
      "source": [
        "df_drop.head(2)"
      ]
    },
    {
      "cell_type": "code",
      "execution_count": 58,
      "id": "43dc2ea0-1523-4a3d-a091-0366eae7b957",
      "metadata": {
        "colab": {
          "base_uri": "https://localhost:8080/"
        },
        "id": "43dc2ea0-1523-4a3d-a091-0366eae7b957",
        "outputId": "19023de7-6b73-45c7-8b98-1c83d42cc281"
      },
      "outputs": [
        {
          "output_type": "execute_result",
          "data": {
            "text/plain": [
              "43"
            ]
          },
          "metadata": {},
          "execution_count": 58
        }
      ],
      "source": [
        "df_drop.width"
      ]
    },
    {
      "cell_type": "code",
      "execution_count": 59,
      "id": "a2de89c2-c29e-4d80-ab7a-f8163a48c064",
      "metadata": {
        "colab": {
          "base_uri": "https://localhost:8080/"
        },
        "id": "a2de89c2-c29e-4d80-ab7a-f8163a48c064",
        "outputId": "e6119b53-ade4-421a-b6b3-7ed6bc291171"
      },
      "outputs": [
        {
          "output_type": "execute_result",
          "data": {
            "text/plain": [
              "['Source',\n",
              " 'Severity',\n",
              " 'Start_Lat',\n",
              " 'Start_Lng',\n",
              " 'Distance(mi)',\n",
              " 'Description',\n",
              " 'Street',\n",
              " 'City',\n",
              " 'County',\n",
              " 'State',\n",
              " 'Zipcode',\n",
              " 'Timezone',\n",
              " 'Temperature(F)',\n",
              " 'Wind_Chill(F)',\n",
              " 'Humidity(%)',\n",
              " 'Pressure(in)',\n",
              " 'Visibility(mi)',\n",
              " 'Wind_Direction',\n",
              " 'Wind_Speed(mph)',\n",
              " 'Precipitation(in)',\n",
              " 'Crossing',\n",
              " 'Junction',\n",
              " 'Traffic_Signal',\n",
              " 'Sunrise_Sunset',\n",
              " 'Year',\n",
              " 'Month',\n",
              " 'Day',\n",
              " 'Time_S',\n",
              " 'Weekday',\n",
              " 'Duration',\n",
              " 'TimeofDay',\n",
              " 'Season',\n",
              " 'Day_Type',\n",
              " 'Clear',\n",
              " 'Cloud',\n",
              " 'Rain',\n",
              " 'Heavy_Rain',\n",
              " 'Snow',\n",
              " 'Heavy_Snow',\n",
              " 'Fog',\n",
              " 'Dusty',\n",
              " 'Windy',\n",
              " 'Ash']"
            ]
          },
          "metadata": {},
          "execution_count": 59
        }
      ],
      "source": [
        "df_drop.columns"
      ]
    },
    {
      "cell_type": "code",
      "execution_count": 60,
      "id": "314dc448-f9e5-4847-8aef-1ddf2ce6bb5a",
      "metadata": {
        "id": "314dc448-f9e5-4847-8aef-1ddf2ce6bb5a"
      },
      "outputs": [],
      "source": [
        "df_drop = df_drop.drop(['Description', 'Street','Zipcode','Source','Year', 'Month', 'Day', 'Time_S', 'Weekday'])\n",
        "#Description, Street and Zipcode are irrelevant features in severity analysis\n",
        "#Source indicates from which source the data is captured, which is not useful again\n",
        "#Year,Month,Day,Time_S and Weekday were used to create TimeofDay,Season,Day_Type through binning which are more useful features,hence these are removed"
      ]
    },
    {
      "cell_type": "code",
      "execution_count": 61,
      "id": "06b05e76-b292-4c7e-b6f0-42c50aabc955",
      "metadata": {
        "colab": {
          "base_uri": "https://localhost:8080/"
        },
        "id": "06b05e76-b292-4c7e-b6f0-42c50aabc955",
        "outputId": "5dff19c5-33f7-4e5d-edaa-4e0e05d383eb"
      },
      "outputs": [
        {
          "output_type": "execute_result",
          "data": {
            "text/plain": [
              "34"
            ]
          },
          "metadata": {},
          "execution_count": 61
        }
      ],
      "source": [
        "df_drop.width"
      ]
    },
    {
      "cell_type": "code",
      "execution_count": 62,
      "id": "d2130ad1-6e0e-4650-89d9-a93bf965db56",
      "metadata": {
        "colab": {
          "base_uri": "https://localhost:8080/"
        },
        "id": "d2130ad1-6e0e-4650-89d9-a93bf965db56",
        "outputId": "408b31ae-8df3-49b1-eb81-c7b5c03456dd"
      },
      "outputs": [
        {
          "output_type": "stream",
          "name": "stdout",
          "text": [
            "28\n"
          ]
        }
      ],
      "source": [
        "used_features=['Severity', 'Distance(mi)','Temperature(F)','Wind_Chill(F)', 'Humidity(%)', 'Pressure(in)', 'Visibility(mi)','Wind_Direction',\n",
        "               'Wind_Speed(mph)','Precipitation(in)','Clear','Cloud','Rain','Heavy_Rain','Snow','Heavy_Snow','Fog', 'Dusty', 'Windy','Ash','Junction',\n",
        "               'Crossing','Traffic_Signal','Sunrise_Sunset','TimeofDay', 'Season', 'Day_Type', 'Duration']\n",
        "print(len(used_features))"
      ]
    },
    {
      "cell_type": "code",
      "source": [
        "columns_to_drop = [\"City\", \"County\", \"State\",\"Timezone\", ]\n",
        "\n",
        "# Drop the columns\n",
        "df_drop = df_drop.drop(columns_to_drop)\n"
      ],
      "metadata": {
        "id": "9QCZzfNIA71T"
      },
      "id": "9QCZzfNIA71T",
      "execution_count": 63,
      "outputs": []
    },
    {
      "cell_type": "code",
      "source": [
        "df_drop.head(1)"
      ],
      "metadata": {
        "colab": {
          "base_uri": "https://localhost:8080/",
          "height": 167
        },
        "id": "OijSRmtKv3a5",
        "outputId": "abc10c84-bc05-4ef6-fef8-7a3799366651"
      },
      "id": "OijSRmtKv3a5",
      "execution_count": 64,
      "outputs": [
        {
          "output_type": "execute_result",
          "data": {
            "text/plain": [
              "shape: (1, 30)\n",
              "┌──────────┬───────────┬────────────┬──────────────┬───┬─────┬───────┬───────┬─────┐\n",
              "│ Severity ┆ Start_Lat ┆ Start_Lng  ┆ Distance(mi) ┆ … ┆ Fog ┆ Dusty ┆ Windy ┆ Ash │\n",
              "│ ---      ┆ ---       ┆ ---        ┆ ---          ┆   ┆ --- ┆ ---   ┆ ---   ┆ --- │\n",
              "│ i64      ┆ f64       ┆ f64        ┆ f64          ┆   ┆ i32 ┆ i32   ┆ i32   ┆ i32 │\n",
              "╞══════════╪═══════════╪════════════╪══════════════╪═══╪═════╪═══════╪═══════╪═════╡\n",
              "│ 3        ┆ 39.865147 ┆ -84.058723 ┆ 0.01         ┆ … ┆ 0   ┆ 0     ┆ 0     ┆ 0   │\n",
              "└──────────┴───────────┴────────────┴──────────────┴───┴─────┴───────┴───────┴─────┘"
            ],
            "text/html": [
              "<div><style>\n",
              ".dataframe > thead > tr,\n",
              ".dataframe > tbody > tr {\n",
              "  text-align: right;\n",
              "  white-space: pre-wrap;\n",
              "}\n",
              "</style>\n",
              "<small>shape: (1, 30)</small><table border=\"1\" class=\"dataframe\"><thead><tr><th>Severity</th><th>Start_Lat</th><th>Start_Lng</th><th>Distance(mi)</th><th>Temperature(F)</th><th>Wind_Chill(F)</th><th>Humidity(%)</th><th>Pressure(in)</th><th>Visibility(mi)</th><th>Wind_Direction</th><th>Wind_Speed(mph)</th><th>Precipitation(in)</th><th>Crossing</th><th>Junction</th><th>Traffic_Signal</th><th>Sunrise_Sunset</th><th>Duration</th><th>TimeofDay</th><th>Season</th><th>Day_Type</th><th>Clear</th><th>Cloud</th><th>Rain</th><th>Heavy_Rain</th><th>Snow</th><th>Heavy_Snow</th><th>Fog</th><th>Dusty</th><th>Windy</th><th>Ash</th></tr><tr><td>i64</td><td>f64</td><td>f64</td><td>f64</td><td>f64</td><td>f64</td><td>f64</td><td>f64</td><td>f64</td><td>str</td><td>f64</td><td>f64</td><td>i32</td><td>i32</td><td>i32</td><td>str</td><td>i64</td><td>str</td><td>str</td><td>str</td><td>i32</td><td>i32</td><td>i32</td><td>i32</td><td>i32</td><td>i32</td><td>i32</td><td>i32</td><td>i32</td><td>i32</td></tr></thead><tbody><tr><td>3</td><td>39.865147</td><td>-84.058723</td><td>0.01</td><td>36.9</td><td>58.251048</td><td>91.0</td><td>29.68</td><td>10.0</td><td>&quot;CALM&quot;</td><td>7.68549</td><td>0.02</td><td>0</td><td>0</td><td>0</td><td>&quot;0&quot;</td><td>18840</td><td>&quot;Early Morning&quot;</td><td>&quot;Winter&quot;</td><td>&quot;Weekday&quot;</td><td>0</td><td>0</td><td>1</td><td>0</td><td>0</td><td>0</td><td>0</td><td>0</td><td>0</td><td>0</td></tr></tbody></table></div>"
            ]
          },
          "metadata": {},
          "execution_count": 64
        }
      ]
    },
    {
      "cell_type": "code",
      "source": [
        "numeric_columns = [\"Distance(mi)\", \"Temperature(F)\", \"Wind_Chill(F)\", \"Humidity(%)\",\n",
        "                   \"Pressure(in)\", \"Visibility(mi)\", \"Wind_Speed(mph)\", \"Precipitation(in)\", \"Duration\", \"Start_Lat\", \"Start_Lng\"]\n",
        "\n",
        "categorical_columns = [\"Wind_Direction\", \"TimeofDay\", \"Season\", \"Day_Type\"]\n",
        "\n",
        "\n",
        "\n"
      ],
      "metadata": {
        "id": "qmjLmNXLMNsw"
      },
      "id": "qmjLmNXLMNsw",
      "execution_count": 65,
      "outputs": []
    },
    {
      "cell_type": "code",
      "source": [],
      "metadata": {
        "id": "6pXlET-qPEU9"
      },
      "id": "6pXlET-qPEU9",
      "execution_count": 74,
      "outputs": []
    },
    {
      "cell_type": "code",
      "source": [
        "sampled_data = df_drop.sample(n=10_000, with_replacement=True, seed=42)\n",
        "\n",
        "\n",
        "X = sampled_data.drop(\"Severity\")\n",
        "y = sampled_data[\"Severity\"]\n",
        "\n"
      ],
      "metadata": {
        "id": "9cbL6hkANXy2"
      },
      "id": "9cbL6hkANXy2",
      "execution_count": 66,
      "outputs": []
    },
    {
      "cell_type": "code",
      "source": [
        "from sklearn.model_selection import train_test_split\n",
        "from sklearn.preprocessing import MinMaxScaler, OneHotEncoder\n",
        "\n",
        "X_train, X_test, y_train, y_test = train_test_split(X, y, test_size=0.2, random_state=42)\n",
        "\n",
        "# Function to normalize and encode x_train and x_test\n",
        "def normalize_and_encode_train_test(x_train, x_test, numeric_columns, categorical_columns):\n",
        "    scaler = MinMaxScaler()\n",
        "\n",
        "    scaled_train_numeric = scaler.fit_transform(x_train[numeric_columns].to_numpy())\n",
        "\n",
        "    scaled_test_numeric = scaler.transform(x_test[numeric_columns].to_numpy())\n",
        "\n",
        "    # Convert scaled numeric data back to Polars DataFrame\n",
        "    x_train_scaled = x_train.with_columns(pl.DataFrame(scaled_train_numeric, schema=numeric_columns))\n",
        "    x_test_scaled = x_test.with_columns(pl.DataFrame(scaled_test_numeric, schema=numeric_columns))\n",
        "\n",
        "    encoder = OneHotEncoder(sparse_output=False, handle_unknown='ignore')  # Handle unknown categories gracefully\n",
        "\n",
        "    # Fit the encoder on x_train categorical columns and transform x_train\n",
        "    encoded_train_categorical = encoder.fit_transform(x_train[categorical_columns].to_numpy())\n",
        "\n",
        "    # Transform x_test using the same encoder\n",
        "    encoded_test_categorical = encoder.transform(x_test[categorical_columns].to_numpy())\n",
        "\n",
        "    # Get encoded column names\n",
        "    encoded_column_names = encoder.get_feature_names_out(categorical_columns)\n",
        "\n",
        "    # Convert encoded categorical data back to Polars DataFrame\n",
        "    x_train_encoded = pl.DataFrame(encoded_train_categorical, schema=list(encoded_column_names))\n",
        "    x_test_encoded = pl.DataFrame(encoded_test_categorical, schema=list(encoded_column_names))\n",
        "\n",
        "    x_train_final = x_train_scaled.with_columns(x_train_encoded).drop(categorical_columns)\n",
        "    x_test_final = x_test_scaled.with_columns(x_test_encoded).drop(categorical_columns)\n",
        "\n",
        "    return x_train_final, x_test_final\n",
        "\n",
        "\n",
        "X_train_processed, X_test_processed = normalize_and_encode_train_test(X_train, X_test, numeric_columns, categorical_columns)\n",
        "\n",
        "\n",
        "\n"
      ],
      "metadata": {
        "id": "wAgC1H28NY9T"
      },
      "id": "wAgC1H28NY9T",
      "execution_count": 68,
      "outputs": []
    },
    {
      "cell_type": "code",
      "source": [
        "pip install lazypredict\n"
      ],
      "metadata": {
        "colab": {
          "base_uri": "https://localhost:8080/"
        },
        "id": "W3SlTaT1w3OE",
        "outputId": "f790c240-1eee-4e5b-bfc9-b1a34b087ef1"
      },
      "id": "W3SlTaT1w3OE",
      "execution_count": 69,
      "outputs": [
        {
          "output_type": "stream",
          "name": "stdout",
          "text": [
            "Collecting lazypredict\n",
            "  Downloading lazypredict-0.2.13-py2.py3-none-any.whl.metadata (12 kB)\n",
            "Requirement already satisfied: click in /usr/local/lib/python3.10/dist-packages (from lazypredict) (8.1.7)\n",
            "Requirement already satisfied: scikit-learn in /usr/local/lib/python3.10/dist-packages (from lazypredict) (1.5.2)\n",
            "Requirement already satisfied: pandas in /usr/local/lib/python3.10/dist-packages (from lazypredict) (2.2.2)\n",
            "Requirement already satisfied: tqdm in /usr/local/lib/python3.10/dist-packages (from lazypredict) (4.66.6)\n",
            "Requirement already satisfied: joblib in /usr/local/lib/python3.10/dist-packages (from lazypredict) (1.4.2)\n",
            "Requirement already satisfied: lightgbm in /usr/local/lib/python3.10/dist-packages (from lazypredict) (4.5.0)\n",
            "Requirement already satisfied: xgboost in /usr/local/lib/python3.10/dist-packages (from lazypredict) (2.1.2)\n",
            "Requirement already satisfied: numpy>=1.17.0 in /usr/local/lib/python3.10/dist-packages (from lightgbm->lazypredict) (1.26.4)\n",
            "Requirement already satisfied: scipy in /usr/local/lib/python3.10/dist-packages (from lightgbm->lazypredict) (1.13.1)\n",
            "Requirement already satisfied: python-dateutil>=2.8.2 in /usr/local/lib/python3.10/dist-packages (from pandas->lazypredict) (2.8.2)\n",
            "Requirement already satisfied: pytz>=2020.1 in /usr/local/lib/python3.10/dist-packages (from pandas->lazypredict) (2024.2)\n",
            "Requirement already satisfied: tzdata>=2022.7 in /usr/local/lib/python3.10/dist-packages (from pandas->lazypredict) (2024.2)\n",
            "Requirement already satisfied: threadpoolctl>=3.1.0 in /usr/local/lib/python3.10/dist-packages (from scikit-learn->lazypredict) (3.5.0)\n",
            "Requirement already satisfied: nvidia-nccl-cu12 in /usr/local/lib/python3.10/dist-packages (from xgboost->lazypredict) (2.23.4)\n",
            "Requirement already satisfied: six>=1.5 in /usr/local/lib/python3.10/dist-packages (from python-dateutil>=2.8.2->pandas->lazypredict) (1.16.0)\n",
            "Downloading lazypredict-0.2.13-py2.py3-none-any.whl (12 kB)\n",
            "Installing collected packages: lazypredict\n",
            "Successfully installed lazypredict-0.2.13\n"
          ]
        }
      ]
    },
    {
      "cell_type": "code",
      "source": [
        "X_train = X_train_processed.to_pandas()\n",
        "X_test = X_test_processed.to_pandas()"
      ],
      "metadata": {
        "id": "qgzcQtz-xrbQ"
      },
      "id": "qgzcQtz-xrbQ",
      "execution_count": 70,
      "outputs": []
    },
    {
      "cell_type": "code",
      "source": [
        "import lazypredict"
      ],
      "metadata": {
        "id": "Lf0uT67cw-bR"
      },
      "id": "Lf0uT67cw-bR",
      "execution_count": 71,
      "outputs": []
    },
    {
      "cell_type": "code",
      "source": [
        "from lazypredict.Supervised import LazyClassifier\n",
        "\n",
        "clf = LazyClassifier(verbose=0,ignore_warnings=True, custom_metric=None)\n",
        "models,predictions = clf.fit(X_train, X_test, y_train, y_test)\n",
        "\n",
        "print(models)\n"
      ],
      "metadata": {
        "colab": {
          "base_uri": "https://localhost:8080/"
        },
        "id": "E-Cb2Os7xCTk",
        "outputId": "0c5c9c89-1e1a-4cd2-f377-d115f61e35f2"
      },
      "id": "E-Cb2Os7xCTk",
      "execution_count": 72,
      "outputs": [
        {
          "output_type": "stream",
          "name": "stderr",
          "text": [
            "/usr/local/lib/python3.10/dist-packages/dask/dataframe/__init__.py:42: FutureWarning: \n",
            "Dask dataframe query planning is disabled because dask-expr is not installed.\n",
            "\n",
            "You can install it with `pip install dask[dataframe]` or `conda install dask`.\n",
            "This will raise in a future version.\n",
            "\n",
            "  warnings.warn(msg, FutureWarning)\n",
            " 97%|█████████▋| 30/31 [00:58<00:01,  1.07s/it]"
          ]
        },
        {
          "output_type": "stream",
          "name": "stdout",
          "text": [
            "[LightGBM] [Info] Auto-choosing row-wise multi-threading, the overhead of testing was 0.005804 seconds.\n",
            "You can set `force_row_wise=true` to remove the overhead.\n",
            "And if memory is not enough, you can set `force_col_wise=true`.\n",
            "[LightGBM] [Info] Total Bins 1845\n",
            "[LightGBM] [Info] Number of data points in the train set: 8000, number of used features: 47\n",
            "[LightGBM] [Info] Start training from score -4.926754\n",
            "[LightGBM] [Info] Start training from score -0.219712\n",
            "[LightGBM] [Info] Start training from score -1.814772\n",
            "[LightGBM] [Info] Start training from score -3.607299\n"
          ]
        },
        {
          "output_type": "stream",
          "name": "stderr",
          "text": [
            "\r100%|██████████| 31/31 [01:00<00:00,  1.95s/it]"
          ]
        },
        {
          "output_type": "stream",
          "name": "stdout",
          "text": [
            "                               Accuracy  Balanced Accuracy ROC AUC  F1 Score  \\\n",
            "Model                                                                          \n",
            "NearestCentroid                    0.33               0.44    None      0.42   \n",
            "GaussianNB                         0.03               0.37    None      0.03   \n",
            "DecisionTreeClassifier             0.74               0.35    None      0.74   \n",
            "LGBMClassifier                     0.81               0.34    None      0.78   \n",
            "BaggingClassifier                  0.81               0.34    None      0.78   \n",
            "QuadraticDiscriminantAnalysis      0.18               0.34    None      0.26   \n",
            "AdaBoostClassifier                 0.69               0.32    None      0.71   \n",
            "ExtraTreeClassifier                0.70               0.30    None      0.69   \n",
            "RandomForestClassifier             0.80               0.28    None      0.74   \n",
            "LabelSpreading                     0.69               0.28    None      0.69   \n",
            "LabelPropagation                   0.69               0.28    None      0.69   \n",
            "Perceptron                         0.68               0.27    None      0.67   \n",
            "PassiveAggressiveClassifier        0.71               0.27    None      0.70   \n",
            "ExtraTreesClassifier               0.79               0.26    None      0.72   \n",
            "BernoulliNB                        0.78               0.26    None      0.71   \n",
            "KNeighborsClassifier               0.77               0.26    None      0.71   \n",
            "SGDClassifier                      0.79               0.25    None      0.70   \n",
            "LogisticRegression                 0.79               0.25    None      0.70   \n",
            "CalibratedClassifierCV             0.79               0.25    None      0.70   \n",
            "LinearSVC                          0.79               0.25    None      0.70   \n",
            "DummyClassifier                    0.79               0.25    None      0.70   \n",
            "RidgeClassifier                    0.79               0.25    None      0.70   \n",
            "RidgeClassifierCV                  0.79               0.25    None      0.70   \n",
            "LinearDiscriminantAnalysis         0.79               0.25    None      0.70   \n",
            "SVC                                0.79               0.25    None      0.70   \n",
            "\n",
            "                               Time Taken  \n",
            "Model                                      \n",
            "NearestCentroid                      0.13  \n",
            "GaussianNB                           0.23  \n",
            "DecisionTreeClassifier               0.63  \n",
            "LGBMClassifier                       1.77  \n",
            "BaggingClassifier                    1.58  \n",
            "QuadraticDiscriminantAnalysis        0.20  \n",
            "AdaBoostClassifier                   2.78  \n",
            "ExtraTreeClassifier                  0.23  \n",
            "RandomForestClassifier               2.41  \n",
            "LabelSpreading                       7.25  \n",
            "LabelPropagation                     5.63  \n",
            "Perceptron                           0.13  \n",
            "PassiveAggressiveClassifier          0.15  \n",
            "ExtraTreesClassifier                 6.10  \n",
            "BernoulliNB                          0.18  \n",
            "KNeighborsClassifier                 0.66  \n",
            "SGDClassifier                        0.56  \n",
            "LogisticRegression                   0.77  \n",
            "CalibratedClassifierCV              19.12  \n",
            "LinearSVC                            1.83  \n",
            "DummyClassifier                      0.24  \n",
            "RidgeClassifier                      0.09  \n",
            "RidgeClassifierCV                    0.22  \n",
            "LinearDiscriminantAnalysis           0.26  \n",
            "SVC                                  6.79  \n"
          ]
        },
        {
          "output_type": "stream",
          "name": "stderr",
          "text": [
            "\n"
          ]
        }
      ]
    },
    {
      "cell_type": "code",
      "source": [
        "from sklearn.ensemble import RandomForestClassifier\n",
        "from sklearn.model_selection import GridSearchCV\n",
        "from sklearn.model_selection import train_test_split\n",
        "from sklearn.metrics import classification_report\n",
        "\n",
        "# Create a Random Forest Classifier\n",
        "rf = RandomForestClassifier(random_state=42)\n",
        "\n",
        "# Define the parameter grid\n",
        "param_grid = {\n",
        "    'n_estimators': [50, 100, 200],\n",
        "    'max_features': [ 'sqrt', 'log2'],\n",
        "    'max_depth': [None, 10, 20, 30],\n",
        "    'min_samples_split': [2, 5, 10],\n",
        "    'min_samples_leaf': [1, 2, 4]\n",
        "}\n",
        "\n",
        "# Setup the grid search\n",
        "grid_search = GridSearchCV(estimator=rf, param_grid=param_grid,\n",
        "                           scoring='accuracy', n_jobs=-1, cv=3, verbose=2)\n",
        "\n",
        "# Fit the grid search to the data\n",
        "grid_search.fit(X_train, y_train)\n",
        "\n",
        "# Get the best parameters and model\n",
        "best_params = grid_search.best_params_\n",
        "best_rf_model = grid_search.best_estimator_\n",
        "\n",
        "print(f\"Best Parameters: {best_params}\")\n",
        "\n",
        "# Make predictions with the best model\n",
        "y_pred = best_rf_model.predict(X_test_processed)\n",
        "\n",
        "# Evaluate the model\n",
        "print(classification_report(y_test, y_pred))\n"
      ],
      "metadata": {
        "id": "LaSzoknSFJHa",
        "colab": {
          "base_uri": "https://localhost:8080/",
          "height": 373
        },
        "outputId": "85ce137f-a3b2-4608-ce16-6766e78e889f"
      },
      "id": "LaSzoknSFJHa",
      "execution_count": 73,
      "outputs": [
        {
          "output_type": "stream",
          "name": "stdout",
          "text": [
            "Fitting 3 folds for each of 216 candidates, totalling 648 fits\n"
          ]
        },
        {
          "output_type": "error",
          "ename": "KeyboardInterrupt",
          "evalue": "",
          "traceback": [
            "\u001b[0;31m---------------------------------------------------------------------------\u001b[0m",
            "\u001b[0;31mKeyboardInterrupt\u001b[0m                         Traceback (most recent call last)",
            "\u001b[0;32m<ipython-input-73-8883f87d6a3f>\u001b[0m in \u001b[0;36m<cell line: 23>\u001b[0;34m()\u001b[0m\n\u001b[1;32m     21\u001b[0m \u001b[0;34m\u001b[0m\u001b[0m\n\u001b[1;32m     22\u001b[0m \u001b[0;31m# Fit the grid search to the data\u001b[0m\u001b[0;34m\u001b[0m\u001b[0;34m\u001b[0m\u001b[0m\n\u001b[0;32m---> 23\u001b[0;31m \u001b[0mgrid_search\u001b[0m\u001b[0;34m.\u001b[0m\u001b[0mfit\u001b[0m\u001b[0;34m(\u001b[0m\u001b[0mX_train\u001b[0m\u001b[0;34m,\u001b[0m \u001b[0my_train\u001b[0m\u001b[0;34m)\u001b[0m\u001b[0;34m\u001b[0m\u001b[0;34m\u001b[0m\u001b[0m\n\u001b[0m\u001b[1;32m     24\u001b[0m \u001b[0;34m\u001b[0m\u001b[0m\n\u001b[1;32m     25\u001b[0m \u001b[0;31m# Get the best parameters and model\u001b[0m\u001b[0;34m\u001b[0m\u001b[0;34m\u001b[0m\u001b[0m\n",
            "\u001b[0;32m/usr/local/lib/python3.10/dist-packages/sklearn/base.py\u001b[0m in \u001b[0;36mwrapper\u001b[0;34m(estimator, *args, **kwargs)\u001b[0m\n\u001b[1;32m   1471\u001b[0m                 )\n\u001b[1;32m   1472\u001b[0m             ):\n\u001b[0;32m-> 1473\u001b[0;31m                 \u001b[0;32mreturn\u001b[0m \u001b[0mfit_method\u001b[0m\u001b[0;34m(\u001b[0m\u001b[0mestimator\u001b[0m\u001b[0;34m,\u001b[0m \u001b[0;34m*\u001b[0m\u001b[0margs\u001b[0m\u001b[0;34m,\u001b[0m \u001b[0;34m**\u001b[0m\u001b[0mkwargs\u001b[0m\u001b[0;34m)\u001b[0m\u001b[0;34m\u001b[0m\u001b[0;34m\u001b[0m\u001b[0m\n\u001b[0m\u001b[1;32m   1474\u001b[0m \u001b[0;34m\u001b[0m\u001b[0m\n\u001b[1;32m   1475\u001b[0m         \u001b[0;32mreturn\u001b[0m \u001b[0mwrapper\u001b[0m\u001b[0;34m\u001b[0m\u001b[0;34m\u001b[0m\u001b[0m\n",
            "\u001b[0;32m/usr/local/lib/python3.10/dist-packages/sklearn/model_selection/_search.py\u001b[0m in \u001b[0;36mfit\u001b[0;34m(self, X, y, **params)\u001b[0m\n\u001b[1;32m   1017\u001b[0m                 \u001b[0;32mreturn\u001b[0m \u001b[0mresults\u001b[0m\u001b[0;34m\u001b[0m\u001b[0;34m\u001b[0m\u001b[0m\n\u001b[1;32m   1018\u001b[0m \u001b[0;34m\u001b[0m\u001b[0m\n\u001b[0;32m-> 1019\u001b[0;31m             \u001b[0mself\u001b[0m\u001b[0;34m.\u001b[0m\u001b[0m_run_search\u001b[0m\u001b[0;34m(\u001b[0m\u001b[0mevaluate_candidates\u001b[0m\u001b[0;34m)\u001b[0m\u001b[0;34m\u001b[0m\u001b[0;34m\u001b[0m\u001b[0m\n\u001b[0m\u001b[1;32m   1020\u001b[0m \u001b[0;34m\u001b[0m\u001b[0m\n\u001b[1;32m   1021\u001b[0m             \u001b[0;31m# multimetric is determined here because in the case of a callable\u001b[0m\u001b[0;34m\u001b[0m\u001b[0;34m\u001b[0m\u001b[0m\n",
            "\u001b[0;32m/usr/local/lib/python3.10/dist-packages/sklearn/model_selection/_search.py\u001b[0m in \u001b[0;36m_run_search\u001b[0;34m(self, evaluate_candidates)\u001b[0m\n\u001b[1;32m   1571\u001b[0m     \u001b[0;32mdef\u001b[0m \u001b[0m_run_search\u001b[0m\u001b[0;34m(\u001b[0m\u001b[0mself\u001b[0m\u001b[0;34m,\u001b[0m \u001b[0mevaluate_candidates\u001b[0m\u001b[0;34m)\u001b[0m\u001b[0;34m:\u001b[0m\u001b[0;34m\u001b[0m\u001b[0;34m\u001b[0m\u001b[0m\n\u001b[1;32m   1572\u001b[0m         \u001b[0;34m\"\"\"Search all candidates in param_grid\"\"\"\u001b[0m\u001b[0;34m\u001b[0m\u001b[0;34m\u001b[0m\u001b[0m\n\u001b[0;32m-> 1573\u001b[0;31m         \u001b[0mevaluate_candidates\u001b[0m\u001b[0;34m(\u001b[0m\u001b[0mParameterGrid\u001b[0m\u001b[0;34m(\u001b[0m\u001b[0mself\u001b[0m\u001b[0;34m.\u001b[0m\u001b[0mparam_grid\u001b[0m\u001b[0;34m)\u001b[0m\u001b[0;34m)\u001b[0m\u001b[0;34m\u001b[0m\u001b[0;34m\u001b[0m\u001b[0m\n\u001b[0m\u001b[1;32m   1574\u001b[0m \u001b[0;34m\u001b[0m\u001b[0m\n\u001b[1;32m   1575\u001b[0m \u001b[0;34m\u001b[0m\u001b[0m\n",
            "\u001b[0;32m/usr/local/lib/python3.10/dist-packages/sklearn/model_selection/_search.py\u001b[0m in \u001b[0;36mevaluate_candidates\u001b[0;34m(candidate_params, cv, more_results)\u001b[0m\n\u001b[1;32m    963\u001b[0m                     )\n\u001b[1;32m    964\u001b[0m \u001b[0;34m\u001b[0m\u001b[0m\n\u001b[0;32m--> 965\u001b[0;31m                 out = parallel(\n\u001b[0m\u001b[1;32m    966\u001b[0m                     delayed(_fit_and_score)(\n\u001b[1;32m    967\u001b[0m                         \u001b[0mclone\u001b[0m\u001b[0;34m(\u001b[0m\u001b[0mbase_estimator\u001b[0m\u001b[0;34m)\u001b[0m\u001b[0;34m,\u001b[0m\u001b[0;34m\u001b[0m\u001b[0;34m\u001b[0m\u001b[0m\n",
            "\u001b[0;32m/usr/local/lib/python3.10/dist-packages/sklearn/utils/parallel.py\u001b[0m in \u001b[0;36m__call__\u001b[0;34m(self, iterable)\u001b[0m\n\u001b[1;32m     72\u001b[0m             \u001b[0;32mfor\u001b[0m \u001b[0mdelayed_func\u001b[0m\u001b[0;34m,\u001b[0m \u001b[0margs\u001b[0m\u001b[0;34m,\u001b[0m \u001b[0mkwargs\u001b[0m \u001b[0;32min\u001b[0m \u001b[0miterable\u001b[0m\u001b[0;34m\u001b[0m\u001b[0;34m\u001b[0m\u001b[0m\n\u001b[1;32m     73\u001b[0m         )\n\u001b[0;32m---> 74\u001b[0;31m         \u001b[0;32mreturn\u001b[0m \u001b[0msuper\u001b[0m\u001b[0;34m(\u001b[0m\u001b[0;34m)\u001b[0m\u001b[0;34m.\u001b[0m\u001b[0m__call__\u001b[0m\u001b[0;34m(\u001b[0m\u001b[0miterable_with_config\u001b[0m\u001b[0;34m)\u001b[0m\u001b[0;34m\u001b[0m\u001b[0;34m\u001b[0m\u001b[0m\n\u001b[0m\u001b[1;32m     75\u001b[0m \u001b[0;34m\u001b[0m\u001b[0m\n\u001b[1;32m     76\u001b[0m \u001b[0;34m\u001b[0m\u001b[0m\n",
            "\u001b[0;32m/usr/local/lib/python3.10/dist-packages/joblib/parallel.py\u001b[0m in \u001b[0;36m__call__\u001b[0;34m(self, iterable)\u001b[0m\n\u001b[1;32m   2005\u001b[0m         \u001b[0mnext\u001b[0m\u001b[0;34m(\u001b[0m\u001b[0moutput\u001b[0m\u001b[0;34m)\u001b[0m\u001b[0;34m\u001b[0m\u001b[0;34m\u001b[0m\u001b[0m\n\u001b[1;32m   2006\u001b[0m \u001b[0;34m\u001b[0m\u001b[0m\n\u001b[0;32m-> 2007\u001b[0;31m         \u001b[0;32mreturn\u001b[0m \u001b[0moutput\u001b[0m \u001b[0;32mif\u001b[0m \u001b[0mself\u001b[0m\u001b[0;34m.\u001b[0m\u001b[0mreturn_generator\u001b[0m \u001b[0;32melse\u001b[0m \u001b[0mlist\u001b[0m\u001b[0;34m(\u001b[0m\u001b[0moutput\u001b[0m\u001b[0;34m)\u001b[0m\u001b[0;34m\u001b[0m\u001b[0;34m\u001b[0m\u001b[0m\n\u001b[0m\u001b[1;32m   2008\u001b[0m \u001b[0;34m\u001b[0m\u001b[0m\n\u001b[1;32m   2009\u001b[0m     \u001b[0;32mdef\u001b[0m \u001b[0m__repr__\u001b[0m\u001b[0;34m(\u001b[0m\u001b[0mself\u001b[0m\u001b[0;34m)\u001b[0m\u001b[0;34m:\u001b[0m\u001b[0;34m\u001b[0m\u001b[0;34m\u001b[0m\u001b[0m\n",
            "\u001b[0;32m/usr/local/lib/python3.10/dist-packages/joblib/parallel.py\u001b[0m in \u001b[0;36m_get_outputs\u001b[0;34m(self, iterator, pre_dispatch)\u001b[0m\n\u001b[1;32m   1648\u001b[0m \u001b[0;34m\u001b[0m\u001b[0m\n\u001b[1;32m   1649\u001b[0m             \u001b[0;32mwith\u001b[0m \u001b[0mself\u001b[0m\u001b[0;34m.\u001b[0m\u001b[0m_backend\u001b[0m\u001b[0;34m.\u001b[0m\u001b[0mretrieval_context\u001b[0m\u001b[0;34m(\u001b[0m\u001b[0;34m)\u001b[0m\u001b[0;34m:\u001b[0m\u001b[0;34m\u001b[0m\u001b[0;34m\u001b[0m\u001b[0m\n\u001b[0;32m-> 1650\u001b[0;31m                 \u001b[0;32myield\u001b[0m \u001b[0;32mfrom\u001b[0m \u001b[0mself\u001b[0m\u001b[0;34m.\u001b[0m\u001b[0m_retrieve\u001b[0m\u001b[0;34m(\u001b[0m\u001b[0;34m)\u001b[0m\u001b[0;34m\u001b[0m\u001b[0;34m\u001b[0m\u001b[0m\n\u001b[0m\u001b[1;32m   1651\u001b[0m \u001b[0;34m\u001b[0m\u001b[0m\n\u001b[1;32m   1652\u001b[0m         \u001b[0;32mexcept\u001b[0m \u001b[0mGeneratorExit\u001b[0m\u001b[0;34m:\u001b[0m\u001b[0;34m\u001b[0m\u001b[0;34m\u001b[0m\u001b[0m\n",
            "\u001b[0;32m/usr/local/lib/python3.10/dist-packages/joblib/parallel.py\u001b[0m in \u001b[0;36m_retrieve\u001b[0;34m(self)\u001b[0m\n\u001b[1;32m   1760\u001b[0m                 (self._jobs[0].get_status(\n\u001b[1;32m   1761\u001b[0m                     timeout=self.timeout) == TASK_PENDING)):\n\u001b[0;32m-> 1762\u001b[0;31m                 \u001b[0mtime\u001b[0m\u001b[0;34m.\u001b[0m\u001b[0msleep\u001b[0m\u001b[0;34m(\u001b[0m\u001b[0;36m0.01\u001b[0m\u001b[0;34m)\u001b[0m\u001b[0;34m\u001b[0m\u001b[0;34m\u001b[0m\u001b[0m\n\u001b[0m\u001b[1;32m   1763\u001b[0m                 \u001b[0;32mcontinue\u001b[0m\u001b[0;34m\u001b[0m\u001b[0;34m\u001b[0m\u001b[0m\n\u001b[1;32m   1764\u001b[0m \u001b[0;34m\u001b[0m\u001b[0m\n",
            "\u001b[0;31mKeyboardInterrupt\u001b[0m: "
          ]
        }
      ]
    },
    {
      "cell_type": "code",
      "source": [
        "from sklearn.model_selection import GridSearchCV\n",
        "from sklearn.tree import DecisionTreeClassifier\n",
        "\n",
        "# Define parameter grid\n",
        "param_grid = {\n",
        "    'max_depth': [ 17],\n",
        "    'max_features': [None],\n",
        "    'splitter': ['best'],\n",
        "}\n",
        "\n",
        "# Initialize the decision tree classifier\n",
        "decision_tree = DecisionTreeClassifier()\n",
        "\n",
        "# Grid search\n",
        "grid_search = GridSearchCV(decision_tree, param_grid, cv=5, scoring='accuracy', n_jobs=5)\n",
        "grid_search.fit(X_train, y_train)\n",
        "\n",
        "# Get the best parameters\n",
        "print(f\"Best parameters: {grid_search.best_params_}\")\n",
        "best_decision_tree = grid_search.best_estimator_\n",
        "\n",
        "# Make predictions\n",
        "y_pred = best_decision_tree.predict(X_test)\n",
        "\n",
        "# Evaluate the performance\n",
        "from sklearn.metrics import accuracy_score, classification_report\n",
        "\n",
        "print(f\"Accuracy: {accuracy_score(y_test, y_pred)}\")\n",
        "print(f\"Classification Report:\\n {classification_report(y_test, y_pred)}\")\n"
      ],
      "metadata": {
        "id": "3YCC6cwuLlrj"
      },
      "id": "3YCC6cwuLlrj",
      "execution_count": null,
      "outputs": []
    }
  ],
  "metadata": {
    "kernelspec": {
      "display_name": "Python 3 (ipykernel)",
      "language": "python",
      "name": "python3"
    },
    "language_info": {
      "codemirror_mode": {
        "name": "ipython",
        "version": 3
      },
      "file_extension": ".py",
      "mimetype": "text/x-python",
      "name": "python",
      "nbconvert_exporter": "python",
      "pygments_lexer": "ipython3",
      "version": "3.12.5"
    },
    "colab": {
      "provenance": [],
      "toc_visible": true
    }
  },
  "nbformat": 4,
  "nbformat_minor": 5
}
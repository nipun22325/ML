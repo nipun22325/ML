{
 "cells": [
  {
   "cell_type": "code",
   "execution_count": 1,
   "id": "27c9b910-6fa5-4b3e-ab83-0d71b499328a",
   "metadata": {},
   "outputs": [],
   "source": [
    "import pandas as pd\n",
    "import polars as pl"
   ]
  },
  {
   "cell_type": "code",
   "execution_count": 2,
   "id": "30b98b25-1cb5-47d6-9a27-9042114b7c07",
   "metadata": {},
   "outputs": [],
   "source": [
    "# chunk_size = 100000  # Number of rows per chunk\n",
    "df = pl.read_csv('US_Accidents_March23.csv') #, chunksize = chunk_size)"
   ]
  },
  {
   "cell_type": "code",
   "execution_count": 3,
   "id": "6a979cf4-ae4b-42e8-81d7-9309bd07efa2",
   "metadata": {},
   "outputs": [
    {
     "data": {
      "text/html": [
       "<div><style>\n",
       ".dataframe > thead > tr,\n",
       ".dataframe > tbody > tr {\n",
       "  text-align: right;\n",
       "  white-space: pre-wrap;\n",
       "}\n",
       "</style>\n",
       "<small>shape: (5, 46)</small><table border=\"1\" class=\"dataframe\"><thead><tr><th>ID</th><th>Source</th><th>Severity</th><th>Start_Time</th><th>End_Time</th><th>Start_Lat</th><th>Start_Lng</th><th>End_Lat</th><th>End_Lng</th><th>Distance(mi)</th><th>Description</th><th>Street</th><th>City</th><th>County</th><th>State</th><th>Zipcode</th><th>Country</th><th>Timezone</th><th>Airport_Code</th><th>Weather_Timestamp</th><th>Temperature(F)</th><th>Wind_Chill(F)</th><th>Humidity(%)</th><th>Pressure(in)</th><th>Visibility(mi)</th><th>Wind_Direction</th><th>Wind_Speed(mph)</th><th>Precipitation(in)</th><th>Weather_Condition</th><th>Amenity</th><th>Bump</th><th>Crossing</th><th>Give_Way</th><th>Junction</th><th>No_Exit</th><th>Railway</th><th>Roundabout</th><th>Station</th><th>Stop</th><th>Traffic_Calming</th><th>Traffic_Signal</th><th>Turning_Loop</th><th>Sunrise_Sunset</th><th>Civil_Twilight</th><th>Nautical_Twilight</th><th>Astronomical_Twilight</th></tr><tr><td>str</td><td>str</td><td>i64</td><td>str</td><td>str</td><td>f64</td><td>f64</td><td>str</td><td>str</td><td>f64</td><td>str</td><td>str</td><td>str</td><td>str</td><td>str</td><td>str</td><td>str</td><td>str</td><td>str</td><td>str</td><td>f64</td><td>f64</td><td>f64</td><td>f64</td><td>f64</td><td>str</td><td>f64</td><td>f64</td><td>str</td><td>bool</td><td>bool</td><td>bool</td><td>bool</td><td>bool</td><td>bool</td><td>bool</td><td>bool</td><td>bool</td><td>bool</td><td>bool</td><td>bool</td><td>bool</td><td>str</td><td>str</td><td>str</td><td>str</td></tr></thead><tbody><tr><td>&quot;A-1&quot;</td><td>&quot;Source2&quot;</td><td>3</td><td>&quot;2016-02-08 05:46:00&quot;</td><td>&quot;2016-02-08 11:00:00&quot;</td><td>39.865147</td><td>-84.058723</td><td>null</td><td>null</td><td>0.01</td><td>&quot;Right lane blocked due to acci…</td><td>&quot;I-70 E&quot;</td><td>&quot;Dayton&quot;</td><td>&quot;Montgomery&quot;</td><td>&quot;OH&quot;</td><td>&quot;45424&quot;</td><td>&quot;US&quot;</td><td>&quot;US/Eastern&quot;</td><td>&quot;KFFO&quot;</td><td>&quot;2016-02-08 05:58:00&quot;</td><td>36.9</td><td>null</td><td>91.0</td><td>29.68</td><td>10.0</td><td>&quot;Calm&quot;</td><td>null</td><td>0.02</td><td>&quot;Light Rain&quot;</td><td>false</td><td>false</td><td>false</td><td>false</td><td>false</td><td>false</td><td>false</td><td>false</td><td>false</td><td>false</td><td>false</td><td>false</td><td>false</td><td>&quot;Night&quot;</td><td>&quot;Night&quot;</td><td>&quot;Night&quot;</td><td>&quot;Night&quot;</td></tr><tr><td>&quot;A-2&quot;</td><td>&quot;Source2&quot;</td><td>2</td><td>&quot;2016-02-08 06:07:59&quot;</td><td>&quot;2016-02-08 06:37:59&quot;</td><td>39.928059</td><td>-82.831184</td><td>null</td><td>null</td><td>0.01</td><td>&quot;Accident on Brice Rd at Tussin…</td><td>&quot;Brice Rd&quot;</td><td>&quot;Reynoldsburg&quot;</td><td>&quot;Franklin&quot;</td><td>&quot;OH&quot;</td><td>&quot;43068-3402&quot;</td><td>&quot;US&quot;</td><td>&quot;US/Eastern&quot;</td><td>&quot;KCMH&quot;</td><td>&quot;2016-02-08 05:51:00&quot;</td><td>37.9</td><td>null</td><td>100.0</td><td>29.65</td><td>10.0</td><td>&quot;Calm&quot;</td><td>null</td><td>0.0</td><td>&quot;Light Rain&quot;</td><td>false</td><td>false</td><td>false</td><td>false</td><td>false</td><td>false</td><td>false</td><td>false</td><td>false</td><td>false</td><td>false</td><td>false</td><td>false</td><td>&quot;Night&quot;</td><td>&quot;Night&quot;</td><td>&quot;Night&quot;</td><td>&quot;Day&quot;</td></tr><tr><td>&quot;A-3&quot;</td><td>&quot;Source2&quot;</td><td>2</td><td>&quot;2016-02-08 06:49:27&quot;</td><td>&quot;2016-02-08 07:19:27&quot;</td><td>39.063148</td><td>-84.032608</td><td>null</td><td>null</td><td>0.01</td><td>&quot;Accident on OH-32 State Route …</td><td>&quot;State Route 32&quot;</td><td>&quot;Williamsburg&quot;</td><td>&quot;Clermont&quot;</td><td>&quot;OH&quot;</td><td>&quot;45176&quot;</td><td>&quot;US&quot;</td><td>&quot;US/Eastern&quot;</td><td>&quot;KI69&quot;</td><td>&quot;2016-02-08 06:56:00&quot;</td><td>36.0</td><td>33.3</td><td>100.0</td><td>29.67</td><td>10.0</td><td>&quot;SW&quot;</td><td>3.5</td><td>null</td><td>&quot;Overcast&quot;</td><td>false</td><td>false</td><td>false</td><td>false</td><td>false</td><td>false</td><td>false</td><td>false</td><td>false</td><td>false</td><td>false</td><td>true</td><td>false</td><td>&quot;Night&quot;</td><td>&quot;Night&quot;</td><td>&quot;Day&quot;</td><td>&quot;Day&quot;</td></tr><tr><td>&quot;A-4&quot;</td><td>&quot;Source2&quot;</td><td>3</td><td>&quot;2016-02-08 07:23:34&quot;</td><td>&quot;2016-02-08 07:53:34&quot;</td><td>39.747753</td><td>-84.205582</td><td>null</td><td>null</td><td>0.01</td><td>&quot;Accident on I-75 Southbound at…</td><td>&quot;I-75 S&quot;</td><td>&quot;Dayton&quot;</td><td>&quot;Montgomery&quot;</td><td>&quot;OH&quot;</td><td>&quot;45417&quot;</td><td>&quot;US&quot;</td><td>&quot;US/Eastern&quot;</td><td>&quot;KDAY&quot;</td><td>&quot;2016-02-08 07:38:00&quot;</td><td>35.1</td><td>31.0</td><td>96.0</td><td>29.64</td><td>9.0</td><td>&quot;SW&quot;</td><td>4.6</td><td>null</td><td>&quot;Mostly Cloudy&quot;</td><td>false</td><td>false</td><td>false</td><td>false</td><td>false</td><td>false</td><td>false</td><td>false</td><td>false</td><td>false</td><td>false</td><td>false</td><td>false</td><td>&quot;Night&quot;</td><td>&quot;Day&quot;</td><td>&quot;Day&quot;</td><td>&quot;Day&quot;</td></tr><tr><td>&quot;A-5&quot;</td><td>&quot;Source2&quot;</td><td>2</td><td>&quot;2016-02-08 07:39:07&quot;</td><td>&quot;2016-02-08 08:09:07&quot;</td><td>39.627781</td><td>-84.188354</td><td>null</td><td>null</td><td>0.01</td><td>&quot;Accident on McEwen Rd at OH-72…</td><td>&quot;Miamisburg Centerville Rd&quot;</td><td>&quot;Dayton&quot;</td><td>&quot;Montgomery&quot;</td><td>&quot;OH&quot;</td><td>&quot;45459&quot;</td><td>&quot;US&quot;</td><td>&quot;US/Eastern&quot;</td><td>&quot;KMGY&quot;</td><td>&quot;2016-02-08 07:53:00&quot;</td><td>36.0</td><td>33.3</td><td>89.0</td><td>29.65</td><td>6.0</td><td>&quot;SW&quot;</td><td>3.5</td><td>null</td><td>&quot;Mostly Cloudy&quot;</td><td>false</td><td>false</td><td>false</td><td>false</td><td>false</td><td>false</td><td>false</td><td>false</td><td>false</td><td>false</td><td>false</td><td>true</td><td>false</td><td>&quot;Day&quot;</td><td>&quot;Day&quot;</td><td>&quot;Day&quot;</td><td>&quot;Day&quot;</td></tr></tbody></table></div>"
      ],
      "text/plain": [
       "shape: (5, 46)\n",
       "┌─────┬─────────┬──────────┬────────────┬───┬────────────────┬────────────────┬────────────────────┬───────────────────┐\n",
       "│ ID  ┆ Source  ┆ Severity ┆ Start_Time ┆ … ┆ Sunrise_Sunset ┆ Civil_Twilight ┆ Nautical_Twilight  ┆ Astronomical_Twil │\n",
       "│ --- ┆ ---     ┆ ---      ┆ ---        ┆   ┆ ---            ┆ ---            ┆ ---                ┆ ight              │\n",
       "│ str ┆ str     ┆ i64      ┆ str        ┆   ┆ str            ┆ str            ┆ str                ┆ ---               │\n",
       "│     ┆         ┆          ┆            ┆   ┆                ┆                ┆                    ┆ str               │\n",
       "╞═════╪═════════╪══════════╪════════════╪═══╪════════════════╪════════════════╪════════════════════╪═══════════════════╡\n",
       "│ A-1 ┆ Source2 ┆ 3        ┆ 2016-02-08 ┆ … ┆ Night          ┆ Night          ┆ Night              ┆ Night             │\n",
       "│     ┆         ┆          ┆ 05:46:00   ┆   ┆                ┆                ┆                    ┆                   │\n",
       "│ A-2 ┆ Source2 ┆ 2        ┆ 2016-02-08 ┆ … ┆ Night          ┆ Night          ┆ Night              ┆ Day               │\n",
       "│     ┆         ┆          ┆ 06:07:59   ┆   ┆                ┆                ┆                    ┆                   │\n",
       "│ A-3 ┆ Source2 ┆ 2        ┆ 2016-02-08 ┆ … ┆ Night          ┆ Night          ┆ Day                ┆ Day               │\n",
       "│     ┆         ┆          ┆ 06:49:27   ┆   ┆                ┆                ┆                    ┆                   │\n",
       "│ A-4 ┆ Source2 ┆ 3        ┆ 2016-02-08 ┆ … ┆ Night          ┆ Day            ┆ Day                ┆ Day               │\n",
       "│     ┆         ┆          ┆ 07:23:34   ┆   ┆                ┆                ┆                    ┆                   │\n",
       "│ A-5 ┆ Source2 ┆ 2        ┆ 2016-02-08 ┆ … ┆ Day            ┆ Day            ┆ Day                ┆ Day               │\n",
       "│     ┆         ┆          ┆ 07:39:07   ┆   ┆                ┆                ┆                    ┆                   │\n",
       "└─────┴─────────┴──────────┴────────────┴───┴────────────────┴────────────────┴────────────────────┴───────────────────┘"
      ]
     },
     "execution_count": 3,
     "metadata": {},
     "output_type": "execute_result"
    }
   ],
   "source": [
    "df.head(5)"
   ]
  },
  {
   "cell_type": "code",
   "execution_count": 4,
   "id": "46e7f696-a7cb-4ee2-8c3b-b9175661b90d",
   "metadata": {},
   "outputs": [
    {
     "data": {
      "text/plain": [
       "7728394"
      ]
     },
     "execution_count": 4,
     "metadata": {},
     "output_type": "execute_result"
    }
   ],
   "source": [
    "df.height"
   ]
  },
  {
   "cell_type": "code",
   "execution_count": 5,
   "id": "ec76fceb-a715-484d-8f9a-dbb218d46cc9",
   "metadata": {},
   "outputs": [
    {
     "data": {
      "text/plain": [
       "46"
      ]
     },
     "execution_count": 5,
     "metadata": {},
     "output_type": "execute_result"
    }
   ],
   "source": [
    "df.width"
   ]
  },
  {
   "cell_type": "code",
   "execution_count": 6,
   "id": "7cb4bbe8-9b3b-4297-b096-f1bb2d65d071",
   "metadata": {},
   "outputs": [
    {
     "data": {
      "text/plain": [
       "['ID',\n",
       " 'Source',\n",
       " 'Severity',\n",
       " 'Start_Time',\n",
       " 'End_Time',\n",
       " 'Start_Lat',\n",
       " 'Start_Lng',\n",
       " 'End_Lat',\n",
       " 'End_Lng',\n",
       " 'Distance(mi)',\n",
       " 'Description',\n",
       " 'Street',\n",
       " 'City',\n",
       " 'County',\n",
       " 'State',\n",
       " 'Zipcode',\n",
       " 'Country',\n",
       " 'Timezone',\n",
       " 'Airport_Code',\n",
       " 'Weather_Timestamp',\n",
       " 'Temperature(F)',\n",
       " 'Wind_Chill(F)',\n",
       " 'Humidity(%)',\n",
       " 'Pressure(in)',\n",
       " 'Visibility(mi)',\n",
       " 'Wind_Direction',\n",
       " 'Wind_Speed(mph)',\n",
       " 'Precipitation(in)',\n",
       " 'Weather_Condition',\n",
       " 'Amenity',\n",
       " 'Bump',\n",
       " 'Crossing',\n",
       " 'Give_Way',\n",
       " 'Junction',\n",
       " 'No_Exit',\n",
       " 'Railway',\n",
       " 'Roundabout',\n",
       " 'Station',\n",
       " 'Stop',\n",
       " 'Traffic_Calming',\n",
       " 'Traffic_Signal',\n",
       " 'Turning_Loop',\n",
       " 'Sunrise_Sunset',\n",
       " 'Civil_Twilight',\n",
       " 'Nautical_Twilight',\n",
       " 'Astronomical_Twilight']"
      ]
     },
     "execution_count": 6,
     "metadata": {},
     "output_type": "execute_result"
    }
   ],
   "source": [
    "df.columns"
   ]
  },
  {
   "cell_type": "code",
   "execution_count": 7,
   "id": "d08f251d-3f00-42be-9e69-34843685d548",
   "metadata": {},
   "outputs": [
    {
     "name": "stdout",
     "output_type": "stream",
     "text": [
      "False entries in Amenity : 7632060\n",
      "False entries in Bump : 7724880\n",
      "False entries in Crossing : 6854631\n",
      "False entries in Give_Way : 7691812\n",
      "False entries in Junction : 7157052\n",
      "False entries in No_Exit : 7708849\n",
      "False entries in Railway : 7661415\n",
      "False entries in Roundabout : 7728145\n",
      "False entries in Station : 7526493\n",
      "False entries in Stop : 7514023\n",
      "False entries in Traffic_Calming : 7720796\n",
      "False entries in Traffic_Signal : 6584622\n",
      "False entries in Turning_Loop : 7728394\n"
     ]
    }
   ],
   "source": [
    "#Checking how many values are false in the boolean columns\n",
    "cols = ['Amenity','Bump','Crossing','Give_Way','Junction','No_Exit','Railway','Roundabout','Station','Stop','Traffic_Calming','Traffic_Signal','Turning_Loop']\n",
    "false_counts = df.select([(pl.col(col) == False).sum().alias(col) for col in cols])\n",
    "for col in cols:\n",
    "    print(f\"False entries in {col} : {false_counts[0, col]}\")"
   ]
  },
  {
   "cell_type": "code",
   "execution_count": 8,
   "id": "47d4778a-3f90-48e6-826b-6ed1fc546455",
   "metadata": {},
   "outputs": [
    {
     "data": {
      "text/plain": [
       "36"
      ]
     },
     "execution_count": 8,
     "metadata": {},
     "output_type": "execute_result"
    }
   ],
   "source": [
    "#The 10 columns that are almost entirely false and thus not useful\n",
    "df_drop = df.drop(['Amenity','Bump','Give_Way','No_Exit','Railway','Roundabout','Station','Stop','Traffic_Calming','Turning_Loop'])\n",
    "df_drop.width"
   ]
  },
  {
   "cell_type": "code",
   "execution_count": 9,
   "id": "adc57c1b-b68b-42df-9efe-3ce78c41d70f",
   "metadata": {},
   "outputs": [],
   "source": [
    "#Just a couple of extra columns that do not give us enough information on their own to warrant staying.\n",
    "#Closely associated with Sunset, so they will not add to our analysis \n",
    "df_drop = df_drop.drop(['Nautical_Twilight','Astronomical_Twilight', 'Civil_Twilight']) "
   ]
  },
  {
   "cell_type": "code",
   "execution_count": 10,
   "id": "272b3aa9-bcf8-43ad-8dc9-cc476e0f9c44",
   "metadata": {},
   "outputs": [
    {
     "data": {
      "text/plain": [
       "33"
      ]
     },
     "execution_count": 10,
     "metadata": {},
     "output_type": "execute_result"
    }
   ],
   "source": [
    "df_drop.width"
   ]
  },
  {
   "cell_type": "code",
   "execution_count": 11,
   "id": "5f7d60ad-3fc0-47e0-a829-e12ab91ac3f1",
   "metadata": {},
   "outputs": [
    {
     "data": {
      "text/plain": [
       "['ID',\n",
       " 'Source',\n",
       " 'Severity',\n",
       " 'Start_Time',\n",
       " 'End_Time',\n",
       " 'Start_Lat',\n",
       " 'Start_Lng',\n",
       " 'End_Lat',\n",
       " 'End_Lng',\n",
       " 'Distance(mi)',\n",
       " 'Description',\n",
       " 'Street',\n",
       " 'City',\n",
       " 'County',\n",
       " 'State',\n",
       " 'Zipcode',\n",
       " 'Country',\n",
       " 'Timezone',\n",
       " 'Airport_Code',\n",
       " 'Weather_Timestamp',\n",
       " 'Temperature(F)',\n",
       " 'Wind_Chill(F)',\n",
       " 'Humidity(%)',\n",
       " 'Pressure(in)',\n",
       " 'Visibility(mi)',\n",
       " 'Wind_Direction',\n",
       " 'Wind_Speed(mph)',\n",
       " 'Precipitation(in)',\n",
       " 'Weather_Condition',\n",
       " 'Crossing',\n",
       " 'Junction',\n",
       " 'Traffic_Signal',\n",
       " 'Sunrise_Sunset']"
      ]
     },
     "execution_count": 11,
     "metadata": {},
     "output_type": "execute_result"
    }
   ],
   "source": [
    "df_drop.columns"
   ]
  },
  {
   "cell_type": "code",
   "execution_count": 12,
   "id": "a66f7275-503d-4280-964e-e10ecbe69434",
   "metadata": {},
   "outputs": [
    {
     "name": "stdout",
     "output_type": "stream",
     "text": [
      "Null entries in ID : 0\n",
      "Null entries in Source : 0\n",
      "Null entries in Severity : 0\n",
      "Null entries in Start_Time : 0\n",
      "Null entries in End_Time : 0\n",
      "Null entries in Start_Lat : 0\n",
      "Null entries in Start_Lng : 0\n",
      "Null entries in End_Lat : 3402762\n",
      "Null entries in End_Lng : 3402762\n",
      "Null entries in Distance(mi) : 0\n",
      "Null entries in Description : 5\n",
      "Null entries in Street : 10869\n",
      "Null entries in City : 253\n",
      "Null entries in County : 0\n",
      "Null entries in State : 0\n",
      "Null entries in Zipcode : 1915\n",
      "Null entries in Country : 0\n",
      "Null entries in Timezone : 7808\n",
      "Null entries in Airport_Code : 22635\n",
      "Null entries in Weather_Timestamp : 120228\n",
      "Null entries in Temperature(F) : 163853\n",
      "Null entries in Wind_Chill(F) : 1999019\n",
      "Null entries in Humidity(%) : 174144\n",
      "Null entries in Pressure(in) : 140679\n",
      "Null entries in Visibility(mi) : 177098\n",
      "Null entries in Wind_Direction : 175206\n",
      "Null entries in Wind_Speed(mph) : 571233\n",
      "Null entries in Precipitation(in) : 2203586\n",
      "Null entries in Weather_Condition : 173459\n",
      "Null entries in Crossing : 0\n",
      "Null entries in Junction : 0\n",
      "Null entries in Traffic_Signal : 0\n",
      "Null entries in Sunrise_Sunset : 23246\n"
     ]
    }
   ],
   "source": [
    "cols = ['ID', 'Source', 'Severity', 'Start_Time', 'End_Time', 'Start_Lat', 'Start_Lng', 'End_Lat', 'End_Lng', 'Distance(mi)', 'Description', 'Street',\n",
    "        'City', 'County', 'State', 'Zipcode', 'Country', 'Timezone', 'Airport_Code', 'Weather_Timestamp', 'Temperature(F)', 'Wind_Chill(F)','Humidity(%)'\n",
    "        , 'Pressure(in)', 'Visibility(mi)', 'Wind_Direction', 'Wind_Speed(mph)', 'Precipitation(in)', 'Weather_Condition', 'Crossing', 'Junction',\n",
    "        'Traffic_Signal', 'Sunrise_Sunset']\n",
    "for col in cols:\n",
    "    null_count = df_drop.select(pl.col(col).null_count())[0, 0]  # Get the count of nulls in the column\n",
    "    print(f\"Null entries in {col} : {null_count}\")"
   ]
  },
  {
   "cell_type": "code",
   "execution_count": 13,
   "id": "c7165b0a-f98f-4d3e-af74-f86500ad0e78",
   "metadata": {},
   "outputs": [],
   "source": [
    "df_drop = df_drop.drop(['End_Lat','End_Lng']) #since majority of the values are null and these columns are insignificant"
   ]
  },
  {
   "cell_type": "code",
   "execution_count": 14,
   "id": "4661aeda-57dd-4a9e-a5bf-3a36af59f07b",
   "metadata": {},
   "outputs": [
    {
     "data": {
      "text/plain": [
       "31"
      ]
     },
     "execution_count": 14,
     "metadata": {},
     "output_type": "execute_result"
    }
   ],
   "source": [
    "df_drop.width"
   ]
  },
  {
   "cell_type": "code",
   "execution_count": 15,
   "id": "46cea50b-ac7e-42a6-9bf4-5152dea451da",
   "metadata": {},
   "outputs": [],
   "source": [
    "bool_cols = ['Junction', 'Crossing', 'Traffic_Signal']\n",
    "df_drop = df_drop.with_columns([pl.col(col).cast(pl.Int32).alias(col) for col in bool_cols])"
   ]
  },
  {
   "cell_type": "code",
   "execution_count": 16,
   "id": "d04d90ee-9314-4af9-8061-eae14d50eee3",
   "metadata": {},
   "outputs": [
    {
     "data": {
      "text/html": [
       "<div><style>\n",
       ".dataframe > thead > tr,\n",
       ".dataframe > tbody > tr {\n",
       "  text-align: right;\n",
       "  white-space: pre-wrap;\n",
       "}\n",
       "</style>\n",
       "<small>shape: (3, 31)</small><table border=\"1\" class=\"dataframe\"><thead><tr><th>ID</th><th>Source</th><th>Severity</th><th>Start_Time</th><th>End_Time</th><th>Start_Lat</th><th>Start_Lng</th><th>Distance(mi)</th><th>Description</th><th>Street</th><th>City</th><th>County</th><th>State</th><th>Zipcode</th><th>Country</th><th>Timezone</th><th>Airport_Code</th><th>Weather_Timestamp</th><th>Temperature(F)</th><th>Wind_Chill(F)</th><th>Humidity(%)</th><th>Pressure(in)</th><th>Visibility(mi)</th><th>Wind_Direction</th><th>Wind_Speed(mph)</th><th>Precipitation(in)</th><th>Weather_Condition</th><th>Crossing</th><th>Junction</th><th>Traffic_Signal</th><th>Sunrise_Sunset</th></tr><tr><td>str</td><td>str</td><td>i64</td><td>str</td><td>str</td><td>f64</td><td>f64</td><td>f64</td><td>str</td><td>str</td><td>str</td><td>str</td><td>str</td><td>str</td><td>str</td><td>str</td><td>str</td><td>str</td><td>f64</td><td>f64</td><td>f64</td><td>f64</td><td>f64</td><td>str</td><td>f64</td><td>f64</td><td>str</td><td>i32</td><td>i32</td><td>i32</td><td>str</td></tr></thead><tbody><tr><td>&quot;A-1&quot;</td><td>&quot;Source2&quot;</td><td>3</td><td>&quot;2016-02-08 05:46:00&quot;</td><td>&quot;2016-02-08 11:00:00&quot;</td><td>39.865147</td><td>-84.058723</td><td>0.01</td><td>&quot;Right lane blocked due to acci…</td><td>&quot;I-70 E&quot;</td><td>&quot;Dayton&quot;</td><td>&quot;Montgomery&quot;</td><td>&quot;OH&quot;</td><td>&quot;45424&quot;</td><td>&quot;US&quot;</td><td>&quot;US/Eastern&quot;</td><td>&quot;KFFO&quot;</td><td>&quot;2016-02-08 05:58:00&quot;</td><td>36.9</td><td>null</td><td>91.0</td><td>29.68</td><td>10.0</td><td>&quot;Calm&quot;</td><td>null</td><td>0.02</td><td>&quot;Light Rain&quot;</td><td>0</td><td>0</td><td>0</td><td>&quot;Night&quot;</td></tr><tr><td>&quot;A-2&quot;</td><td>&quot;Source2&quot;</td><td>2</td><td>&quot;2016-02-08 06:07:59&quot;</td><td>&quot;2016-02-08 06:37:59&quot;</td><td>39.928059</td><td>-82.831184</td><td>0.01</td><td>&quot;Accident on Brice Rd at Tussin…</td><td>&quot;Brice Rd&quot;</td><td>&quot;Reynoldsburg&quot;</td><td>&quot;Franklin&quot;</td><td>&quot;OH&quot;</td><td>&quot;43068-3402&quot;</td><td>&quot;US&quot;</td><td>&quot;US/Eastern&quot;</td><td>&quot;KCMH&quot;</td><td>&quot;2016-02-08 05:51:00&quot;</td><td>37.9</td><td>null</td><td>100.0</td><td>29.65</td><td>10.0</td><td>&quot;Calm&quot;</td><td>null</td><td>0.0</td><td>&quot;Light Rain&quot;</td><td>0</td><td>0</td><td>0</td><td>&quot;Night&quot;</td></tr><tr><td>&quot;A-3&quot;</td><td>&quot;Source2&quot;</td><td>2</td><td>&quot;2016-02-08 06:49:27&quot;</td><td>&quot;2016-02-08 07:19:27&quot;</td><td>39.063148</td><td>-84.032608</td><td>0.01</td><td>&quot;Accident on OH-32 State Route …</td><td>&quot;State Route 32&quot;</td><td>&quot;Williamsburg&quot;</td><td>&quot;Clermont&quot;</td><td>&quot;OH&quot;</td><td>&quot;45176&quot;</td><td>&quot;US&quot;</td><td>&quot;US/Eastern&quot;</td><td>&quot;KI69&quot;</td><td>&quot;2016-02-08 06:56:00&quot;</td><td>36.0</td><td>33.3</td><td>100.0</td><td>29.67</td><td>10.0</td><td>&quot;SW&quot;</td><td>3.5</td><td>null</td><td>&quot;Overcast&quot;</td><td>0</td><td>0</td><td>1</td><td>&quot;Night&quot;</td></tr></tbody></table></div>"
      ],
      "text/plain": [
       "shape: (3, 31)\n",
       "┌─────┬─────────┬──────────┬─────────────────────┬───┬──────────┬──────────┬────────────────┬────────────────┐\n",
       "│ ID  ┆ Source  ┆ Severity ┆ Start_Time          ┆ … ┆ Crossing ┆ Junction ┆ Traffic_Signal ┆ Sunrise_Sunset │\n",
       "│ --- ┆ ---     ┆ ---      ┆ ---                 ┆   ┆ ---      ┆ ---      ┆ ---            ┆ ---            │\n",
       "│ str ┆ str     ┆ i64      ┆ str                 ┆   ┆ i32      ┆ i32      ┆ i32            ┆ str            │\n",
       "╞═════╪═════════╪══════════╪═════════════════════╪═══╪══════════╪══════════╪════════════════╪════════════════╡\n",
       "│ A-1 ┆ Source2 ┆ 3        ┆ 2016-02-08 05:46:00 ┆ … ┆ 0        ┆ 0        ┆ 0              ┆ Night          │\n",
       "│ A-2 ┆ Source2 ┆ 2        ┆ 2016-02-08 06:07:59 ┆ … ┆ 0        ┆ 0        ┆ 0              ┆ Night          │\n",
       "│ A-3 ┆ Source2 ┆ 2        ┆ 2016-02-08 06:49:27 ┆ … ┆ 0        ┆ 0        ┆ 1              ┆ Night          │\n",
       "└─────┴─────────┴──────────┴─────────────────────┴───┴──────────┴──────────┴────────────────┴────────────────┘"
      ]
     },
     "execution_count": 16,
     "metadata": {},
     "output_type": "execute_result"
    }
   ],
   "source": [
    "df_drop.head(3)"
   ]
  },
  {
   "cell_type": "code",
   "execution_count": 17,
   "id": "70295609-cbcc-4aa9-94d4-a40c17eb522d",
   "metadata": {},
   "outputs": [
    {
     "name": "stdout",
     "output_type": "stream",
     "text": [
      "Unique entries in ID : 7728394\n",
      "Unique entries in Source : 3\n",
      "Unique entries in Severity : 4\n",
      "Unique entries in Start_Time : 6131796\n",
      "Unique entries in End_Time : 6705355\n",
      "Unique entries in Start_Lat : 2449172\n",
      "Unique entries in Start_Lng : 2493905\n",
      "Unique entries in Distance(mi) : 22382\n",
      "Unique entries in Description : 3761579\n",
      "Unique entries in Street : 336307\n",
      "Unique entries in City : 13679\n",
      "Unique entries in County : 1871\n",
      "Unique entries in State : 49\n",
      "Unique entries in Zipcode : 825095\n",
      "Unique entries in Country : 1\n",
      "Unique entries in Timezone : 5\n",
      "Unique entries in Airport_Code : 2046\n",
      "Unique entries in Weather_Timestamp : 941332\n",
      "Unique entries in Temperature(F) : 861\n",
      "Unique entries in Wind_Chill(F) : 1002\n",
      "Unique entries in Humidity(%) : 101\n",
      "Unique entries in Pressure(in) : 1145\n",
      "Unique entries in Visibility(mi) : 93\n",
      "Unique entries in Wind_Direction : 25\n",
      "Unique entries in Wind_Speed(mph) : 185\n",
      "Unique entries in Precipitation(in) : 300\n",
      "Unique entries in Weather_Condition : 145\n",
      "Unique entries in Crossing : 2\n",
      "Unique entries in Junction : 2\n",
      "Unique entries in Traffic_Signal : 2\n",
      "Unique entries in Sunrise_Sunset : 3\n"
     ]
    }
   ],
   "source": [
    "for col in df_drop.columns:\n",
    "    unique_count = df_drop.select(pl.col(col).n_unique())[0, 0]\n",
    "    print(f\"Unique entries in {col} : {unique_count}\")"
   ]
  },
  {
   "cell_type": "code",
   "execution_count": 18,
   "id": "d6c5982b-b630-4298-b72f-a0055baee1f0",
   "metadata": {},
   "outputs": [],
   "source": [
    "df_drop = df_drop.drop(['Country']) #This is a uniform column displaying just the 'US'"
   ]
  },
  {
   "cell_type": "code",
   "execution_count": 19,
   "id": "4aa16435-550b-4ee3-abdf-6810cf7ec1c5",
   "metadata": {},
   "outputs": [
    {
     "data": {
      "text/plain": [
       "30"
      ]
     },
     "execution_count": 19,
     "metadata": {},
     "output_type": "execute_result"
    }
   ],
   "source": [
    "df_drop.width"
   ]
  },
  {
   "cell_type": "code",
   "execution_count": 20,
   "id": "463d8bda-8c5c-4b5a-8e7c-cbadd6663053",
   "metadata": {},
   "outputs": [],
   "source": [
    "df_drop = df_drop.drop(['Airport_Code','ID']) #not useful in our context"
   ]
  },
  {
   "cell_type": "code",
   "execution_count": 21,
   "id": "c45c18c4-13a1-4911-8b9e-10adae0f9bd9",
   "metadata": {},
   "outputs": [
    {
     "data": {
      "text/plain": [
       "28"
      ]
     },
     "execution_count": 21,
     "metadata": {},
     "output_type": "execute_result"
    }
   ],
   "source": [
    "df_drop.width"
   ]
  },
  {
   "cell_type": "code",
   "execution_count": 22,
   "id": "6945619a-0975-47d0-b940-5c041010e2b4",
   "metadata": {},
   "outputs": [],
   "source": [
    "df_drop = df_drop.drop(['Weather_Timestamp']) #This relates to what time the weather data was recorded, so irrelevant to us"
   ]
  },
  {
   "cell_type": "code",
   "execution_count": 23,
   "id": "9916b176-f6a4-4309-8328-22a4757244de",
   "metadata": {},
   "outputs": [
    {
     "data": {
      "text/plain": [
       "['Source',\n",
       " 'Severity',\n",
       " 'Start_Time',\n",
       " 'End_Time',\n",
       " 'Start_Lat',\n",
       " 'Start_Lng',\n",
       " 'Distance(mi)',\n",
       " 'Description',\n",
       " 'Street',\n",
       " 'City',\n",
       " 'County',\n",
       " 'State',\n",
       " 'Zipcode',\n",
       " 'Timezone',\n",
       " 'Temperature(F)',\n",
       " 'Wind_Chill(F)',\n",
       " 'Humidity(%)',\n",
       " 'Pressure(in)',\n",
       " 'Visibility(mi)',\n",
       " 'Wind_Direction',\n",
       " 'Wind_Speed(mph)',\n",
       " 'Precipitation(in)',\n",
       " 'Weather_Condition',\n",
       " 'Crossing',\n",
       " 'Junction',\n",
       " 'Traffic_Signal',\n",
       " 'Sunrise_Sunset']"
      ]
     },
     "execution_count": 23,
     "metadata": {},
     "output_type": "execute_result"
    }
   ],
   "source": [
    "df_drop.columns"
   ]
  },
  {
   "cell_type": "code",
   "execution_count": 24,
   "id": "22362d5f-ad85-4ab9-8650-b348d4ea06f5",
   "metadata": {},
   "outputs": [
    {
     "data": {
      "text/html": [
       "<div><style>\n",
       ".dataframe > thead > tr,\n",
       ".dataframe > tbody > tr {\n",
       "  text-align: right;\n",
       "  white-space: pre-wrap;\n",
       "}\n",
       "</style>\n",
       "<small>shape: (10, 27)</small><table border=\"1\" class=\"dataframe\"><thead><tr><th>Source</th><th>Severity</th><th>Start_Time</th><th>End_Time</th><th>Start_Lat</th><th>Start_Lng</th><th>Distance(mi)</th><th>Description</th><th>Street</th><th>City</th><th>County</th><th>State</th><th>Zipcode</th><th>Timezone</th><th>Temperature(F)</th><th>Wind_Chill(F)</th><th>Humidity(%)</th><th>Pressure(in)</th><th>Visibility(mi)</th><th>Wind_Direction</th><th>Wind_Speed(mph)</th><th>Precipitation(in)</th><th>Weather_Condition</th><th>Crossing</th><th>Junction</th><th>Traffic_Signal</th><th>Sunrise_Sunset</th></tr><tr><td>str</td><td>i64</td><td>str</td><td>str</td><td>f64</td><td>f64</td><td>f64</td><td>str</td><td>str</td><td>str</td><td>str</td><td>str</td><td>str</td><td>str</td><td>f64</td><td>f64</td><td>f64</td><td>f64</td><td>f64</td><td>str</td><td>f64</td><td>f64</td><td>str</td><td>i32</td><td>i32</td><td>i32</td><td>str</td></tr></thead><tbody><tr><td>&quot;Source2&quot;</td><td>3</td><td>&quot;2016-02-08 05:46:00&quot;</td><td>&quot;2016-02-08 11:00:00&quot;</td><td>39.865147</td><td>-84.058723</td><td>0.01</td><td>&quot;Right lane blocked due to acci…</td><td>&quot;I-70 E&quot;</td><td>&quot;Dayton&quot;</td><td>&quot;Montgomery&quot;</td><td>&quot;OH&quot;</td><td>&quot;45424&quot;</td><td>&quot;US/Eastern&quot;</td><td>36.9</td><td>58.251048</td><td>91.0</td><td>29.68</td><td>10.0</td><td>&quot;Calm&quot;</td><td>7.68549</td><td>0.02</td><td>&quot;Light Rain&quot;</td><td>0</td><td>0</td><td>0</td><td>&quot;Night&quot;</td></tr><tr><td>&quot;Source2&quot;</td><td>2</td><td>&quot;2016-02-08 06:07:59&quot;</td><td>&quot;2016-02-08 06:37:59&quot;</td><td>39.928059</td><td>-82.831184</td><td>0.01</td><td>&quot;Accident on Brice Rd at Tussin…</td><td>&quot;Brice Rd&quot;</td><td>&quot;Reynoldsburg&quot;</td><td>&quot;Franklin&quot;</td><td>&quot;OH&quot;</td><td>&quot;43068-3402&quot;</td><td>&quot;US/Eastern&quot;</td><td>37.9</td><td>58.251048</td><td>100.0</td><td>29.65</td><td>10.0</td><td>&quot;Calm&quot;</td><td>7.68549</td><td>0.0</td><td>&quot;Light Rain&quot;</td><td>0</td><td>0</td><td>0</td><td>&quot;Night&quot;</td></tr><tr><td>&quot;Source2&quot;</td><td>2</td><td>&quot;2016-02-08 06:49:27&quot;</td><td>&quot;2016-02-08 07:19:27&quot;</td><td>39.063148</td><td>-84.032608</td><td>0.01</td><td>&quot;Accident on OH-32 State Route …</td><td>&quot;State Route 32&quot;</td><td>&quot;Williamsburg&quot;</td><td>&quot;Clermont&quot;</td><td>&quot;OH&quot;</td><td>&quot;45176&quot;</td><td>&quot;US/Eastern&quot;</td><td>36.0</td><td>33.3</td><td>100.0</td><td>29.67</td><td>10.0</td><td>&quot;SW&quot;</td><td>3.5</td><td>0.008407</td><td>&quot;Overcast&quot;</td><td>0</td><td>0</td><td>1</td><td>&quot;Night&quot;</td></tr><tr><td>&quot;Source2&quot;</td><td>3</td><td>&quot;2016-02-08 07:23:34&quot;</td><td>&quot;2016-02-08 07:53:34&quot;</td><td>39.747753</td><td>-84.205582</td><td>0.01</td><td>&quot;Accident on I-75 Southbound at…</td><td>&quot;I-75 S&quot;</td><td>&quot;Dayton&quot;</td><td>&quot;Montgomery&quot;</td><td>&quot;OH&quot;</td><td>&quot;45417&quot;</td><td>&quot;US/Eastern&quot;</td><td>35.1</td><td>31.0</td><td>96.0</td><td>29.64</td><td>9.0</td><td>&quot;SW&quot;</td><td>4.6</td><td>0.008407</td><td>&quot;Mostly Cloudy&quot;</td><td>0</td><td>0</td><td>0</td><td>&quot;Night&quot;</td></tr><tr><td>&quot;Source2&quot;</td><td>2</td><td>&quot;2016-02-08 07:39:07&quot;</td><td>&quot;2016-02-08 08:09:07&quot;</td><td>39.627781</td><td>-84.188354</td><td>0.01</td><td>&quot;Accident on McEwen Rd at OH-72…</td><td>&quot;Miamisburg Centerville Rd&quot;</td><td>&quot;Dayton&quot;</td><td>&quot;Montgomery&quot;</td><td>&quot;OH&quot;</td><td>&quot;45459&quot;</td><td>&quot;US/Eastern&quot;</td><td>36.0</td><td>33.3</td><td>89.0</td><td>29.65</td><td>6.0</td><td>&quot;SW&quot;</td><td>3.5</td><td>0.008407</td><td>&quot;Mostly Cloudy&quot;</td><td>0</td><td>0</td><td>1</td><td>&quot;Day&quot;</td></tr><tr><td>&quot;Source2&quot;</td><td>3</td><td>&quot;2016-02-08 07:44:26&quot;</td><td>&quot;2016-02-08 08:14:26&quot;</td><td>40.10059</td><td>-82.925194</td><td>0.01</td><td>&quot;Accident on I-270 Outerbelt No…</td><td>&quot;Westerville Rd&quot;</td><td>&quot;Westerville&quot;</td><td>&quot;Franklin&quot;</td><td>&quot;OH&quot;</td><td>&quot;43081&quot;</td><td>&quot;US/Eastern&quot;</td><td>37.9</td><td>35.5</td><td>97.0</td><td>29.63</td><td>7.0</td><td>&quot;SSW&quot;</td><td>3.5</td><td>0.03</td><td>&quot;Light Rain&quot;</td><td>0</td><td>0</td><td>0</td><td>&quot;Day&quot;</td></tr><tr><td>&quot;Source2&quot;</td><td>2</td><td>&quot;2016-02-08 07:59:35&quot;</td><td>&quot;2016-02-08 08:29:35&quot;</td><td>39.758274</td><td>-84.230507</td><td>0.0</td><td>&quot;Accident on Oakridge Dr at Woo…</td><td>&quot;N Woodward Ave&quot;</td><td>&quot;Dayton&quot;</td><td>&quot;Montgomery&quot;</td><td>&quot;OH&quot;</td><td>&quot;45417-2476&quot;</td><td>&quot;US/Eastern&quot;</td><td>34.0</td><td>31.0</td><td>100.0</td><td>29.66</td><td>7.0</td><td>&quot;WSW&quot;</td><td>3.5</td><td>0.008407</td><td>&quot;Overcast&quot;</td><td>0</td><td>0</td><td>0</td><td>&quot;Day&quot;</td></tr><tr><td>&quot;Source2&quot;</td><td>3</td><td>&quot;2016-02-08 07:59:58&quot;</td><td>&quot;2016-02-08 08:29:58&quot;</td><td>39.770382</td><td>-84.194901</td><td>0.01</td><td>&quot;Accident on I-75 Southbound at…</td><td>&quot;N Main St&quot;</td><td>&quot;Dayton&quot;</td><td>&quot;Montgomery&quot;</td><td>&quot;OH&quot;</td><td>&quot;45405&quot;</td><td>&quot;US/Eastern&quot;</td><td>34.0</td><td>31.0</td><td>100.0</td><td>29.66</td><td>7.0</td><td>&quot;WSW&quot;</td><td>3.5</td><td>0.008407</td><td>&quot;Overcast&quot;</td><td>0</td><td>0</td><td>0</td><td>&quot;Day&quot;</td></tr><tr><td>&quot;Source2&quot;</td><td>2</td><td>&quot;2016-02-08 08:00:40&quot;</td><td>&quot;2016-02-08 08:30:40&quot;</td><td>39.778061</td><td>-84.172005</td><td>0.0</td><td>&quot;Accident on Notre Dame Ave at …</td><td>&quot;Notre Dame Ave&quot;</td><td>&quot;Dayton&quot;</td><td>&quot;Montgomery&quot;</td><td>&quot;OH&quot;</td><td>&quot;45404-1923&quot;</td><td>&quot;US/Eastern&quot;</td><td>33.3</td><td>58.251048</td><td>99.0</td><td>29.67</td><td>5.0</td><td>&quot;SW&quot;</td><td>1.2</td><td>0.008407</td><td>&quot;Mostly Cloudy&quot;</td><td>0</td><td>0</td><td>0</td><td>&quot;Day&quot;</td></tr><tr><td>&quot;Source2&quot;</td><td>3</td><td>&quot;2016-02-08 08:10:04&quot;</td><td>&quot;2016-02-08 08:40:04&quot;</td><td>40.10059</td><td>-82.925194</td><td>0.01</td><td>&quot;Right hand shoulder blocked du…</td><td>&quot;Westerville Rd&quot;</td><td>&quot;Westerville&quot;</td><td>&quot;Franklin&quot;</td><td>&quot;OH&quot;</td><td>&quot;43081&quot;</td><td>&quot;US/Eastern&quot;</td><td>37.4</td><td>33.8</td><td>100.0</td><td>29.62</td><td>3.0</td><td>&quot;SSW&quot;</td><td>4.6</td><td>0.02</td><td>&quot;Light Rain&quot;</td><td>0</td><td>0</td><td>0</td><td>&quot;Day&quot;</td></tr></tbody></table></div>"
      ],
      "text/plain": [
       "shape: (10, 27)\n",
       "┌─────────┬──────────┬────────────┬─────────────────────┬───┬──────────┬──────────┬────────────────┬────────────────┐\n",
       "│ Source  ┆ Severity ┆ Start_Time ┆ End_Time            ┆ … ┆ Crossing ┆ Junction ┆ Traffic_Signal ┆ Sunrise_Sunset │\n",
       "│ ---     ┆ ---      ┆ ---        ┆ ---                 ┆   ┆ ---      ┆ ---      ┆ ---            ┆ ---            │\n",
       "│ str     ┆ i64      ┆ str        ┆ str                 ┆   ┆ i32      ┆ i32      ┆ i32            ┆ str            │\n",
       "╞═════════╪══════════╪════════════╪═════════════════════╪═══╪══════════╪══════════╪════════════════╪════════════════╡\n",
       "│ Source2 ┆ 3        ┆ 2016-02-08 ┆ 2016-02-08 11:00:00 ┆ … ┆ 0        ┆ 0        ┆ 0              ┆ Night          │\n",
       "│         ┆          ┆ 05:46:00   ┆                     ┆   ┆          ┆          ┆                ┆                │\n",
       "│ Source2 ┆ 2        ┆ 2016-02-08 ┆ 2016-02-08 06:37:59 ┆ … ┆ 0        ┆ 0        ┆ 0              ┆ Night          │\n",
       "│         ┆          ┆ 06:07:59   ┆                     ┆   ┆          ┆          ┆                ┆                │\n",
       "│ Source2 ┆ 2        ┆ 2016-02-08 ┆ 2016-02-08 07:19:27 ┆ … ┆ 0        ┆ 0        ┆ 1              ┆ Night          │\n",
       "│         ┆          ┆ 06:49:27   ┆                     ┆   ┆          ┆          ┆                ┆                │\n",
       "│ Source2 ┆ 3        ┆ 2016-02-08 ┆ 2016-02-08 07:53:34 ┆ … ┆ 0        ┆ 0        ┆ 0              ┆ Night          │\n",
       "│         ┆          ┆ 07:23:34   ┆                     ┆   ┆          ┆          ┆                ┆                │\n",
       "│ Source2 ┆ 2        ┆ 2016-02-08 ┆ 2016-02-08 08:09:07 ┆ … ┆ 0        ┆ 0        ┆ 1              ┆ Day            │\n",
       "│         ┆          ┆ 07:39:07   ┆                     ┆   ┆          ┆          ┆                ┆                │\n",
       "│ Source2 ┆ 3        ┆ 2016-02-08 ┆ 2016-02-08 08:14:26 ┆ … ┆ 0        ┆ 0        ┆ 0              ┆ Day            │\n",
       "│         ┆          ┆ 07:44:26   ┆                     ┆   ┆          ┆          ┆                ┆                │\n",
       "│ Source2 ┆ 2        ┆ 2016-02-08 ┆ 2016-02-08 08:29:35 ┆ … ┆ 0        ┆ 0        ┆ 0              ┆ Day            │\n",
       "│         ┆          ┆ 07:59:35   ┆                     ┆   ┆          ┆          ┆                ┆                │\n",
       "│ Source2 ┆ 3        ┆ 2016-02-08 ┆ 2016-02-08 08:29:58 ┆ … ┆ 0        ┆ 0        ┆ 0              ┆ Day            │\n",
       "│         ┆          ┆ 07:59:58   ┆                     ┆   ┆          ┆          ┆                ┆                │\n",
       "│ Source2 ┆ 2        ┆ 2016-02-08 ┆ 2016-02-08 08:30:40 ┆ … ┆ 0        ┆ 0        ┆ 0              ┆ Day            │\n",
       "│         ┆          ┆ 08:00:40   ┆                     ┆   ┆          ┆          ┆                ┆                │\n",
       "│ Source2 ┆ 3        ┆ 2016-02-08 ┆ 2016-02-08 08:40:04 ┆ … ┆ 0        ┆ 0        ┆ 0              ┆ Day            │\n",
       "│         ┆          ┆ 08:10:04   ┆                     ┆   ┆          ┆          ┆                ┆                │\n",
       "└─────────┴──────────┴────────────┴─────────────────────┴───┴──────────┴──────────┴────────────────┴────────────────┘"
      ]
     },
     "execution_count": 24,
     "metadata": {},
     "output_type": "execute_result"
    }
   ],
   "source": [
    "# List of columns to fill null values with mean\n",
    "cols_to_fill = ['Wind_Chill(F)', 'Wind_Speed(mph)', 'Visibility(mi)', 'Precipitation(in)', 'Temperature(F)', 'Humidity(%)', 'Pressure(in)']\n",
    "\n",
    "# Fill null values with the mean of the column\n",
    "df_drop = df_drop.with_columns([pl.col(col).fill_null(pl.col(col).mean()).alias(col) for col in cols_to_fill])\n",
    "df_drop.head(10)"
   ]
  },
  {
   "cell_type": "code",
   "execution_count": 25,
   "id": "5f5b6e1a-3a21-4268-98e3-e6bb7f2a1ca0",
   "metadata": {},
   "outputs": [
    {
     "name": "stdout",
     "output_type": "stream",
     "text": [
      "Null entries in Source : 0\n",
      "Null entries in Severity : 0\n",
      "Null entries in Start_Time : 0\n",
      "Null entries in End_Time : 0\n",
      "Null entries in Start_Lat : 0\n",
      "Null entries in Start_Lng : 0\n",
      "Null entries in Distance(mi) : 0\n",
      "Null entries in Description : 5\n",
      "Null entries in Street : 10869\n",
      "Null entries in City : 253\n",
      "Null entries in County : 0\n",
      "Null entries in State : 0\n",
      "Null entries in Zipcode : 1915\n",
      "Null entries in Timezone : 7808\n",
      "Null entries in Temperature(F) : 0\n",
      "Null entries in Wind_Chill(F) : 0\n",
      "Null entries in Humidity(%) : 0\n",
      "Null entries in Pressure(in) : 0\n",
      "Null entries in Visibility(mi) : 0\n",
      "Null entries in Wind_Direction : 175206\n",
      "Null entries in Wind_Speed(mph) : 0\n",
      "Null entries in Precipitation(in) : 0\n",
      "Null entries in Weather_Condition : 173459\n",
      "Null entries in Crossing : 0\n",
      "Null entries in Junction : 0\n",
      "Null entries in Traffic_Signal : 0\n",
      "Null entries in Sunrise_Sunset : 23246\n"
     ]
    }
   ],
   "source": [
    "cols = ['Source', 'Severity', 'Start_Time', 'End_Time', 'Start_Lat', 'Start_Lng', 'Distance(mi)', 'Description', 'Street','City', 'County', 'State', \n",
    "        'Zipcode', 'Timezone', 'Temperature(F)', 'Wind_Chill(F)','Humidity(%)', 'Pressure(in)', 'Visibility(mi)','Wind_Direction', 'Wind_Speed(mph)',\n",
    "        'Precipitation(in)', 'Weather_Condition', 'Crossing', 'Junction','Traffic_Signal', 'Sunrise_Sunset']\n",
    "for col in cols:\n",
    "    null_count = df_drop.select(pl.col(col).null_count())[0, 0]  # Get the count of nulls in the column\n",
    "    print(f\"Null entries in {col} : {null_count}\")"
   ]
  },
  {
   "cell_type": "code",
   "execution_count": 26,
   "id": "415f6931-ef93-4ab6-8342-72e451d4db8d",
   "metadata": {},
   "outputs": [
    {
     "data": {
      "text/html": [
       "<div><style>\n",
       ".dataframe > thead > tr,\n",
       ".dataframe > tbody > tr {\n",
       "  text-align: right;\n",
       "  white-space: pre-wrap;\n",
       "}\n",
       "</style>\n",
       "<small>shape: (3, 27)</small><table border=\"1\" class=\"dataframe\"><thead><tr><th>Source</th><th>Severity</th><th>Start_Time</th><th>End_Time</th><th>Start_Lat</th><th>Start_Lng</th><th>Distance(mi)</th><th>Description</th><th>Street</th><th>City</th><th>County</th><th>State</th><th>Zipcode</th><th>Timezone</th><th>Temperature(F)</th><th>Wind_Chill(F)</th><th>Humidity(%)</th><th>Pressure(in)</th><th>Visibility(mi)</th><th>Wind_Direction</th><th>Wind_Speed(mph)</th><th>Precipitation(in)</th><th>Weather_Condition</th><th>Crossing</th><th>Junction</th><th>Traffic_Signal</th><th>Sunrise_Sunset</th></tr><tr><td>str</td><td>i64</td><td>str</td><td>str</td><td>f64</td><td>f64</td><td>f64</td><td>str</td><td>str</td><td>str</td><td>str</td><td>str</td><td>str</td><td>str</td><td>f64</td><td>f64</td><td>f64</td><td>f64</td><td>f64</td><td>str</td><td>f64</td><td>f64</td><td>str</td><td>i32</td><td>i32</td><td>i32</td><td>str</td></tr></thead><tbody><tr><td>&quot;Source2&quot;</td><td>3</td><td>&quot;2016-02-08 05:46:00&quot;</td><td>&quot;2016-02-08 11:00:00&quot;</td><td>39.865147</td><td>-84.058723</td><td>0.01</td><td>&quot;Right lane blocked due to acci…</td><td>&quot;I-70 E&quot;</td><td>&quot;Dayton&quot;</td><td>&quot;Montgomery&quot;</td><td>&quot;OH&quot;</td><td>&quot;45424&quot;</td><td>&quot;US/Eastern&quot;</td><td>36.9</td><td>58.251048</td><td>91.0</td><td>29.68</td><td>10.0</td><td>&quot;Calm&quot;</td><td>7.68549</td><td>0.02</td><td>&quot;Light Rain&quot;</td><td>0</td><td>0</td><td>0</td><td>&quot;Night&quot;</td></tr><tr><td>&quot;Source2&quot;</td><td>2</td><td>&quot;2016-02-08 06:07:59&quot;</td><td>&quot;2016-02-08 06:37:59&quot;</td><td>39.928059</td><td>-82.831184</td><td>0.01</td><td>&quot;Accident on Brice Rd at Tussin…</td><td>&quot;Brice Rd&quot;</td><td>&quot;Reynoldsburg&quot;</td><td>&quot;Franklin&quot;</td><td>&quot;OH&quot;</td><td>&quot;43068-3402&quot;</td><td>&quot;US/Eastern&quot;</td><td>37.9</td><td>58.251048</td><td>100.0</td><td>29.65</td><td>10.0</td><td>&quot;Calm&quot;</td><td>7.68549</td><td>0.0</td><td>&quot;Light Rain&quot;</td><td>0</td><td>0</td><td>0</td><td>&quot;Night&quot;</td></tr><tr><td>&quot;Source2&quot;</td><td>2</td><td>&quot;2016-02-08 06:49:27&quot;</td><td>&quot;2016-02-08 07:19:27&quot;</td><td>39.063148</td><td>-84.032608</td><td>0.01</td><td>&quot;Accident on OH-32 State Route …</td><td>&quot;State Route 32&quot;</td><td>&quot;Williamsburg&quot;</td><td>&quot;Clermont&quot;</td><td>&quot;OH&quot;</td><td>&quot;45176&quot;</td><td>&quot;US/Eastern&quot;</td><td>36.0</td><td>33.3</td><td>100.0</td><td>29.67</td><td>10.0</td><td>&quot;SW&quot;</td><td>3.5</td><td>0.008407</td><td>&quot;Overcast&quot;</td><td>0</td><td>0</td><td>1</td><td>&quot;Night&quot;</td></tr></tbody></table></div>"
      ],
      "text/plain": [
       "shape: (3, 27)\n",
       "┌─────────┬──────────┬────────────┬─────────────────────┬───┬──────────┬──────────┬────────────────┬────────────────┐\n",
       "│ Source  ┆ Severity ┆ Start_Time ┆ End_Time            ┆ … ┆ Crossing ┆ Junction ┆ Traffic_Signal ┆ Sunrise_Sunset │\n",
       "│ ---     ┆ ---      ┆ ---        ┆ ---                 ┆   ┆ ---      ┆ ---      ┆ ---            ┆ ---            │\n",
       "│ str     ┆ i64      ┆ str        ┆ str                 ┆   ┆ i32      ┆ i32      ┆ i32            ┆ str            │\n",
       "╞═════════╪══════════╪════════════╪═════════════════════╪═══╪══════════╪══════════╪════════════════╪════════════════╡\n",
       "│ Source2 ┆ 3        ┆ 2016-02-08 ┆ 2016-02-08 11:00:00 ┆ … ┆ 0        ┆ 0        ┆ 0              ┆ Night          │\n",
       "│         ┆          ┆ 05:46:00   ┆                     ┆   ┆          ┆          ┆                ┆                │\n",
       "│ Source2 ┆ 2        ┆ 2016-02-08 ┆ 2016-02-08 06:37:59 ┆ … ┆ 0        ┆ 0        ┆ 0              ┆ Night          │\n",
       "│         ┆          ┆ 06:07:59   ┆                     ┆   ┆          ┆          ┆                ┆                │\n",
       "│ Source2 ┆ 2        ┆ 2016-02-08 ┆ 2016-02-08 07:19:27 ┆ … ┆ 0        ┆ 0        ┆ 1              ┆ Night          │\n",
       "│         ┆          ┆ 06:49:27   ┆                     ┆   ┆          ┆          ┆                ┆                │\n",
       "└─────────┴──────────┴────────────┴─────────────────────┴───┴──────────┴──────────┴────────────────┴────────────────┘"
      ]
     },
     "execution_count": 26,
     "metadata": {},
     "output_type": "execute_result"
    }
   ],
   "source": [
    "df_drop.head(3)"
   ]
  },
  {
   "cell_type": "code",
   "execution_count": 27,
   "id": "667184d8-de5c-477b-84f8-1298dfcc3e4a",
   "metadata": {},
   "outputs": [
    {
     "name": "stdout",
     "output_type": "stream",
     "text": [
      "Invalid Start_Time entries:\n",
      "shape: (0, 27)\n",
      "┌────────┬──────────┬────────────┬──────────┬───┬──────────┬──────────┬────────────────┬────────────────┐\n",
      "│ Source ┆ Severity ┆ Start_Time ┆ End_Time ┆ … ┆ Crossing ┆ Junction ┆ Traffic_Signal ┆ Sunrise_Sunset │\n",
      "│ ---    ┆ ---      ┆ ---        ┆ ---      ┆   ┆ ---      ┆ ---      ┆ ---            ┆ ---            │\n",
      "│ str    ┆ i64      ┆ str        ┆ str      ┆   ┆ i32      ┆ i32      ┆ i32            ┆ str            │\n",
      "╞════════╪══════════╪════════════╪══════════╪═══╪══════════╪══════════╪════════════════╪════════════════╡\n",
      "└────────┴──────────┴────────────┴──────────┴───┴──────────┴──────────┴────────────────┴────────────────┘\n",
      "Invalid End_Time entries:\n",
      "shape: (0, 27)\n",
      "┌────────┬──────────┬────────────┬──────────┬───┬──────────┬──────────┬────────────────┬────────────────┐\n",
      "│ Source ┆ Severity ┆ Start_Time ┆ End_Time ┆ … ┆ Crossing ┆ Junction ┆ Traffic_Signal ┆ Sunrise_Sunset │\n",
      "│ ---    ┆ ---      ┆ ---        ┆ ---      ┆   ┆ ---      ┆ ---      ┆ ---            ┆ ---            │\n",
      "│ str    ┆ i64      ┆ str        ┆ str      ┆   ┆ i32      ┆ i32      ┆ i32            ┆ str            │\n",
      "╞════════╪══════════╪════════════╪══════════╪═══╪══════════╪══════════╪════════════════╪════════════════╡\n",
      "└────────┴──────────┴────────────┴──────────┴───┴──────────┴──────────┴────────────────┴────────────────┘\n"
     ]
    }
   ],
   "source": [
    "# Step 1: Clean the datetime strings to remove fractional seconds\n",
    "df_drop = df_drop.with_columns([\n",
    "    pl.col('Start_Time').str.replace(r'\\.\\d+', '').alias('Start_Time'),  # Remove anything after the seconds\n",
    "    pl.col('End_Time').str.replace(r'\\.\\d+', '').alias('End_Time')      # Remove anything after the seconds\n",
    "])\n",
    "\n",
    "# Step 2: Identify invalid datetime entries (optional but useful for debugging)\n",
    "invalid_start = df_drop.filter(~pl.col('Start_Time').str.strptime(pl.Datetime, '%Y-%m-%d %H:%M:%S', strict=True).is_not_null())\n",
    "invalid_end = df_drop.filter(~pl.col('End_Time').str.strptime(pl.Datetime, '%Y-%m-%d %H:%M:%S', strict=True).is_not_null())\n",
    "\n",
    "print(\"Invalid Start_Time entries:\")\n",
    "print(invalid_start)\n",
    "\n",
    "print(\"Invalid End_Time entries:\")\n",
    "print(invalid_end)\n",
    "\n",
    "# Step 3: Convert the cleaned time data into workable DateTime objects with strict=False\n",
    "df_drop = df_drop.with_columns([\n",
    "    pl.col('Start_Time').str.strptime(pl.Datetime, '%Y-%m-%d %H:%M:%S', strict=False).alias('Start_Time'),\n",
    "    pl.col('End_Time').str.strptime(pl.Datetime, '%Y-%m-%d %H:%M:%S', strict=False).alias('End_Time')\n",
    "])\n",
    "\n",
    "# Breaking the start time into usable independent features\n",
    "df_drop = df_drop.with_columns([\n",
    "    pl.col('Start_Time').dt.year().alias('Year'),\n",
    "    pl.col('Start_Time').dt.month().alias('Month'),\n",
    "    pl.col('Start_Time').dt.day().alias('Day'),\n",
    "    pl.col('Start_Time').dt.hour().alias('Time_S'),\n",
    "    pl.col('Start_Time').dt.weekday().alias('Weekday'),\n",
    "    (pl.col('End_Time') - pl.col('Start_Time')).dt.total_seconds().alias('Duration')\n",
    "])\n",
    "\n",
    "# Drop the original Start_Time and End_Time columns\n",
    "df_drop = df_drop.drop(['Start_Time', 'End_Time'])"
   ]
  },
  {
   "cell_type": "code",
   "execution_count": 28,
   "id": "d2cbfc92-cb81-4847-b962-a8b9cc24cfd4",
   "metadata": {},
   "outputs": [
    {
     "data": {
      "text/html": [
       "<div><style>\n",
       ".dataframe > thead > tr,\n",
       ".dataframe > tbody > tr {\n",
       "  text-align: right;\n",
       "  white-space: pre-wrap;\n",
       "}\n",
       "</style>\n",
       "<small>shape: (15, 31)</small><table border=\"1\" class=\"dataframe\"><thead><tr><th>Source</th><th>Severity</th><th>Start_Lat</th><th>Start_Lng</th><th>Distance(mi)</th><th>Description</th><th>Street</th><th>City</th><th>County</th><th>State</th><th>Zipcode</th><th>Timezone</th><th>Temperature(F)</th><th>Wind_Chill(F)</th><th>Humidity(%)</th><th>Pressure(in)</th><th>Visibility(mi)</th><th>Wind_Direction</th><th>Wind_Speed(mph)</th><th>Precipitation(in)</th><th>Weather_Condition</th><th>Crossing</th><th>Junction</th><th>Traffic_Signal</th><th>Sunrise_Sunset</th><th>Year</th><th>Month</th><th>Day</th><th>Time_S</th><th>Weekday</th><th>Duration</th></tr><tr><td>str</td><td>i64</td><td>f64</td><td>f64</td><td>f64</td><td>str</td><td>str</td><td>str</td><td>str</td><td>str</td><td>str</td><td>str</td><td>f64</td><td>f64</td><td>f64</td><td>f64</td><td>f64</td><td>str</td><td>f64</td><td>f64</td><td>str</td><td>i32</td><td>i32</td><td>i32</td><td>str</td><td>i32</td><td>i8</td><td>i8</td><td>i8</td><td>i8</td><td>i64</td></tr></thead><tbody><tr><td>&quot;Source2&quot;</td><td>3</td><td>39.865147</td><td>-84.058723</td><td>0.01</td><td>&quot;Right lane blocked due to acci…</td><td>&quot;I-70 E&quot;</td><td>&quot;Dayton&quot;</td><td>&quot;Montgomery&quot;</td><td>&quot;OH&quot;</td><td>&quot;45424&quot;</td><td>&quot;US/Eastern&quot;</td><td>36.9</td><td>58.251048</td><td>91.0</td><td>29.68</td><td>10.0</td><td>&quot;Calm&quot;</td><td>7.68549</td><td>0.02</td><td>&quot;Light Rain&quot;</td><td>0</td><td>0</td><td>0</td><td>&quot;Night&quot;</td><td>2016</td><td>2</td><td>8</td><td>5</td><td>1</td><td>18840</td></tr><tr><td>&quot;Source2&quot;</td><td>2</td><td>39.928059</td><td>-82.831184</td><td>0.01</td><td>&quot;Accident on Brice Rd at Tussin…</td><td>&quot;Brice Rd&quot;</td><td>&quot;Reynoldsburg&quot;</td><td>&quot;Franklin&quot;</td><td>&quot;OH&quot;</td><td>&quot;43068-3402&quot;</td><td>&quot;US/Eastern&quot;</td><td>37.9</td><td>58.251048</td><td>100.0</td><td>29.65</td><td>10.0</td><td>&quot;Calm&quot;</td><td>7.68549</td><td>0.0</td><td>&quot;Light Rain&quot;</td><td>0</td><td>0</td><td>0</td><td>&quot;Night&quot;</td><td>2016</td><td>2</td><td>8</td><td>6</td><td>1</td><td>1800</td></tr><tr><td>&quot;Source2&quot;</td><td>2</td><td>39.063148</td><td>-84.032608</td><td>0.01</td><td>&quot;Accident on OH-32 State Route …</td><td>&quot;State Route 32&quot;</td><td>&quot;Williamsburg&quot;</td><td>&quot;Clermont&quot;</td><td>&quot;OH&quot;</td><td>&quot;45176&quot;</td><td>&quot;US/Eastern&quot;</td><td>36.0</td><td>33.3</td><td>100.0</td><td>29.67</td><td>10.0</td><td>&quot;SW&quot;</td><td>3.5</td><td>0.008407</td><td>&quot;Overcast&quot;</td><td>0</td><td>0</td><td>1</td><td>&quot;Night&quot;</td><td>2016</td><td>2</td><td>8</td><td>6</td><td>1</td><td>1800</td></tr><tr><td>&quot;Source2&quot;</td><td>3</td><td>39.747753</td><td>-84.205582</td><td>0.01</td><td>&quot;Accident on I-75 Southbound at…</td><td>&quot;I-75 S&quot;</td><td>&quot;Dayton&quot;</td><td>&quot;Montgomery&quot;</td><td>&quot;OH&quot;</td><td>&quot;45417&quot;</td><td>&quot;US/Eastern&quot;</td><td>35.1</td><td>31.0</td><td>96.0</td><td>29.64</td><td>9.0</td><td>&quot;SW&quot;</td><td>4.6</td><td>0.008407</td><td>&quot;Mostly Cloudy&quot;</td><td>0</td><td>0</td><td>0</td><td>&quot;Night&quot;</td><td>2016</td><td>2</td><td>8</td><td>7</td><td>1</td><td>1800</td></tr><tr><td>&quot;Source2&quot;</td><td>2</td><td>39.627781</td><td>-84.188354</td><td>0.01</td><td>&quot;Accident on McEwen Rd at OH-72…</td><td>&quot;Miamisburg Centerville Rd&quot;</td><td>&quot;Dayton&quot;</td><td>&quot;Montgomery&quot;</td><td>&quot;OH&quot;</td><td>&quot;45459&quot;</td><td>&quot;US/Eastern&quot;</td><td>36.0</td><td>33.3</td><td>89.0</td><td>29.65</td><td>6.0</td><td>&quot;SW&quot;</td><td>3.5</td><td>0.008407</td><td>&quot;Mostly Cloudy&quot;</td><td>0</td><td>0</td><td>1</td><td>&quot;Day&quot;</td><td>2016</td><td>2</td><td>8</td><td>7</td><td>1</td><td>1800</td></tr><tr><td>&hellip;</td><td>&hellip;</td><td>&hellip;</td><td>&hellip;</td><td>&hellip;</td><td>&hellip;</td><td>&hellip;</td><td>&hellip;</td><td>&hellip;</td><td>&hellip;</td><td>&hellip;</td><td>&hellip;</td><td>&hellip;</td><td>&hellip;</td><td>&hellip;</td><td>&hellip;</td><td>&hellip;</td><td>&hellip;</td><td>&hellip;</td><td>&hellip;</td><td>&hellip;</td><td>&hellip;</td><td>&hellip;</td><td>&hellip;</td><td>&hellip;</td><td>&hellip;</td><td>&hellip;</td><td>&hellip;</td><td>&hellip;</td><td>&hellip;</td><td>&hellip;</td></tr><tr><td>&quot;Source2&quot;</td><td>3</td><td>39.952812</td><td>-83.119293</td><td>0.01</td><td>&quot;Accident on I-270 Outerbelt No…</td><td>&quot;Outerbelt S&quot;</td><td>&quot;Columbus&quot;</td><td>&quot;Franklin&quot;</td><td>&quot;OH&quot;</td><td>&quot;43228&quot;</td><td>&quot;US/Eastern&quot;</td><td>35.6</td><td>30.7</td><td>93.0</td><td>29.64</td><td>5.0</td><td>&quot;WNW&quot;</td><td>5.8</td><td>0.008407</td><td>&quot;Rain&quot;</td><td>1</td><td>1</td><td>0</td><td>&quot;Day&quot;</td><td>2016</td><td>2</td><td>8</td><td>8</td><td>1</td><td>1800</td></tr><tr><td>&quot;Source2&quot;</td><td>3</td><td>39.932709</td><td>-82.83091</td><td>0.01</td><td>&quot;One lane blocked due to accide…</td><td>&quot;I-70 E&quot;</td><td>&quot;Reynoldsburg&quot;</td><td>&quot;Franklin&quot;</td><td>&quot;OH&quot;</td><td>&quot;43068&quot;</td><td>&quot;US/Eastern&quot;</td><td>37.4</td><td>33.8</td><td>100.0</td><td>29.62</td><td>3.0</td><td>&quot;SSW&quot;</td><td>4.6</td><td>0.02</td><td>&quot;Light Rain&quot;</td><td>0</td><td>0</td><td>0</td><td>&quot;Day&quot;</td><td>2016</td><td>2</td><td>8</td><td>8</td><td>1</td><td>1800</td></tr><tr><td>&quot;Source2&quot;</td><td>2</td><td>39.737633</td><td>-84.149933</td><td>0.0</td><td>&quot;Accident on Revere Ave at Wate…</td><td>&quot;Watervliet Ave&quot;</td><td>&quot;Dayton&quot;</td><td>&quot;Montgomery&quot;</td><td>&quot;OH&quot;</td><td>&quot;45420-1863&quot;</td><td>&quot;US/Eastern&quot;</td><td>33.8</td><td>58.251048</td><td>100.0</td><td>29.63</td><td>3.0</td><td>&quot;SW&quot;</td><td>2.3</td><td>0.008407</td><td>&quot;Overcast&quot;</td><td>0</td><td>0</td><td>0</td><td>&quot;Day&quot;</td><td>2016</td><td>2</td><td>8</td><td>8</td><td>1</td><td>1800</td></tr><tr><td>&quot;Source2&quot;</td><td>2</td><td>39.79076</td><td>-84.241547</td><td>0.01</td><td>&quot;Accident on Salem Ave at Hillc…</td><td>&quot;Salem Ave&quot;</td><td>&quot;Dayton&quot;</td><td>&quot;Montgomery&quot;</td><td>&quot;OH&quot;</td><td>&quot;45406-2708&quot;</td><td>&quot;US/Eastern&quot;</td><td>36.0</td><td>31.1</td><td>89.0</td><td>29.65</td><td>10.0</td><td>&quot;NW&quot;</td><td>5.8</td><td>0.008407</td><td>&quot;Mostly Cloudy&quot;</td><td>0</td><td>0</td><td>1</td><td>&quot;Day&quot;</td><td>2016</td><td>2</td><td>8</td><td>8</td><td>1</td><td>1800</td></tr><tr><td>&quot;Source2&quot;</td><td>2</td><td>39.972038</td><td>-82.913521</td><td>0.01</td><td>&quot;Accident on OH-16 Broad St at …</td><td>&quot;E Broad St&quot;</td><td>&quot;Columbus&quot;</td><td>&quot;Franklin&quot;</td><td>&quot;OH&quot;</td><td>&quot;43213-1006&quot;</td><td>&quot;US/Eastern&quot;</td><td>37.4</td><td>33.8</td><td>100.0</td><td>29.62</td><td>3.0</td><td>&quot;SSW&quot;</td><td>4.6</td><td>0.02</td><td>&quot;Light Rain&quot;</td><td>0</td><td>0</td><td>1</td><td>&quot;Day&quot;</td><td>2016</td><td>2</td><td>8</td><td>8</td><td>1</td><td>1800</td></tr></tbody></table></div>"
      ],
      "text/plain": [
       "shape: (15, 31)\n",
       "┌─────────┬──────────┬───────────┬────────────┬───┬─────┬────────┬─────────┬──────────┐\n",
       "│ Source  ┆ Severity ┆ Start_Lat ┆ Start_Lng  ┆ … ┆ Day ┆ Time_S ┆ Weekday ┆ Duration │\n",
       "│ ---     ┆ ---      ┆ ---       ┆ ---        ┆   ┆ --- ┆ ---    ┆ ---     ┆ ---      │\n",
       "│ str     ┆ i64      ┆ f64       ┆ f64        ┆   ┆ i8  ┆ i8     ┆ i8      ┆ i64      │\n",
       "╞═════════╪══════════╪═══════════╪════════════╪═══╪═════╪════════╪═════════╪══════════╡\n",
       "│ Source2 ┆ 3        ┆ 39.865147 ┆ -84.058723 ┆ … ┆ 8   ┆ 5      ┆ 1       ┆ 18840    │\n",
       "│ Source2 ┆ 2        ┆ 39.928059 ┆ -82.831184 ┆ … ┆ 8   ┆ 6      ┆ 1       ┆ 1800     │\n",
       "│ Source2 ┆ 2        ┆ 39.063148 ┆ -84.032608 ┆ … ┆ 8   ┆ 6      ┆ 1       ┆ 1800     │\n",
       "│ Source2 ┆ 3        ┆ 39.747753 ┆ -84.205582 ┆ … ┆ 8   ┆ 7      ┆ 1       ┆ 1800     │\n",
       "│ Source2 ┆ 2        ┆ 39.627781 ┆ -84.188354 ┆ … ┆ 8   ┆ 7      ┆ 1       ┆ 1800     │\n",
       "│ …       ┆ …        ┆ …         ┆ …          ┆ … ┆ …   ┆ …      ┆ …       ┆ …        │\n",
       "│ Source2 ┆ 3        ┆ 39.952812 ┆ -83.119293 ┆ … ┆ 8   ┆ 8      ┆ 1       ┆ 1800     │\n",
       "│ Source2 ┆ 3        ┆ 39.932709 ┆ -82.83091  ┆ … ┆ 8   ┆ 8      ┆ 1       ┆ 1800     │\n",
       "│ Source2 ┆ 2        ┆ 39.737633 ┆ -84.149933 ┆ … ┆ 8   ┆ 8      ┆ 1       ┆ 1800     │\n",
       "│ Source2 ┆ 2        ┆ 39.79076  ┆ -84.241547 ┆ … ┆ 8   ┆ 8      ┆ 1       ┆ 1800     │\n",
       "│ Source2 ┆ 2        ┆ 39.972038 ┆ -82.913521 ┆ … ┆ 8   ┆ 8      ┆ 1       ┆ 1800     │\n",
       "└─────────┴──────────┴───────────┴────────────┴───┴─────┴────────┴─────────┴──────────┘"
      ]
     },
     "execution_count": 28,
     "metadata": {},
     "output_type": "execute_result"
    }
   ],
   "source": [
    "df_drop.head(15)"
   ]
  },
  {
   "cell_type": "code",
   "execution_count": 29,
   "id": "ce0cd205-0a81-4711-89af-0097c7e2a48f",
   "metadata": {},
   "outputs": [
    {
     "name": "stdout",
     "output_type": "stream",
     "text": [
      "Null entries in Source : 0\n",
      "Null entries in Severity : 0\n",
      "Null entries in Start_Lat : 0\n",
      "Null entries in Start_Lng : 0\n",
      "Null entries in Distance(mi) : 0\n",
      "Null entries in Description : 5\n",
      "Null entries in Street : 10869\n",
      "Null entries in City : 253\n",
      "Null entries in County : 0\n",
      "Null entries in State : 0\n",
      "Null entries in Zipcode : 1915\n",
      "Null entries in Timezone : 7808\n",
      "Null entries in Temperature(F) : 0\n",
      "Null entries in Wind_Chill(F) : 0\n",
      "Null entries in Humidity(%) : 0\n",
      "Null entries in Pressure(in) : 0\n",
      "Null entries in Visibility(mi) : 0\n",
      "Null entries in Wind_Direction : 175206\n",
      "Null entries in Wind_Speed(mph) : 0\n",
      "Null entries in Precipitation(in) : 0\n",
      "Null entries in Weather_Condition : 173459\n",
      "Null entries in Crossing : 0\n",
      "Null entries in Junction : 0\n",
      "Null entries in Traffic_Signal : 0\n",
      "Null entries in Sunrise_Sunset : 23246\n",
      "Null entries in Year : 0\n",
      "Null entries in Month : 0\n",
      "Null entries in Day : 0\n",
      "Null entries in Time_S : 0\n",
      "Null entries in Weekday : 0\n",
      "Null entries in Duration : 0\n"
     ]
    }
   ],
   "source": [
    "cols = ['Source', 'Severity', 'Start_Lat', 'Start_Lng', 'Distance(mi)', 'Description', 'Street','City', 'County', 'State', 'Zipcode', 'Timezone', \n",
    "        'Temperature(F)', 'Wind_Chill(F)','Humidity(%)', 'Pressure(in)', 'Visibility(mi)','Wind_Direction', 'Wind_Speed(mph)','Precipitation(in)', \n",
    "        'Weather_Condition', 'Crossing', 'Junction','Traffic_Signal', 'Sunrise_Sunset', 'Year', 'Month', 'Day', 'Time_S', 'Weekday', 'Duration']\n",
    "for col in cols:\n",
    "    null_count = df_drop.select(pl.col(col).null_count())[0, 0]  # Get the count of nulls in the column\n",
    "    print(f\"Null entries in {col} : {null_count}\")"
   ]
  },
  {
   "cell_type": "code",
   "execution_count": 30,
   "id": "27887950-5c37-47ff-9292-ddd3620b5bd6",
   "metadata": {},
   "outputs": [
    {
     "data": {
      "text/plain": [
       "31"
      ]
     },
     "execution_count": 30,
     "metadata": {},
     "output_type": "execute_result"
    }
   ],
   "source": [
    "df_drop.width"
   ]
  },
  {
   "cell_type": "code",
   "execution_count": 31,
   "id": "1c7730a3-cd12-4e3e-a416-91fbba8f21f6",
   "metadata": {},
   "outputs": [
    {
     "data": {
      "text/plain": [
       "7728394"
      ]
     },
     "execution_count": 31,
     "metadata": {},
     "output_type": "execute_result"
    }
   ],
   "source": [
    "df_drop.height"
   ]
  },
  {
   "cell_type": "code",
   "execution_count": 32,
   "id": "c6ac7059-e2eb-4f3a-b922-c4db74446135",
   "metadata": {},
   "outputs": [],
   "source": [
    "# Filtering out rows where 'Weather_Condition' or 'Wind_Direction' are null\n",
    "df_drop = df_drop.filter(~pl.col('Weather_Condition').is_null() | ~pl.col('Wind_Direction').is_null())"
   ]
  },
  {
   "cell_type": "code",
   "execution_count": 33,
   "id": "8ee643e2-4bb4-4cbd-8b99-8e1f0f918acd",
   "metadata": {},
   "outputs": [
    {
     "data": {
      "text/plain": [
       "7593604"
      ]
     },
     "execution_count": 33,
     "metadata": {},
     "output_type": "execute_result"
    }
   ],
   "source": [
    "df_drop.height"
   ]
  },
  {
   "cell_type": "code",
   "execution_count": 34,
   "id": "4f8f16bc-8cd1-48e6-8a66-8c6296e9fa16",
   "metadata": {},
   "outputs": [
    {
     "name": "stdout",
     "output_type": "stream",
     "text": [
      "['SE', 'SSW', 'NE', 'Calm', 'W', 'S', 'North', 'E', 'NNW', 'N', 'NW', 'East', 'WNW', 'CALM', 'WSW', 'VAR', 'West', 'South', 'NNE', 'ENE', 'SW', 'SSE', 'ESE', 'Variable', None]\n"
     ]
    }
   ],
   "source": [
    "unique_values = df_drop[\"Wind_Direction\"].unique()\n",
    "print(unique_values.to_list())"
   ]
  },
  {
   "cell_type": "code",
   "execution_count": 35,
   "id": "ad1af222-a7db-4015-9a67-a76de820854f",
   "metadata": {},
   "outputs": [
    {
     "data": {
      "text/html": [
       "<div><style>\n",
       ".dataframe > thead > tr,\n",
       ".dataframe > tbody > tr {\n",
       "  text-align: right;\n",
       "  white-space: pre-wrap;\n",
       "}\n",
       "</style>\n",
       "<small>shape: (3, 31)</small><table border=\"1\" class=\"dataframe\"><thead><tr><th>Source</th><th>Severity</th><th>Start_Lat</th><th>Start_Lng</th><th>Distance(mi)</th><th>Description</th><th>Street</th><th>City</th><th>County</th><th>State</th><th>Zipcode</th><th>Timezone</th><th>Temperature(F)</th><th>Wind_Chill(F)</th><th>Humidity(%)</th><th>Pressure(in)</th><th>Visibility(mi)</th><th>Wind_Direction</th><th>Wind_Speed(mph)</th><th>Precipitation(in)</th><th>Weather_Condition</th><th>Crossing</th><th>Junction</th><th>Traffic_Signal</th><th>Sunrise_Sunset</th><th>Year</th><th>Month</th><th>Day</th><th>Time_S</th><th>Weekday</th><th>Duration</th></tr><tr><td>str</td><td>i64</td><td>f64</td><td>f64</td><td>f64</td><td>str</td><td>str</td><td>str</td><td>str</td><td>str</td><td>str</td><td>str</td><td>f64</td><td>f64</td><td>f64</td><td>f64</td><td>f64</td><td>str</td><td>f64</td><td>f64</td><td>str</td><td>i32</td><td>i32</td><td>i32</td><td>str</td><td>i32</td><td>i8</td><td>i8</td><td>i8</td><td>i8</td><td>i64</td></tr></thead><tbody><tr><td>&quot;Source2&quot;</td><td>3</td><td>39.865147</td><td>-84.058723</td><td>0.01</td><td>&quot;Right lane blocked due to acci…</td><td>&quot;I-70 E&quot;</td><td>&quot;Dayton&quot;</td><td>&quot;Montgomery&quot;</td><td>&quot;OH&quot;</td><td>&quot;45424&quot;</td><td>&quot;US/Eastern&quot;</td><td>36.9</td><td>58.251048</td><td>91.0</td><td>29.68</td><td>10.0</td><td>&quot;Calm&quot;</td><td>7.68549</td><td>0.02</td><td>&quot;Light Rain&quot;</td><td>0</td><td>0</td><td>0</td><td>&quot;Night&quot;</td><td>2016</td><td>2</td><td>8</td><td>5</td><td>1</td><td>18840</td></tr><tr><td>&quot;Source2&quot;</td><td>2</td><td>39.928059</td><td>-82.831184</td><td>0.01</td><td>&quot;Accident on Brice Rd at Tussin…</td><td>&quot;Brice Rd&quot;</td><td>&quot;Reynoldsburg&quot;</td><td>&quot;Franklin&quot;</td><td>&quot;OH&quot;</td><td>&quot;43068-3402&quot;</td><td>&quot;US/Eastern&quot;</td><td>37.9</td><td>58.251048</td><td>100.0</td><td>29.65</td><td>10.0</td><td>&quot;Calm&quot;</td><td>7.68549</td><td>0.0</td><td>&quot;Light Rain&quot;</td><td>0</td><td>0</td><td>0</td><td>&quot;Night&quot;</td><td>2016</td><td>2</td><td>8</td><td>6</td><td>1</td><td>1800</td></tr><tr><td>&quot;Source2&quot;</td><td>2</td><td>39.063148</td><td>-84.032608</td><td>0.01</td><td>&quot;Accident on OH-32 State Route …</td><td>&quot;State Route 32&quot;</td><td>&quot;Williamsburg&quot;</td><td>&quot;Clermont&quot;</td><td>&quot;OH&quot;</td><td>&quot;45176&quot;</td><td>&quot;US/Eastern&quot;</td><td>36.0</td><td>33.3</td><td>100.0</td><td>29.67</td><td>10.0</td><td>&quot;SW&quot;</td><td>3.5</td><td>0.008407</td><td>&quot;Overcast&quot;</td><td>0</td><td>0</td><td>1</td><td>&quot;Night&quot;</td><td>2016</td><td>2</td><td>8</td><td>6</td><td>1</td><td>1800</td></tr></tbody></table></div>"
      ],
      "text/plain": [
       "shape: (3, 31)\n",
       "┌─────────┬──────────┬───────────┬────────────┬───┬─────┬────────┬─────────┬──────────┐\n",
       "│ Source  ┆ Severity ┆ Start_Lat ┆ Start_Lng  ┆ … ┆ Day ┆ Time_S ┆ Weekday ┆ Duration │\n",
       "│ ---     ┆ ---      ┆ ---       ┆ ---        ┆   ┆ --- ┆ ---    ┆ ---     ┆ ---      │\n",
       "│ str     ┆ i64      ┆ f64       ┆ f64        ┆   ┆ i8  ┆ i8     ┆ i8      ┆ i64      │\n",
       "╞═════════╪══════════╪═══════════╪════════════╪═══╪═════╪════════╪═════════╪══════════╡\n",
       "│ Source2 ┆ 3        ┆ 39.865147 ┆ -84.058723 ┆ … ┆ 8   ┆ 5      ┆ 1       ┆ 18840    │\n",
       "│ Source2 ┆ 2        ┆ 39.928059 ┆ -82.831184 ┆ … ┆ 8   ┆ 6      ┆ 1       ┆ 1800     │\n",
       "│ Source2 ┆ 2        ┆ 39.063148 ┆ -84.032608 ┆ … ┆ 8   ┆ 6      ┆ 1       ┆ 1800     │\n",
       "└─────────┴──────────┴───────────┴────────────┴───┴─────┴────────┴─────────┴──────────┘"
      ]
     },
     "execution_count": 35,
     "metadata": {},
     "output_type": "execute_result"
    }
   ],
   "source": [
    "df_drop.head(3)"
   ]
  },
  {
   "cell_type": "code",
   "execution_count": 36,
   "id": "dcd65b83-1407-4f86-9922-cd993421655c",
   "metadata": {},
   "outputs": [],
   "source": [
    "#as we can see S means the same as South and N means the same as North and so on, hence cleaning this up\n",
    "df_drop = df_drop.with_columns(\n",
    "    pl.when(pl.col('Wind_Direction') == 'Calm').then(pl.lit('CALM'))\n",
    "    .when(pl.col('Wind_Direction') == 'North').then(pl.lit('N'))\n",
    "    .when(pl.col('Wind_Direction') == 'South').then(pl.lit('S'))\n",
    "    .when(pl.col('Wind_Direction') == 'East').then(pl.lit('E'))\n",
    "    .when(pl.col('Wind_Direction') == 'West').then(pl.lit('W'))\n",
    "    .when(pl.col('Wind_Direction') == 'Variable').then(pl.lit('VAR'))\n",
    "    .otherwise(pl.col('Wind_Direction'))  # Retain original value if no match\n",
    "    .alias('Wind_Direction')  # Rename back to 'Wind_Direction'\n",
    ")"
   ]
  },
  {
   "cell_type": "code",
   "execution_count": 37,
   "id": "4eda16d1-099c-402a-a853-f18d91ac4883",
   "metadata": {},
   "outputs": [
    {
     "name": "stdout",
     "output_type": "stream",
     "text": [
      "[None, 'SSW', 'CALM', 'NNW', 'NE', 'ENE', 'WSW', 'W', 'WNW', 'S', 'SSE', 'N', 'SE', 'NNE', 'ESE', 'VAR', 'NW', 'E', 'SW']\n"
     ]
    }
   ],
   "source": [
    "unique_values = df_drop[\"Wind_Direction\"].unique()\n",
    "print(unique_values.to_list())"
   ]
  },
  {
   "cell_type": "code",
   "execution_count": 38,
   "id": "3c05e067-aeb4-493c-b197-3464f3d17113",
   "metadata": {},
   "outputs": [],
   "source": [
    "# Binning Time of Day\n",
    "df_drop = df_drop.with_columns(\n",
    "    pl.when(pl.col('Time_S').lt(6)).then(pl.lit('Early Morning'))\n",
    "    .when(pl.col('Time_S').lt(12)).then(pl.lit('Morning'))\n",
    "    .when(pl.col('Time_S').lt(18)).then(pl.lit('Afternoon'))\n",
    "    .when(pl.col('Time_S').lt(24)).then(pl.lit('Evening'))\n",
    "    .otherwise(pl.lit('Unknown')).alias('TimeofDay')\n",
    ")"
   ]
  },
  {
   "cell_type": "code",
   "execution_count": 39,
   "id": "74e1e8d4-a30c-4926-8c7b-4a7da5762a9b",
   "metadata": {},
   "outputs": [
    {
     "name": "stdout",
     "output_type": "stream",
     "text": [
      "shape: (0, 32)\n",
      "┌────────┬──────────┬───────────┬───────────┬───┬────────┬─────────┬──────────┬───────────┐\n",
      "│ Source ┆ Severity ┆ Start_Lat ┆ Start_Lng ┆ … ┆ Time_S ┆ Weekday ┆ Duration ┆ TimeofDay │\n",
      "│ ---    ┆ ---      ┆ ---       ┆ ---       ┆   ┆ ---    ┆ ---     ┆ ---      ┆ ---       │\n",
      "│ str    ┆ i64      ┆ f64       ┆ f64       ┆   ┆ i8     ┆ i8      ┆ i64      ┆ str       │\n",
      "╞════════╪══════════╪═══════════╪═══════════╪═══╪════════╪═════════╪══════════╪═══════════╡\n",
      "└────────┴──────────┴───────────┴───────────┴───┴────────┴─────────┴──────────┴───────────┘\n"
     ]
    }
   ],
   "source": [
    "result = df_drop.filter(pl.col('TimeofDay') == 'Unknown')\n",
    "print(result)"
   ]
  },
  {
   "cell_type": "code",
   "execution_count": 40,
   "id": "06d5fe3c-b2fa-4e9c-84fa-a29220ab72f7",
   "metadata": {},
   "outputs": [],
   "source": [
    "# Binning Seasons\n",
    "df_drop = df_drop.with_columns(\n",
    "    pl.when(pl.col('Month').is_in([12, 1, 2])).then(pl.lit('Winter'))\n",
    "    .when(pl.col('Month').is_in([3, 4, 5])).then(pl.lit('Spring'))\n",
    "    .when(pl.col('Month').is_in([6, 7, 8])).then(pl.lit('Summer'))\n",
    "    .when(pl.col('Month').is_in([9, 10, 11])).then(pl.lit('Autumn'))\n",
    "    .otherwise(pl.lit('Unknown')).alias('Season')\n",
    ")"
   ]
  },
  {
   "cell_type": "code",
   "execution_count": 41,
   "id": "b3d4f10e-3f8b-4ced-8a9b-7ca2385d9bf4",
   "metadata": {},
   "outputs": [
    {
     "name": "stdout",
     "output_type": "stream",
     "text": [
      "shape: (0, 33)\n",
      "┌────────┬──────────┬───────────┬───────────┬───┬─────────┬──────────┬───────────┬────────┐\n",
      "│ Source ┆ Severity ┆ Start_Lat ┆ Start_Lng ┆ … ┆ Weekday ┆ Duration ┆ TimeofDay ┆ Season │\n",
      "│ ---    ┆ ---      ┆ ---       ┆ ---       ┆   ┆ ---     ┆ ---      ┆ ---       ┆ ---    │\n",
      "│ str    ┆ i64      ┆ f64       ┆ f64       ┆   ┆ i8      ┆ i64      ┆ str       ┆ str    │\n",
      "╞════════╪══════════╪═══════════╪═══════════╪═══╪═════════╪══════════╪═══════════╪════════╡\n",
      "└────────┴──────────┴───────────┴───────────┴───┴─────────┴──────────┴───────────┴────────┘\n"
     ]
    }
   ],
   "source": [
    "result = df_drop.filter(pl.col('Season') == 'Unknown')\n",
    "print(result)"
   ]
  },
  {
   "cell_type": "code",
   "execution_count": 42,
   "id": "5f8d548a-dcb6-402e-80ef-2bbbdefe190f",
   "metadata": {},
   "outputs": [
    {
     "data": {
      "text/html": [
       "<div><style>\n",
       ".dataframe > thead > tr,\n",
       ".dataframe > tbody > tr {\n",
       "  text-align: right;\n",
       "  white-space: pre-wrap;\n",
       "}\n",
       "</style>\n",
       "<small>shape: (3, 33)</small><table border=\"1\" class=\"dataframe\"><thead><tr><th>Source</th><th>Severity</th><th>Start_Lat</th><th>Start_Lng</th><th>Distance(mi)</th><th>Description</th><th>Street</th><th>City</th><th>County</th><th>State</th><th>Zipcode</th><th>Timezone</th><th>Temperature(F)</th><th>Wind_Chill(F)</th><th>Humidity(%)</th><th>Pressure(in)</th><th>Visibility(mi)</th><th>Wind_Direction</th><th>Wind_Speed(mph)</th><th>Precipitation(in)</th><th>Weather_Condition</th><th>Crossing</th><th>Junction</th><th>Traffic_Signal</th><th>Sunrise_Sunset</th><th>Year</th><th>Month</th><th>Day</th><th>Time_S</th><th>Weekday</th><th>Duration</th><th>TimeofDay</th><th>Season</th></tr><tr><td>str</td><td>i64</td><td>f64</td><td>f64</td><td>f64</td><td>str</td><td>str</td><td>str</td><td>str</td><td>str</td><td>str</td><td>str</td><td>f64</td><td>f64</td><td>f64</td><td>f64</td><td>f64</td><td>str</td><td>f64</td><td>f64</td><td>str</td><td>i32</td><td>i32</td><td>i32</td><td>str</td><td>i32</td><td>i8</td><td>i8</td><td>i8</td><td>i8</td><td>i64</td><td>str</td><td>str</td></tr></thead><tbody><tr><td>&quot;Source2&quot;</td><td>3</td><td>39.865147</td><td>-84.058723</td><td>0.01</td><td>&quot;Right lane blocked due to acci…</td><td>&quot;I-70 E&quot;</td><td>&quot;Dayton&quot;</td><td>&quot;Montgomery&quot;</td><td>&quot;OH&quot;</td><td>&quot;45424&quot;</td><td>&quot;US/Eastern&quot;</td><td>36.9</td><td>58.251048</td><td>91.0</td><td>29.68</td><td>10.0</td><td>&quot;CALM&quot;</td><td>7.68549</td><td>0.02</td><td>&quot;Light Rain&quot;</td><td>0</td><td>0</td><td>0</td><td>&quot;Night&quot;</td><td>2016</td><td>2</td><td>8</td><td>5</td><td>1</td><td>18840</td><td>&quot;Early Morning&quot;</td><td>&quot;Winter&quot;</td></tr><tr><td>&quot;Source2&quot;</td><td>2</td><td>39.928059</td><td>-82.831184</td><td>0.01</td><td>&quot;Accident on Brice Rd at Tussin…</td><td>&quot;Brice Rd&quot;</td><td>&quot;Reynoldsburg&quot;</td><td>&quot;Franklin&quot;</td><td>&quot;OH&quot;</td><td>&quot;43068-3402&quot;</td><td>&quot;US/Eastern&quot;</td><td>37.9</td><td>58.251048</td><td>100.0</td><td>29.65</td><td>10.0</td><td>&quot;CALM&quot;</td><td>7.68549</td><td>0.0</td><td>&quot;Light Rain&quot;</td><td>0</td><td>0</td><td>0</td><td>&quot;Night&quot;</td><td>2016</td><td>2</td><td>8</td><td>6</td><td>1</td><td>1800</td><td>&quot;Morning&quot;</td><td>&quot;Winter&quot;</td></tr><tr><td>&quot;Source2&quot;</td><td>2</td><td>39.063148</td><td>-84.032608</td><td>0.01</td><td>&quot;Accident on OH-32 State Route …</td><td>&quot;State Route 32&quot;</td><td>&quot;Williamsburg&quot;</td><td>&quot;Clermont&quot;</td><td>&quot;OH&quot;</td><td>&quot;45176&quot;</td><td>&quot;US/Eastern&quot;</td><td>36.0</td><td>33.3</td><td>100.0</td><td>29.67</td><td>10.0</td><td>&quot;SW&quot;</td><td>3.5</td><td>0.008407</td><td>&quot;Overcast&quot;</td><td>0</td><td>0</td><td>1</td><td>&quot;Night&quot;</td><td>2016</td><td>2</td><td>8</td><td>6</td><td>1</td><td>1800</td><td>&quot;Morning&quot;</td><td>&quot;Winter&quot;</td></tr></tbody></table></div>"
      ],
      "text/plain": [
       "shape: (3, 33)\n",
       "┌─────────┬──────────┬───────────┬────────────┬───┬─────────┬──────────┬───────────────┬────────┐\n",
       "│ Source  ┆ Severity ┆ Start_Lat ┆ Start_Lng  ┆ … ┆ Weekday ┆ Duration ┆ TimeofDay     ┆ Season │\n",
       "│ ---     ┆ ---      ┆ ---       ┆ ---        ┆   ┆ ---     ┆ ---      ┆ ---           ┆ ---    │\n",
       "│ str     ┆ i64      ┆ f64       ┆ f64        ┆   ┆ i8      ┆ i64      ┆ str           ┆ str    │\n",
       "╞═════════╪══════════╪═══════════╪════════════╪═══╪═════════╪══════════╪═══════════════╪════════╡\n",
       "│ Source2 ┆ 3        ┆ 39.865147 ┆ -84.058723 ┆ … ┆ 1       ┆ 18840    ┆ Early Morning ┆ Winter │\n",
       "│ Source2 ┆ 2        ┆ 39.928059 ┆ -82.831184 ┆ … ┆ 1       ┆ 1800     ┆ Morning       ┆ Winter │\n",
       "│ Source2 ┆ 2        ┆ 39.063148 ┆ -84.032608 ┆ … ┆ 1       ┆ 1800     ┆ Morning       ┆ Winter │\n",
       "└─────────┴──────────┴───────────┴────────────┴───┴─────────┴──────────┴───────────────┴────────┘"
      ]
     },
     "execution_count": 42,
     "metadata": {},
     "output_type": "execute_result"
    }
   ],
   "source": [
    "df_drop.head(3)"
   ]
  },
  {
   "cell_type": "code",
   "execution_count": 43,
   "id": "3bf6f846-d639-451f-aec2-e8cfc2a9ea5f",
   "metadata": {},
   "outputs": [
    {
     "name": "stdout",
     "output_type": "stream",
     "text": [
      "shape: (546_184, 33)\n",
      "┌─────────┬──────────┬───────────┬─────────────┬───┬─────────┬──────────┬───────────┬────────┐\n",
      "│ Source  ┆ Severity ┆ Start_Lat ┆ Start_Lng   ┆ … ┆ Weekday ┆ Duration ┆ TimeofDay ┆ Season │\n",
      "│ ---     ┆ ---      ┆ ---       ┆ ---         ┆   ┆ ---     ┆ ---      ┆ ---       ┆ ---    │\n",
      "│ str     ┆ i64      ┆ f64       ┆ f64         ┆   ┆ i8      ┆ i64      ┆ str       ┆ str    │\n",
      "╞═════════╪══════════╪═══════════╪═════════════╪═══╪═════════╪══════════╪═══════════╪════════╡\n",
      "│ Source2 ┆ 3        ┆ 39.981709 ┆ -82.98436   ┆ … ┆ 7       ┆ 49560    ┆ Morning   ┆ Winter │\n",
      "│ Source2 ┆ 3        ┆ 39.953022 ┆ -82.998894  ┆ … ┆ 7       ┆ 1800     ┆ Morning   ┆ Winter │\n",
      "│ Source2 ┆ 3        ┆ 39.973812 ┆ -82.983162  ┆ … ┆ 7       ┆ 1800     ┆ Morning   ┆ Winter │\n",
      "│ Source2 ┆ 3        ┆ 39.978306 ┆ -82.852554  ┆ … ┆ 7       ┆ 4477     ┆ Evening   ┆ Winter │\n",
      "│ Source2 ┆ 3        ┆ 39.917412 ┆ -83.014236  ┆ … ┆ 7       ┆ 4379     ┆ Evening   ┆ Winter │\n",
      "│ …       ┆ …        ┆ …         ┆ …           ┆ … ┆ …       ┆ …        ┆ …         ┆ …      │\n",
      "│ Source1 ┆ 2        ┆ 45.04527  ┆ -122.97528  ┆ … ┆ 7       ┆ 14400    ┆ Evening   ┆ Summer │\n",
      "│ Source1 ┆ 2        ┆ 44.417608 ┆ -122.007574 ┆ … ┆ 7       ┆ 14400    ┆ Evening   ┆ Summer │\n",
      "│ Source1 ┆ 4        ┆ 38.631829 ┆ -121.38298  ┆ … ┆ 7       ┆ 1692     ┆ Evening   ┆ Summer │\n",
      "│ Source1 ┆ 4        ┆ 38.628633 ┆ -121.3829   ┆ … ┆ 7       ┆ 1692     ┆ Evening   ┆ Summer │\n",
      "│ Source1 ┆ 3        ┆ 34.05845  ┆ -118.24448  ┆ … ┆ 7       ┆ 1708     ┆ Evening   ┆ Summer │\n",
      "└─────────┴──────────┴───────────┴─────────────┴───┴─────────┴──────────┴───────────┴────────┘\n"
     ]
    }
   ],
   "source": [
    "result = df_drop.filter(pl.col('Weekday') == 7)\n",
    "print(result)"
   ]
  },
  {
   "cell_type": "code",
   "execution_count": 44,
   "id": "c0838d3d-c4e2-4b78-97fa-194d57902f0f",
   "metadata": {},
   "outputs": [],
   "source": [
    "# Binning Day Type\n",
    "df_drop = df_drop.with_columns(\n",
    "    pl.when(pl.col('Weekday').is_in([1, 2, 3, 4])).then(pl.lit('Weekday'))\n",
    "    .when(pl.col('Weekday').is_in([5, 6, 7])).then(pl.lit('Weekend'))\n",
    "    .otherwise(pl.lit('Unknown')).alias('Day_Type')\n",
    ")"
   ]
  },
  {
   "cell_type": "code",
   "execution_count": 45,
   "id": "987c3995-0275-48cb-b206-efb30f3a370d",
   "metadata": {},
   "outputs": [
    {
     "name": "stdout",
     "output_type": "stream",
     "text": [
      "['Day', None, 'Night']\n"
     ]
    }
   ],
   "source": [
    "unique_values = df_drop[\"Sunrise_Sunset\"].unique()\n",
    "print(unique_values.to_list())"
   ]
  },
  {
   "cell_type": "code",
   "execution_count": 46,
   "id": "23cb18f7-887a-4289-b01b-c2c6001ac74a",
   "metadata": {},
   "outputs": [],
   "source": [
    "df_drop = df_drop.with_columns(\n",
    "    pl.when(pl.col('Sunrise_Sunset') == 'Night').then(0)\n",
    "    .when(pl.col('Sunrise_Sunset') == 'Day').then(1)\n",
    "    .otherwise(pl.col('Sunrise_Sunset'))  # Retain original value if no match\n",
    "    .alias('Sunrise_Sunset')  # Rename back to 'Wind_Direction'\n",
    ")"
   ]
  },
  {
   "cell_type": "code",
   "execution_count": 47,
   "id": "df10f1cb-946a-4ec2-a488-763e1f86201b",
   "metadata": {},
   "outputs": [
    {
     "name": "stdout",
     "output_type": "stream",
     "text": [
      "shape: (0, 34)\n",
      "┌────────┬──────────┬───────────┬───────────┬───┬──────────┬───────────┬────────┬──────────┐\n",
      "│ Source ┆ Severity ┆ Start_Lat ┆ Start_Lng ┆ … ┆ Duration ┆ TimeofDay ┆ Season ┆ Day_Type │\n",
      "│ ---    ┆ ---      ┆ ---       ┆ ---       ┆   ┆ ---      ┆ ---       ┆ ---    ┆ ---      │\n",
      "│ str    ┆ i64      ┆ f64       ┆ f64       ┆   ┆ i64      ┆ str       ┆ str    ┆ str      │\n",
      "╞════════╪══════════╪═══════════╪═══════════╪═══╪══════════╪═══════════╪════════╪══════════╡\n",
      "└────────┴──────────┴───────────┴───────────┴───┴──────────┴───────────┴────────┴──────────┘\n"
     ]
    }
   ],
   "source": [
    "result = df_drop.filter(pl.col('Duration') <= 0)\n",
    "print(result)"
   ]
  },
  {
   "cell_type": "code",
   "execution_count": 48,
   "id": "34ffa6d2-58a3-4bbb-818e-546c53dd210e",
   "metadata": {},
   "outputs": [
    {
     "name": "stdout",
     "output_type": "stream",
     "text": [
      "['Showers in the Vicinity', 'Snow Grains', 'Light Rain', 'Cloudy / Windy', 'Wintry Mix', 'Light Rain Shower', 'Hail', 'Mist / Windy', 'Blowing Dust / Windy', 'Light Drizzle / Windy', 'Ice Pellets', 'Light Rain Shower / Windy', 'Drizzle and Fog', 'Heavy Ice Pellets', 'Widespread Dust', 'Thunder / Wintry Mix / Windy', 'Patches of Fog', 'Light Snow / Windy', 'Light Freezing Drizzle', 'Rain / Windy', 'Heavy Rain Shower', 'Heavy Freezing Rain', 'Thunder and Hail / Windy', 'Heavy Rain', 'Sand / Dust Whirlwinds / Windy', 'Fog', 'Thunder', 'Light Thunderstorms and Rain', 'Shallow Fog', 'Thunderstorms and Snow', 'Thunder and Hail', 'Heavy Rain Showers', 'Tornado', 'Drifting Snow', 'Thunder / Wintry Mix', 'Light Snow and Sleet', 'Light Snow Showers', 'Light Thunderstorms and Snow', 'Sleet and Thunder', 'Heavy Freezing Rain / Windy', 'Partial Fog', 'Light Snow with Thunder', 'Freezing Rain', 'Blowing Snow', 'Light Hail', 'Duststorm', 'Light Drizzle', 'Sand / Dust Whirlwinds', 'Widespread Dust / Windy', 'Light Sleet / Windy', 'Funnel Cloud', 'Heavy Thunderstorms and Rain', 'Heavy Sleet', 'Heavy T-Storm / Windy', 'Dust Whirls', 'Light Ice Pellets', None, 'Shallow Fog / Windy', 'Light Freezing Rain / Windy', 'Heavy Sleet and Thunder', 'Light Snow Shower / Windy', 'Light Thunderstorm', 'Sleet', 'Heavy Rain Shower / Windy', 'Haze', 'Sand / Dust Whirls Nearby', 'Light Rain / Windy', 'Haze / Windy', 'Sand', 'Light Snow Shower', 'Blowing Snow Nearby', 'Fair', 'Blowing Dust', 'Snow and Thunder / Windy', 'T-Storm', 'Light Rain Showers', 'Freezing Rain / Windy', 'Sand / Windy', 'Overcast', 'Heavy Snow / Windy', 'Volcanic Ash', 'Snow', 'Light Sleet', 'Snow Showers', 'Patches of Fog / Windy', 'Light Freezing Fog', 'Low Drifting Snow', 'Clear', 'Heavy Thunderstorms and Snow', 'Rain Showers', 'Heavy Snow', 'Partly Cloudy / Windy', 'Light Fog', 'Fog / Windy', 'Squalls', 'Thunderstorms and Rain', 'Light Rain with Thunder', 'Heavy Freezing Drizzle', 'Heavy Drizzle', 'Heavy Thunderstorms with Small Hail', 'Smoke / Windy', 'Rain Shower', 'Heavy Sleet / Windy', 'Light Blowing Snow', 'Sleet / Windy', 'Mist', 'Light Haze', 'Snow and Sleet / Windy', 'Mostly Cloudy', 'Rain Shower / Windy', 'Thunder in the Vicinity', 'Light Snow', 'Heavy Blowing Snow', 'Heavy Smoke', 'T-Storm / Windy', 'Small Hail', 'Rain', 'Scattered Clouds', 'Heavy Rain / Windy', 'N/A Precipitation', 'Wintry Mix / Windy', 'Snow / Windy', 'Blowing Snow / Windy', 'Partial Fog / Windy', 'Freezing Drizzle', 'Cloudy', 'Drizzle / Windy', 'Heavy Snow with Thunder', 'Fair / Windy', 'Rain and Sleet', 'Squalls / Windy', 'Smoke', 'Partly Cloudy', 'Drizzle', 'Snow and Sleet', 'Heavy T-Storm', 'Thunder / Windy', 'Blowing Sand', 'Light Snow Grains', 'Mostly Cloudy / Windy', 'Light Freezing Rain', 'Snow and Thunder', 'Thunderstorm', 'Drifting Snow / Windy', 'Light Snow and Sleet / Windy']\n"
     ]
    }
   ],
   "source": [
    "unique_values = df_drop[\"Weather_Condition\"].unique()\n",
    "print(unique_values.to_list())"
   ]
  },
  {
   "cell_type": "code",
   "execution_count": 49,
   "id": "9077de1e-07de-4552-b005-33dacf012c49",
   "metadata": {},
   "outputs": [],
   "source": [
    "#We further clean wind direction by grouping similar values into one\n",
    "df_drop = df_drop.with_columns(\n",
    "    pl.when(pl.col('Wind_Direction') == 'Calm').then(pl.lit('CALM'))\n",
    "    .when(pl.col('Wind_Direction').is_in(['West', 'WSW', 'WNW'])).then(pl.lit('W'))\n",
    "    .when(pl.col('Wind_Direction').is_in(['South', 'SSW', 'SSE'])).then(pl.lit('S'))\n",
    "    .when(pl.col('Wind_Direction').is_in(['North', 'NNW', 'NNE'])).then(pl.lit('N'))\n",
    "    .when(pl.col('Wind_Direction').is_in(['East', 'ESE', 'ENE'])).then(pl.lit('E'))\n",
    "    .when(pl.col('Wind_Direction') == 'Variable').then(pl.lit('VAR'))\n",
    "    .otherwise(pl.col('Wind_Direction'))  # Retain original value if no match\n",
    "    .alias('Wind_Direction')  # Rename back to 'Wind_Direction'\n",
    ")"
   ]
  },
  {
   "cell_type": "code",
   "execution_count": 50,
   "id": "0a388d32-7bd7-4a4a-be11-3abc56ad4b2c",
   "metadata": {},
   "outputs": [
    {
     "name": "stdout",
     "output_type": "stream",
     "text": [
      "['N', 'NW', 'SE', None, 'S', 'VAR', 'CALM', 'NE', 'SW', 'W', 'E']\n"
     ]
    }
   ],
   "source": [
    "unique_values = df_drop[\"Wind_Direction\"].unique()\n",
    "print(unique_values.to_list())"
   ]
  },
  {
   "cell_type": "code",
   "execution_count": 51,
   "id": "2337dee3-be3d-4a45-b66b-480cec7da3f2",
   "metadata": {},
   "outputs": [
    {
     "data": {
      "text/plain": [
       "['Source',\n",
       " 'Severity',\n",
       " 'Start_Lat',\n",
       " 'Start_Lng',\n",
       " 'Distance(mi)',\n",
       " 'Description',\n",
       " 'Street',\n",
       " 'City',\n",
       " 'County',\n",
       " 'State',\n",
       " 'Zipcode',\n",
       " 'Timezone',\n",
       " 'Temperature(F)',\n",
       " 'Wind_Chill(F)',\n",
       " 'Humidity(%)',\n",
       " 'Pressure(in)',\n",
       " 'Visibility(mi)',\n",
       " 'Wind_Direction',\n",
       " 'Wind_Speed(mph)',\n",
       " 'Precipitation(in)',\n",
       " 'Weather_Condition',\n",
       " 'Crossing',\n",
       " 'Junction',\n",
       " 'Traffic_Signal',\n",
       " 'Sunrise_Sunset',\n",
       " 'Year',\n",
       " 'Month',\n",
       " 'Day',\n",
       " 'Time_S',\n",
       " 'Weekday',\n",
       " 'Duration',\n",
       " 'TimeofDay',\n",
       " 'Season',\n",
       " 'Day_Type']"
      ]
     },
     "execution_count": 51,
     "metadata": {},
     "output_type": "execute_result"
    }
   ],
   "source": [
    "df_drop.columns"
   ]
  },
  {
   "cell_type": "code",
   "execution_count": 52,
   "id": "bbfd64e1-a0ff-4993-aaef-cd38ff92e43a",
   "metadata": {},
   "outputs": [],
   "source": [
    "# import plotly.express as px\n",
    "\n",
    "# # Extract data as lists\n",
    "# latitudes = df['Start_Lat'].to_list()\n",
    "# longitudes = df['Start_Lng'].to_list()\n",
    "\n",
    "# # Create a scatter mapbox plot with Plotly\n",
    "# fig = px.scatter_mapbox(\n",
    "#     lat=latitudes,\n",
    "#     lon=longitudes,\n",
    "#     zoom=3,\n",
    "#     mapbox_style=\"open-street-map\"\n",
    "# )\n",
    "\n",
    "# # Display the plot\n",
    "# fig.show()"
   ]
  },
  {
   "cell_type": "code",
   "execution_count": 53,
   "id": "e084eb55-7ac1-4806-84ae-69ba6eead700",
   "metadata": {},
   "outputs": [
    {
     "name": "stdout",
     "output_type": "stream",
     "text": [
      "shape: (22, 34)\n",
      "┌─────────┬──────────┬───────────┬─────────────┬───┬──────────┬───────────┬────────┬──────────┐\n",
      "│ Source  ┆ Severity ┆ Start_Lat ┆ Start_Lng   ┆ … ┆ Duration ┆ TimeofDay ┆ Season ┆ Day_Type │\n",
      "│ ---     ┆ ---      ┆ ---       ┆ ---         ┆   ┆ ---      ┆ ---       ┆ ---    ┆ ---      │\n",
      "│ str     ┆ i64      ┆ f64       ┆ f64         ┆   ┆ i64      ┆ str       ┆ str    ┆ str      │\n",
      "╞═════════╪══════════╪═══════════╪═════════════╪═══╪══════════╪═══════════╪════════╪══════════╡\n",
      "│ Source2 ┆ 2        ┆ 32.762203 ┆ -116.945045 ┆ … ┆ 2700     ┆ Afternoon ┆ Summer ┆ Weekday  │\n",
      "│ Source2 ┆ 2        ┆ 32.838902 ┆ -116.934479 ┆ … ┆ 1791     ┆ Morning   ┆ Winter ┆ Weekend  │\n",
      "│ Source2 ┆ 2        ┆ 32.825542 ┆ -116.90152  ┆ … ┆ 1782     ┆ Afternoon ┆ Winter ┆ Weekday  │\n",
      "│ Source2 ┆ 2        ┆ 32.753311 ┆ -117.01152  ┆ … ┆ 1787     ┆ Morning   ┆ Winter ┆ Weekend  │\n",
      "│ Source2 ┆ 3        ┆ 26.350828 ┆ -80.117874  ┆ … ┆ 1800     ┆ Morning   ┆ Summer ┆ Weekday  │\n",
      "│ …       ┆ …        ┆ …         ┆ …           ┆ … ┆ …        ┆ …         ┆ …      ┆ …        │\n",
      "│ Source2 ┆ 3        ┆ 32.866253 ┆ -117.10891  ┆ … ┆ 1788     ┆ Morning   ┆ Summer ┆ Weekday  │\n",
      "│ Source1 ┆ 2        ┆ 32.8368   ┆ -117.0019   ┆ … ┆ 21600    ┆ Afternoon ┆ Winter ┆ Weekend  │\n",
      "│ Source1 ┆ 2        ┆ 32.776732 ┆ -117.004822 ┆ … ┆ 21600    ┆ Afternoon ┆ Spring ┆ Weekday  │\n",
      "│ Source1 ┆ 2        ┆ 32.77368  ┆ -117.03529  ┆ … ┆ 21600    ┆ Afternoon ┆ Spring ┆ Weekday  │\n",
      "│ Source1 ┆ 2        ┆ 32.80912  ┆ -116.91865  ┆ … ┆ 21600    ┆ Afternoon ┆ Summer ┆ Weekend  │\n",
      "└─────────┴──────────┴───────────┴─────────────┴───┴──────────┴───────────┴────────┴──────────┘\n"
     ]
    }
   ],
   "source": [
    "result = df_drop.filter(pl.col('Weather_Condition') == 'Volcanic Ash')\n",
    "print(result)"
   ]
  },
  {
   "cell_type": "code",
   "execution_count": 54,
   "id": "0fa37ae8-a02a-44d8-9507-702928ea5941",
   "metadata": {},
   "outputs": [],
   "source": [
    "# Create weather categories\n",
    "df_drop = df_drop.with_columns([\n",
    "    pl.when(pl.col(\"Weather_Condition\").str.to_lowercase().str.contains(\"clear|fair\")).then(1).otherwise(0).alias(\"Clear\"),\n",
    "    pl.when(pl.col(\"Weather_Condition\").str.to_lowercase().str.contains(\"cloud|overcast\")).then(1).otherwise(0).alias(\"Cloud\"),\n",
    "    pl.when(pl.col(\"Weather_Condition\").str.to_lowercase().str.contains(\"rain|storm|drizzle|shower|precipitation|light hail|small hail\")).then(1).otherwise(0).alias(\"Rain\"),\n",
    "    pl.when(pl.col(\"Weather_Condition\").str.to_lowercase().str.contains(\"heavy rain|rain shower|heavy t-storm|heavy thunderstorms|thunder|hail\")).then(1).otherwise(0).alias(\"Heavy_Rain\"),\n",
    "    pl.when(pl.col(\"Weather_Condition\").str.to_lowercase().str.contains(\"snow|sleet|ice|wintry mix\")).then(1).otherwise(0).alias(\"Snow\"),\n",
    "    pl.when(pl.col(\"Weather_Condition\").str.to_lowercase().str.contains(\"heavy snow|heavy sleet|heavy ice pellets|snow showers|squalls\")).then(1).otherwise(0).alias(\"Heavy_Snow\"),\n",
    "    pl.when(pl.col(\"Weather_Condition\").str.to_lowercase().str.contains(\"fog|haze|mist\")).then(1).otherwise(0).alias(\"Fog\"),\n",
    "    pl.when(pl.col(\"Weather_Condition\").str.to_lowercase().str.contains(\"dust|smoke|sand|tornado\")).then(1).otherwise(0).alias(\"Dusty\"),\n",
    "    pl.when(pl.col(\"Weather_Condition\").str.to_lowercase().str.contains(\"wind|winds\")).then(1).otherwise(0).alias(\"Windy\"),\n",
    "    pl.when(pl.col(\"Weather_Condition\").str.to_lowercase().str.contains(\"ash\")).then(1).otherwise(0).alias(\"Ash\")\n",
    "])\n",
    "\n",
    "# Handle NA for the created weather features where 'Weather_Condition' is null\n",
    "df_drop = df_drop.with_columns([\n",
    "    pl.when(pl.col(\"Weather_Condition\").is_null()).then(None).otherwise(pl.col(\"Clear\")).alias(\"Clear\"),\n",
    "    pl.when(pl.col(\"Weather_Condition\").is_null()).then(None).otherwise(pl.col(\"Cloud\")).alias(\"Cloud\"),\n",
    "    pl.when(pl.col(\"Weather_Condition\").is_null()).then(None).otherwise(pl.col(\"Rain\")).alias(\"Rain\"),\n",
    "    pl.when(pl.col(\"Weather_Condition\").is_null()).then(None).otherwise(pl.col(\"Heavy_Rain\")).alias(\"Heavy_Rain\"),\n",
    "    pl.when(pl.col(\"Weather_Condition\").is_null()).then(None).otherwise(pl.col(\"Snow\")).alias(\"Snow\"),\n",
    "    pl.when(pl.col(\"Weather_Condition\").is_null()).then(None).otherwise(pl.col(\"Heavy_Snow\")).alias(\"Heavy_Snow\"),\n",
    "    pl.when(pl.col(\"Weather_Condition\").is_null()).then(None).otherwise(pl.col(\"Fog\")).alias(\"Fog\"),\n",
    "    pl.when(pl.col(\"Weather_Condition\").is_null()).then(None).otherwise(pl.col(\"Dusty\")).alias(\"Dusty\"),\n",
    "    pl.when(pl.col(\"Weather_Condition\").is_null()).then(None).otherwise(pl.col(\"Windy\")).alias(\"Windy\"),\n",
    "    pl.when(pl.col(\"Weather_Condition\").is_null()).then(None).otherwise(pl.col(\"Ash\")).alias(\"Ash\")\n",
    "])\n",
    "\n",
    "# Drop 'Weather_Condition' column\n",
    "df_drop = df_drop.drop(\"Weather_Condition\")\n",
    "\n",
    "# Convert the new weather columns to integers\n",
    "weather_columns = ['Clear', 'Cloud', 'Rain', 'Heavy_Rain', 'Snow', 'Heavy_Snow', 'Fog', 'Dusty', 'Windy', 'Ash']\n",
    "df_drop = df_drop.with_columns([pl.col(w).cast(pl.Int32) for w in weather_columns])"
   ]
  },
  {
   "cell_type": "code",
   "execution_count": 55,
   "id": "9f1737ea-6346-441a-99a2-8117d25cc7e0",
   "metadata": {},
   "outputs": [
    {
     "data": {
      "text/html": [
       "<div><style>\n",
       ".dataframe > thead > tr,\n",
       ".dataframe > tbody > tr {\n",
       "  text-align: right;\n",
       "  white-space: pre-wrap;\n",
       "}\n",
       "</style>\n",
       "<small>shape: (2, 43)</small><table border=\"1\" class=\"dataframe\"><thead><tr><th>Source</th><th>Severity</th><th>Start_Lat</th><th>Start_Lng</th><th>Distance(mi)</th><th>Description</th><th>Street</th><th>City</th><th>County</th><th>State</th><th>Zipcode</th><th>Timezone</th><th>Temperature(F)</th><th>Wind_Chill(F)</th><th>Humidity(%)</th><th>Pressure(in)</th><th>Visibility(mi)</th><th>Wind_Direction</th><th>Wind_Speed(mph)</th><th>Precipitation(in)</th><th>Crossing</th><th>Junction</th><th>Traffic_Signal</th><th>Sunrise_Sunset</th><th>Year</th><th>Month</th><th>Day</th><th>Time_S</th><th>Weekday</th><th>Duration</th><th>TimeofDay</th><th>Season</th><th>Day_Type</th><th>Clear</th><th>Cloud</th><th>Rain</th><th>Heavy_Rain</th><th>Snow</th><th>Heavy_Snow</th><th>Fog</th><th>Dusty</th><th>Windy</th><th>Ash</th></tr><tr><td>str</td><td>i64</td><td>f64</td><td>f64</td><td>f64</td><td>str</td><td>str</td><td>str</td><td>str</td><td>str</td><td>str</td><td>str</td><td>f64</td><td>f64</td><td>f64</td><td>f64</td><td>f64</td><td>str</td><td>f64</td><td>f64</td><td>i32</td><td>i32</td><td>i32</td><td>str</td><td>i32</td><td>i8</td><td>i8</td><td>i8</td><td>i8</td><td>i64</td><td>str</td><td>str</td><td>str</td><td>i32</td><td>i32</td><td>i32</td><td>i32</td><td>i32</td><td>i32</td><td>i32</td><td>i32</td><td>i32</td><td>i32</td></tr></thead><tbody><tr><td>&quot;Source2&quot;</td><td>3</td><td>39.865147</td><td>-84.058723</td><td>0.01</td><td>&quot;Right lane blocked due to acci…</td><td>&quot;I-70 E&quot;</td><td>&quot;Dayton&quot;</td><td>&quot;Montgomery&quot;</td><td>&quot;OH&quot;</td><td>&quot;45424&quot;</td><td>&quot;US/Eastern&quot;</td><td>36.9</td><td>58.251048</td><td>91.0</td><td>29.68</td><td>10.0</td><td>&quot;CALM&quot;</td><td>7.68549</td><td>0.02</td><td>0</td><td>0</td><td>0</td><td>&quot;0&quot;</td><td>2016</td><td>2</td><td>8</td><td>5</td><td>1</td><td>18840</td><td>&quot;Early Morning&quot;</td><td>&quot;Winter&quot;</td><td>&quot;Weekday&quot;</td><td>0</td><td>0</td><td>1</td><td>0</td><td>0</td><td>0</td><td>0</td><td>0</td><td>0</td><td>0</td></tr><tr><td>&quot;Source2&quot;</td><td>2</td><td>39.928059</td><td>-82.831184</td><td>0.01</td><td>&quot;Accident on Brice Rd at Tussin…</td><td>&quot;Brice Rd&quot;</td><td>&quot;Reynoldsburg&quot;</td><td>&quot;Franklin&quot;</td><td>&quot;OH&quot;</td><td>&quot;43068-3402&quot;</td><td>&quot;US/Eastern&quot;</td><td>37.9</td><td>58.251048</td><td>100.0</td><td>29.65</td><td>10.0</td><td>&quot;CALM&quot;</td><td>7.68549</td><td>0.0</td><td>0</td><td>0</td><td>0</td><td>&quot;0&quot;</td><td>2016</td><td>2</td><td>8</td><td>6</td><td>1</td><td>1800</td><td>&quot;Morning&quot;</td><td>&quot;Winter&quot;</td><td>&quot;Weekday&quot;</td><td>0</td><td>0</td><td>1</td><td>0</td><td>0</td><td>0</td><td>0</td><td>0</td><td>0</td><td>0</td></tr></tbody></table></div>"
      ],
      "text/plain": [
       "shape: (2, 43)\n",
       "┌─────────┬──────────┬───────────┬────────────┬───┬─────┬───────┬───────┬─────┐\n",
       "│ Source  ┆ Severity ┆ Start_Lat ┆ Start_Lng  ┆ … ┆ Fog ┆ Dusty ┆ Windy ┆ Ash │\n",
       "│ ---     ┆ ---      ┆ ---       ┆ ---        ┆   ┆ --- ┆ ---   ┆ ---   ┆ --- │\n",
       "│ str     ┆ i64      ┆ f64       ┆ f64        ┆   ┆ i32 ┆ i32   ┆ i32   ┆ i32 │\n",
       "╞═════════╪══════════╪═══════════╪════════════╪═══╪═════╪═══════╪═══════╪═════╡\n",
       "│ Source2 ┆ 3        ┆ 39.865147 ┆ -84.058723 ┆ … ┆ 0   ┆ 0     ┆ 0     ┆ 0   │\n",
       "│ Source2 ┆ 2        ┆ 39.928059 ┆ -82.831184 ┆ … ┆ 0   ┆ 0     ┆ 0     ┆ 0   │\n",
       "└─────────┴──────────┴───────────┴────────────┴───┴─────┴───────┴───────┴─────┘"
      ]
     },
     "execution_count": 55,
     "metadata": {},
     "output_type": "execute_result"
    }
   ],
   "source": [
    "df_drop.head(2)"
   ]
  },
  {
   "cell_type": "code",
   "execution_count": 56,
   "id": "43dc2ea0-1523-4a3d-a091-0366eae7b957",
   "metadata": {},
   "outputs": [
    {
     "data": {
      "text/plain": [
       "43"
      ]
     },
     "execution_count": 56,
     "metadata": {},
     "output_type": "execute_result"
    }
   ],
   "source": [
    "df_drop.width"
   ]
  },
  {
   "cell_type": "code",
   "execution_count": 57,
   "id": "a2de89c2-c29e-4d80-ab7a-f8163a48c064",
   "metadata": {},
   "outputs": [
    {
     "data": {
      "text/plain": [
       "['Source',\n",
       " 'Severity',\n",
       " 'Start_Lat',\n",
       " 'Start_Lng',\n",
       " 'Distance(mi)',\n",
       " 'Description',\n",
       " 'Street',\n",
       " 'City',\n",
       " 'County',\n",
       " 'State',\n",
       " 'Zipcode',\n",
       " 'Timezone',\n",
       " 'Temperature(F)',\n",
       " 'Wind_Chill(F)',\n",
       " 'Humidity(%)',\n",
       " 'Pressure(in)',\n",
       " 'Visibility(mi)',\n",
       " 'Wind_Direction',\n",
       " 'Wind_Speed(mph)',\n",
       " 'Precipitation(in)',\n",
       " 'Crossing',\n",
       " 'Junction',\n",
       " 'Traffic_Signal',\n",
       " 'Sunrise_Sunset',\n",
       " 'Year',\n",
       " 'Month',\n",
       " 'Day',\n",
       " 'Time_S',\n",
       " 'Weekday',\n",
       " 'Duration',\n",
       " 'TimeofDay',\n",
       " 'Season',\n",
       " 'Day_Type',\n",
       " 'Clear',\n",
       " 'Cloud',\n",
       " 'Rain',\n",
       " 'Heavy_Rain',\n",
       " 'Snow',\n",
       " 'Heavy_Snow',\n",
       " 'Fog',\n",
       " 'Dusty',\n",
       " 'Windy',\n",
       " 'Ash']"
      ]
     },
     "execution_count": 57,
     "metadata": {},
     "output_type": "execute_result"
    }
   ],
   "source": [
    "df_drop.columns"
   ]
  },
  {
   "cell_type": "code",
   "execution_count": 58,
   "id": "314dc448-f9e5-4847-8aef-1ddf2ce6bb5a",
   "metadata": {},
   "outputs": [],
   "source": [
    "df_drop = df_drop.drop(['Description', 'Street','Zipcode','Source','Year', 'Month', 'Day', 'Time_S', 'Weekday'])\n",
    "#Description, Street and Zipcode are irrelevant features in severity analysis\n",
    "#Source indicates from which source the data is captured, which is not useful again\n",
    "#Year,Month,Day,Time_S and Weekday were used to create TimeofDay,Season,Day_Type through binning which are more useful features,hence these are removed"
   ]
  },
  {
   "cell_type": "code",
   "execution_count": 59,
   "id": "06b05e76-b292-4c7e-b6f0-42c50aabc955",
   "metadata": {},
   "outputs": [
    {
     "data": {
      "text/plain": [
       "34"
      ]
     },
     "execution_count": 59,
     "metadata": {},
     "output_type": "execute_result"
    }
   ],
   "source": [
    "df_drop.width"
   ]
  },
  {
   "cell_type": "code",
   "execution_count": 60,
   "id": "d2130ad1-6e0e-4650-89d9-a93bf965db56",
   "metadata": {},
   "outputs": [
    {
     "name": "stdout",
     "output_type": "stream",
     "text": [
      "28\n"
     ]
    }
   ],
   "source": [
    "used_features=['Severity', 'Distance(mi)','Temperature(F)','Wind_Chill(F)', 'Humidity(%)', 'Pressure(in)', 'Visibility(mi)','Wind_Direction',\n",
    "               'Wind_Speed(mph)','Precipitation(in)','Clear','Cloud','Rain','Heavy_Rain','Snow','Heavy_Snow','Fog', 'Dusty', 'Windy','Ash','Junction',\n",
    "               'Crossing','Traffic_Signal','Sunrise_Sunset','TimeofDay', 'Season', 'Day_Type', 'Duration'] \n",
    "print(len(used_features))"
   ]
  }
 ],
 "metadata": {
  "kernelspec": {
   "display_name": "Python 3 (ipykernel)",
   "language": "python",
   "name": "python3"
  },
  "language_info": {
   "codemirror_mode": {
    "name": "ipython",
    "version": 3
   },
   "file_extension": ".py",
   "mimetype": "text/x-python",
   "name": "python",
   "nbconvert_exporter": "python",
   "pygments_lexer": "ipython3",
   "version": "3.12.5"
  }
 },
 "nbformat": 4,
 "nbformat_minor": 5
}
